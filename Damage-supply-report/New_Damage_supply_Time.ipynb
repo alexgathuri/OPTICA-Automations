{
 "cells": [
  {
   "cell_type": "markdown",
   "metadata": {
    "id": "z-tNcc0e2ynA"
   },
   "source": [
    "# IMPORT"
   ]
  },
  {
   "cell_type": "code",
   "execution_count": 1,
   "metadata": {
    "id": "MFhd4C9EHLbC"
   },
   "outputs": [],
   "source": [
    "import pandas as pd\n",
    "import numpy as np\n",
    "import matplotlib.pyplot as plt\n",
    "from matplotlib import style\n",
    "import seaborn as sns\n",
    "sns.set(style='ticks', palette='RdBu')\n",
    "#sns.set(style='ticks', palette='Set2')\n",
    "import datetime\n",
    "import pytz\n",
    "import businesstimedelta\n",
    "import holidays as pyholidays\n",
    "import time as t\n",
    "from workalendar.africa import Kenya\n",
    "from datetime import date\n",
    "%matplotlib inline"
   ]
  },
  {
   "cell_type": "code",
   "execution_count": 2,
   "metadata": {
    "id": "_CUTJbWHHMWY"
   },
   "outputs": [],
   "source": [
    "#3rd Floor All user Updates_1\n",
    "\n",
    "status = pd.read_excel(r\"C:\\Users\\USER\\Documents\\Alex\\LENS\\3rdfloor.xlsx\")"
   ]
  },
  {
   "cell_type": "code",
   "execution_count": 3,
   "metadata": {
    "colab": {
     "base_uri": "https://localhost:8080/",
     "height": 0
    },
    "id": "nO-EgBUCHjB2",
    "outputId": "9a7f781b-df4e-4d50-c885-9e1d85d696c5"
   },
   "outputs": [
    {
     "data": {
      "text/html": [
       "<div>\n",
       "<style scoped>\n",
       "    .dataframe tbody tr th:only-of-type {\n",
       "        vertical-align: middle;\n",
       "    }\n",
       "\n",
       "    .dataframe tbody tr th {\n",
       "        vertical-align: top;\n",
       "    }\n",
       "\n",
       "    .dataframe thead th {\n",
       "        text-align: right;\n",
       "    }\n",
       "</style>\n",
       "<table border=\"1\" class=\"dataframe\">\n",
       "  <thead>\n",
       "    <tr style=\"text-align: right;\">\n",
       "      <th></th>\n",
       "      <th>Created User</th>\n",
       "      <th>Date</th>\n",
       "      <th>Time</th>\n",
       "      <th>Status</th>\n",
       "      <th>DocEntry</th>\n",
       "      <th>DocNum</th>\n",
       "      <th>OrderCriteria Status</th>\n",
       "    </tr>\n",
       "  </thead>\n",
       "  <tbody>\n",
       "    <tr>\n",
       "      <th>0</th>\n",
       "      <td>approvals1</td>\n",
       "      <td>25.03.23</td>\n",
       "      <td>12:07:00</td>\n",
       "      <td>Draft Payments Posted</td>\n",
       "      <td>1002019</td>\n",
       "      <td>235401413</td>\n",
       "      <td>Frame from HQ and Lens from HQ</td>\n",
       "    </tr>\n",
       "  </tbody>\n",
       "</table>\n",
       "</div>"
      ],
      "text/plain": [
       "  Created User      Date      Time                 Status  DocEntry  \\\n",
       "0   approvals1  25.03.23  12:07:00  Draft Payments Posted   1002019   \n",
       "\n",
       "      DocNum            OrderCriteria Status  \n",
       "0  235401413  Frame from HQ and Lens from HQ  "
      ]
     },
     "execution_count": 3,
     "metadata": {},
     "output_type": "execute_result"
    }
   ],
   "source": [
    "status.head(1)"
   ]
  },
  {
   "cell_type": "code",
   "execution_count": 4,
   "metadata": {
    "id": "OgwPtfkdLxXh"
   },
   "outputs": [],
   "source": [
    "status[\"Date\"]=pd.to_datetime(status[\"Date\"],dayfirst = True).dt.date"
   ]
  },
  {
   "cell_type": "code",
   "execution_count": 5,
   "metadata": {
    "id": "XDOYyQlqJaYY"
   },
   "outputs": [],
   "source": [
    "status['Datetime']=status['Date'].astype(str)+' '+status['Time'].astype(str)"
   ]
  },
  {
   "cell_type": "code",
   "execution_count": 6,
   "metadata": {
    "colab": {
     "base_uri": "https://localhost:8080/",
     "height": 0
    },
    "id": "fjxbWafgLmes",
    "outputId": "97b76aab-a189-45c5-e8f1-bfc825f28807"
   },
   "outputs": [
    {
     "data": {
      "text/html": [
       "<div>\n",
       "<style scoped>\n",
       "    .dataframe tbody tr th:only-of-type {\n",
       "        vertical-align: middle;\n",
       "    }\n",
       "\n",
       "    .dataframe tbody tr th {\n",
       "        vertical-align: top;\n",
       "    }\n",
       "\n",
       "    .dataframe thead th {\n",
       "        text-align: right;\n",
       "    }\n",
       "</style>\n",
       "<table border=\"1\" class=\"dataframe\">\n",
       "  <thead>\n",
       "    <tr style=\"text-align: right;\">\n",
       "      <th></th>\n",
       "      <th>Created User</th>\n",
       "      <th>Date</th>\n",
       "      <th>Time</th>\n",
       "      <th>Status</th>\n",
       "      <th>DocEntry</th>\n",
       "      <th>DocNum</th>\n",
       "      <th>OrderCriteria Status</th>\n",
       "      <th>Datetime</th>\n",
       "    </tr>\n",
       "  </thead>\n",
       "  <tbody>\n",
       "    <tr>\n",
       "      <th>0</th>\n",
       "      <td>approvals1</td>\n",
       "      <td>2023-03-25</td>\n",
       "      <td>12:07:00</td>\n",
       "      <td>Draft Payments Posted</td>\n",
       "      <td>1002019</td>\n",
       "      <td>235401413</td>\n",
       "      <td>Frame from HQ and Lens from HQ</td>\n",
       "      <td>2023-03-25 12:07:00</td>\n",
       "    </tr>\n",
       "  </tbody>\n",
       "</table>\n",
       "</div>"
      ],
      "text/plain": [
       "  Created User        Date      Time                 Status  DocEntry  \\\n",
       "0   approvals1  2023-03-25  12:07:00  Draft Payments Posted   1002019   \n",
       "\n",
       "      DocNum            OrderCriteria Status             Datetime  \n",
       "0  235401413  Frame from HQ and Lens from HQ  2023-03-25 12:07:00  "
      ]
     },
     "execution_count": 6,
     "metadata": {},
     "output_type": "execute_result"
    }
   ],
   "source": [
    "status.head(1)"
   ]
  },
  {
   "cell_type": "code",
   "execution_count": 7,
   "metadata": {
    "id": "ROyM5MirJ2aX"
   },
   "outputs": [],
   "source": [
    "status['Datetime']=pd.to_datetime(status['Datetime'], format='%Y/%m/%d %H:%M:%S')"
   ]
  },
  {
   "cell_type": "markdown",
   "metadata": {
    "id": "4DxpJHZDAv6g"
   },
   "source": [
    "# DesignerStore"
   ]
  },
  {
   "cell_type": "markdown",
   "metadata": {
    "id": "3GqtTaMmJfvd"
   },
   "source": [
    "## DESIGNER(rejected frame sent to frame store to reissued frame for order)-designerdamage_reissued"
   ]
  },
  {
   "cell_type": "code",
   "execution_count": 8,
   "metadata": {
    "colab": {
     "base_uri": "https://localhost:8080/"
    },
    "id": "IJstfAxfJfve",
    "outputId": "72361d24-7c1a-4d71-ca6f-61122c34b020"
   },
   "outputs": [
    {
     "data": {
      "text/plain": [
       "array([], dtype=object)"
      ]
     },
     "execution_count": 8,
     "metadata": {},
     "output_type": "execute_result"
    }
   ],
   "source": [
    "designerrejected = status[status['Status']== 'Rejected Frame sent to Frame Store']\n",
    "designerrejected['Status'].unique()"
   ]
  },
  {
   "cell_type": "code",
   "execution_count": 9,
   "metadata": {
    "colab": {
     "base_uri": "https://localhost:8080/"
    },
    "id": "CSVNhPutJfve",
    "outputId": "31a42015-dbb5-4b66-a506-32312654d9f1"
   },
   "outputs": [
    {
     "name": "stderr",
     "output_type": "stream",
     "text": [
      "C:\\Users\\user\\AppData\\Local\\Temp\\ipykernel_10048\\314140570.py:1: UserWarning: Boolean Series key will be reindexed to match DataFrame index.\n",
      "  designerrejected1 = designerrejected[status['Created User']== 'control1']\n",
      "C:\\Users\\user\\AppData\\Local\\Temp\\ipykernel_10048\\314140570.py:2: UserWarning: Boolean Series key will be reindexed to match DataFrame index.\n",
      "  designerrejected2 = designerrejected[status['Created User']== 'control2']\n"
     ]
    },
    {
     "data": {
      "text/plain": [
       "array([], dtype=object)"
      ]
     },
     "execution_count": 9,
     "metadata": {},
     "output_type": "execute_result"
    }
   ],
   "source": [
    "designerrejected1 = designerrejected[status['Created User']== 'control1']\n",
    "designerrejected2 = designerrejected[status['Created User']== 'control2']\n",
    "\n",
    "designerrejected=pd.concat([designerrejected1,designerrejected2])\n",
    "\n",
    "designerrejected['Status'].unique()"
   ]
  },
  {
   "cell_type": "code",
   "execution_count": 10,
   "metadata": {
    "colab": {
     "base_uri": "https://localhost:8080/"
    },
    "id": "nOJojpR1Jfve",
    "outputId": "cdfc26e0-c767-4bac-f687-367e507803a3"
   },
   "outputs": [
    {
     "data": {
      "text/plain": [
       "array([], dtype=object)"
      ]
     },
     "execution_count": 10,
     "metadata": {},
     "output_type": "execute_result"
    }
   ],
   "source": [
    "designerrejected['Created User'].unique()"
   ]
  },
  {
   "cell_type": "code",
   "execution_count": 11,
   "metadata": {
    "colab": {
     "base_uri": "https://localhost:8080/"
    },
    "id": "JWtwmWNCJfve",
    "outputId": "b13db583-fb9a-4395-f47a-802b6e24350b"
   },
   "outputs": [
    {
     "data": {
      "text/plain": [
       "array([], dtype=object)"
      ]
     },
     "execution_count": 11,
     "metadata": {},
     "output_type": "execute_result"
    }
   ],
   "source": [
    "reissuedframedes = status[status['Status']== 'ReIssued Frame for Order']\n",
    "reissuedframedes['Status'].unique()"
   ]
  },
  {
   "cell_type": "code",
   "execution_count": 12,
   "metadata": {},
   "outputs": [
    {
     "data": {
      "text/plain": [
       "array(['designer1'], dtype=object)"
      ]
     },
     "execution_count": 12,
     "metadata": {},
     "output_type": "execute_result"
    }
   ],
   "source": [
    "reissuedframedes1 = status[status['Created User']== 'designer1']\n",
    "reissuedframedes2 = status[status['Created User']== 'designer2']\n",
    "reissuedframedes=pd.concat([reissuedframedes1,reissuedframedes2])\n",
    "reissuedframedes['Created User'].unique()"
   ]
  },
  {
   "cell_type": "code",
   "execution_count": 13,
   "metadata": {
    "colab": {
     "base_uri": "https://localhost:8080/",
     "height": 144
    },
    "id": "znLPrBypJfvf",
    "outputId": "b11b1b65-30fb-4ffd-9968-e73adbb62e91"
   },
   "outputs": [
    {
     "data": {
      "text/html": [
       "<div>\n",
       "<style scoped>\n",
       "    .dataframe tbody tr th:only-of-type {\n",
       "        vertical-align: middle;\n",
       "    }\n",
       "\n",
       "    .dataframe tbody tr th {\n",
       "        vertical-align: top;\n",
       "    }\n",
       "\n",
       "    .dataframe thead th {\n",
       "        text-align: right;\n",
       "    }\n",
       "</style>\n",
       "<table border=\"1\" class=\"dataframe\">\n",
       "  <thead>\n",
       "    <tr style=\"text-align: right;\">\n",
       "      <th></th>\n",
       "      <th>Created User</th>\n",
       "      <th>Date</th>\n",
       "      <th>Time</th>\n",
       "      <th>Status</th>\n",
       "      <th>DocEntry</th>\n",
       "      <th>DocNum</th>\n",
       "      <th>OrderCriteria Status</th>\n",
       "      <th>Datetime</th>\n",
       "    </tr>\n",
       "  </thead>\n",
       "  <tbody>\n",
       "    <tr>\n",
       "      <th>1166</th>\n",
       "      <td>designer1</td>\n",
       "      <td>2023-03-25</td>\n",
       "      <td>09:08:00</td>\n",
       "      <td>Order Printed</td>\n",
       "      <td>1000930</td>\n",
       "      <td>236000677</td>\n",
       "      <td>Frame from HQ and Lens from HQ</td>\n",
       "      <td>2023-03-25 09:08:00</td>\n",
       "    </tr>\n",
       "    <tr>\n",
       "      <th>1167</th>\n",
       "      <td>designer1</td>\n",
       "      <td>2023-03-25</td>\n",
       "      <td>09:08:00</td>\n",
       "      <td>Order Printed</td>\n",
       "      <td>1001657</td>\n",
       "      <td>236700291</td>\n",
       "      <td>Frame from HQ and Lens from HQ</td>\n",
       "      <td>2023-03-25 09:08:00</td>\n",
       "    </tr>\n",
       "    <tr>\n",
       "      <th>1168</th>\n",
       "      <td>designer1</td>\n",
       "      <td>2023-03-25</td>\n",
       "      <td>09:08:00</td>\n",
       "      <td>Order Printed</td>\n",
       "      <td>1001249</td>\n",
       "      <td>231101838</td>\n",
       "      <td>Overseas Lens with HQ Frame</td>\n",
       "      <td>2023-03-25 09:08:00</td>\n",
       "    </tr>\n",
       "  </tbody>\n",
       "</table>\n",
       "</div>"
      ],
      "text/plain": [
       "     Created User        Date      Time         Status  DocEntry     DocNum  \\\n",
       "1166    designer1  2023-03-25  09:08:00  Order Printed   1000930  236000677   \n",
       "1167    designer1  2023-03-25  09:08:00  Order Printed   1001657  236700291   \n",
       "1168    designer1  2023-03-25  09:08:00  Order Printed   1001249  231101838   \n",
       "\n",
       "                OrderCriteria Status            Datetime  \n",
       "1166  Frame from HQ and Lens from HQ 2023-03-25 09:08:00  \n",
       "1167  Frame from HQ and Lens from HQ 2023-03-25 09:08:00  \n",
       "1168     Overseas Lens with HQ Frame 2023-03-25 09:08:00  "
      ]
     },
     "execution_count": 13,
     "metadata": {},
     "output_type": "execute_result"
    }
   ],
   "source": [
    "reissuedframedes.head(3)"
   ]
  },
  {
   "cell_type": "code",
   "execution_count": 14,
   "metadata": {
    "colab": {
     "base_uri": "https://localhost:8080/"
    },
    "id": "OFPTHvqUJfvf",
    "outputId": "d546d89e-51aa-4362-f889-9412f7f43f51"
   },
   "outputs": [],
   "source": [
    "reissuedframedes.rename(columns={'Datetime':'Datetimeout'}, inplace=True)"
   ]
  },
  {
   "cell_type": "code",
   "execution_count": 15,
   "metadata": {
    "colab": {
     "base_uri": "https://localhost:8080/",
     "height": 144
    },
    "id": "yyFea-WEJfvf",
    "outputId": "16682a1e-4f5a-48e0-fc08-75c6df60230f"
   },
   "outputs": [
    {
     "data": {
      "text/html": [
       "<div>\n",
       "<style scoped>\n",
       "    .dataframe tbody tr th:only-of-type {\n",
       "        vertical-align: middle;\n",
       "    }\n",
       "\n",
       "    .dataframe tbody tr th {\n",
       "        vertical-align: top;\n",
       "    }\n",
       "\n",
       "    .dataframe thead th {\n",
       "        text-align: right;\n",
       "    }\n",
       "</style>\n",
       "<table border=\"1\" class=\"dataframe\">\n",
       "  <thead>\n",
       "    <tr style=\"text-align: right;\">\n",
       "      <th></th>\n",
       "      <th>Created User</th>\n",
       "      <th>Date</th>\n",
       "      <th>Time</th>\n",
       "      <th>Status</th>\n",
       "      <th>DocEntry</th>\n",
       "      <th>OrderCriteria Status</th>\n",
       "      <th>Datetime</th>\n",
       "      <th>DocNum</th>\n",
       "      <th>Datetimeout</th>\n",
       "    </tr>\n",
       "  </thead>\n",
       "  <tbody>\n",
       "  </tbody>\n",
       "</table>\n",
       "</div>"
      ],
      "text/plain": [
       "Empty DataFrame\n",
       "Columns: [Created User, Date, Time, Status, DocEntry, OrderCriteria Status, Datetime, DocNum, Datetimeout]\n",
       "Index: []"
      ]
     },
     "execution_count": 15,
     "metadata": {},
     "output_type": "execute_result"
    }
   ],
   "source": [
    "reissueframedes= pd.merge(designerrejected,reissuedframedes[['DocNum','Datetimeout']], on='DocNum', how='left')\n",
    "reissueframedes.head(3)"
   ]
  },
  {
   "cell_type": "markdown",
   "metadata": {
    "id": "OdiJsB0vJfvf"
   },
   "source": [
    "Date time workdays"
   ]
  },
  {
   "cell_type": "code",
   "execution_count": 16,
   "metadata": {
    "colab": {
     "base_uri": "https://localhost:8080/"
    },
    "id": "rRbm80r7Jfvg",
    "outputId": "29d438a1-96a9-460b-f96a-f247fe7a1906"
   },
   "outputs": [
    {
     "name": "stderr",
     "output_type": "stream",
     "text": [
      "C:\\Users\\user\\anaconda3\\lib\\site-packages\\workalendar\\core.py:436: UserWarning: Please take note that, due to arbitrary decisions, this Islamic calendar computation may be wrong.\n",
      "  warnings.warn('Please take note that, due to arbitrary decisions, '\n"
     ]
    }
   ],
   "source": [
    "##Define a working day\n",
    "\n",
    "####Days of the week\n",
    "workday = businesstimedelta.WorkDayRule(\n",
    "    start_time=datetime.time(9),\n",
    "    end_time=datetime.time(18),\n",
    "    working_days=[0,1, 2, 3, 4])\n",
    "\n",
    "cal = Kenya()\n",
    "hl = cal.holidays()\n",
    "vic_holidays = pyholidays.KE() \n",
    "holidays = businesstimedelta.HolidayRule(vic_holidays)\n",
    "businesshrs = businesstimedelta.Rules([workday, holidays], hl)\n",
    "\n",
    "def BusHrs(start, end):\n",
    "    if end>=start:\n",
    "        return businesshrs.difference(start,end).hours+float(businesshrs.difference(start,end).seconds)/float(3600)\n",
    "    else:\n",
    "        \"\"\n",
    "    \n",
    "RejectedSentWk_hrs=reissueframedes.apply(lambda row: BusHrs(row['Datetime'], row['Datetimeout']), axis=1)\n",
    "\n"
   ]
  },
  {
   "cell_type": "code",
   "execution_count": 17,
   "metadata": {
    "id": "Wa_0ky3tJfvg"
   },
   "outputs": [],
   "source": [
    "# Define a working weekend day(Saturday)\n",
    "\n",
    "Saturday = businesstimedelta.WorkDayRule(start_time=datetime.time(9),end_time=datetime.time(16),working_days=[5])\n",
    "\n",
    "vic_holidays = pyholidays.KE()\n",
    "holidays = businesstimedelta.HolidayRule(vic_holidays)\n",
    "businesshrs = businesstimedelta.Rules([Saturday, holidays])\n",
    "\n",
    "def SatHrs(start, end):\n",
    "    if end>=start:\n",
    "        return businesshrs.difference(start,end).hours+float(businesshrs.difference(start,end).seconds)/float(3600)\n",
    "    else:\n",
    "        \"\"\n",
    "\n",
    "RejectedSentSat_hrs=reissueframedes.apply(lambda row: BusHrs(row['Datetime'], row['Datetimeout']), axis=1)\n"
   ]
  },
  {
   "cell_type": "code",
   "execution_count": 18,
   "metadata": {
    "id": "70WVko4eJfvg"
   },
   "outputs": [],
   "source": [
    "\n",
    "reissueframedes[\"delay\"]=(RejectedSentWk_hrs+RejectedSentSat_hrs)*60\n",
    "\n",
    "reissueframedes =reissueframedes.replace(\"\", np.nan)\n",
    "reissueframedes=reissueframedes.dropna()"
   ]
  },
  {
   "cell_type": "code",
   "execution_count": 19,
   "metadata": {
    "colab": {
     "base_uri": "https://localhost:8080/",
     "height": 424
    },
    "id": "0hLsDZb6Jfvg",
    "outputId": "ed06104f-8ef3-4c49-b2b8-a8bf63a1282a"
   },
   "outputs": [
    {
     "data": {
      "text/html": [
       "<div>\n",
       "<style scoped>\n",
       "    .dataframe tbody tr th:only-of-type {\n",
       "        vertical-align: middle;\n",
       "    }\n",
       "\n",
       "    .dataframe tbody tr th {\n",
       "        vertical-align: top;\n",
       "    }\n",
       "\n",
       "    .dataframe thead th {\n",
       "        text-align: right;\n",
       "    }\n",
       "</style>\n",
       "<table border=\"1\" class=\"dataframe\">\n",
       "  <thead>\n",
       "    <tr style=\"text-align: right;\">\n",
       "      <th></th>\n",
       "      <th>Created User</th>\n",
       "      <th>Date</th>\n",
       "      <th>Time</th>\n",
       "      <th>Status</th>\n",
       "      <th>DocEntry</th>\n",
       "      <th>OrderCriteria Status</th>\n",
       "      <th>Datetime</th>\n",
       "      <th>DocNum</th>\n",
       "      <th>Datetimeout</th>\n",
       "      <th>delay</th>\n",
       "      <th>delayed dept</th>\n",
       "    </tr>\n",
       "  </thead>\n",
       "  <tbody>\n",
       "  </tbody>\n",
       "</table>\n",
       "</div>"
      ],
      "text/plain": [
       "Empty DataFrame\n",
       "Columns: [Created User, Date, Time, Status, DocEntry, OrderCriteria Status, Datetime, DocNum, Datetimeout, delay, delayed dept]\n",
       "Index: []"
      ]
     },
     "execution_count": 19,
     "metadata": {},
     "output_type": "execute_result"
    }
   ],
   "source": [
    "reissueframedes['delayed dept']=reissueframedes['delay'].apply(lambda x: 'Delayed at Designer Store' if x>15 else 'Did not delay at Designer Store' )\n",
    "reissueframedes"
   ]
  },
  {
   "cell_type": "code",
   "execution_count": 20,
   "metadata": {
    "id": "wTWD5MXcJfvg"
   },
   "outputs": [],
   "source": [
    "designerdamage_reissued=reissueframedes"
   ]
  },
  {
   "cell_type": "code",
   "execution_count": 21,
   "metadata": {
    "colab": {
     "base_uri": "https://localhost:8080/",
     "height": 206
    },
    "id": "aDrGeqkhJfvh",
    "outputId": "052b8281-98dc-4a5e-e595-0e2284a9518e"
   },
   "outputs": [
    {
     "data": {
      "text/html": [
       "<div>\n",
       "<style scoped>\n",
       "    .dataframe tbody tr th:only-of-type {\n",
       "        vertical-align: middle;\n",
       "    }\n",
       "\n",
       "    .dataframe tbody tr th {\n",
       "        vertical-align: top;\n",
       "    }\n",
       "\n",
       "    .dataframe thead th {\n",
       "        text-align: right;\n",
       "    }\n",
       "</style>\n",
       "<table border=\"1\" class=\"dataframe\">\n",
       "  <thead>\n",
       "    <tr style=\"text-align: right;\">\n",
       "      <th></th>\n",
       "      <th>Created User</th>\n",
       "      <th>Date</th>\n",
       "      <th>Time</th>\n",
       "      <th>Status</th>\n",
       "      <th>DocEntry</th>\n",
       "      <th>OrderCriteria Status</th>\n",
       "      <th>Datetime</th>\n",
       "      <th>DocNum</th>\n",
       "      <th>Datetimeout</th>\n",
       "      <th>delay</th>\n",
       "      <th>delayed dept</th>\n",
       "    </tr>\n",
       "  </thead>\n",
       "  <tbody>\n",
       "  </tbody>\n",
       "</table>\n",
       "</div>"
      ],
      "text/plain": [
       "Empty DataFrame\n",
       "Columns: [Created User, Date, Time, Status, DocEntry, OrderCriteria Status, Datetime, DocNum, Datetimeout, delay, delayed dept]\n",
       "Index: []"
      ]
     },
     "execution_count": 21,
     "metadata": {},
     "output_type": "execute_result"
    }
   ],
   "source": [
    "designerdamage_reissued.head(5)"
   ]
  },
  {
   "cell_type": "code",
   "execution_count": null,
   "metadata": {
    "id": "vnq0u3DPFpB5"
   },
   "outputs": [],
   "source": []
  },
  {
   "cell_type": "markdown",
   "metadata": {
    "id": "Gu45p6153BAf"
   },
   "source": [
    "# MAINSTORE"
   ]
  },
  {
   "cell_type": "markdown",
   "metadata": {
    "id": "qvTXTKqPyEmm"
   },
   "source": [
    "## MAINSTORE(rejected frame sent to frame store to reissued frame for order)-mainstoredamage_reissued"
   ]
  },
  {
   "cell_type": "code",
   "execution_count": 22,
   "metadata": {
    "colab": {
     "base_uri": "https://localhost:8080/"
    },
    "id": "XPQy7hNtyEmv",
    "outputId": "6cff4595-0ded-46f1-9fa3-b96b05d51b2d"
   },
   "outputs": [
    {
     "data": {
      "text/plain": [
       "array([], dtype=object)"
      ]
     },
     "execution_count": 22,
     "metadata": {},
     "output_type": "execute_result"
    }
   ],
   "source": [
    "mainrejected = status[status['Status']== 'Rejected Frame sent to Frame Store']\n",
    "mainrejected['Status'].unique()"
   ]
  },
  {
   "cell_type": "code",
   "execution_count": 23,
   "metadata": {
    "colab": {
     "base_uri": "https://localhost:8080/"
    },
    "id": "Z3Ij7mepyEmv",
    "outputId": "c27b45e8-4243-475e-9873-bcbf3f2a746c"
   },
   "outputs": [
    {
     "name": "stderr",
     "output_type": "stream",
     "text": [
      "C:\\Users\\user\\AppData\\Local\\Temp\\ipykernel_10048\\2446686935.py:1: UserWarning: Boolean Series key will be reindexed to match DataFrame index.\n",
      "  mainrejected1 = mainrejected[status['Created User']== 'control1']\n",
      "C:\\Users\\user\\AppData\\Local\\Temp\\ipykernel_10048\\2446686935.py:2: UserWarning: Boolean Series key will be reindexed to match DataFrame index.\n",
      "  mainrejected2 = mainrejected[status['Created User']== 'control2']\n"
     ]
    },
    {
     "data": {
      "text/plain": [
       "array([], dtype=object)"
      ]
     },
     "execution_count": 23,
     "metadata": {},
     "output_type": "execute_result"
    }
   ],
   "source": [
    "mainrejected1 = mainrejected[status['Created User']== 'control1']\n",
    "mainrejected2 = mainrejected[status['Created User']== 'control2']\n",
    "\n",
    "mainrejected=pd.concat([mainrejected1,mainrejected2])\n",
    "\n",
    "mainrejected['Status'].unique()"
   ]
  },
  {
   "cell_type": "code",
   "execution_count": 24,
   "metadata": {
    "colab": {
     "base_uri": "https://localhost:8080/"
    },
    "id": "0uz2crojyEmv",
    "outputId": "a9ac527a-40d9-4fec-93ca-1338dd25544d"
   },
   "outputs": [
    {
     "data": {
      "text/plain": [
       "array([], dtype=object)"
      ]
     },
     "execution_count": 24,
     "metadata": {},
     "output_type": "execute_result"
    }
   ],
   "source": [
    "mainrejected['Created User'].unique()"
   ]
  },
  {
   "cell_type": "code",
   "execution_count": 25,
   "metadata": {
    "colab": {
     "base_uri": "https://localhost:8080/"
    },
    "id": "KzggXy6WyEmw",
    "outputId": "ee7e022b-3d34-41fd-b254-7bd21ef77fd4"
   },
   "outputs": [
    {
     "data": {
      "text/plain": [
       "array([], dtype=object)"
      ]
     },
     "execution_count": 25,
     "metadata": {},
     "output_type": "execute_result"
    }
   ],
   "source": [
    "reissuedframemain = status[status['Status']== 'ReIssued Frame for Order']\n",
    "reissuedframemain['Status'].unique()"
   ]
  },
  {
   "cell_type": "code",
   "execution_count": 26,
   "metadata": {},
   "outputs": [
    {
     "data": {
      "text/plain": [
       "array(['main2'], dtype=object)"
      ]
     },
     "execution_count": 26,
     "metadata": {},
     "output_type": "execute_result"
    }
   ],
   "source": [
    "reissuedframemain1 = status[status['Created User']== 'main1']\n",
    "reissuedframemain2 = status[status['Created User']== 'main2']\n",
    "reissuedframemain=pd.concat([reissuedframemain1,reissuedframemain2])\n",
    "reissuedframemain['Created User'].unique()"
   ]
  },
  {
   "cell_type": "code",
   "execution_count": 27,
   "metadata": {
    "colab": {
     "base_uri": "https://localhost:8080/",
     "height": 144
    },
    "id": "aMuVoVbDyEmw",
    "outputId": "40e98f07-49de-40f9-9b53-4ae0061daeae"
   },
   "outputs": [
    {
     "data": {
      "text/html": [
       "<div>\n",
       "<style scoped>\n",
       "    .dataframe tbody tr th:only-of-type {\n",
       "        vertical-align: middle;\n",
       "    }\n",
       "\n",
       "    .dataframe tbody tr th {\n",
       "        vertical-align: top;\n",
       "    }\n",
       "\n",
       "    .dataframe thead th {\n",
       "        text-align: right;\n",
       "    }\n",
       "</style>\n",
       "<table border=\"1\" class=\"dataframe\">\n",
       "  <thead>\n",
       "    <tr style=\"text-align: right;\">\n",
       "      <th></th>\n",
       "      <th>Created User</th>\n",
       "      <th>Date</th>\n",
       "      <th>Time</th>\n",
       "      <th>Status</th>\n",
       "      <th>DocEntry</th>\n",
       "      <th>DocNum</th>\n",
       "      <th>OrderCriteria Status</th>\n",
       "      <th>Datetime</th>\n",
       "    </tr>\n",
       "  </thead>\n",
       "  <tbody>\n",
       "    <tr>\n",
       "      <th>2545</th>\n",
       "      <td>main2</td>\n",
       "      <td>2023-03-25</td>\n",
       "      <td>09:03:00</td>\n",
       "      <td>Order Printed</td>\n",
       "      <td>1002106</td>\n",
       "      <td>232802028</td>\n",
       "      <td>Frame from HQ and Lens from HQ</td>\n",
       "      <td>2023-03-25 09:03:00</td>\n",
       "    </tr>\n",
       "    <tr>\n",
       "      <th>2546</th>\n",
       "      <td>main2</td>\n",
       "      <td>2023-03-25</td>\n",
       "      <td>09:04:00</td>\n",
       "      <td>Frame Sent to Lens Store</td>\n",
       "      <td>1002106</td>\n",
       "      <td>232802028</td>\n",
       "      <td>Frame from HQ and Lens from HQ</td>\n",
       "      <td>2023-03-25 09:04:00</td>\n",
       "    </tr>\n",
       "    <tr>\n",
       "      <th>2547</th>\n",
       "      <td>main2</td>\n",
       "      <td>2023-03-25</td>\n",
       "      <td>09:10:00</td>\n",
       "      <td>Order Printed</td>\n",
       "      <td>999371</td>\n",
       "      <td>234100922</td>\n",
       "      <td>Frame from HQ and Lens from HQ</td>\n",
       "      <td>2023-03-25 09:10:00</td>\n",
       "    </tr>\n",
       "  </tbody>\n",
       "</table>\n",
       "</div>"
      ],
      "text/plain": [
       "     Created User        Date      Time                    Status  DocEntry  \\\n",
       "2545        main2  2023-03-25  09:03:00             Order Printed   1002106   \n",
       "2546        main2  2023-03-25  09:04:00  Frame Sent to Lens Store   1002106   \n",
       "2547        main2  2023-03-25  09:10:00             Order Printed    999371   \n",
       "\n",
       "         DocNum            OrderCriteria Status            Datetime  \n",
       "2545  232802028  Frame from HQ and Lens from HQ 2023-03-25 09:03:00  \n",
       "2546  232802028  Frame from HQ and Lens from HQ 2023-03-25 09:04:00  \n",
       "2547  234100922  Frame from HQ and Lens from HQ 2023-03-25 09:10:00  "
      ]
     },
     "execution_count": 27,
     "metadata": {},
     "output_type": "execute_result"
    }
   ],
   "source": [
    "reissuedframemain.head(3)"
   ]
  },
  {
   "cell_type": "code",
   "execution_count": 28,
   "metadata": {
    "colab": {
     "base_uri": "https://localhost:8080/"
    },
    "id": "DMfXHC_EyEmw",
    "outputId": "3cd8b3c7-4f57-4e6b-c9a4-ae2b65b7921b"
   },
   "outputs": [],
   "source": [
    "reissuedframemain.rename(columns={'Datetime':'Datetimeout'}, inplace=True)"
   ]
  },
  {
   "cell_type": "code",
   "execution_count": 29,
   "metadata": {
    "colab": {
     "base_uri": "https://localhost:8080/",
     "height": 144
    },
    "id": "MVubcuU5yEmw",
    "outputId": "d972bea0-d50f-47f3-8e6e-165bd78dac51"
   },
   "outputs": [
    {
     "data": {
      "text/html": [
       "<div>\n",
       "<style scoped>\n",
       "    .dataframe tbody tr th:only-of-type {\n",
       "        vertical-align: middle;\n",
       "    }\n",
       "\n",
       "    .dataframe tbody tr th {\n",
       "        vertical-align: top;\n",
       "    }\n",
       "\n",
       "    .dataframe thead th {\n",
       "        text-align: right;\n",
       "    }\n",
       "</style>\n",
       "<table border=\"1\" class=\"dataframe\">\n",
       "  <thead>\n",
       "    <tr style=\"text-align: right;\">\n",
       "      <th></th>\n",
       "      <th>Created User</th>\n",
       "      <th>Date</th>\n",
       "      <th>Time</th>\n",
       "      <th>Status</th>\n",
       "      <th>DocEntry</th>\n",
       "      <th>OrderCriteria Status</th>\n",
       "      <th>Datetime</th>\n",
       "      <th>DocNum</th>\n",
       "      <th>Datetimeout</th>\n",
       "    </tr>\n",
       "  </thead>\n",
       "  <tbody>\n",
       "  </tbody>\n",
       "</table>\n",
       "</div>"
      ],
      "text/plain": [
       "Empty DataFrame\n",
       "Columns: [Created User, Date, Time, Status, DocEntry, OrderCriteria Status, Datetime, DocNum, Datetimeout]\n",
       "Index: []"
      ]
     },
     "execution_count": 29,
     "metadata": {},
     "output_type": "execute_result"
    }
   ],
   "source": [
    "reissueframemain= pd.merge(mainrejected,reissuedframemain[['DocNum','Datetimeout']], on='DocNum', how='left')\n",
    "reissueframemain.head(3)"
   ]
  },
  {
   "cell_type": "markdown",
   "metadata": {
    "id": "bNOlrIKhyEmw"
   },
   "source": [
    "Date time workdays"
   ]
  },
  {
   "cell_type": "code",
   "execution_count": 30,
   "metadata": {
    "colab": {
     "base_uri": "https://localhost:8080/"
    },
    "id": "HbSJverGyEmx",
    "outputId": "1580419b-fcde-4ec7-e875-cbc4a3e890f2"
   },
   "outputs": [
    {
     "name": "stderr",
     "output_type": "stream",
     "text": [
      "C:\\Users\\user\\anaconda3\\lib\\site-packages\\workalendar\\core.py:436: UserWarning: Please take note that, due to arbitrary decisions, this Islamic calendar computation may be wrong.\n",
      "  warnings.warn('Please take note that, due to arbitrary decisions, '\n"
     ]
    }
   ],
   "source": [
    "##Define a working day\n",
    "\n",
    "####Days of the week\n",
    "workday = businesstimedelta.WorkDayRule(\n",
    "    start_time=datetime.time(9),\n",
    "    end_time=datetime.time(18),\n",
    "    working_days=[0,1, 2, 3, 4])\n",
    "\n",
    "cal = Kenya()\n",
    "hl = cal.holidays()\n",
    "vic_holidays = pyholidays.KE() \n",
    "holidays = businesstimedelta.HolidayRule(vic_holidays)\n",
    "businesshrs = businesstimedelta.Rules([workday, holidays], hl)\n",
    "\n",
    "def BusHrs(start, end):\n",
    "    if end>=start:\n",
    "        return businesshrs.difference(start,end).hours+float(businesshrs.difference(start,end).seconds)/float(3600)\n",
    "    else:\n",
    "        \"\"\n",
    "    \n",
    "RejectedSentWk_hrs=reissueframemain.apply(lambda row: BusHrs(row['Datetime'], row['Datetimeout']), axis=1)\n",
    "\n"
   ]
  },
  {
   "cell_type": "code",
   "execution_count": 31,
   "metadata": {
    "id": "3NAPfS9RyEmx"
   },
   "outputs": [],
   "source": [
    "# Define a working weekend day(Saturday)\n",
    "\n",
    "Saturday = businesstimedelta.WorkDayRule(start_time=datetime.time(9),end_time=datetime.time(16),working_days=[5])\n",
    "\n",
    "vic_holidays = pyholidays.KE()\n",
    "holidays = businesstimedelta.HolidayRule(vic_holidays)\n",
    "businesshrs = businesstimedelta.Rules([Saturday, holidays])\n",
    "\n",
    "def SatHrs(start, end):\n",
    "    if end>=start:\n",
    "        return businesshrs.difference(start,end).hours+float(businesshrs.difference(start,end).seconds)/float(3600)\n",
    "    else:\n",
    "        \"\"\n",
    "\n",
    "RejectedSentSat_hrs=reissueframemain.apply(lambda row: BusHrs(row['Datetime'], row['Datetimeout']), axis=1)\n"
   ]
  },
  {
   "cell_type": "code",
   "execution_count": 32,
   "metadata": {
    "id": "4NGEpbdbyEmx"
   },
   "outputs": [],
   "source": [
    "\n",
    "reissueframemain[\"delay\"]=(RejectedSentWk_hrs+RejectedSentSat_hrs)*60\n",
    "\n",
    "reissueframemain =reissueframemain.replace(\"\", np.nan)\n",
    "reissueframemain=reissueframemain.dropna()"
   ]
  },
  {
   "cell_type": "code",
   "execution_count": 33,
   "metadata": {
    "colab": {
     "base_uri": "https://localhost:8080/",
     "height": 424
    },
    "id": "MKZT9N1TyEmx",
    "outputId": "f54e00fd-fa32-4777-bd1c-279c6e31c55b"
   },
   "outputs": [
    {
     "data": {
      "text/html": [
       "<div>\n",
       "<style scoped>\n",
       "    .dataframe tbody tr th:only-of-type {\n",
       "        vertical-align: middle;\n",
       "    }\n",
       "\n",
       "    .dataframe tbody tr th {\n",
       "        vertical-align: top;\n",
       "    }\n",
       "\n",
       "    .dataframe thead th {\n",
       "        text-align: right;\n",
       "    }\n",
       "</style>\n",
       "<table border=\"1\" class=\"dataframe\">\n",
       "  <thead>\n",
       "    <tr style=\"text-align: right;\">\n",
       "      <th></th>\n",
       "      <th>Created User</th>\n",
       "      <th>Date</th>\n",
       "      <th>Time</th>\n",
       "      <th>Status</th>\n",
       "      <th>DocEntry</th>\n",
       "      <th>OrderCriteria Status</th>\n",
       "      <th>Datetime</th>\n",
       "      <th>DocNum</th>\n",
       "      <th>Datetimeout</th>\n",
       "      <th>delay</th>\n",
       "      <th>delayed dept</th>\n",
       "    </tr>\n",
       "  </thead>\n",
       "  <tbody>\n",
       "  </tbody>\n",
       "</table>\n",
       "</div>"
      ],
      "text/plain": [
       "Empty DataFrame\n",
       "Columns: [Created User, Date, Time, Status, DocEntry, OrderCriteria Status, Datetime, DocNum, Datetimeout, delay, delayed dept]\n",
       "Index: []"
      ]
     },
     "execution_count": 33,
     "metadata": {},
     "output_type": "execute_result"
    }
   ],
   "source": [
    "reissueframemain['delayed dept']=reissueframemain['delay'].apply(lambda x: 'Delayed at Main store' if x>15 else 'Did not delay at Main store' )\n",
    "reissueframemain"
   ]
  },
  {
   "cell_type": "code",
   "execution_count": 34,
   "metadata": {
    "id": "fkl__M_eyEmy"
   },
   "outputs": [],
   "source": [
    "mainstoredamage_reissued=reissueframemain"
   ]
  },
  {
   "cell_type": "code",
   "execution_count": 35,
   "metadata": {
    "colab": {
     "base_uri": "https://localhost:8080/",
     "height": 206
    },
    "id": "tj7RrAldyEmy",
    "outputId": "5a0db30b-3bee-44b6-e57e-680ebee04d0d"
   },
   "outputs": [
    {
     "data": {
      "text/html": [
       "<div>\n",
       "<style scoped>\n",
       "    .dataframe tbody tr th:only-of-type {\n",
       "        vertical-align: middle;\n",
       "    }\n",
       "\n",
       "    .dataframe tbody tr th {\n",
       "        vertical-align: top;\n",
       "    }\n",
       "\n",
       "    .dataframe thead th {\n",
       "        text-align: right;\n",
       "    }\n",
       "</style>\n",
       "<table border=\"1\" class=\"dataframe\">\n",
       "  <thead>\n",
       "    <tr style=\"text-align: right;\">\n",
       "      <th></th>\n",
       "      <th>Created User</th>\n",
       "      <th>Date</th>\n",
       "      <th>Time</th>\n",
       "      <th>Status</th>\n",
       "      <th>DocEntry</th>\n",
       "      <th>OrderCriteria Status</th>\n",
       "      <th>Datetime</th>\n",
       "      <th>DocNum</th>\n",
       "      <th>Datetimeout</th>\n",
       "      <th>delay</th>\n",
       "      <th>delayed dept</th>\n",
       "    </tr>\n",
       "  </thead>\n",
       "  <tbody>\n",
       "  </tbody>\n",
       "</table>\n",
       "</div>"
      ],
      "text/plain": [
       "Empty DataFrame\n",
       "Columns: [Created User, Date, Time, Status, DocEntry, OrderCriteria Status, Datetime, DocNum, Datetimeout, delay, delayed dept]\n",
       "Index: []"
      ]
     },
     "execution_count": 35,
     "metadata": {},
     "output_type": "execute_result"
    }
   ],
   "source": [
    "mainstoredamage_reissued.head(5)"
   ]
  },
  {
   "cell_type": "markdown",
   "metadata": {
    "id": "LHykODz8PVmK"
   },
   "source": [
    "# LENSSTORE"
   ]
  },
  {
   "cell_type": "markdown",
   "metadata": {
    "id": "GV_Bb1QOPVmT"
   },
   "source": [
    "## LENSSTORE(rejected lens sent to Lens store to reissued Lens for order)-lenstoredamage_reissued"
   ]
  },
  {
   "cell_type": "code",
   "execution_count": 36,
   "metadata": {
    "colab": {
     "base_uri": "https://localhost:8080/"
    },
    "id": "5uEE2tyzPVmT",
    "outputId": "e7d919d2-19e3-4e65-c89b-abdcb2bc336c"
   },
   "outputs": [
    {
     "data": {
      "text/plain": [
       "array(['Rejected Lenses sent to Lens Store'], dtype=object)"
      ]
     },
     "execution_count": 36,
     "metadata": {},
     "output_type": "execute_result"
    }
   ],
   "source": [
    "lensrejected = status[status['Status']== 'Rejected Lenses sent to Lens Store']\n",
    "lensrejected['Status'].unique()"
   ]
  },
  {
   "cell_type": "code",
   "execution_count": 37,
   "metadata": {
    "colab": {
     "base_uri": "https://localhost:8080/"
    },
    "id": "CKN1-MmZPVmU",
    "outputId": "08c02e63-8154-45da-d998-0fff834f2a98"
   },
   "outputs": [
    {
     "name": "stderr",
     "output_type": "stream",
     "text": [
      "C:\\Users\\user\\AppData\\Local\\Temp\\ipykernel_10048\\53500968.py:1: UserWarning: Boolean Series key will be reindexed to match DataFrame index.\n",
      "  lensrejected1 = lensrejected[status['Created User']== 'control1']\n",
      "C:\\Users\\user\\AppData\\Local\\Temp\\ipykernel_10048\\53500968.py:2: UserWarning: Boolean Series key will be reindexed to match DataFrame index.\n",
      "  lensrejected2 = lensrejected[status['Created User']== 'control2']\n"
     ]
    },
    {
     "data": {
      "text/plain": [
       "array(['Rejected Lenses sent to Lens Store'], dtype=object)"
      ]
     },
     "execution_count": 37,
     "metadata": {},
     "output_type": "execute_result"
    }
   ],
   "source": [
    "lensrejected1 = lensrejected[status['Created User']== 'control1']\n",
    "lensrejected2 = lensrejected[status['Created User']== 'control2']\n",
    "\n",
    "lensrejected=pd.concat([lensrejected1,lensrejected2])\n",
    "\n",
    "lensrejected['Status'].unique()"
   ]
  },
  {
   "cell_type": "code",
   "execution_count": 38,
   "metadata": {
    "colab": {
     "base_uri": "https://localhost:8080/"
    },
    "id": "GKnuNImtPVmU",
    "outputId": "4eda8757-4480-4732-a816-9f42af37ea21"
   },
   "outputs": [
    {
     "data": {
      "text/plain": [
       "array(['control1', 'control2'], dtype=object)"
      ]
     },
     "execution_count": 38,
     "metadata": {},
     "output_type": "execute_result"
    }
   ],
   "source": [
    "lensrejected['Created User'].unique()"
   ]
  },
  {
   "cell_type": "code",
   "execution_count": 39,
   "metadata": {
    "colab": {
     "base_uri": "https://localhost:8080/"
    },
    "id": "siH3EVjjPVmU",
    "outputId": "fc486449-cf5f-4169-b413-1998f58d08ea"
   },
   "outputs": [
    {
     "data": {
      "text/plain": [
       "array(['ReIssued Lens for Order'], dtype=object)"
      ]
     },
     "execution_count": 39,
     "metadata": {},
     "output_type": "execute_result"
    }
   ],
   "source": [
    "reissuedlens = status[status['Status']== 'ReIssued Lens for Order']\n",
    "reissuedlens['Status'].unique()"
   ]
  },
  {
   "cell_type": "code",
   "execution_count": 40,
   "metadata": {
    "colab": {
     "base_uri": "https://localhost:8080/",
     "height": 144
    },
    "id": "Bma-IRkCPVmU",
    "outputId": "d718a1d0-aeb2-4ea6-8280-23a3aafae9a7"
   },
   "outputs": [
    {
     "data": {
      "text/html": [
       "<div>\n",
       "<style scoped>\n",
       "    .dataframe tbody tr th:only-of-type {\n",
       "        vertical-align: middle;\n",
       "    }\n",
       "\n",
       "    .dataframe tbody tr th {\n",
       "        vertical-align: top;\n",
       "    }\n",
       "\n",
       "    .dataframe thead th {\n",
       "        text-align: right;\n",
       "    }\n",
       "</style>\n",
       "<table border=\"1\" class=\"dataframe\">\n",
       "  <thead>\n",
       "    <tr style=\"text-align: right;\">\n",
       "      <th></th>\n",
       "      <th>Created User</th>\n",
       "      <th>Date</th>\n",
       "      <th>Time</th>\n",
       "      <th>Status</th>\n",
       "      <th>DocEntry</th>\n",
       "      <th>DocNum</th>\n",
       "      <th>OrderCriteria Status</th>\n",
       "      <th>Datetime</th>\n",
       "    </tr>\n",
       "  </thead>\n",
       "  <tbody>\n",
       "    <tr>\n",
       "      <th>1783</th>\n",
       "      <td>lens1</td>\n",
       "      <td>2023-03-25</td>\n",
       "      <td>09:47:00</td>\n",
       "      <td>ReIssued Lens for Order</td>\n",
       "      <td>1001697</td>\n",
       "      <td>23107179</td>\n",
       "      <td>Frame from HQ and Lens from HQ</td>\n",
       "      <td>2023-03-25 09:47:00</td>\n",
       "    </tr>\n",
       "    <tr>\n",
       "      <th>1822</th>\n",
       "      <td>lens1</td>\n",
       "      <td>2023-03-25</td>\n",
       "      <td>10:39:00</td>\n",
       "      <td>ReIssued Lens for Order</td>\n",
       "      <td>1001883</td>\n",
       "      <td>23902417</td>\n",
       "      <td>Frame from HQ and Lens from HQ</td>\n",
       "      <td>2023-03-25 10:39:00</td>\n",
       "    </tr>\n",
       "    <tr>\n",
       "      <th>1833</th>\n",
       "      <td>lens1</td>\n",
       "      <td>2023-03-25</td>\n",
       "      <td>10:59:00</td>\n",
       "      <td>ReIssued Lens for Order</td>\n",
       "      <td>1001789</td>\n",
       "      <td>232502882</td>\n",
       "      <td>Surfacing Lens with Branch Frame</td>\n",
       "      <td>2023-03-25 10:59:00</td>\n",
       "    </tr>\n",
       "  </tbody>\n",
       "</table>\n",
       "</div>"
      ],
      "text/plain": [
       "     Created User        Date      Time                   Status  DocEntry  \\\n",
       "1783        lens1  2023-03-25  09:47:00  ReIssued Lens for Order   1001697   \n",
       "1822        lens1  2023-03-25  10:39:00  ReIssued Lens for Order   1001883   \n",
       "1833        lens1  2023-03-25  10:59:00  ReIssued Lens for Order   1001789   \n",
       "\n",
       "         DocNum              OrderCriteria Status            Datetime  \n",
       "1783   23107179    Frame from HQ and Lens from HQ 2023-03-25 09:47:00  \n",
       "1822   23902417    Frame from HQ and Lens from HQ 2023-03-25 10:39:00  \n",
       "1833  232502882  Surfacing Lens with Branch Frame 2023-03-25 10:59:00  "
      ]
     },
     "execution_count": 40,
     "metadata": {},
     "output_type": "execute_result"
    }
   ],
   "source": [
    "reissuedlens.head(3)"
   ]
  },
  {
   "cell_type": "code",
   "execution_count": 41,
   "metadata": {
    "colab": {
     "base_uri": "https://localhost:8080/"
    },
    "id": "emvF17YVPVmV",
    "outputId": "80964f4e-5030-4323-f9e3-36518fe55c0e"
   },
   "outputs": [
    {
     "name": "stderr",
     "output_type": "stream",
     "text": [
      "C:\\Users\\user\\AppData\\Local\\Temp\\ipykernel_10048\\228283176.py:1: SettingWithCopyWarning: \n",
      "A value is trying to be set on a copy of a slice from a DataFrame\n",
      "\n",
      "See the caveats in the documentation: https://pandas.pydata.org/pandas-docs/stable/user_guide/indexing.html#returning-a-view-versus-a-copy\n",
      "  reissuedlens.rename(columns={'Datetime':'Datetimeout'}, inplace=True)\n"
     ]
    }
   ],
   "source": [
    "reissuedlens.rename(columns={'Datetime':'Datetimeout'}, inplace=True)"
   ]
  },
  {
   "cell_type": "code",
   "execution_count": 42,
   "metadata": {
    "colab": {
     "base_uri": "https://localhost:8080/",
     "height": 144
    },
    "id": "IbHk8JbZPVmV",
    "outputId": "9505053c-94e6-4806-fdab-a0c0573d79bf"
   },
   "outputs": [
    {
     "data": {
      "text/html": [
       "<div>\n",
       "<style scoped>\n",
       "    .dataframe tbody tr th:only-of-type {\n",
       "        vertical-align: middle;\n",
       "    }\n",
       "\n",
       "    .dataframe tbody tr th {\n",
       "        vertical-align: top;\n",
       "    }\n",
       "\n",
       "    .dataframe thead th {\n",
       "        text-align: right;\n",
       "    }\n",
       "</style>\n",
       "<table border=\"1\" class=\"dataframe\">\n",
       "  <thead>\n",
       "    <tr style=\"text-align: right;\">\n",
       "      <th></th>\n",
       "      <th>Created User</th>\n",
       "      <th>Date</th>\n",
       "      <th>Time</th>\n",
       "      <th>Status</th>\n",
       "      <th>DocEntry</th>\n",
       "      <th>DocNum</th>\n",
       "      <th>OrderCriteria Status</th>\n",
       "      <th>Datetime</th>\n",
       "      <th>Datetimeout</th>\n",
       "    </tr>\n",
       "  </thead>\n",
       "  <tbody>\n",
       "    <tr>\n",
       "      <th>0</th>\n",
       "      <td>control1</td>\n",
       "      <td>2023-03-25</td>\n",
       "      <td>09:43:00</td>\n",
       "      <td>Rejected Lenses sent to Lens Store</td>\n",
       "      <td>1001697</td>\n",
       "      <td>23107179</td>\n",
       "      <td>Frame from HQ and Lens from HQ</td>\n",
       "      <td>2023-03-25 09:43:00</td>\n",
       "      <td>2023-03-25 09:47:00</td>\n",
       "    </tr>\n",
       "    <tr>\n",
       "      <th>1</th>\n",
       "      <td>control1</td>\n",
       "      <td>2023-03-25</td>\n",
       "      <td>11:32:00</td>\n",
       "      <td>Rejected Lenses sent to Lens Store</td>\n",
       "      <td>1000718</td>\n",
       "      <td>235900156</td>\n",
       "      <td>Order with PF from Branch and Lens from HQ</td>\n",
       "      <td>2023-03-25 11:32:00</td>\n",
       "      <td>2023-03-25 11:24:00</td>\n",
       "    </tr>\n",
       "    <tr>\n",
       "      <th>2</th>\n",
       "      <td>control2</td>\n",
       "      <td>2023-03-25</td>\n",
       "      <td>10:27:00</td>\n",
       "      <td>Rejected Lenses sent to Lens Store</td>\n",
       "      <td>1001789</td>\n",
       "      <td>232502882</td>\n",
       "      <td>Surfacing Lens with Branch Frame</td>\n",
       "      <td>2023-03-25 10:27:00</td>\n",
       "      <td>2023-03-25 10:59:00</td>\n",
       "    </tr>\n",
       "  </tbody>\n",
       "</table>\n",
       "</div>"
      ],
      "text/plain": [
       "  Created User        Date      Time                              Status  \\\n",
       "0     control1  2023-03-25  09:43:00  Rejected Lenses sent to Lens Store   \n",
       "1     control1  2023-03-25  11:32:00  Rejected Lenses sent to Lens Store   \n",
       "2     control2  2023-03-25  10:27:00  Rejected Lenses sent to Lens Store   \n",
       "\n",
       "   DocEntry     DocNum                        OrderCriteria Status  \\\n",
       "0   1001697   23107179              Frame from HQ and Lens from HQ   \n",
       "1   1000718  235900156  Order with PF from Branch and Lens from HQ   \n",
       "2   1001789  232502882            Surfacing Lens with Branch Frame   \n",
       "\n",
       "             Datetime         Datetimeout  \n",
       "0 2023-03-25 09:43:00 2023-03-25 09:47:00  \n",
       "1 2023-03-25 11:32:00 2023-03-25 11:24:00  \n",
       "2 2023-03-25 10:27:00 2023-03-25 10:59:00  "
      ]
     },
     "execution_count": 42,
     "metadata": {},
     "output_type": "execute_result"
    }
   ],
   "source": [
    "reissuedlens= pd.merge(lensrejected,reissuedlens[['DocNum','Datetimeout']], on='DocNum', how='left')\n",
    "reissuedlens.head(3)"
   ]
  },
  {
   "cell_type": "markdown",
   "metadata": {
    "id": "eD_8IW1sPVmV"
   },
   "source": [
    "Date time workdays"
   ]
  },
  {
   "cell_type": "code",
   "execution_count": 43,
   "metadata": {
    "colab": {
     "base_uri": "https://localhost:8080/"
    },
    "id": "QrFc8MYpPVmV",
    "outputId": "ea932886-c7a1-49cb-b641-642ead0595df"
   },
   "outputs": [
    {
     "name": "stderr",
     "output_type": "stream",
     "text": [
      "C:\\Users\\user\\anaconda3\\lib\\site-packages\\workalendar\\core.py:436: UserWarning: Please take note that, due to arbitrary decisions, this Islamic calendar computation may be wrong.\n",
      "  warnings.warn('Please take note that, due to arbitrary decisions, '\n"
     ]
    }
   ],
   "source": [
    "##Define a working day\n",
    "\n",
    "####Days of the week\n",
    "workday = businesstimedelta.WorkDayRule(\n",
    "    start_time=datetime.time(9),\n",
    "    end_time=datetime.time(18),\n",
    "    working_days=[0,1, 2, 3, 4])\n",
    "\n",
    "cal = Kenya()\n",
    "hl = cal.holidays()\n",
    "vic_holidays = pyholidays.KE() \n",
    "holidays = businesstimedelta.HolidayRule(vic_holidays)\n",
    "businesshrs = businesstimedelta.Rules([workday, holidays], hl)\n",
    "\n",
    "def BusHrs(start, end):\n",
    "    if end>=start:\n",
    "        return businesshrs.difference(start,end).hours+float(businesshrs.difference(start,end).seconds)/float(3600)\n",
    "    else:\n",
    "        \"\"\n",
    "    \n",
    "RejectedSentWk_hrs=reissuedlens.apply(lambda row: BusHrs(row['Datetime'], row['Datetimeout']), axis=1)\n",
    "\n"
   ]
  },
  {
   "cell_type": "code",
   "execution_count": 44,
   "metadata": {
    "id": "RJfwJJc9PVmV"
   },
   "outputs": [],
   "source": [
    "# Define a working weekend day(Saturday)\n",
    "\n",
    "Saturday = businesstimedelta.WorkDayRule(start_time=datetime.time(9),end_time=datetime.time(16),working_days=[5])\n",
    "\n",
    "vic_holidays = pyholidays.KE()\n",
    "holidays = businesstimedelta.HolidayRule(vic_holidays)\n",
    "businesshrs = businesstimedelta.Rules([Saturday, holidays])\n",
    "\n",
    "def SatHrs(start, end):\n",
    "    if end>=start:\n",
    "        return businesshrs.difference(start,end).hours+float(businesshrs.difference(start,end).seconds)/float(3600)\n",
    "    else:\n",
    "        \"\"\n",
    "\n",
    "RejectedSentSat_hrs=reissuedlens.apply(lambda row: BusHrs(row['Datetime'], row['Datetimeout']), axis=1)\n"
   ]
  },
  {
   "cell_type": "code",
   "execution_count": 45,
   "metadata": {
    "id": "7Yg7CBquPVmW"
   },
   "outputs": [],
   "source": [
    "\n",
    "reissuedlens[\"delay\"]=(RejectedSentWk_hrs+RejectedSentSat_hrs)*60\n",
    "\n",
    "reissuedlens =reissuedlens.replace(\"\", np.nan)\n",
    "reissuedlens=reissuedlens.dropna()"
   ]
  },
  {
   "cell_type": "code",
   "execution_count": 46,
   "metadata": {
    "colab": {
     "base_uri": "https://localhost:8080/",
     "height": 424
    },
    "id": "WrqDVi67PVmW",
    "outputId": "25e019c5-af7c-4e3e-d72b-b98c1d2f4b30"
   },
   "outputs": [
    {
     "data": {
      "text/html": [
       "<div>\n",
       "<style scoped>\n",
       "    .dataframe tbody tr th:only-of-type {\n",
       "        vertical-align: middle;\n",
       "    }\n",
       "\n",
       "    .dataframe tbody tr th {\n",
       "        vertical-align: top;\n",
       "    }\n",
       "\n",
       "    .dataframe thead th {\n",
       "        text-align: right;\n",
       "    }\n",
       "</style>\n",
       "<table border=\"1\" class=\"dataframe\">\n",
       "  <thead>\n",
       "    <tr style=\"text-align: right;\">\n",
       "      <th></th>\n",
       "      <th>Created User</th>\n",
       "      <th>Date</th>\n",
       "      <th>Time</th>\n",
       "      <th>Status</th>\n",
       "      <th>DocEntry</th>\n",
       "      <th>DocNum</th>\n",
       "      <th>OrderCriteria Status</th>\n",
       "      <th>Datetime</th>\n",
       "      <th>Datetimeout</th>\n",
       "      <th>delay</th>\n",
       "      <th>delayed dept</th>\n",
       "    </tr>\n",
       "  </thead>\n",
       "  <tbody>\n",
       "    <tr>\n",
       "      <th>0</th>\n",
       "      <td>control1</td>\n",
       "      <td>2023-03-25</td>\n",
       "      <td>09:43:00</td>\n",
       "      <td>Rejected Lenses sent to Lens Store</td>\n",
       "      <td>1001697</td>\n",
       "      <td>23107179</td>\n",
       "      <td>Frame from HQ and Lens from HQ</td>\n",
       "      <td>2023-03-25 09:43:00</td>\n",
       "      <td>2023-03-25 09:47:00</td>\n",
       "      <td>4.0</td>\n",
       "      <td>Did not delay at Lens store</td>\n",
       "    </tr>\n",
       "    <tr>\n",
       "      <th>2</th>\n",
       "      <td>control2</td>\n",
       "      <td>2023-03-25</td>\n",
       "      <td>10:27:00</td>\n",
       "      <td>Rejected Lenses sent to Lens Store</td>\n",
       "      <td>1001789</td>\n",
       "      <td>232502882</td>\n",
       "      <td>Surfacing Lens with Branch Frame</td>\n",
       "      <td>2023-03-25 10:27:00</td>\n",
       "      <td>2023-03-25 10:59:00</td>\n",
       "      <td>32.0</td>\n",
       "      <td>Delayed at Lens store</td>\n",
       "    </tr>\n",
       "    <tr>\n",
       "      <th>3</th>\n",
       "      <td>control2</td>\n",
       "      <td>2023-03-25</td>\n",
       "      <td>10:28:00</td>\n",
       "      <td>Rejected Lenses sent to Lens Store</td>\n",
       "      <td>1001883</td>\n",
       "      <td>23902417</td>\n",
       "      <td>Frame from HQ and Lens from HQ</td>\n",
       "      <td>2023-03-25 10:28:00</td>\n",
       "      <td>2023-03-25 10:39:00</td>\n",
       "      <td>11.0</td>\n",
       "      <td>Did not delay at Lens store</td>\n",
       "    </tr>\n",
       "    <tr>\n",
       "      <th>4</th>\n",
       "      <td>control2</td>\n",
       "      <td>2023-03-25</td>\n",
       "      <td>11:07:00</td>\n",
       "      <td>Rejected Lenses sent to Lens Store</td>\n",
       "      <td>1000718</td>\n",
       "      <td>235900156</td>\n",
       "      <td>Order with PF from Branch and Lens from HQ</td>\n",
       "      <td>2023-03-25 11:07:00</td>\n",
       "      <td>2023-03-25 11:24:00</td>\n",
       "      <td>17.0</td>\n",
       "      <td>Delayed at Lens store</td>\n",
       "    </tr>\n",
       "    <tr>\n",
       "      <th>5</th>\n",
       "      <td>control2</td>\n",
       "      <td>2023-03-25</td>\n",
       "      <td>12:04:00</td>\n",
       "      <td>Rejected Lenses sent to Lens Store</td>\n",
       "      <td>1000420</td>\n",
       "      <td>23211242</td>\n",
       "      <td>Frame from HQ and Lens from HQ</td>\n",
       "      <td>2023-03-25 12:04:00</td>\n",
       "      <td>2023-03-25 13:15:00</td>\n",
       "      <td>71.0</td>\n",
       "      <td>Delayed at Lens store</td>\n",
       "    </tr>\n",
       "    <tr>\n",
       "      <th>6</th>\n",
       "      <td>control2</td>\n",
       "      <td>2023-03-25</td>\n",
       "      <td>12:31:00</td>\n",
       "      <td>Rejected Lenses sent to Lens Store</td>\n",
       "      <td>999231</td>\n",
       "      <td>23211083</td>\n",
       "      <td>Surfacing Lens with PF</td>\n",
       "      <td>2023-03-25 12:31:00</td>\n",
       "      <td>2023-03-25 12:35:00</td>\n",
       "      <td>4.0</td>\n",
       "      <td>Did not delay at Lens store</td>\n",
       "    </tr>\n",
       "    <tr>\n",
       "      <th>7</th>\n",
       "      <td>control2</td>\n",
       "      <td>2023-03-25</td>\n",
       "      <td>13:38:00</td>\n",
       "      <td>Rejected Lenses sent to Lens Store</td>\n",
       "      <td>1002021</td>\n",
       "      <td>23211471</td>\n",
       "      <td>Order with New Frame from Branch and Lens from HQ</td>\n",
       "      <td>2023-03-25 13:38:00</td>\n",
       "      <td>2023-03-25 13:41:00</td>\n",
       "      <td>3.0</td>\n",
       "      <td>Did not delay at Lens store</td>\n",
       "    </tr>\n",
       "  </tbody>\n",
       "</table>\n",
       "</div>"
      ],
      "text/plain": [
       "  Created User        Date      Time                              Status  \\\n",
       "0     control1  2023-03-25  09:43:00  Rejected Lenses sent to Lens Store   \n",
       "2     control2  2023-03-25  10:27:00  Rejected Lenses sent to Lens Store   \n",
       "3     control2  2023-03-25  10:28:00  Rejected Lenses sent to Lens Store   \n",
       "4     control2  2023-03-25  11:07:00  Rejected Lenses sent to Lens Store   \n",
       "5     control2  2023-03-25  12:04:00  Rejected Lenses sent to Lens Store   \n",
       "6     control2  2023-03-25  12:31:00  Rejected Lenses sent to Lens Store   \n",
       "7     control2  2023-03-25  13:38:00  Rejected Lenses sent to Lens Store   \n",
       "\n",
       "   DocEntry     DocNum                               OrderCriteria Status  \\\n",
       "0   1001697   23107179                     Frame from HQ and Lens from HQ   \n",
       "2   1001789  232502882                   Surfacing Lens with Branch Frame   \n",
       "3   1001883   23902417                     Frame from HQ and Lens from HQ   \n",
       "4   1000718  235900156         Order with PF from Branch and Lens from HQ   \n",
       "5   1000420   23211242                     Frame from HQ and Lens from HQ   \n",
       "6    999231   23211083                             Surfacing Lens with PF   \n",
       "7   1002021   23211471  Order with New Frame from Branch and Lens from HQ   \n",
       "\n",
       "             Datetime         Datetimeout  delay                 delayed dept  \n",
       "0 2023-03-25 09:43:00 2023-03-25 09:47:00    4.0  Did not delay at Lens store  \n",
       "2 2023-03-25 10:27:00 2023-03-25 10:59:00   32.0        Delayed at Lens store  \n",
       "3 2023-03-25 10:28:00 2023-03-25 10:39:00   11.0  Did not delay at Lens store  \n",
       "4 2023-03-25 11:07:00 2023-03-25 11:24:00   17.0        Delayed at Lens store  \n",
       "5 2023-03-25 12:04:00 2023-03-25 13:15:00   71.0        Delayed at Lens store  \n",
       "6 2023-03-25 12:31:00 2023-03-25 12:35:00    4.0  Did not delay at Lens store  \n",
       "7 2023-03-25 13:38:00 2023-03-25 13:41:00    3.0  Did not delay at Lens store  "
      ]
     },
     "execution_count": 46,
     "metadata": {},
     "output_type": "execute_result"
    }
   ],
   "source": [
    "reissuedlens['delayed dept']=reissuedlens['delay'].apply(lambda x: 'Delayed at Lens store' if x>15 else 'Did not delay at Lens store' )\n",
    "reissuedlens"
   ]
  },
  {
   "cell_type": "code",
   "execution_count": 47,
   "metadata": {
    "id": "gb19lGuhPVmW"
   },
   "outputs": [],
   "source": [
    "lenstoredamage_reissued=reissuedlens"
   ]
  },
  {
   "cell_type": "code",
   "execution_count": 48,
   "metadata": {
    "colab": {
     "base_uri": "https://localhost:8080/",
     "height": 206
    },
    "id": "VYcL9nGdPVmW",
    "outputId": "c4361db1-8328-44d9-e2ae-ddb4e4479bfc"
   },
   "outputs": [
    {
     "data": {
      "text/html": [
       "<div>\n",
       "<style scoped>\n",
       "    .dataframe tbody tr th:only-of-type {\n",
       "        vertical-align: middle;\n",
       "    }\n",
       "\n",
       "    .dataframe tbody tr th {\n",
       "        vertical-align: top;\n",
       "    }\n",
       "\n",
       "    .dataframe thead th {\n",
       "        text-align: right;\n",
       "    }\n",
       "</style>\n",
       "<table border=\"1\" class=\"dataframe\">\n",
       "  <thead>\n",
       "    <tr style=\"text-align: right;\">\n",
       "      <th></th>\n",
       "      <th>Created User</th>\n",
       "      <th>Date</th>\n",
       "      <th>Time</th>\n",
       "      <th>Status</th>\n",
       "      <th>DocEntry</th>\n",
       "      <th>DocNum</th>\n",
       "      <th>OrderCriteria Status</th>\n",
       "      <th>Datetime</th>\n",
       "      <th>Datetimeout</th>\n",
       "      <th>delay</th>\n",
       "      <th>delayed dept</th>\n",
       "    </tr>\n",
       "  </thead>\n",
       "  <tbody>\n",
       "    <tr>\n",
       "      <th>0</th>\n",
       "      <td>control1</td>\n",
       "      <td>2023-03-25</td>\n",
       "      <td>09:43:00</td>\n",
       "      <td>Rejected Lenses sent to Lens Store</td>\n",
       "      <td>1001697</td>\n",
       "      <td>23107179</td>\n",
       "      <td>Frame from HQ and Lens from HQ</td>\n",
       "      <td>2023-03-25 09:43:00</td>\n",
       "      <td>2023-03-25 09:47:00</td>\n",
       "      <td>4.0</td>\n",
       "      <td>Did not delay at Lens store</td>\n",
       "    </tr>\n",
       "    <tr>\n",
       "      <th>2</th>\n",
       "      <td>control2</td>\n",
       "      <td>2023-03-25</td>\n",
       "      <td>10:27:00</td>\n",
       "      <td>Rejected Lenses sent to Lens Store</td>\n",
       "      <td>1001789</td>\n",
       "      <td>232502882</td>\n",
       "      <td>Surfacing Lens with Branch Frame</td>\n",
       "      <td>2023-03-25 10:27:00</td>\n",
       "      <td>2023-03-25 10:59:00</td>\n",
       "      <td>32.0</td>\n",
       "      <td>Delayed at Lens store</td>\n",
       "    </tr>\n",
       "    <tr>\n",
       "      <th>3</th>\n",
       "      <td>control2</td>\n",
       "      <td>2023-03-25</td>\n",
       "      <td>10:28:00</td>\n",
       "      <td>Rejected Lenses sent to Lens Store</td>\n",
       "      <td>1001883</td>\n",
       "      <td>23902417</td>\n",
       "      <td>Frame from HQ and Lens from HQ</td>\n",
       "      <td>2023-03-25 10:28:00</td>\n",
       "      <td>2023-03-25 10:39:00</td>\n",
       "      <td>11.0</td>\n",
       "      <td>Did not delay at Lens store</td>\n",
       "    </tr>\n",
       "    <tr>\n",
       "      <th>4</th>\n",
       "      <td>control2</td>\n",
       "      <td>2023-03-25</td>\n",
       "      <td>11:07:00</td>\n",
       "      <td>Rejected Lenses sent to Lens Store</td>\n",
       "      <td>1000718</td>\n",
       "      <td>235900156</td>\n",
       "      <td>Order with PF from Branch and Lens from HQ</td>\n",
       "      <td>2023-03-25 11:07:00</td>\n",
       "      <td>2023-03-25 11:24:00</td>\n",
       "      <td>17.0</td>\n",
       "      <td>Delayed at Lens store</td>\n",
       "    </tr>\n",
       "    <tr>\n",
       "      <th>5</th>\n",
       "      <td>control2</td>\n",
       "      <td>2023-03-25</td>\n",
       "      <td>12:04:00</td>\n",
       "      <td>Rejected Lenses sent to Lens Store</td>\n",
       "      <td>1000420</td>\n",
       "      <td>23211242</td>\n",
       "      <td>Frame from HQ and Lens from HQ</td>\n",
       "      <td>2023-03-25 12:04:00</td>\n",
       "      <td>2023-03-25 13:15:00</td>\n",
       "      <td>71.0</td>\n",
       "      <td>Delayed at Lens store</td>\n",
       "    </tr>\n",
       "  </tbody>\n",
       "</table>\n",
       "</div>"
      ],
      "text/plain": [
       "  Created User        Date      Time                              Status  \\\n",
       "0     control1  2023-03-25  09:43:00  Rejected Lenses sent to Lens Store   \n",
       "2     control2  2023-03-25  10:27:00  Rejected Lenses sent to Lens Store   \n",
       "3     control2  2023-03-25  10:28:00  Rejected Lenses sent to Lens Store   \n",
       "4     control2  2023-03-25  11:07:00  Rejected Lenses sent to Lens Store   \n",
       "5     control2  2023-03-25  12:04:00  Rejected Lenses sent to Lens Store   \n",
       "\n",
       "   DocEntry     DocNum                        OrderCriteria Status  \\\n",
       "0   1001697   23107179              Frame from HQ and Lens from HQ   \n",
       "2   1001789  232502882            Surfacing Lens with Branch Frame   \n",
       "3   1001883   23902417              Frame from HQ and Lens from HQ   \n",
       "4   1000718  235900156  Order with PF from Branch and Lens from HQ   \n",
       "5   1000420   23211242              Frame from HQ and Lens from HQ   \n",
       "\n",
       "             Datetime         Datetimeout  delay                 delayed dept  \n",
       "0 2023-03-25 09:43:00 2023-03-25 09:47:00    4.0  Did not delay at Lens store  \n",
       "2 2023-03-25 10:27:00 2023-03-25 10:59:00   32.0        Delayed at Lens store  \n",
       "3 2023-03-25 10:28:00 2023-03-25 10:39:00   11.0  Did not delay at Lens store  \n",
       "4 2023-03-25 11:07:00 2023-03-25 11:24:00   17.0        Delayed at Lens store  \n",
       "5 2023-03-25 12:04:00 2023-03-25 13:15:00   71.0        Delayed at Lens store  "
      ]
     },
     "execution_count": 48,
     "metadata": {},
     "output_type": "execute_result"
    }
   ],
   "source": [
    "lenstoredamage_reissued.head(5)"
   ]
  },
  {
   "cell_type": "markdown",
   "metadata": {
    "id": "GqGHVnljKX_7"
   },
   "source": [
    "# EXPORT"
   ]
  },
  {
   "cell_type": "code",
   "execution_count": 49,
   "metadata": {
    "id": "QKzpd3eRLDcg"
   },
   "outputs": [],
   "source": [
    "import xlsxwriter"
   ]
  },
  {
   "cell_type": "code",
   "execution_count": 50,
   "metadata": {},
   "outputs": [
    {
     "name": "stderr",
     "output_type": "stream",
     "text": [
      "C:\\Users\\user\\AppData\\Local\\Temp\\ipykernel_10048\\1399644388.py:6: FutureWarning: save is not part of the public API, usage can give unexpected results and will be removed in a future version\n",
      "  writer.save()\n",
      "C:\\Users\\user\\anaconda3\\lib\\site-packages\\xlsxwriter\\workbook.py:339: UserWarning: Calling close() on already closed file.\n",
      "  warn(\"Calling close() on already closed file.\")\n"
     ]
    }
   ],
   "source": [
    "\n",
    "with pd.ExcelWriter(r\"C:\\Users\\USER\\Documents\\Alex\\DAMAGE\\NEWDAMAGESUPPLYTIMERESULTS.xlsx\", engine='xlsxwriter') as writer:\n",
    "    designerdamage_reissued.to_excel(writer, sheet_name='designer',index=False)\n",
    "    mainstoredamage_reissued.to_excel(writer, sheet_name='mainstore',index=False)\n",
    "    lenstoredamage_reissued.to_excel(writer, sheet_name='lensstore',index=False)\n",
    "\n",
    "writer.save()    "
   ]
  },
  {
   "cell_type": "code",
   "execution_count": null,
   "metadata": {},
   "outputs": [],
   "source": []
  }
 ],
 "metadata": {
  "colab": {
   "name": "New Damage supply Time",
   "provenance": []
  },
  "kernelspec": {
   "display_name": "Python 3 (ipykernel)",
   "language": "python",
   "name": "python3"
  },
  "language_info": {
   "codemirror_mode": {
    "name": "ipython",
    "version": 3
   },
   "file_extension": ".py",
   "mimetype": "text/x-python",
   "name": "python",
   "nbconvert_exporter": "python",
   "pygments_lexer": "ipython3",
   "version": "3.9.7"
  }
 },
 "nbformat": 4,
 "nbformat_minor": 1
}
