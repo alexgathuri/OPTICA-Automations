{
 "cells": [
  {
   "cell_type": "code",
   "execution_count": 1,
   "id": "ecf534be",
   "metadata": {},
   "outputs": [],
   "source": [
    "import pandas as pd\n",
    "import numpy as np\n",
    "import matplotlib.pyplot as plt\n",
    "from matplotlib import style\n",
    "import seaborn as sns\n",
    "sns.set(style='ticks', palette='RdBu')\n",
    "#sns.set(style='ticks', palette='Set2')\n",
    "import datetime\n",
    "import pytz\n",
    "import businesstimedelta\n",
    "import holidays as pyholidays\n",
    "import time as t\n",
    "from workalendar.africa import Kenya\n",
    "from datetime import date\n",
    "%matplotlib inline"
   ]
  },
  {
   "cell_type": "code",
   "execution_count": 2,
   "id": "69b5cbf5",
   "metadata": {},
   "outputs": [],
   "source": [
    "# 3rd floor all user updates\n",
    "status = pd.read_excel(r\"C:\\Users\\user\\Documents\\Alex\\STB Report\\note book\\Mitigation\\3rd floor all user status.xlsx\")\n",
    "\n",
    "# Branch All User Updates\n",
    "branch = pd.read_excel(r\"C:\\Users\\user\\Documents\\Alex\\STB Report\\note book\\Mitigation\\Branch all user updates.xlsx\")"
   ]
  },
  {
   "cell_type": "code",
   "execution_count": 3,
   "id": "38e0071b",
   "metadata": {},
   "outputs": [
    {
     "data": {
      "text/html": [
       "<div>\n",
       "<style scoped>\n",
       "    .dataframe tbody tr th:only-of-type {\n",
       "        vertical-align: middle;\n",
       "    }\n",
       "\n",
       "    .dataframe tbody tr th {\n",
       "        vertical-align: top;\n",
       "    }\n",
       "\n",
       "    .dataframe thead th {\n",
       "        text-align: right;\n",
       "    }\n",
       "</style>\n",
       "<table border=\"1\" class=\"dataframe\">\n",
       "  <thead>\n",
       "    <tr style=\"text-align: right;\">\n",
       "      <th></th>\n",
       "      <th>Created User</th>\n",
       "      <th>Date</th>\n",
       "      <th>Time</th>\n",
       "      <th>Status</th>\n",
       "      <th>DocEntry</th>\n",
       "      <th>DocNum</th>\n",
       "      <th>OrderCriteria Status</th>\n",
       "      <th>Datetime</th>\n",
       "    </tr>\n",
       "  </thead>\n",
       "  <tbody>\n",
       "    <tr>\n",
       "      <th>0</th>\n",
       "      <td>approvals1</td>\n",
       "      <td>2023-02-01</td>\n",
       "      <td>14:15:00</td>\n",
       "      <td>Draft Payments Posted</td>\n",
       "      <td>939205</td>\n",
       "      <td>236000215</td>\n",
       "      <td>Contact lens from HQ</td>\n",
       "      <td>2023-02-01 14:15:00</td>\n",
       "    </tr>\n",
       "    <tr>\n",
       "      <th>1</th>\n",
       "      <td>approvals1</td>\n",
       "      <td>2023-02-01</td>\n",
       "      <td>14:15:00</td>\n",
       "      <td>Confirmed by Approvals Team</td>\n",
       "      <td>939205</td>\n",
       "      <td>236000215</td>\n",
       "      <td>Contact lens from HQ</td>\n",
       "      <td>2023-02-01 14:15:00</td>\n",
       "    </tr>\n",
       "  </tbody>\n",
       "</table>\n",
       "</div>"
      ],
      "text/plain": [
       "  Created User       Date      Time                       Status  DocEntry  \\\n",
       "0   approvals1 2023-02-01  14:15:00        Draft Payments Posted    939205   \n",
       "1   approvals1 2023-02-01  14:15:00  Confirmed by Approvals Team    939205   \n",
       "\n",
       "      DocNum  OrderCriteria Status            Datetime  \n",
       "0  236000215  Contact lens from HQ 2023-02-01 14:15:00  \n",
       "1  236000215  Contact lens from HQ 2023-02-01 14:15:00  "
      ]
     },
     "execution_count": 3,
     "metadata": {},
     "output_type": "execute_result"
    }
   ],
   "source": [
    "# Merging branch and Hq all updates\n",
    "status = pd.concat([status,branch])\n",
    "\n",
    "# Merging and changing time format\n",
    "status['Date'] = pd.to_datetime(status['Date'], dayfirst=True)\n",
    "status['Datetime'] = status['Date'].astype(str)+' '+status['Time'].astype(str)\n",
    "status = status.dropna(subset='Time')\n",
    "status['Datetime'] = pd.to_datetime(status['Datetime'], format = '%Y/%m/%d %H:%M:%S')\n",
    "status.head(2)"
   ]
  },
  {
   "cell_type": "markdown",
   "id": "3bd00150",
   "metadata": {},
   "source": [
    "### Defining a working day"
   ]
  },
  {
   "cell_type": "code",
   "execution_count": 4,
   "id": "fcac3d10",
   "metadata": {},
   "outputs": [
    {
     "data": {
      "text/html": [
       "<div>\n",
       "<style scoped>\n",
       "    .dataframe tbody tr th:only-of-type {\n",
       "        vertical-align: middle;\n",
       "    }\n",
       "\n",
       "    .dataframe tbody tr th {\n",
       "        vertical-align: top;\n",
       "    }\n",
       "\n",
       "    .dataframe thead th {\n",
       "        text-align: right;\n",
       "    }\n",
       "</style>\n",
       "<table border=\"1\" class=\"dataframe\">\n",
       "  <thead>\n",
       "    <tr style=\"text-align: right;\">\n",
       "      <th></th>\n",
       "      <th>Created User</th>\n",
       "      <th>Date</th>\n",
       "      <th>Time</th>\n",
       "      <th>Status</th>\n",
       "      <th>DocEntry</th>\n",
       "      <th>DocNum</th>\n",
       "      <th>OrderCriteria Status</th>\n",
       "      <th>Datetime</th>\n",
       "    </tr>\n",
       "  </thead>\n",
       "  <tbody>\n",
       "    <tr>\n",
       "      <th>0</th>\n",
       "      <td>approvals1</td>\n",
       "      <td>2023-02-01</td>\n",
       "      <td>14:15:00</td>\n",
       "      <td>Draft Payments Posted</td>\n",
       "      <td>939205</td>\n",
       "      <td>236000215</td>\n",
       "      <td>Contact lens from HQ</td>\n",
       "      <td>2023-02-01 14:15:00</td>\n",
       "    </tr>\n",
       "    <tr>\n",
       "      <th>1</th>\n",
       "      <td>approvals1</td>\n",
       "      <td>2023-02-01</td>\n",
       "      <td>14:15:00</td>\n",
       "      <td>Confirmed by Approvals Team</td>\n",
       "      <td>939205</td>\n",
       "      <td>236000215</td>\n",
       "      <td>Contact lens from HQ</td>\n",
       "      <td>2023-02-01 14:15:00</td>\n",
       "    </tr>\n",
       "    <tr>\n",
       "      <th>2</th>\n",
       "      <td>approvals1</td>\n",
       "      <td>2023-02-01</td>\n",
       "      <td>14:17:00</td>\n",
       "      <td>Draft Payments Posted</td>\n",
       "      <td>942637</td>\n",
       "      <td>234300684</td>\n",
       "      <td>Order with New Frame from Branch and Lens from HQ</td>\n",
       "      <td>2023-02-01 14:17:00</td>\n",
       "    </tr>\n",
       "  </tbody>\n",
       "</table>\n",
       "</div>"
      ],
      "text/plain": [
       "  Created User       Date      Time                       Status  DocEntry  \\\n",
       "0   approvals1 2023-02-01  14:15:00        Draft Payments Posted    939205   \n",
       "1   approvals1 2023-02-01  14:15:00  Confirmed by Approvals Team    939205   \n",
       "2   approvals1 2023-02-01  14:17:00        Draft Payments Posted    942637   \n",
       "\n",
       "      DocNum                               OrderCriteria Status  \\\n",
       "0  236000215                               Contact lens from HQ   \n",
       "1  236000215                               Contact lens from HQ   \n",
       "2  234300684  Order with New Frame from Branch and Lens from HQ   \n",
       "\n",
       "             Datetime  \n",
       "0 2023-02-01 14:15:00  \n",
       "1 2023-02-01 14:15:00  \n",
       "2 2023-02-01 14:17:00  "
      ]
     },
     "execution_count": 4,
     "metadata": {},
     "output_type": "execute_result"
    }
   ],
   "source": [
    "status.head(3)"
   ]
  },
  {
   "cell_type": "code",
   "execution_count": 5,
   "id": "a238cad6",
   "metadata": {},
   "outputs": [],
   "source": [
    "status.to_clipboard()"
   ]
  },
  {
   "cell_type": "markdown",
   "id": "a5e6676e",
   "metadata": {},
   "source": [
    "# MAINSTORE-allmain"
   ]
  },
  {
   "cell_type": "markdown",
   "id": "b27dfc92",
   "metadata": {},
   "source": [
    "## MAINSTORE(order printed to lens store)-mainstore_orderprinted_lenstore"
   ]
  },
  {
   "cell_type": "code",
   "execution_count": 6,
   "id": "94c2bf44",
   "metadata": {},
   "outputs": [
    {
     "data": {
      "text/plain": [
       "array(['Confirmed by Approvals Team', 'Sales Order Created'], dtype=object)"
      ]
     },
     "execution_count": 6,
     "metadata": {},
     "output_type": "execute_result"
    }
   ],
   "source": [
    "sales_order = status[(status['Status']== 'Sales Order Created') | (status['Status']== 'Confirmed by Approvals Team')]\n",
    "sales_order = sales_order.drop_duplicates(subset=['DocEntry','Status'], keep='first')\n",
    "sales_order['Status'].unique()\n"
   ]
  },
  {
   "cell_type": "code",
   "execution_count": 7,
   "id": "fb155577",
   "metadata": {},
   "outputs": [],
   "source": [
    "#Filtering to Frame sent to lenstore\n",
    "senttolens = status[status['Status']== 'Frame Sent to Lens Store']\n",
    "senttolens = senttolens.drop_duplicates(subset='DocEntry', keep='first')"
   ]
  },
  {
   "cell_type": "code",
   "execution_count": 8,
   "id": "3e9f8d20",
   "metadata": {},
   "outputs": [
    {
     "data": {
      "text/plain": [
       "array(['Frame Sent to Lens Store'], dtype=object)"
      ]
     },
     "execution_count": 8,
     "metadata": {},
     "output_type": "execute_result"
    }
   ],
   "source": [
    "senttolens1 = senttolens[senttolens['Created User']== 'main1']\n",
    "senttolens2 = senttolens[senttolens['Created User']== 'main2']\n",
    "senttolens3 = senttolens[senttolens['Created User']== 'main3']\n",
    "\n",
    "senttolens=pd.concat([senttolens1,senttolens2,senttolens3])\n",
    "\n",
    "senttolens['Status'].unique()"
   ]
  },
  {
   "cell_type": "code",
   "execution_count": 9,
   "id": "0c6842da",
   "metadata": {},
   "outputs": [],
   "source": [
    "senttolens.rename(columns={'Datetime':'Datetimeout'}, inplace=True)"
   ]
  },
  {
   "cell_type": "code",
   "execution_count": 10,
   "id": "2814963b",
   "metadata": {},
   "outputs": [
    {
     "data": {
      "text/html": [
       "<div>\n",
       "<style scoped>\n",
       "    .dataframe tbody tr th:only-of-type {\n",
       "        vertical-align: middle;\n",
       "    }\n",
       "\n",
       "    .dataframe tbody tr th {\n",
       "        vertical-align: top;\n",
       "    }\n",
       "\n",
       "    .dataframe thead th {\n",
       "        text-align: right;\n",
       "    }\n",
       "</style>\n",
       "<table border=\"1\" class=\"dataframe\">\n",
       "  <thead>\n",
       "    <tr style=\"text-align: right;\">\n",
       "      <th></th>\n",
       "      <th>Created User</th>\n",
       "      <th>Date</th>\n",
       "      <th>Time</th>\n",
       "      <th>Status</th>\n",
       "      <th>DocEntry</th>\n",
       "      <th>DocNum</th>\n",
       "      <th>OrderCriteria Status</th>\n",
       "      <th>Datetime</th>\n",
       "      <th>Datetimeout</th>\n",
       "    </tr>\n",
       "  </thead>\n",
       "  <tbody>\n",
       "    <tr>\n",
       "      <th>0</th>\n",
       "      <td>ohoc2</td>\n",
       "      <td>2023-02-04</td>\n",
       "      <td>12:40:00</td>\n",
       "      <td>Confirmed by Approvals Team</td>\n",
       "      <td>947501</td>\n",
       "      <td>23204488.0</td>\n",
       "      <td>Frame from HQ and Lens from HQ</td>\n",
       "      <td>2023-02-04 12:40:00</td>\n",
       "      <td>2023-02-04 12:52:00</td>\n",
       "    </tr>\n",
       "    <tr>\n",
       "      <th>1</th>\n",
       "      <td>approvals1</td>\n",
       "      <td>2023-02-04</td>\n",
       "      <td>12:45:00</td>\n",
       "      <td>Confirmed by Approvals Team</td>\n",
       "      <td>947549</td>\n",
       "      <td>235100395.0</td>\n",
       "      <td>Frame from HQ and Lens from HQ</td>\n",
       "      <td>2023-02-04 12:45:00</td>\n",
       "      <td>2023-02-04 12:52:00</td>\n",
       "    </tr>\n",
       "    <tr>\n",
       "      <th>2</th>\n",
       "      <td>yorc2</td>\n",
       "      <td>2023-02-04</td>\n",
       "      <td>12:44:00</td>\n",
       "      <td>Confirmed by Approvals Team</td>\n",
       "      <td>947680</td>\n",
       "      <td>23103173.0</td>\n",
       "      <td>Frame from HQ and Lens from HQ</td>\n",
       "      <td>2023-02-04 12:44:00</td>\n",
       "      <td>2023-02-04 12:53:00</td>\n",
       "    </tr>\n",
       "  </tbody>\n",
       "</table>\n",
       "</div>"
      ],
      "text/plain": [
       "  Created User       Date      Time                       Status  DocEntry  \\\n",
       "0        ohoc2 2023-02-04  12:40:00  Confirmed by Approvals Team    947501   \n",
       "1   approvals1 2023-02-04  12:45:00  Confirmed by Approvals Team    947549   \n",
       "2        yorc2 2023-02-04  12:44:00  Confirmed by Approvals Team    947680   \n",
       "\n",
       "        DocNum            OrderCriteria Status            Datetime  \\\n",
       "0   23204488.0  Frame from HQ and Lens from HQ 2023-02-04 12:40:00   \n",
       "1  235100395.0  Frame from HQ and Lens from HQ 2023-02-04 12:45:00   \n",
       "2   23103173.0  Frame from HQ and Lens from HQ 2023-02-04 12:44:00   \n",
       "\n",
       "          Datetimeout  \n",
       "0 2023-02-04 12:52:00  \n",
       "1 2023-02-04 12:52:00  \n",
       "2 2023-02-04 12:53:00  "
      ]
     },
     "execution_count": 10,
     "metadata": {},
     "output_type": "execute_result"
    }
   ],
   "source": [
    "orderprinted_lensstore= pd.merge(sales_order,senttolens[['DocEntry','Datetimeout']], on='DocEntry', how='right')\n",
    "orderprinted_lensstore.head(3)"
   ]
  },
  {
   "cell_type": "code",
   "execution_count": 11,
   "id": "1f7889bd",
   "metadata": {},
   "outputs": [],
   "source": [
    "orderprinted_lensstore=orderprinted_lensstore.dropna(subset='Datetime')"
   ]
  },
  {
   "cell_type": "code",
   "execution_count": 12,
   "id": "1741f763",
   "metadata": {},
   "outputs": [
    {
     "name": "stderr",
     "output_type": "stream",
     "text": [
      "C:\\Users\\user\\anaconda3\\lib\\site-packages\\workalendar\\core.py:436: UserWarning: Please take note that, due to arbitrary decisions, this Islamic calendar computation may be wrong.\n",
      "  warnings.warn('Please take note that, due to arbitrary decisions, '\n"
     ]
    }
   ],
   "source": [
    "##Define a working day\n",
    "\n",
    "####Days of the week\n",
    "workday = businesstimedelta.WorkDayRule(\n",
    "    start_time=datetime.time(9),\n",
    "    end_time=datetime.time(18),\n",
    "    working_days=[0,1, 2, 3, 4])\n",
    "\n",
    "cal = Kenya()\n",
    "hl = cal.holidays()\n",
    "vic_holidays = pyholidays.KE() \n",
    "holidays = businesstimedelta.HolidayRule(vic_holidays)\n",
    "businesshrs = businesstimedelta.Rules([workday, holidays], hl)\n",
    "\n",
    "def BusHrs(start, end):\n",
    "    if end>=start:\n",
    "        return businesshrs.difference(start,end).hours+float(businesshrs.difference(start,end).seconds)/float(3600)\n",
    "    else:\n",
    "        \"\"\n",
    "    \n",
    "RejectedSentWk_hrs=orderprinted_lensstore.apply(lambda row: BusHrs(row['Datetime'], row['Datetimeout']), axis=1)\n"
   ]
  },
  {
   "cell_type": "code",
   "execution_count": 13,
   "id": "7ff62e09",
   "metadata": {},
   "outputs": [],
   "source": [
    "# Define a working weekend day(Saturday)\n",
    "\n",
    "Saturday = businesstimedelta.WorkDayRule(start_time=datetime.time(9),end_time=datetime.time(16),working_days=[5])\n",
    "\n",
    "vic_holidays = pyholidays.KE()\n",
    "holidays = businesstimedelta.HolidayRule(vic_holidays)\n",
    "businesshrs = businesstimedelta.Rules([Saturday, holidays])\n",
    "\n",
    "def SatHrs(start, end):\n",
    "    if end>=start:\n",
    "        return businesshrs.difference(start,end).hours+float(businesshrs.difference(start,end).seconds)/float(3600)\n",
    "    else:\n",
    "        \"\"\n",
    "\n",
    "RejectedSentSat_hrs=orderprinted_lensstore.apply(lambda row: BusHrs(row['Datetime'], row['Datetimeout']), axis=1)\n"
   ]
  },
  {
   "cell_type": "code",
   "execution_count": 14,
   "id": "88bf868e",
   "metadata": {},
   "outputs": [],
   "source": [
    "orderprinted_lensstore[\"delay\"]=(RejectedSentWk_hrs+RejectedSentSat_hrs)*60\n",
    "\n",
    "orderprinted_lensstore =orderprinted_lensstore.replace(\"\", np.nan)\n"
   ]
  },
  {
   "cell_type": "code",
   "execution_count": 15,
   "id": "5fb2a12f",
   "metadata": {},
   "outputs": [
    {
     "data": {
      "text/html": [
       "<div>\n",
       "<style scoped>\n",
       "    .dataframe tbody tr th:only-of-type {\n",
       "        vertical-align: middle;\n",
       "    }\n",
       "\n",
       "    .dataframe tbody tr th {\n",
       "        vertical-align: top;\n",
       "    }\n",
       "\n",
       "    .dataframe thead th {\n",
       "        text-align: right;\n",
       "    }\n",
       "</style>\n",
       "<table border=\"1\" class=\"dataframe\">\n",
       "  <thead>\n",
       "    <tr style=\"text-align: right;\">\n",
       "      <th></th>\n",
       "      <th>Created User</th>\n",
       "      <th>Date</th>\n",
       "      <th>Time</th>\n",
       "      <th>Status</th>\n",
       "      <th>DocEntry</th>\n",
       "      <th>DocNum</th>\n",
       "      <th>OrderCriteria Status</th>\n",
       "      <th>Datetime</th>\n",
       "      <th>Datetimeout</th>\n",
       "      <th>delay</th>\n",
       "      <th>delayed dept</th>\n",
       "    </tr>\n",
       "  </thead>\n",
       "  <tbody>\n",
       "    <tr>\n",
       "      <th>0</th>\n",
       "      <td>ohoc2</td>\n",
       "      <td>2023-02-04</td>\n",
       "      <td>12:40:00</td>\n",
       "      <td>Confirmed by Approvals Team</td>\n",
       "      <td>947501</td>\n",
       "      <td>23204488.0</td>\n",
       "      <td>Frame from HQ and Lens from HQ</td>\n",
       "      <td>2023-02-04 12:40:00</td>\n",
       "      <td>2023-02-04 12:52:00</td>\n",
       "      <td>12.0</td>\n",
       "      <td>Delayed at Main store</td>\n",
       "    </tr>\n",
       "    <tr>\n",
       "      <th>1</th>\n",
       "      <td>approvals1</td>\n",
       "      <td>2023-02-04</td>\n",
       "      <td>12:45:00</td>\n",
       "      <td>Confirmed by Approvals Team</td>\n",
       "      <td>947549</td>\n",
       "      <td>235100395.0</td>\n",
       "      <td>Frame from HQ and Lens from HQ</td>\n",
       "      <td>2023-02-04 12:45:00</td>\n",
       "      <td>2023-02-04 12:52:00</td>\n",
       "      <td>7.0</td>\n",
       "      <td>Did not delay at Main store</td>\n",
       "    </tr>\n",
       "  </tbody>\n",
       "</table>\n",
       "</div>"
      ],
      "text/plain": [
       "  Created User       Date      Time                       Status  DocEntry  \\\n",
       "0        ohoc2 2023-02-04  12:40:00  Confirmed by Approvals Team    947501   \n",
       "1   approvals1 2023-02-04  12:45:00  Confirmed by Approvals Team    947549   \n",
       "\n",
       "        DocNum            OrderCriteria Status            Datetime  \\\n",
       "0   23204488.0  Frame from HQ and Lens from HQ 2023-02-04 12:40:00   \n",
       "1  235100395.0  Frame from HQ and Lens from HQ 2023-02-04 12:45:00   \n",
       "\n",
       "          Datetimeout  delay                 delayed dept  \n",
       "0 2023-02-04 12:52:00   12.0        Delayed at Main store  \n",
       "1 2023-02-04 12:52:00    7.0  Did not delay at Main store  "
      ]
     },
     "execution_count": 15,
     "metadata": {},
     "output_type": "execute_result"
    }
   ],
   "source": [
    "orderprinted_lensstore['delayed dept']=orderprinted_lensstore['delay'].apply(lambda x: 'Delayed at Main store' if x>10 else 'Did not delay at Main store' )\n",
    "orderprinted_lensstore.head(2)"
   ]
  },
  {
   "cell_type": "code",
   "execution_count": 16,
   "id": "bbcc8de9",
   "metadata": {},
   "outputs": [],
   "source": [
    "mainstore_orderprinted_lenstore=orderprinted_lensstore"
   ]
  },
  {
   "cell_type": "code",
   "execution_count": 17,
   "id": "5cecafbd",
   "metadata": {},
   "outputs": [],
   "source": [
    "mainstore_orderprinted_lenstore.to_clipboard()"
   ]
  },
  {
   "cell_type": "markdown",
   "id": "bda99e72",
   "metadata": {},
   "source": [
    "## MAINSTORE(order printed to control room)-mainstore_orderprinted_control"
   ]
  },
  {
   "cell_type": "code",
   "execution_count": 18,
   "id": "ab315667",
   "metadata": {},
   "outputs": [
    {
     "data": {
      "text/plain": [
       "array(['Confirmed by Approvals Team', 'Sales Order Created'], dtype=object)"
      ]
     },
     "execution_count": 18,
     "metadata": {},
     "output_type": "execute_result"
    }
   ],
   "source": [
    "sales_order = status[(status['Status']== 'Sales Order Created') | (status['Status']== 'Confirmed by Approvals Team')]\n",
    "sales_order = sales_order.drop_duplicates(subset=['DocEntry','Status'], keep='first')\n",
    "sales_order['Status'].unique()"
   ]
  },
  {
   "cell_type": "code",
   "execution_count": 19,
   "id": "8970f310",
   "metadata": {},
   "outputs": [],
   "source": [
    "#Filtering to Frame sent to lenstore\n",
    "senttocontrol = status[status['Status']== 'Sent to Control Room']\n",
    "senttocontrol = senttocontrol.drop_duplicates(subset='DocEntry', keep='first')"
   ]
  },
  {
   "cell_type": "code",
   "execution_count": 20,
   "id": "a44d4a8d",
   "metadata": {},
   "outputs": [
    {
     "data": {
      "text/plain": [
       "array(['Sent to Control Room'], dtype=object)"
      ]
     },
     "execution_count": 20,
     "metadata": {},
     "output_type": "execute_result"
    }
   ],
   "source": [
    "senttocontrol1 = senttocontrol[senttocontrol['Created User']== 'main1']\n",
    "senttocontrol2 = senttocontrol[senttocontrol['Created User']== 'main2']\n",
    "senttocontrol3 = senttocontrol[senttocontrol['Created User']== 'main3']\n",
    "\n",
    "senttocontrol=pd.concat([senttocontrol1,senttocontrol2,senttocontrol3])\n",
    "\n",
    "senttocontrol['Status'].unique()"
   ]
  },
  {
   "cell_type": "code",
   "execution_count": 21,
   "id": "c4bf2849",
   "metadata": {},
   "outputs": [],
   "source": [
    "senttocontrol.rename(columns={'Datetime':'Datetimeout'}, inplace=True)"
   ]
  },
  {
   "cell_type": "code",
   "execution_count": 22,
   "id": "1f52fd8a",
   "metadata": {},
   "outputs": [
    {
     "data": {
      "text/html": [
       "<div>\n",
       "<style scoped>\n",
       "    .dataframe tbody tr th:only-of-type {\n",
       "        vertical-align: middle;\n",
       "    }\n",
       "\n",
       "    .dataframe tbody tr th {\n",
       "        vertical-align: top;\n",
       "    }\n",
       "\n",
       "    .dataframe thead th {\n",
       "        text-align: right;\n",
       "    }\n",
       "</style>\n",
       "<table border=\"1\" class=\"dataframe\">\n",
       "  <thead>\n",
       "    <tr style=\"text-align: right;\">\n",
       "      <th></th>\n",
       "      <th>Created User</th>\n",
       "      <th>Date</th>\n",
       "      <th>Time</th>\n",
       "      <th>Status</th>\n",
       "      <th>DocEntry</th>\n",
       "      <th>DocNum</th>\n",
       "      <th>OrderCriteria Status</th>\n",
       "      <th>Datetime</th>\n",
       "      <th>Datetimeout</th>\n",
       "    </tr>\n",
       "  </thead>\n",
       "  <tbody>\n",
       "    <tr>\n",
       "      <th>0</th>\n",
       "      <td>approvals1</td>\n",
       "      <td>2023-02-01</td>\n",
       "      <td>14:15:00</td>\n",
       "      <td>Confirmed by Approvals Team</td>\n",
       "      <td>939205</td>\n",
       "      <td>236000215</td>\n",
       "      <td>Contact lens from HQ</td>\n",
       "      <td>2023-02-01 14:15:00</td>\n",
       "      <td>2023-02-01 14:23:00</td>\n",
       "    </tr>\n",
       "    <tr>\n",
       "      <th>1</th>\n",
       "      <td>approvals1</td>\n",
       "      <td>2023-02-01</td>\n",
       "      <td>14:17:00</td>\n",
       "      <td>Confirmed by Approvals Team</td>\n",
       "      <td>942637</td>\n",
       "      <td>234300684</td>\n",
       "      <td>Order with New Frame from Branch and Lens from HQ</td>\n",
       "      <td>2023-02-01 14:17:00</td>\n",
       "      <td>NaT</td>\n",
       "    </tr>\n",
       "    <tr>\n",
       "      <th>2</th>\n",
       "      <td>approvals1</td>\n",
       "      <td>2023-02-01</td>\n",
       "      <td>14:20:00</td>\n",
       "      <td>Confirmed by Approvals Team</td>\n",
       "      <td>943009</td>\n",
       "      <td>235100349</td>\n",
       "      <td>Frame from HQ and Lens from HQ</td>\n",
       "      <td>2023-02-01 14:20:00</td>\n",
       "      <td>NaT</td>\n",
       "    </tr>\n",
       "  </tbody>\n",
       "</table>\n",
       "</div>"
      ],
      "text/plain": [
       "  Created User       Date      Time                       Status  DocEntry  \\\n",
       "0   approvals1 2023-02-01  14:15:00  Confirmed by Approvals Team    939205   \n",
       "1   approvals1 2023-02-01  14:17:00  Confirmed by Approvals Team    942637   \n",
       "2   approvals1 2023-02-01  14:20:00  Confirmed by Approvals Team    943009   \n",
       "\n",
       "      DocNum                               OrderCriteria Status  \\\n",
       "0  236000215                               Contact lens from HQ   \n",
       "1  234300684  Order with New Frame from Branch and Lens from HQ   \n",
       "2  235100349                     Frame from HQ and Lens from HQ   \n",
       "\n",
       "             Datetime         Datetimeout  \n",
       "0 2023-02-01 14:15:00 2023-02-01 14:23:00  \n",
       "1 2023-02-01 14:17:00                 NaT  \n",
       "2 2023-02-01 14:20:00                 NaT  "
      ]
     },
     "execution_count": 22,
     "metadata": {},
     "output_type": "execute_result"
    }
   ],
   "source": [
    "orderprinted_control= pd.merge(sales_order,senttocontrol[['DocEntry','Datetimeout']], on='DocEntry', how='left')\n",
    "orderprinted_control.head(3)"
   ]
  },
  {
   "cell_type": "code",
   "execution_count": 23,
   "id": "5f0eee41",
   "metadata": {},
   "outputs": [],
   "source": [
    "orderprinted_control=orderprinted_control.dropna(subset='Datetimeout')"
   ]
  },
  {
   "cell_type": "code",
   "execution_count": 24,
   "id": "4c47d032",
   "metadata": {},
   "outputs": [
    {
     "name": "stderr",
     "output_type": "stream",
     "text": [
      "C:\\Users\\user\\anaconda3\\lib\\site-packages\\workalendar\\core.py:436: UserWarning: Please take note that, due to arbitrary decisions, this Islamic calendar computation may be wrong.\n",
      "  warnings.warn('Please take note that, due to arbitrary decisions, '\n"
     ]
    }
   ],
   "source": [
    "##Define a working day\n",
    "\n",
    "####Days of the week\n",
    "workday = businesstimedelta.WorkDayRule(\n",
    "    start_time=datetime.time(9),\n",
    "    end_time=datetime.time(18),\n",
    "    working_days=[0,1, 2, 3, 4])\n",
    "\n",
    "cal = Kenya()\n",
    "hl = cal.holidays()\n",
    "vic_holidays = pyholidays.KE() \n",
    "holidays = businesstimedelta.HolidayRule(vic_holidays)\n",
    "businesshrs = businesstimedelta.Rules([workday, holidays], hl)\n",
    "\n",
    "def BusHrs(start, end):\n",
    "    if end>=start:\n",
    "        return businesshrs.difference(start,end).hours+float(businesshrs.difference(start,end).seconds)/float(3600)\n",
    "    else:\n",
    "        \"\"\n",
    "    \n",
    "RejectedSentWk_hrs=orderprinted_control.apply(lambda row: BusHrs(row['Datetime'], row['Datetimeout']), axis=1)\n"
   ]
  },
  {
   "cell_type": "code",
   "execution_count": 25,
   "id": "fb42ebb1",
   "metadata": {},
   "outputs": [],
   "source": [
    "# Define a working weekend day(Saturday)\n",
    "\n",
    "Saturday = businesstimedelta.WorkDayRule(start_time=datetime.time(9),end_time=datetime.time(16),working_days=[5])\n",
    "\n",
    "vic_holidays = pyholidays.KE()\n",
    "holidays = businesstimedelta.HolidayRule(vic_holidays)\n",
    "businesshrs = businesstimedelta.Rules([Saturday, holidays])\n",
    "\n",
    "def SatHrs(start, end):\n",
    "    if end>=start:\n",
    "        return businesshrs.difference(start,end).hours+float(businesshrs.difference(start,end).seconds)/float(3600)\n",
    "    else:\n",
    "        \"\"\n",
    "\n",
    "RejectedSentSat_hrs=orderprinted_control.apply(lambda row: BusHrs(row['Datetime'], row['Datetimeout']), axis=1)\n"
   ]
  },
  {
   "cell_type": "code",
   "execution_count": 26,
   "id": "df334b13",
   "metadata": {},
   "outputs": [],
   "source": [
    "orderprinted_control[\"delay\"]=(RejectedSentWk_hrs+RejectedSentSat_hrs)*60\n",
    "\n",
    "orderprinted_control =orderprinted_control.replace(\"\", np.nan)\n"
   ]
  },
  {
   "cell_type": "code",
   "execution_count": 27,
   "id": "23b7d05e",
   "metadata": {},
   "outputs": [
    {
     "data": {
      "text/html": [
       "<div>\n",
       "<style scoped>\n",
       "    .dataframe tbody tr th:only-of-type {\n",
       "        vertical-align: middle;\n",
       "    }\n",
       "\n",
       "    .dataframe tbody tr th {\n",
       "        vertical-align: top;\n",
       "    }\n",
       "\n",
       "    .dataframe thead th {\n",
       "        text-align: right;\n",
       "    }\n",
       "</style>\n",
       "<table border=\"1\" class=\"dataframe\">\n",
       "  <thead>\n",
       "    <tr style=\"text-align: right;\">\n",
       "      <th></th>\n",
       "      <th>Created User</th>\n",
       "      <th>Date</th>\n",
       "      <th>Time</th>\n",
       "      <th>Status</th>\n",
       "      <th>DocEntry</th>\n",
       "      <th>DocNum</th>\n",
       "      <th>OrderCriteria Status</th>\n",
       "      <th>Datetime</th>\n",
       "      <th>Datetimeout</th>\n",
       "      <th>delay</th>\n",
       "      <th>delayed dept</th>\n",
       "    </tr>\n",
       "  </thead>\n",
       "  <tbody>\n",
       "    <tr>\n",
       "      <th>0</th>\n",
       "      <td>approvals1</td>\n",
       "      <td>2023-02-01</td>\n",
       "      <td>14:15:00</td>\n",
       "      <td>Confirmed by Approvals Team</td>\n",
       "      <td>939205</td>\n",
       "      <td>236000215</td>\n",
       "      <td>Contact lens from HQ</td>\n",
       "      <td>2023-02-01 14:15:00</td>\n",
       "      <td>2023-02-01 14:23:00</td>\n",
       "      <td>8.0</td>\n",
       "      <td>Did not delay at Main store</td>\n",
       "    </tr>\n",
       "    <tr>\n",
       "      <th>215</th>\n",
       "      <td>approvals1</td>\n",
       "      <td>2023-02-10</td>\n",
       "      <td>15:19:00</td>\n",
       "      <td>Confirmed by Approvals Team</td>\n",
       "      <td>954755</td>\n",
       "      <td>232100340</td>\n",
       "      <td>Contact lens from HQ</td>\n",
       "      <td>2023-02-10 15:19:00</td>\n",
       "      <td>2023-02-10 15:34:00</td>\n",
       "      <td>15.0</td>\n",
       "      <td>Delayed at Main store</td>\n",
       "    </tr>\n",
       "  </tbody>\n",
       "</table>\n",
       "</div>"
      ],
      "text/plain": [
       "    Created User       Date      Time                       Status  DocEntry  \\\n",
       "0     approvals1 2023-02-01  14:15:00  Confirmed by Approvals Team    939205   \n",
       "215   approvals1 2023-02-10  15:19:00  Confirmed by Approvals Team    954755   \n",
       "\n",
       "        DocNum  OrderCriteria Status            Datetime         Datetimeout  \\\n",
       "0    236000215  Contact lens from HQ 2023-02-01 14:15:00 2023-02-01 14:23:00   \n",
       "215  232100340  Contact lens from HQ 2023-02-10 15:19:00 2023-02-10 15:34:00   \n",
       "\n",
       "     delay                 delayed dept  \n",
       "0      8.0  Did not delay at Main store  \n",
       "215   15.0        Delayed at Main store  "
      ]
     },
     "execution_count": 27,
     "metadata": {},
     "output_type": "execute_result"
    }
   ],
   "source": [
    "orderprinted_control['delayed dept']=orderprinted_control['delay'].apply(lambda x: 'Delayed at Main store' if x>10 else 'Did not delay at Main store' )\n",
    "orderprinted_control.head(2)"
   ]
  },
  {
   "cell_type": "code",
   "execution_count": 28,
   "id": "61a7a408",
   "metadata": {},
   "outputs": [],
   "source": [
    "mainstore_orderprinted_control=orderprinted_control"
   ]
  },
  {
   "cell_type": "code",
   "execution_count": 29,
   "id": "dd0b6d04",
   "metadata": {},
   "outputs": [
    {
     "data": {
      "text/html": [
       "<div>\n",
       "<style scoped>\n",
       "    .dataframe tbody tr th:only-of-type {\n",
       "        vertical-align: middle;\n",
       "    }\n",
       "\n",
       "    .dataframe tbody tr th {\n",
       "        vertical-align: top;\n",
       "    }\n",
       "\n",
       "    .dataframe thead th {\n",
       "        text-align: right;\n",
       "    }\n",
       "</style>\n",
       "<table border=\"1\" class=\"dataframe\">\n",
       "  <thead>\n",
       "    <tr style=\"text-align: right;\">\n",
       "      <th></th>\n",
       "      <th>Created User</th>\n",
       "      <th>Date</th>\n",
       "      <th>Time</th>\n",
       "      <th>Status</th>\n",
       "      <th>DocEntry</th>\n",
       "      <th>DocNum</th>\n",
       "      <th>OrderCriteria Status</th>\n",
       "      <th>Datetime</th>\n",
       "      <th>Datetimeout</th>\n",
       "      <th>delay</th>\n",
       "      <th>delayed dept</th>\n",
       "    </tr>\n",
       "  </thead>\n",
       "  <tbody>\n",
       "    <tr>\n",
       "      <th>0</th>\n",
       "      <td>approvals1</td>\n",
       "      <td>2023-02-01</td>\n",
       "      <td>14:15:00</td>\n",
       "      <td>Confirmed by Approvals Team</td>\n",
       "      <td>939205</td>\n",
       "      <td>236000215</td>\n",
       "      <td>Contact lens from HQ</td>\n",
       "      <td>2023-02-01 14:15:00</td>\n",
       "      <td>2023-02-01 14:23:00</td>\n",
       "      <td>8.0</td>\n",
       "      <td>Did not delay at Main store</td>\n",
       "    </tr>\n",
       "    <tr>\n",
       "      <th>215</th>\n",
       "      <td>approvals1</td>\n",
       "      <td>2023-02-10</td>\n",
       "      <td>15:19:00</td>\n",
       "      <td>Confirmed by Approvals Team</td>\n",
       "      <td>954755</td>\n",
       "      <td>232100340</td>\n",
       "      <td>Contact lens from HQ</td>\n",
       "      <td>2023-02-10 15:19:00</td>\n",
       "      <td>2023-02-10 15:34:00</td>\n",
       "      <td>15.0</td>\n",
       "      <td>Delayed at Main store</td>\n",
       "    </tr>\n",
       "  </tbody>\n",
       "</table>\n",
       "</div>"
      ],
      "text/plain": [
       "    Created User       Date      Time                       Status  DocEntry  \\\n",
       "0     approvals1 2023-02-01  14:15:00  Confirmed by Approvals Team    939205   \n",
       "215   approvals1 2023-02-10  15:19:00  Confirmed by Approvals Team    954755   \n",
       "\n",
       "        DocNum  OrderCriteria Status            Datetime         Datetimeout  \\\n",
       "0    236000215  Contact lens from HQ 2023-02-01 14:15:00 2023-02-01 14:23:00   \n",
       "215  232100340  Contact lens from HQ 2023-02-10 15:19:00 2023-02-10 15:34:00   \n",
       "\n",
       "     delay                 delayed dept  \n",
       "0      8.0  Did not delay at Main store  \n",
       "215   15.0        Delayed at Main store  "
      ]
     },
     "execution_count": 29,
     "metadata": {},
     "output_type": "execute_result"
    }
   ],
   "source": [
    "mainstore_orderprinted_control.head(2)"
   ]
  },
  {
   "cell_type": "markdown",
   "id": "15bd1ba6",
   "metadata": {},
   "source": [
    "## MAINSTORE(rejected frame sent to frame store to reissued frame for order)-mainstoredamage_reissued"
   ]
  },
  {
   "cell_type": "code",
   "execution_count": 30,
   "id": "a3efd1e4",
   "metadata": {},
   "outputs": [
    {
     "data": {
      "text/plain": [
       "array(['Rejected Frame sent to Frame Store'], dtype=object)"
      ]
     },
     "execution_count": 30,
     "metadata": {},
     "output_type": "execute_result"
    }
   ],
   "source": [
    "mainrejected = status[status['Status']== 'Rejected Frame sent to Frame Store']\n",
    "mainrejected = mainrejected.drop_duplicates(subset=['DocEntry','Status'], keep='first')\n",
    "mainrejected['Status'].unique()"
   ]
  },
  {
   "cell_type": "code",
   "execution_count": 31,
   "id": "8e135568",
   "metadata": {},
   "outputs": [
    {
     "data": {
      "text/plain": [
       "array(['ReIssued Frame for Order'], dtype=object)"
      ]
     },
     "execution_count": 31,
     "metadata": {},
     "output_type": "execute_result"
    }
   ],
   "source": [
    "reissuedframemain = status[status['Status']== 'ReIssued Frame for Order']\n",
    "reissuedframemain['Status'].unique()"
   ]
  },
  {
   "cell_type": "code",
   "execution_count": 32,
   "id": "9b1bd033",
   "metadata": {},
   "outputs": [
    {
     "data": {
      "text/plain": [
       "array(['ReIssued Frame for Order'], dtype=object)"
      ]
     },
     "execution_count": 32,
     "metadata": {},
     "output_type": "execute_result"
    }
   ],
   "source": [
    "reissuedframemain1 = reissuedframemain[reissuedframemain['Created User']== 'main1']\n",
    "reissuedframemain2 = reissuedframemain[reissuedframemain['Created User']== 'main2']\n",
    "reissuedframemain3 = reissuedframemain[reissuedframemain['Created User']== 'main3']\n",
    "\n",
    "reissuedframemain=pd.concat([reissuedframemain1,reissuedframemain2,reissuedframemain3])\n",
    "\n",
    "reissuedframemain['Status'].unique()"
   ]
  },
  {
   "cell_type": "code",
   "execution_count": 33,
   "id": "ded1bd53",
   "metadata": {},
   "outputs": [],
   "source": [
    "reissuedframemain.rename(columns={'Datetime':'Datetimeout'}, inplace=True)"
   ]
  },
  {
   "cell_type": "code",
   "execution_count": 34,
   "id": "70511f25",
   "metadata": {},
   "outputs": [
    {
     "data": {
      "text/html": [
       "<div>\n",
       "<style scoped>\n",
       "    .dataframe tbody tr th:only-of-type {\n",
       "        vertical-align: middle;\n",
       "    }\n",
       "\n",
       "    .dataframe tbody tr th {\n",
       "        vertical-align: top;\n",
       "    }\n",
       "\n",
       "    .dataframe thead th {\n",
       "        text-align: right;\n",
       "    }\n",
       "</style>\n",
       "<table border=\"1\" class=\"dataframe\">\n",
       "  <thead>\n",
       "    <tr style=\"text-align: right;\">\n",
       "      <th></th>\n",
       "      <th>Created User</th>\n",
       "      <th>Date</th>\n",
       "      <th>Time</th>\n",
       "      <th>Status</th>\n",
       "      <th>DocEntry</th>\n",
       "      <th>DocNum</th>\n",
       "      <th>OrderCriteria Status</th>\n",
       "      <th>Datetime</th>\n",
       "      <th>Datetimeout</th>\n",
       "    </tr>\n",
       "  </thead>\n",
       "  <tbody>\n",
       "    <tr>\n",
       "      <th>0</th>\n",
       "      <td>control1</td>\n",
       "      <td>2023-02-01</td>\n",
       "      <td>10:56:00</td>\n",
       "      <td>Rejected Frame sent to Frame Store</td>\n",
       "      <td>943012</td>\n",
       "      <td>231300712</td>\n",
       "      <td>Surfacing Lens with HQ Frame</td>\n",
       "      <td>2023-02-01 10:56:00</td>\n",
       "      <td>2023-02-01 11:04:00</td>\n",
       "    </tr>\n",
       "    <tr>\n",
       "      <th>1</th>\n",
       "      <td>control1</td>\n",
       "      <td>2023-02-01</td>\n",
       "      <td>10:56:00</td>\n",
       "      <td>Rejected Frame sent to Frame Store</td>\n",
       "      <td>943012</td>\n",
       "      <td>231300712</td>\n",
       "      <td>Surfacing Lens with HQ Frame</td>\n",
       "      <td>2023-02-01 10:56:00</td>\n",
       "      <td>2023-02-01 11:04:00</td>\n",
       "    </tr>\n",
       "    <tr>\n",
       "      <th>2</th>\n",
       "      <td>control1</td>\n",
       "      <td>2023-02-02</td>\n",
       "      <td>11:47:00</td>\n",
       "      <td>Rejected Frame sent to Frame Store</td>\n",
       "      <td>944895</td>\n",
       "      <td>23204187</td>\n",
       "      <td>Surfacing Lens with HQ Frame</td>\n",
       "      <td>2023-02-02 11:47:00</td>\n",
       "      <td>2023-02-02 11:50:00</td>\n",
       "    </tr>\n",
       "  </tbody>\n",
       "</table>\n",
       "</div>"
      ],
      "text/plain": [
       "  Created User       Date      Time                              Status  \\\n",
       "0     control1 2023-02-01  10:56:00  Rejected Frame sent to Frame Store   \n",
       "1     control1 2023-02-01  10:56:00  Rejected Frame sent to Frame Store   \n",
       "2     control1 2023-02-02  11:47:00  Rejected Frame sent to Frame Store   \n",
       "\n",
       "   DocEntry     DocNum          OrderCriteria Status            Datetime  \\\n",
       "0    943012  231300712  Surfacing Lens with HQ Frame 2023-02-01 10:56:00   \n",
       "1    943012  231300712  Surfacing Lens with HQ Frame 2023-02-01 10:56:00   \n",
       "2    944895   23204187  Surfacing Lens with HQ Frame 2023-02-02 11:47:00   \n",
       "\n",
       "          Datetimeout  \n",
       "0 2023-02-01 11:04:00  \n",
       "1 2023-02-01 11:04:00  \n",
       "2 2023-02-02 11:50:00  "
      ]
     },
     "execution_count": 34,
     "metadata": {},
     "output_type": "execute_result"
    }
   ],
   "source": [
    "reissueframemain= pd.merge(mainrejected,reissuedframemain[['DocNum','Datetimeout']], on='DocNum', how='left')\n",
    "reissueframemain.head(3)"
   ]
  },
  {
   "cell_type": "code",
   "execution_count": 35,
   "id": "29d90845",
   "metadata": {},
   "outputs": [],
   "source": [
    "reissueframemain=reissueframemain.dropna(subset='Datetimeout')"
   ]
  },
  {
   "cell_type": "code",
   "execution_count": 36,
   "id": "9cf37597",
   "metadata": {},
   "outputs": [
    {
     "name": "stderr",
     "output_type": "stream",
     "text": [
      "C:\\Users\\user\\anaconda3\\lib\\site-packages\\workalendar\\core.py:436: UserWarning: Please take note that, due to arbitrary decisions, this Islamic calendar computation may be wrong.\n",
      "  warnings.warn('Please take note that, due to arbitrary decisions, '\n"
     ]
    }
   ],
   "source": [
    "##Define a working day\n",
    "\n",
    "####Days of the week\n",
    "workday = businesstimedelta.WorkDayRule(\n",
    "    start_time=datetime.time(9),\n",
    "    end_time=datetime.time(18),\n",
    "    working_days=[0,1, 2, 3, 4])\n",
    "\n",
    "cal = Kenya()\n",
    "hl = cal.holidays()\n",
    "vic_holidays = pyholidays.KE() \n",
    "holidays = businesstimedelta.HolidayRule(vic_holidays)\n",
    "businesshrs = businesstimedelta.Rules([workday, holidays], hl)\n",
    "\n",
    "def BusHrs(start, end):\n",
    "    if end>=start:\n",
    "        return businesshrs.difference(start,end).hours+float(businesshrs.difference(start,end).seconds)/float(3600)\n",
    "    else:\n",
    "        \"\"\n",
    "    \n",
    "RejectedSentWk_hrs=reissueframemain.apply(lambda row: BusHrs(row['Datetime'], row['Datetimeout']), axis=1)\n"
   ]
  },
  {
   "cell_type": "code",
   "execution_count": 37,
   "id": "54f7ba84",
   "metadata": {},
   "outputs": [],
   "source": [
    "# Define a working weekend day(Saturday)\n",
    "\n",
    "Saturday = businesstimedelta.WorkDayRule(start_time=datetime.time(9),end_time=datetime.time(16),working_days=[5])\n",
    "\n",
    "vic_holidays = pyholidays.KE()\n",
    "holidays = businesstimedelta.HolidayRule(vic_holidays)\n",
    "businesshrs = businesstimedelta.Rules([Saturday, holidays])\n",
    "\n",
    "def SatHrs(start, end):\n",
    "    if end>=start:\n",
    "        return businesshrs.difference(start,end).hours+float(businesshrs.difference(start,end).seconds)/float(3600)\n",
    "    else:\n",
    "        \"\"\n",
    "\n",
    "RejectedSentSat_hrs=reissueframemain.apply(lambda row: BusHrs(row['Datetime'], row['Datetimeout']), axis=1)\n"
   ]
  },
  {
   "cell_type": "code",
   "execution_count": 38,
   "id": "2df2bd58",
   "metadata": {},
   "outputs": [],
   "source": [
    "\n",
    "reissueframemain[\"delay\"]=(RejectedSentWk_hrs+RejectedSentSat_hrs)*60\n",
    "\n",
    "reissueframemain =reissueframemain.replace(\"\", np.nan)\n"
   ]
  },
  {
   "cell_type": "code",
   "execution_count": 39,
   "id": "5a1ec65d",
   "metadata": {},
   "outputs": [
    {
     "data": {
      "text/html": [
       "<div>\n",
       "<style scoped>\n",
       "    .dataframe tbody tr th:only-of-type {\n",
       "        vertical-align: middle;\n",
       "    }\n",
       "\n",
       "    .dataframe tbody tr th {\n",
       "        vertical-align: top;\n",
       "    }\n",
       "\n",
       "    .dataframe thead th {\n",
       "        text-align: right;\n",
       "    }\n",
       "</style>\n",
       "<table border=\"1\" class=\"dataframe\">\n",
       "  <thead>\n",
       "    <tr style=\"text-align: right;\">\n",
       "      <th></th>\n",
       "      <th>Created User</th>\n",
       "      <th>Date</th>\n",
       "      <th>Time</th>\n",
       "      <th>Status</th>\n",
       "      <th>DocEntry</th>\n",
       "      <th>DocNum</th>\n",
       "      <th>OrderCriteria Status</th>\n",
       "      <th>Datetime</th>\n",
       "      <th>Datetimeout</th>\n",
       "      <th>delay</th>\n",
       "      <th>delayed dept</th>\n",
       "    </tr>\n",
       "  </thead>\n",
       "  <tbody>\n",
       "    <tr>\n",
       "      <th>0</th>\n",
       "      <td>control1</td>\n",
       "      <td>2023-02-01</td>\n",
       "      <td>10:56:00</td>\n",
       "      <td>Rejected Frame sent to Frame Store</td>\n",
       "      <td>943012</td>\n",
       "      <td>231300712</td>\n",
       "      <td>Surfacing Lens with HQ Frame</td>\n",
       "      <td>2023-02-01 10:56:00</td>\n",
       "      <td>2023-02-01 11:04:00</td>\n",
       "      <td>8.0</td>\n",
       "      <td>Did not delay at Main store</td>\n",
       "    </tr>\n",
       "    <tr>\n",
       "      <th>1</th>\n",
       "      <td>control1</td>\n",
       "      <td>2023-02-01</td>\n",
       "      <td>10:56:00</td>\n",
       "      <td>Rejected Frame sent to Frame Store</td>\n",
       "      <td>943012</td>\n",
       "      <td>231300712</td>\n",
       "      <td>Surfacing Lens with HQ Frame</td>\n",
       "      <td>2023-02-01 10:56:00</td>\n",
       "      <td>2023-02-01 11:04:00</td>\n",
       "      <td>8.0</td>\n",
       "      <td>Did not delay at Main store</td>\n",
       "    </tr>\n",
       "  </tbody>\n",
       "</table>\n",
       "</div>"
      ],
      "text/plain": [
       "  Created User       Date      Time                              Status  \\\n",
       "0     control1 2023-02-01  10:56:00  Rejected Frame sent to Frame Store   \n",
       "1     control1 2023-02-01  10:56:00  Rejected Frame sent to Frame Store   \n",
       "\n",
       "   DocEntry     DocNum          OrderCriteria Status            Datetime  \\\n",
       "0    943012  231300712  Surfacing Lens with HQ Frame 2023-02-01 10:56:00   \n",
       "1    943012  231300712  Surfacing Lens with HQ Frame 2023-02-01 10:56:00   \n",
       "\n",
       "          Datetimeout  delay                 delayed dept  \n",
       "0 2023-02-01 11:04:00    8.0  Did not delay at Main store  \n",
       "1 2023-02-01 11:04:00    8.0  Did not delay at Main store  "
      ]
     },
     "execution_count": 39,
     "metadata": {},
     "output_type": "execute_result"
    }
   ],
   "source": [
    "reissueframemain['delayed dept']=reissueframemain['delay'].apply(lambda x: 'Main store delayed to reissue Frame' if x>10 else 'Did not delay at Main store' )\n",
    "reissueframemain.head(2)"
   ]
  },
  {
   "cell_type": "code",
   "execution_count": 40,
   "id": "eedafa21",
   "metadata": {},
   "outputs": [],
   "source": [
    "mainstoredamage_reissued=reissueframemain"
   ]
  },
  {
   "cell_type": "markdown",
   "id": "1019d9d4",
   "metadata": {},
   "source": [
    "## MAINSTORE(out of stock)- main_outofstock"
   ]
  },
  {
   "cell_type": "code",
   "execution_count": 41,
   "id": "e0fabe03",
   "metadata": {},
   "outputs": [
    {
     "data": {
      "text/plain": [
       "array(['Confirmed by Approvals Team', 'Sales Order Created',\n",
       "       'Rejected Frame sent to Frame Store'], dtype=object)"
      ]
     },
     "execution_count": 41,
     "metadata": {},
     "output_type": "execute_result"
    }
   ],
   "source": [
    "sales_order = status[(status['Status']== 'Sales Order Created') | (status['Status']== 'Confirmed by Approvals Team')]\n",
    "sales_order['Status'].unique()\n",
    "\n",
    "orderprinted1 = sales_order\n",
    "orderprinted2 = status[status['Status']== 'Rejected Frame sent to Frame Store']\n",
    "orderprinted=pd.concat([orderprinted1,orderprinted2])\n",
    "orderprinted = orderprinted.drop_duplicates(subset=['DocEntry','Status'], keep='first')\n",
    "orderprinted['Status'].unique()"
   ]
  },
  {
   "cell_type": "code",
   "execution_count": 42,
   "id": "db19ee88",
   "metadata": {},
   "outputs": [
    {
     "data": {
      "text/plain": [
       "array(['HQ Item Out of Stock Getting It'], dtype=object)"
      ]
     },
     "execution_count": 42,
     "metadata": {},
     "output_type": "execute_result"
    }
   ],
   "source": [
    "outofstock = status[status['Status']== 'HQ Item Out of Stock Getting It']\n",
    "outofstock['Status'].unique()"
   ]
  },
  {
   "cell_type": "code",
   "execution_count": 43,
   "id": "b8c5f51d",
   "metadata": {},
   "outputs": [
    {
     "data": {
      "text/plain": [
       "array(['HQ Item Out of Stock Getting It'], dtype=object)"
      ]
     },
     "execution_count": 43,
     "metadata": {},
     "output_type": "execute_result"
    }
   ],
   "source": [
    "outofstock1 = outofstock[outofstock['Created User']== 'main1']\n",
    "outofstock2 = outofstock[outofstock['Created User']== 'main2']\n",
    "outofstock3 = outofstock[outofstock['Created User']== 'main3']\n",
    "\n",
    "outofstock=pd.concat([outofstock1,outofstock2,outofstock3])\n",
    "outofstock = outofstock\n",
    "outofstock['Status'].unique()"
   ]
  },
  {
   "cell_type": "code",
   "execution_count": 44,
   "id": "5fcfee6b",
   "metadata": {},
   "outputs": [],
   "source": [
    "outofstock.rename(columns={'Datetime':'Datetimeout'}, inplace=True)"
   ]
  },
  {
   "cell_type": "code",
   "execution_count": 45,
   "id": "f1b49c9b",
   "metadata": {},
   "outputs": [
    {
     "data": {
      "text/html": [
       "<div>\n",
       "<style scoped>\n",
       "    .dataframe tbody tr th:only-of-type {\n",
       "        vertical-align: middle;\n",
       "    }\n",
       "\n",
       "    .dataframe tbody tr th {\n",
       "        vertical-align: top;\n",
       "    }\n",
       "\n",
       "    .dataframe thead th {\n",
       "        text-align: right;\n",
       "    }\n",
       "</style>\n",
       "<table border=\"1\" class=\"dataframe\">\n",
       "  <thead>\n",
       "    <tr style=\"text-align: right;\">\n",
       "      <th></th>\n",
       "      <th>Created User</th>\n",
       "      <th>Date</th>\n",
       "      <th>Time</th>\n",
       "      <th>Status</th>\n",
       "      <th>DocEntry</th>\n",
       "      <th>DocNum</th>\n",
       "      <th>OrderCriteria Status</th>\n",
       "      <th>Datetime</th>\n",
       "      <th>Datetimeout</th>\n",
       "    </tr>\n",
       "  </thead>\n",
       "  <tbody>\n",
       "    <tr>\n",
       "      <th>0</th>\n",
       "      <td>approvals1</td>\n",
       "      <td>2023-02-01</td>\n",
       "      <td>14:15:00</td>\n",
       "      <td>Confirmed by Approvals Team</td>\n",
       "      <td>939205</td>\n",
       "      <td>236000215</td>\n",
       "      <td>Contact lens from HQ</td>\n",
       "      <td>2023-02-01 14:15:00</td>\n",
       "      <td>NaT</td>\n",
       "    </tr>\n",
       "    <tr>\n",
       "      <th>1</th>\n",
       "      <td>approvals1</td>\n",
       "      <td>2023-02-01</td>\n",
       "      <td>14:17:00</td>\n",
       "      <td>Confirmed by Approvals Team</td>\n",
       "      <td>942637</td>\n",
       "      <td>234300684</td>\n",
       "      <td>Order with New Frame from Branch and Lens from HQ</td>\n",
       "      <td>2023-02-01 14:17:00</td>\n",
       "      <td>NaT</td>\n",
       "    </tr>\n",
       "    <tr>\n",
       "      <th>2</th>\n",
       "      <td>approvals1</td>\n",
       "      <td>2023-02-01</td>\n",
       "      <td>14:20:00</td>\n",
       "      <td>Confirmed by Approvals Team</td>\n",
       "      <td>943009</td>\n",
       "      <td>235100349</td>\n",
       "      <td>Frame from HQ and Lens from HQ</td>\n",
       "      <td>2023-02-01 14:20:00</td>\n",
       "      <td>NaT</td>\n",
       "    </tr>\n",
       "  </tbody>\n",
       "</table>\n",
       "</div>"
      ],
      "text/plain": [
       "  Created User       Date      Time                       Status  DocEntry  \\\n",
       "0   approvals1 2023-02-01  14:15:00  Confirmed by Approvals Team    939205   \n",
       "1   approvals1 2023-02-01  14:17:00  Confirmed by Approvals Team    942637   \n",
       "2   approvals1 2023-02-01  14:20:00  Confirmed by Approvals Team    943009   \n",
       "\n",
       "      DocNum                               OrderCriteria Status  \\\n",
       "0  236000215                               Contact lens from HQ   \n",
       "1  234300684  Order with New Frame from Branch and Lens from HQ   \n",
       "2  235100349                     Frame from HQ and Lens from HQ   \n",
       "\n",
       "             Datetime Datetimeout  \n",
       "0 2023-02-01 14:15:00         NaT  \n",
       "1 2023-02-01 14:17:00         NaT  \n",
       "2 2023-02-01 14:20:00         NaT  "
      ]
     },
     "execution_count": 45,
     "metadata": {},
     "output_type": "execute_result"
    }
   ],
   "source": [
    "outofstock= pd.merge(orderprinted,outofstock[['DocNum','Datetimeout']], on='DocNum', how='left')\n",
    "outofstock.head(3)"
   ]
  },
  {
   "cell_type": "code",
   "execution_count": 46,
   "id": "2ee93b63",
   "metadata": {},
   "outputs": [],
   "source": [
    "outofstock = outofstock.dropna(subset='Datetimeout')"
   ]
  },
  {
   "cell_type": "code",
   "execution_count": 47,
   "id": "9af26c4a",
   "metadata": {},
   "outputs": [
    {
     "data": {
      "text/html": [
       "<div>\n",
       "<style scoped>\n",
       "    .dataframe tbody tr th:only-of-type {\n",
       "        vertical-align: middle;\n",
       "    }\n",
       "\n",
       "    .dataframe tbody tr th {\n",
       "        vertical-align: top;\n",
       "    }\n",
       "\n",
       "    .dataframe thead th {\n",
       "        text-align: right;\n",
       "    }\n",
       "</style>\n",
       "<table border=\"1\" class=\"dataframe\">\n",
       "  <thead>\n",
       "    <tr style=\"text-align: right;\">\n",
       "      <th></th>\n",
       "      <th>Created User</th>\n",
       "      <th>Date</th>\n",
       "      <th>Time</th>\n",
       "      <th>Status</th>\n",
       "      <th>DocEntry</th>\n",
       "      <th>DocNum</th>\n",
       "      <th>OrderCriteria Status</th>\n",
       "      <th>Datetime</th>\n",
       "      <th>Datetimeout</th>\n",
       "      <th>delayed dept</th>\n",
       "    </tr>\n",
       "  </thead>\n",
       "  <tbody>\n",
       "    <tr>\n",
       "      <th>418</th>\n",
       "      <td>approvals1</td>\n",
       "      <td>2023-02-18</td>\n",
       "      <td>16:01:00</td>\n",
       "      <td>Confirmed by Approvals Team</td>\n",
       "      <td>963852</td>\n",
       "      <td>236400497</td>\n",
       "      <td>Frame from HQ and Lens from HQ</td>\n",
       "      <td>2023-02-18 16:01:00</td>\n",
       "      <td>2023-02-18 16:06:00</td>\n",
       "      <td>HQ Item Out of Stock</td>\n",
       "    </tr>\n",
       "    <tr>\n",
       "      <th>419</th>\n",
       "      <td>approvals1</td>\n",
       "      <td>2023-02-18</td>\n",
       "      <td>16:01:00</td>\n",
       "      <td>Confirmed by Approvals Team</td>\n",
       "      <td>963852</td>\n",
       "      <td>236400497</td>\n",
       "      <td>Frame from HQ and Lens from HQ</td>\n",
       "      <td>2023-02-18 16:01:00</td>\n",
       "      <td>2023-02-18 16:06:00</td>\n",
       "      <td>HQ Item Out of Stock</td>\n",
       "    </tr>\n",
       "  </tbody>\n",
       "</table>\n",
       "</div>"
      ],
      "text/plain": [
       "    Created User       Date      Time                       Status  DocEntry  \\\n",
       "418   approvals1 2023-02-18  16:01:00  Confirmed by Approvals Team    963852   \n",
       "419   approvals1 2023-02-18  16:01:00  Confirmed by Approvals Team    963852   \n",
       "\n",
       "        DocNum            OrderCriteria Status            Datetime  \\\n",
       "418  236400497  Frame from HQ and Lens from HQ 2023-02-18 16:01:00   \n",
       "419  236400497  Frame from HQ and Lens from HQ 2023-02-18 16:01:00   \n",
       "\n",
       "            Datetimeout          delayed dept  \n",
       "418 2023-02-18 16:06:00  HQ Item Out of Stock  \n",
       "419 2023-02-18 16:06:00  HQ Item Out of Stock  "
      ]
     },
     "execution_count": 47,
     "metadata": {},
     "output_type": "execute_result"
    }
   ],
   "source": [
    "outofstock['delayed dept']='HQ Item Out of Stock'\n",
    "main_outofstock=outofstock\n",
    "main_outofstock.head(2)"
   ]
  },
  {
   "cell_type": "markdown",
   "id": "3daa2d4a",
   "metadata": {},
   "source": [
    "## All Mainstore"
   ]
  },
  {
   "cell_type": "code",
   "execution_count": 48,
   "id": "41b3e349",
   "metadata": {},
   "outputs": [
    {
     "data": {
      "text/plain": [
       "array(['Delayed at Main store', 'Did not delay at Main store',\n",
       "       'Main store delayed to reissue Frame', 'HQ Item Out of Stock'],\n",
       "      dtype=object)"
      ]
     },
     "execution_count": 48,
     "metadata": {},
     "output_type": "execute_result"
    }
   ],
   "source": [
    "allmain=pd.concat([mainstore_orderprinted_lenstore,mainstore_orderprinted_control,mainstoredamage_reissued,main_outofstock])\n",
    "allmain['delayed dept'].unique()"
   ]
  },
  {
   "cell_type": "markdown",
   "id": "b0eff1a9",
   "metadata": {},
   "source": [
    "# DesignerStore-alldesigner"
   ]
  },
  {
   "cell_type": "markdown",
   "id": "a8f87eab",
   "metadata": {},
   "source": [
    "## DesignerStore(order printed to lens store)-DesignerStore_orderprinted_lenstore"
   ]
  },
  {
   "cell_type": "code",
   "execution_count": 49,
   "id": "20a073df",
   "metadata": {},
   "outputs": [
    {
     "data": {
      "text/plain": [
       "array(['Confirmed by Approvals Team', 'Sales Order Created'], dtype=object)"
      ]
     },
     "execution_count": 49,
     "metadata": {},
     "output_type": "execute_result"
    }
   ],
   "source": [
    "sales_order = status[(status['Status']== 'Sales Order Created') | (status['Status']== 'Confirmed by Approvals Team')]\n",
    "sales_order = sales_order.drop_duplicates(subset=['DocEntry','Status'], keep='first')\n",
    "sales_order['Status'].unique()\n"
   ]
  },
  {
   "cell_type": "code",
   "execution_count": 50,
   "id": "b02ab221",
   "metadata": {},
   "outputs": [],
   "source": [
    "#Filtering to Frame sent to lenstore\n",
    "senttolens = status[status['Status']== 'Frame Sent to Lens Store']\n",
    "senttolens = senttolens.drop_duplicates(subset='DocEntry', keep='first')"
   ]
  },
  {
   "cell_type": "code",
   "execution_count": 51,
   "id": "18af575f",
   "metadata": {},
   "outputs": [
    {
     "data": {
      "text/plain": [
       "array(['Frame Sent to Lens Store'], dtype=object)"
      ]
     },
     "execution_count": 51,
     "metadata": {},
     "output_type": "execute_result"
    }
   ],
   "source": [
    "senttolens1 = senttolens[senttolens['Created User']== 'designer1']\n",
    "senttolens2 = senttolens[senttolens['Created User']== 'designer2']\n",
    "senttolens3 = senttolens[senttolens['Created User']== 'designer3']\n",
    "\n",
    "senttolens=pd.concat([senttolens1,senttolens2,senttolens3])\n",
    "\n",
    "senttolens['Status'].unique()"
   ]
  },
  {
   "cell_type": "code",
   "execution_count": 52,
   "id": "77d4fe6d",
   "metadata": {},
   "outputs": [],
   "source": [
    "senttolens.rename(columns={'Datetime':'Datetimeout'}, inplace=True)"
   ]
  },
  {
   "cell_type": "code",
   "execution_count": 53,
   "id": "039ba03c",
   "metadata": {},
   "outputs": [
    {
     "data": {
      "text/html": [
       "<div>\n",
       "<style scoped>\n",
       "    .dataframe tbody tr th:only-of-type {\n",
       "        vertical-align: middle;\n",
       "    }\n",
       "\n",
       "    .dataframe tbody tr th {\n",
       "        vertical-align: top;\n",
       "    }\n",
       "\n",
       "    .dataframe thead th {\n",
       "        text-align: right;\n",
       "    }\n",
       "</style>\n",
       "<table border=\"1\" class=\"dataframe\">\n",
       "  <thead>\n",
       "    <tr style=\"text-align: right;\">\n",
       "      <th></th>\n",
       "      <th>Created User</th>\n",
       "      <th>Date</th>\n",
       "      <th>Time</th>\n",
       "      <th>Status</th>\n",
       "      <th>DocEntry</th>\n",
       "      <th>DocNum</th>\n",
       "      <th>OrderCriteria Status</th>\n",
       "      <th>Datetime</th>\n",
       "      <th>Datetimeout</th>\n",
       "    </tr>\n",
       "  </thead>\n",
       "  <tbody>\n",
       "    <tr>\n",
       "      <th>0</th>\n",
       "      <td>NaN</td>\n",
       "      <td>NaT</td>\n",
       "      <td>NaN</td>\n",
       "      <td>NaN</td>\n",
       "      <td>941526</td>\n",
       "      <td>NaN</td>\n",
       "      <td>NaN</td>\n",
       "      <td>NaT</td>\n",
       "      <td>2023-02-01 08:57:00</td>\n",
       "    </tr>\n",
       "    <tr>\n",
       "      <th>1</th>\n",
       "      <td>ohoc2</td>\n",
       "      <td>2023-02-01</td>\n",
       "      <td>09:19:00</td>\n",
       "      <td>Confirmed by Approvals Team</td>\n",
       "      <td>939090</td>\n",
       "      <td>23203486.0</td>\n",
       "      <td>Frame from HQ and Lens from HQ</td>\n",
       "      <td>2023-02-01 09:19:00</td>\n",
       "      <td>2023-02-01 09:29:00</td>\n",
       "    </tr>\n",
       "    <tr>\n",
       "      <th>2</th>\n",
       "      <td>NaN</td>\n",
       "      <td>NaT</td>\n",
       "      <td>NaN</td>\n",
       "      <td>NaN</td>\n",
       "      <td>943533</td>\n",
       "      <td>NaN</td>\n",
       "      <td>NaN</td>\n",
       "      <td>NaT</td>\n",
       "      <td>2023-02-01 10:51:00</td>\n",
       "    </tr>\n",
       "  </tbody>\n",
       "</table>\n",
       "</div>"
      ],
      "text/plain": [
       "  Created User       Date      Time                       Status  DocEntry  \\\n",
       "0          NaN        NaT       NaN                          NaN    941526   \n",
       "1        ohoc2 2023-02-01  09:19:00  Confirmed by Approvals Team    939090   \n",
       "2          NaN        NaT       NaN                          NaN    943533   \n",
       "\n",
       "       DocNum            OrderCriteria Status            Datetime  \\\n",
       "0         NaN                             NaN                 NaT   \n",
       "1  23203486.0  Frame from HQ and Lens from HQ 2023-02-01 09:19:00   \n",
       "2         NaN                             NaN                 NaT   \n",
       "\n",
       "          Datetimeout  \n",
       "0 2023-02-01 08:57:00  \n",
       "1 2023-02-01 09:29:00  \n",
       "2 2023-02-01 10:51:00  "
      ]
     },
     "execution_count": 53,
     "metadata": {},
     "output_type": "execute_result"
    }
   ],
   "source": [
    "orderprinted_lensstore= pd.merge(sales_order,senttolens[['DocEntry','Datetimeout']], on='DocEntry', how='right')\n",
    "orderprinted_lensstore.head(3)"
   ]
  },
  {
   "cell_type": "code",
   "execution_count": 54,
   "id": "63dc505d",
   "metadata": {},
   "outputs": [],
   "source": [
    "orderprinted_lensstore=orderprinted_lensstore.dropna(subset='Datetime')"
   ]
  },
  {
   "cell_type": "code",
   "execution_count": 55,
   "id": "a6b0e9b7",
   "metadata": {},
   "outputs": [
    {
     "name": "stderr",
     "output_type": "stream",
     "text": [
      "C:\\Users\\user\\anaconda3\\lib\\site-packages\\workalendar\\core.py:436: UserWarning: Please take note that, due to arbitrary decisions, this Islamic calendar computation may be wrong.\n",
      "  warnings.warn('Please take note that, due to arbitrary decisions, '\n"
     ]
    }
   ],
   "source": [
    "##Define a working day\n",
    "\n",
    "####Days of the week\n",
    "workday = businesstimedelta.WorkDayRule(\n",
    "    start_time=datetime.time(9),\n",
    "    end_time=datetime.time(18),\n",
    "    working_days=[0,1, 2, 3, 4])\n",
    "\n",
    "cal = Kenya()\n",
    "hl = cal.holidays()\n",
    "vic_holidays = pyholidays.KE() \n",
    "holidays = businesstimedelta.HolidayRule(vic_holidays)\n",
    "businesshrs = businesstimedelta.Rules([workday, holidays], hl)\n",
    "\n",
    "def BusHrs(start, end):\n",
    "    if end>=start:\n",
    "        return businesshrs.difference(start,end).hours+float(businesshrs.difference(start,end).seconds)/float(3600)\n",
    "    else:\n",
    "        \"\"\n",
    "    \n",
    "RejectedSentWk_hrs=orderprinted_lensstore.apply(lambda row: BusHrs(row['Datetime'], row['Datetimeout']), axis=1)\n"
   ]
  },
  {
   "cell_type": "code",
   "execution_count": 56,
   "id": "6c1442bd",
   "metadata": {},
   "outputs": [],
   "source": [
    "# Define a working weekend day(Saturday)\n",
    "\n",
    "Saturday = businesstimedelta.WorkDayRule(start_time=datetime.time(9),end_time=datetime.time(16),working_days=[5])\n",
    "\n",
    "vic_holidays = pyholidays.KE()\n",
    "holidays = businesstimedelta.HolidayRule(vic_holidays)\n",
    "businesshrs = businesstimedelta.Rules([Saturday, holidays])\n",
    "\n",
    "def SatHrs(start, end):\n",
    "    if end>=start:\n",
    "        return businesshrs.difference(start,end).hours+float(businesshrs.difference(start,end).seconds)/float(3600)\n",
    "    else:\n",
    "        \"\"\n",
    "\n",
    "RejectedSentSat_hrs=orderprinted_lensstore.apply(lambda row: BusHrs(row['Datetime'], row['Datetimeout']), axis=1)\n"
   ]
  },
  {
   "cell_type": "code",
   "execution_count": 57,
   "id": "88e68be3",
   "metadata": {},
   "outputs": [],
   "source": [
    "orderprinted_lensstore[\"delay\"]=(RejectedSentWk_hrs+RejectedSentSat_hrs)*60\n",
    "\n",
    "orderprinted_lensstore =orderprinted_lensstore.replace(\"\", np.nan)\n"
   ]
  },
  {
   "cell_type": "code",
   "execution_count": 58,
   "id": "3e50d223",
   "metadata": {},
   "outputs": [
    {
     "data": {
      "text/html": [
       "<div>\n",
       "<style scoped>\n",
       "    .dataframe tbody tr th:only-of-type {\n",
       "        vertical-align: middle;\n",
       "    }\n",
       "\n",
       "    .dataframe tbody tr th {\n",
       "        vertical-align: top;\n",
       "    }\n",
       "\n",
       "    .dataframe thead th {\n",
       "        text-align: right;\n",
       "    }\n",
       "</style>\n",
       "<table border=\"1\" class=\"dataframe\">\n",
       "  <thead>\n",
       "    <tr style=\"text-align: right;\">\n",
       "      <th></th>\n",
       "      <th>Created User</th>\n",
       "      <th>Date</th>\n",
       "      <th>Time</th>\n",
       "      <th>Status</th>\n",
       "      <th>DocEntry</th>\n",
       "      <th>DocNum</th>\n",
       "      <th>OrderCriteria Status</th>\n",
       "      <th>Datetime</th>\n",
       "      <th>Datetimeout</th>\n",
       "      <th>delay</th>\n",
       "      <th>delayed dept</th>\n",
       "    </tr>\n",
       "  </thead>\n",
       "  <tbody>\n",
       "    <tr>\n",
       "      <th>1</th>\n",
       "      <td>ohoc2</td>\n",
       "      <td>2023-02-01</td>\n",
       "      <td>09:19:00</td>\n",
       "      <td>Confirmed by Approvals Team</td>\n",
       "      <td>939090</td>\n",
       "      <td>23203486.0</td>\n",
       "      <td>Frame from HQ and Lens from HQ</td>\n",
       "      <td>2023-02-01 09:19:00</td>\n",
       "      <td>2023-02-01 09:29:00</td>\n",
       "      <td>10.0</td>\n",
       "      <td>Did not delay at Designer</td>\n",
       "    </tr>\n",
       "    <tr>\n",
       "      <th>3</th>\n",
       "      <td>approvals2</td>\n",
       "      <td>2023-02-01</td>\n",
       "      <td>10:47:00</td>\n",
       "      <td>Confirmed by Approvals Team</td>\n",
       "      <td>940435</td>\n",
       "      <td>236100403.0</td>\n",
       "      <td>Frame from HQ and Lens from HQ</td>\n",
       "      <td>2023-02-01 10:47:00</td>\n",
       "      <td>2023-02-01 10:51:00</td>\n",
       "      <td>4.0</td>\n",
       "      <td>Did not delay at Designer</td>\n",
       "    </tr>\n",
       "  </tbody>\n",
       "</table>\n",
       "</div>"
      ],
      "text/plain": [
       "  Created User       Date      Time                       Status  DocEntry  \\\n",
       "1        ohoc2 2023-02-01  09:19:00  Confirmed by Approvals Team    939090   \n",
       "3   approvals2 2023-02-01  10:47:00  Confirmed by Approvals Team    940435   \n",
       "\n",
       "        DocNum            OrderCriteria Status            Datetime  \\\n",
       "1   23203486.0  Frame from HQ and Lens from HQ 2023-02-01 09:19:00   \n",
       "3  236100403.0  Frame from HQ and Lens from HQ 2023-02-01 10:47:00   \n",
       "\n",
       "          Datetimeout  delay               delayed dept  \n",
       "1 2023-02-01 09:29:00   10.0  Did not delay at Designer  \n",
       "3 2023-02-01 10:51:00    4.0  Did not delay at Designer  "
      ]
     },
     "execution_count": 58,
     "metadata": {},
     "output_type": "execute_result"
    }
   ],
   "source": [
    "orderprinted_lensstore['delayed dept']=orderprinted_lensstore['delay'].apply(lambda x: 'Delayed at Designer' if x>10 else 'Did not delay at Designer' )\n",
    "orderprinted_lensstore.head(2)"
   ]
  },
  {
   "cell_type": "code",
   "execution_count": 59,
   "id": "2550f62f",
   "metadata": {},
   "outputs": [],
   "source": [
    "DesignerStore_orderprinted_lenstore=orderprinted_lensstore"
   ]
  },
  {
   "cell_type": "markdown",
   "id": "20a3d153",
   "metadata": {},
   "source": [
    "## Designer(order printed to control room)-designer_orderprinted_control"
   ]
  },
  {
   "cell_type": "code",
   "execution_count": 60,
   "id": "a5bbb1aa",
   "metadata": {},
   "outputs": [
    {
     "data": {
      "text/plain": [
       "array(['Confirmed by Approvals Team', 'Sales Order Created'], dtype=object)"
      ]
     },
     "execution_count": 60,
     "metadata": {},
     "output_type": "execute_result"
    }
   ],
   "source": [
    "sales_order = status[(status['Status']== 'Sales Order Created') | (status['Status']== 'Confirmed by Approvals Team')]\n",
    "sales_order = sales_order.drop_duplicates(subset=['DocEntry','Status'], keep='first')\n",
    "sales_order['Status'].unique()"
   ]
  },
  {
   "cell_type": "code",
   "execution_count": 61,
   "id": "376d049d",
   "metadata": {},
   "outputs": [],
   "source": [
    "#Filtering to Frame sent to lenstore\n",
    "senttocontrol = status[status['Status']== 'Sent to Control Room']\n",
    "senttocontrol = senttocontrol.drop_duplicates(subset='DocEntry', keep='first')"
   ]
  },
  {
   "cell_type": "code",
   "execution_count": 62,
   "id": "d565ef7d",
   "metadata": {},
   "outputs": [
    {
     "data": {
      "text/plain": [
       "array(['Sent to Control Room'], dtype=object)"
      ]
     },
     "execution_count": 62,
     "metadata": {},
     "output_type": "execute_result"
    }
   ],
   "source": [
    "senttocontrol1 = senttocontrol[senttocontrol['Created User']== 'designer1']\n",
    "senttocontrol2 = senttocontrol[senttocontrol['Created User']== 'designer2']\n",
    "senttocontrol3 = senttocontrol[senttocontrol['Created User']== 'designer3']\n",
    "\n",
    "senttocontrol=pd.concat([senttocontrol1,senttocontrol2,senttocontrol3])\n",
    "\n",
    "senttocontrol['Status'].unique()"
   ]
  },
  {
   "cell_type": "code",
   "execution_count": 63,
   "id": "d926895a",
   "metadata": {},
   "outputs": [],
   "source": [
    "senttocontrol.rename(columns={'Datetime':'Datetimeout'}, inplace=True)"
   ]
  },
  {
   "cell_type": "code",
   "execution_count": 64,
   "id": "6486f374",
   "metadata": {},
   "outputs": [
    {
     "data": {
      "text/html": [
       "<div>\n",
       "<style scoped>\n",
       "    .dataframe tbody tr th:only-of-type {\n",
       "        vertical-align: middle;\n",
       "    }\n",
       "\n",
       "    .dataframe tbody tr th {\n",
       "        vertical-align: top;\n",
       "    }\n",
       "\n",
       "    .dataframe thead th {\n",
       "        text-align: right;\n",
       "    }\n",
       "</style>\n",
       "<table border=\"1\" class=\"dataframe\">\n",
       "  <thead>\n",
       "    <tr style=\"text-align: right;\">\n",
       "      <th></th>\n",
       "      <th>Created User</th>\n",
       "      <th>Date</th>\n",
       "      <th>Time</th>\n",
       "      <th>Status</th>\n",
       "      <th>DocEntry</th>\n",
       "      <th>DocNum</th>\n",
       "      <th>OrderCriteria Status</th>\n",
       "      <th>Datetime</th>\n",
       "      <th>Datetimeout</th>\n",
       "    </tr>\n",
       "  </thead>\n",
       "  <tbody>\n",
       "    <tr>\n",
       "      <th>0</th>\n",
       "      <td>approvals1</td>\n",
       "      <td>2023-02-01</td>\n",
       "      <td>14:15:00</td>\n",
       "      <td>Confirmed by Approvals Team</td>\n",
       "      <td>939205</td>\n",
       "      <td>236000215</td>\n",
       "      <td>Contact lens from HQ</td>\n",
       "      <td>2023-02-01 14:15:00</td>\n",
       "      <td>NaT</td>\n",
       "    </tr>\n",
       "    <tr>\n",
       "      <th>1</th>\n",
       "      <td>approvals1</td>\n",
       "      <td>2023-02-01</td>\n",
       "      <td>14:17:00</td>\n",
       "      <td>Confirmed by Approvals Team</td>\n",
       "      <td>942637</td>\n",
       "      <td>234300684</td>\n",
       "      <td>Order with New Frame from Branch and Lens from HQ</td>\n",
       "      <td>2023-02-01 14:17:00</td>\n",
       "      <td>NaT</td>\n",
       "    </tr>\n",
       "    <tr>\n",
       "      <th>2</th>\n",
       "      <td>approvals1</td>\n",
       "      <td>2023-02-01</td>\n",
       "      <td>14:20:00</td>\n",
       "      <td>Confirmed by Approvals Team</td>\n",
       "      <td>943009</td>\n",
       "      <td>235100349</td>\n",
       "      <td>Frame from HQ and Lens from HQ</td>\n",
       "      <td>2023-02-01 14:20:00</td>\n",
       "      <td>NaT</td>\n",
       "    </tr>\n",
       "  </tbody>\n",
       "</table>\n",
       "</div>"
      ],
      "text/plain": [
       "  Created User       Date      Time                       Status  DocEntry  \\\n",
       "0   approvals1 2023-02-01  14:15:00  Confirmed by Approvals Team    939205   \n",
       "1   approvals1 2023-02-01  14:17:00  Confirmed by Approvals Team    942637   \n",
       "2   approvals1 2023-02-01  14:20:00  Confirmed by Approvals Team    943009   \n",
       "\n",
       "      DocNum                               OrderCriteria Status  \\\n",
       "0  236000215                               Contact lens from HQ   \n",
       "1  234300684  Order with New Frame from Branch and Lens from HQ   \n",
       "2  235100349                     Frame from HQ and Lens from HQ   \n",
       "\n",
       "             Datetime Datetimeout  \n",
       "0 2023-02-01 14:15:00         NaT  \n",
       "1 2023-02-01 14:17:00         NaT  \n",
       "2 2023-02-01 14:20:00         NaT  "
      ]
     },
     "execution_count": 64,
     "metadata": {},
     "output_type": "execute_result"
    }
   ],
   "source": [
    "orderprinted_control= pd.merge(sales_order,senttocontrol[['DocEntry','Datetimeout']], on='DocEntry', how='left')\n",
    "orderprinted_control.head(3)"
   ]
  },
  {
   "cell_type": "code",
   "execution_count": 65,
   "id": "9957edff",
   "metadata": {},
   "outputs": [],
   "source": [
    "orderprinted_control=orderprinted_control.dropna(subset='Datetimeout')"
   ]
  },
  {
   "cell_type": "code",
   "execution_count": 66,
   "id": "4a2316af",
   "metadata": {},
   "outputs": [
    {
     "name": "stderr",
     "output_type": "stream",
     "text": [
      "C:\\Users\\user\\anaconda3\\lib\\site-packages\\workalendar\\core.py:436: UserWarning: Please take note that, due to arbitrary decisions, this Islamic calendar computation may be wrong.\n",
      "  warnings.warn('Please take note that, due to arbitrary decisions, '\n"
     ]
    }
   ],
   "source": [
    "##Define a working day\n",
    "\n",
    "####Days of the week\n",
    "workday = businesstimedelta.WorkDayRule(\n",
    "    start_time=datetime.time(9),\n",
    "    end_time=datetime.time(18),\n",
    "    working_days=[0,1, 2, 3, 4])\n",
    "\n",
    "cal = Kenya()\n",
    "hl = cal.holidays()\n",
    "vic_holidays = pyholidays.KE() \n",
    "holidays = businesstimedelta.HolidayRule(vic_holidays)\n",
    "businesshrs = businesstimedelta.Rules([workday, holidays], hl)\n",
    "\n",
    "def BusHrs(start, end):\n",
    "    if end>=start:\n",
    "        return businesshrs.difference(start,end).hours+float(businesshrs.difference(start,end).seconds)/float(3600)\n",
    "    else:\n",
    "        \"\"\n",
    "    \n",
    "RejectedSentWk_hrs=orderprinted_control.apply(lambda row: BusHrs(row['Datetime'], row['Datetimeout']), axis=1)\n"
   ]
  },
  {
   "cell_type": "code",
   "execution_count": 67,
   "id": "76943aba",
   "metadata": {},
   "outputs": [],
   "source": [
    "# Define a working weekend day(Saturday)\n",
    "\n",
    "Saturday = businesstimedelta.WorkDayRule(start_time=datetime.time(9),end_time=datetime.time(16),working_days=[5])\n",
    "\n",
    "vic_holidays = pyholidays.KE()\n",
    "holidays = businesstimedelta.HolidayRule(vic_holidays)\n",
    "businesshrs = businesstimedelta.Rules([Saturday, holidays])\n",
    "\n",
    "def SatHrs(start, end):\n",
    "    if end>=start:\n",
    "        return businesshrs.difference(start,end).hours+float(businesshrs.difference(start,end).seconds)/float(3600)\n",
    "    else:\n",
    "        \"\"\n",
    "\n",
    "RejectedSentSat_hrs=orderprinted_control.apply(lambda row: BusHrs(row['Datetime'], row['Datetimeout']), axis=1)\n"
   ]
  },
  {
   "cell_type": "code",
   "execution_count": 68,
   "id": "017168d1",
   "metadata": {},
   "outputs": [],
   "source": [
    "orderprinted_control[\"delay\"]=(RejectedSentWk_hrs+RejectedSentSat_hrs)*60\n",
    "\n",
    "orderprinted_control =orderprinted_control.replace(\"\", np.nan)"
   ]
  },
  {
   "cell_type": "code",
   "execution_count": 69,
   "id": "1644cd45",
   "metadata": {},
   "outputs": [
    {
     "data": {
      "text/html": [
       "<div>\n",
       "<style scoped>\n",
       "    .dataframe tbody tr th:only-of-type {\n",
       "        vertical-align: middle;\n",
       "    }\n",
       "\n",
       "    .dataframe tbody tr th {\n",
       "        vertical-align: top;\n",
       "    }\n",
       "\n",
       "    .dataframe thead th {\n",
       "        text-align: right;\n",
       "    }\n",
       "</style>\n",
       "<table border=\"1\" class=\"dataframe\">\n",
       "  <thead>\n",
       "    <tr style=\"text-align: right;\">\n",
       "      <th></th>\n",
       "      <th>Created User</th>\n",
       "      <th>Date</th>\n",
       "      <th>Time</th>\n",
       "      <th>Status</th>\n",
       "      <th>DocEntry</th>\n",
       "      <th>DocNum</th>\n",
       "      <th>OrderCriteria Status</th>\n",
       "      <th>Datetime</th>\n",
       "      <th>Datetimeout</th>\n",
       "      <th>delay</th>\n",
       "      <th>delayed dept</th>\n",
       "    </tr>\n",
       "  </thead>\n",
       "  <tbody>\n",
       "    <tr>\n",
       "      <th>1128</th>\n",
       "      <td>approvals2</td>\n",
       "      <td>2023-02-01</td>\n",
       "      <td>17:53:00</td>\n",
       "      <td>Confirmed by Approvals Team</td>\n",
       "      <td>940978</td>\n",
       "      <td>235400524</td>\n",
       "      <td>Contact lens from HQ</td>\n",
       "      <td>2023-02-01 17:53:00</td>\n",
       "      <td>2023-02-01 17:56:00</td>\n",
       "      <td>3.0</td>\n",
       "      <td>Did not delay at Designer</td>\n",
       "    </tr>\n",
       "    <tr>\n",
       "      <th>8914</th>\n",
       "      <td>csman</td>\n",
       "      <td>2023-02-18</td>\n",
       "      <td>10:40:00</td>\n",
       "      <td>Sales Order Created</td>\n",
       "      <td>963485</td>\n",
       "      <td>23206447</td>\n",
       "      <td>Contact lens from HQ</td>\n",
       "      <td>2023-02-18 10:40:00</td>\n",
       "      <td>2023-02-18 11:10:00</td>\n",
       "      <td>30.0</td>\n",
       "      <td>Delayed at Designer</td>\n",
       "    </tr>\n",
       "  </tbody>\n",
       "</table>\n",
       "</div>"
      ],
      "text/plain": [
       "     Created User       Date      Time                       Status  DocEntry  \\\n",
       "1128   approvals2 2023-02-01  17:53:00  Confirmed by Approvals Team    940978   \n",
       "8914        csman 2023-02-18  10:40:00          Sales Order Created    963485   \n",
       "\n",
       "         DocNum  OrderCriteria Status            Datetime         Datetimeout  \\\n",
       "1128  235400524  Contact lens from HQ 2023-02-01 17:53:00 2023-02-01 17:56:00   \n",
       "8914   23206447  Contact lens from HQ 2023-02-18 10:40:00 2023-02-18 11:10:00   \n",
       "\n",
       "      delay               delayed dept  \n",
       "1128    3.0  Did not delay at Designer  \n",
       "8914   30.0        Delayed at Designer  "
      ]
     },
     "execution_count": 69,
     "metadata": {},
     "output_type": "execute_result"
    }
   ],
   "source": [
    "orderprinted_control['delayed dept']=orderprinted_control['delay'].apply(lambda x: 'Delayed at Designer' if x>10 else 'Did not delay at Designer' )\n",
    "orderprinted_control.head(2)"
   ]
  },
  {
   "cell_type": "code",
   "execution_count": 70,
   "id": "b3b98e2f",
   "metadata": {},
   "outputs": [],
   "source": [
    "designer_orderprinted_control=orderprinted_control"
   ]
  },
  {
   "cell_type": "markdown",
   "id": "2b51e010",
   "metadata": {},
   "source": [
    "## DESIGNER(rejected frame sent to frame store to reissued frame for order)-designerdamage_reissued"
   ]
  },
  {
   "cell_type": "code",
   "execution_count": 71,
   "id": "f25f0ba5",
   "metadata": {},
   "outputs": [
    {
     "data": {
      "text/plain": [
       "array(['Rejected Frame sent to Frame Store'], dtype=object)"
      ]
     },
     "execution_count": 71,
     "metadata": {},
     "output_type": "execute_result"
    }
   ],
   "source": [
    "designerrejected = status[status['Status']== 'Rejected Frame sent to Frame Store']\n",
    "designerrejected = designerrejected.drop_duplicates(subset=['DocEntry','Status'], keep='first')\n",
    "designerrejected['Status'].unique()"
   ]
  },
  {
   "cell_type": "code",
   "execution_count": 72,
   "id": "b9a69156",
   "metadata": {},
   "outputs": [
    {
     "data": {
      "text/plain": [
       "array(['ReIssued Frame for Order'], dtype=object)"
      ]
     },
     "execution_count": 72,
     "metadata": {},
     "output_type": "execute_result"
    }
   ],
   "source": [
    "reissuedframedes = status[status['Status']== 'ReIssued Frame for Order']\n",
    "reissuedframedes['Status'].unique()"
   ]
  },
  {
   "cell_type": "code",
   "execution_count": 73,
   "id": "dcdbdf10",
   "metadata": {},
   "outputs": [
    {
     "data": {
      "text/plain": [
       "array(['ReIssued Frame for Order'], dtype=object)"
      ]
     },
     "execution_count": 73,
     "metadata": {},
     "output_type": "execute_result"
    }
   ],
   "source": [
    "reissuedframedes1 = reissuedframedes[reissuedframedes['Created User']== 'designer1']\n",
    "reissuedframedes2 = reissuedframedes[reissuedframedes['Created User']== 'designer2']\n",
    "reissuedframedes3 = reissuedframedes[reissuedframedes['Created User']== 'designer3']\n",
    "\n",
    "reissuedframedes=pd.concat([reissuedframedes1,reissuedframedes2,reissuedframedes3])\n",
    "\n",
    "reissuedframedes['Status'].unique()"
   ]
  },
  {
   "cell_type": "code",
   "execution_count": 74,
   "id": "6c4c4be5",
   "metadata": {},
   "outputs": [],
   "source": [
    "reissuedframedes.rename(columns={'Datetime':'Datetimeout'}, inplace=True)"
   ]
  },
  {
   "cell_type": "code",
   "execution_count": 75,
   "id": "2db73f57",
   "metadata": {},
   "outputs": [
    {
     "data": {
      "text/html": [
       "<div>\n",
       "<style scoped>\n",
       "    .dataframe tbody tr th:only-of-type {\n",
       "        vertical-align: middle;\n",
       "    }\n",
       "\n",
       "    .dataframe tbody tr th {\n",
       "        vertical-align: top;\n",
       "    }\n",
       "\n",
       "    .dataframe thead th {\n",
       "        text-align: right;\n",
       "    }\n",
       "</style>\n",
       "<table border=\"1\" class=\"dataframe\">\n",
       "  <thead>\n",
       "    <tr style=\"text-align: right;\">\n",
       "      <th></th>\n",
       "      <th>Created User</th>\n",
       "      <th>Date</th>\n",
       "      <th>Time</th>\n",
       "      <th>Status</th>\n",
       "      <th>DocEntry</th>\n",
       "      <th>DocNum</th>\n",
       "      <th>OrderCriteria Status</th>\n",
       "      <th>Datetime</th>\n",
       "      <th>Datetimeout</th>\n",
       "    </tr>\n",
       "  </thead>\n",
       "  <tbody>\n",
       "    <tr>\n",
       "      <th>0</th>\n",
       "      <td>control1</td>\n",
       "      <td>2023-02-01</td>\n",
       "      <td>10:56:00</td>\n",
       "      <td>Rejected Frame sent to Frame Store</td>\n",
       "      <td>943012</td>\n",
       "      <td>231300712</td>\n",
       "      <td>Surfacing Lens with HQ Frame</td>\n",
       "      <td>2023-02-01 10:56:00</td>\n",
       "      <td>NaT</td>\n",
       "    </tr>\n",
       "    <tr>\n",
       "      <th>1</th>\n",
       "      <td>control1</td>\n",
       "      <td>2023-02-02</td>\n",
       "      <td>11:47:00</td>\n",
       "      <td>Rejected Frame sent to Frame Store</td>\n",
       "      <td>944895</td>\n",
       "      <td>23204187</td>\n",
       "      <td>Surfacing Lens with HQ Frame</td>\n",
       "      <td>2023-02-02 11:47:00</td>\n",
       "      <td>NaT</td>\n",
       "    </tr>\n",
       "    <tr>\n",
       "      <th>2</th>\n",
       "      <td>control1</td>\n",
       "      <td>2023-02-04</td>\n",
       "      <td>15:13:00</td>\n",
       "      <td>Rejected Frame sent to Frame Store</td>\n",
       "      <td>947885</td>\n",
       "      <td>232100281</td>\n",
       "      <td>Frame from HQ and Lens from HQ</td>\n",
       "      <td>2023-02-04 15:13:00</td>\n",
       "      <td>NaT</td>\n",
       "    </tr>\n",
       "  </tbody>\n",
       "</table>\n",
       "</div>"
      ],
      "text/plain": [
       "  Created User       Date      Time                              Status  \\\n",
       "0     control1 2023-02-01  10:56:00  Rejected Frame sent to Frame Store   \n",
       "1     control1 2023-02-02  11:47:00  Rejected Frame sent to Frame Store   \n",
       "2     control1 2023-02-04  15:13:00  Rejected Frame sent to Frame Store   \n",
       "\n",
       "   DocEntry     DocNum            OrderCriteria Status            Datetime  \\\n",
       "0    943012  231300712    Surfacing Lens with HQ Frame 2023-02-01 10:56:00   \n",
       "1    944895   23204187    Surfacing Lens with HQ Frame 2023-02-02 11:47:00   \n",
       "2    947885  232100281  Frame from HQ and Lens from HQ 2023-02-04 15:13:00   \n",
       "\n",
       "  Datetimeout  \n",
       "0         NaT  \n",
       "1         NaT  \n",
       "2         NaT  "
      ]
     },
     "execution_count": 75,
     "metadata": {},
     "output_type": "execute_result"
    }
   ],
   "source": [
    "reissuedframedes= pd.merge(designerrejected,reissuedframedes[['DocNum','Datetimeout']], on='DocNum', how='left')\n",
    "reissuedframedes.head(3)"
   ]
  },
  {
   "cell_type": "code",
   "execution_count": 76,
   "id": "2ca73702",
   "metadata": {},
   "outputs": [],
   "source": [
    "reissuedframedes=reissuedframedes.dropna(subset='Datetimeout')"
   ]
  },
  {
   "cell_type": "code",
   "execution_count": 77,
   "id": "53e7d342",
   "metadata": {},
   "outputs": [
    {
     "name": "stderr",
     "output_type": "stream",
     "text": [
      "C:\\Users\\user\\anaconda3\\lib\\site-packages\\workalendar\\core.py:436: UserWarning: Please take note that, due to arbitrary decisions, this Islamic calendar computation may be wrong.\n",
      "  warnings.warn('Please take note that, due to arbitrary decisions, '\n"
     ]
    }
   ],
   "source": [
    "##Define a working day\n",
    "\n",
    "####Days of the week\n",
    "workday = businesstimedelta.WorkDayRule(\n",
    "    start_time=datetime.time(9),\n",
    "    end_time=datetime.time(18),\n",
    "    working_days=[0,1, 2, 3, 4])\n",
    "\n",
    "cal = Kenya()\n",
    "hl = cal.holidays()\n",
    "vic_holidays = pyholidays.KE() \n",
    "holidays = businesstimedelta.HolidayRule(vic_holidays)\n",
    "businesshrs = businesstimedelta.Rules([workday, holidays], hl)\n",
    "\n",
    "def BusHrs(start, end):\n",
    "    if end>=start:\n",
    "        return businesshrs.difference(start,end).hours+float(businesshrs.difference(start,end).seconds)/float(3600)\n",
    "    else:\n",
    "        \"\"\n",
    "    \n",
    "RejectedSentWk_hrs=reissuedframedes.apply(lambda row: BusHrs(row['Datetime'], row['Datetimeout']), axis=1)\n"
   ]
  },
  {
   "cell_type": "code",
   "execution_count": 78,
   "id": "77c2e0c6",
   "metadata": {},
   "outputs": [],
   "source": [
    "# Define a working weekend day(Saturday)\n",
    "\n",
    "Saturday = businesstimedelta.WorkDayRule(start_time=datetime.time(9),end_time=datetime.time(16),working_days=[5])\n",
    "\n",
    "vic_holidays = pyholidays.KE()\n",
    "holidays = businesstimedelta.HolidayRule(vic_holidays)\n",
    "businesshrs = businesstimedelta.Rules([Saturday, holidays])\n",
    "\n",
    "def SatHrs(start, end):\n",
    "    if end>=start:\n",
    "        return businesshrs.difference(start,end).hours+float(businesshrs.difference(start,end).seconds)/float(3600)\n",
    "    else:\n",
    "        \"\"\n",
    "\n",
    "RejectedSentSat_hrs=reissuedframedes.apply(lambda row: BusHrs(row['Datetime'], row['Datetimeout']), axis=1)\n"
   ]
  },
  {
   "cell_type": "code",
   "execution_count": 79,
   "id": "b9b97222",
   "metadata": {},
   "outputs": [],
   "source": [
    "reissuedframedes[\"delay\"]=(RejectedSentWk_hrs+RejectedSentSat_hrs)*60\n",
    "\n",
    "reissuedframedes =reissuedframedes.replace(\"\", np.nan)"
   ]
  },
  {
   "cell_type": "code",
   "execution_count": 80,
   "id": "0a76411e",
   "metadata": {},
   "outputs": [
    {
     "data": {
      "text/html": [
       "<div>\n",
       "<style scoped>\n",
       "    .dataframe tbody tr th:only-of-type {\n",
       "        vertical-align: middle;\n",
       "    }\n",
       "\n",
       "    .dataframe tbody tr th {\n",
       "        vertical-align: top;\n",
       "    }\n",
       "\n",
       "    .dataframe thead th {\n",
       "        text-align: right;\n",
       "    }\n",
       "</style>\n",
       "<table border=\"1\" class=\"dataframe\">\n",
       "  <thead>\n",
       "    <tr style=\"text-align: right;\">\n",
       "      <th></th>\n",
       "      <th>Created User</th>\n",
       "      <th>Date</th>\n",
       "      <th>Time</th>\n",
       "      <th>Status</th>\n",
       "      <th>DocEntry</th>\n",
       "      <th>DocNum</th>\n",
       "      <th>OrderCriteria Status</th>\n",
       "      <th>Datetime</th>\n",
       "      <th>Datetimeout</th>\n",
       "      <th>delay</th>\n",
       "      <th>delayed dept</th>\n",
       "    </tr>\n",
       "  </thead>\n",
       "  <tbody>\n",
       "    <tr>\n",
       "      <th>5</th>\n",
       "      <td>control1</td>\n",
       "      <td>2023-02-08</td>\n",
       "      <td>12:55:00</td>\n",
       "      <td>Rejected Frame sent to Frame Store</td>\n",
       "      <td>941065</td>\n",
       "      <td>234900155</td>\n",
       "      <td>Overseas Lens with Branch Frame</td>\n",
       "      <td>2023-02-08 12:55:00</td>\n",
       "      <td>2023-02-08 13:01:00</td>\n",
       "      <td>6.0</td>\n",
       "      <td>Did not delay at Designer</td>\n",
       "    </tr>\n",
       "    <tr>\n",
       "      <th>6</th>\n",
       "      <td>control1</td>\n",
       "      <td>2023-02-08</td>\n",
       "      <td>12:55:00</td>\n",
       "      <td>Rejected Frame sent to Frame Store</td>\n",
       "      <td>941065</td>\n",
       "      <td>234900155</td>\n",
       "      <td>Overseas Lens with Branch Frame</td>\n",
       "      <td>2023-02-08 12:55:00</td>\n",
       "      <td>2023-02-08 13:01:00</td>\n",
       "      <td>6.0</td>\n",
       "      <td>Did not delay at Designer</td>\n",
       "    </tr>\n",
       "  </tbody>\n",
       "</table>\n",
       "</div>"
      ],
      "text/plain": [
       "  Created User       Date      Time                              Status  \\\n",
       "5     control1 2023-02-08  12:55:00  Rejected Frame sent to Frame Store   \n",
       "6     control1 2023-02-08  12:55:00  Rejected Frame sent to Frame Store   \n",
       "\n",
       "   DocEntry     DocNum             OrderCriteria Status            Datetime  \\\n",
       "5    941065  234900155  Overseas Lens with Branch Frame 2023-02-08 12:55:00   \n",
       "6    941065  234900155  Overseas Lens with Branch Frame 2023-02-08 12:55:00   \n",
       "\n",
       "          Datetimeout  delay               delayed dept  \n",
       "5 2023-02-08 13:01:00    6.0  Did not delay at Designer  \n",
       "6 2023-02-08 13:01:00    6.0  Did not delay at Designer  "
      ]
     },
     "execution_count": 80,
     "metadata": {},
     "output_type": "execute_result"
    }
   ],
   "source": [
    "reissuedframedes['delayed dept']=reissuedframedes['delay'].apply(lambda x: 'Designer delayed to reissue Frame' if x>10 else 'Did not delay at Designer' )\n",
    "reissuedframedes.head(2)"
   ]
  },
  {
   "cell_type": "code",
   "execution_count": 81,
   "id": "03017a7d",
   "metadata": {},
   "outputs": [],
   "source": [
    "designerdamage_reissued=reissuedframedes"
   ]
  },
  {
   "cell_type": "markdown",
   "id": "94412f3b",
   "metadata": {},
   "source": [
    "## DESIGNER(out of stock)- des_outofstock"
   ]
  },
  {
   "cell_type": "code",
   "execution_count": 82,
   "id": "6658f97c",
   "metadata": {},
   "outputs": [
    {
     "data": {
      "text/plain": [
       "array(['Confirmed by Approvals Team', 'Sales Order Created',\n",
       "       'Rejected Frame sent to Frame Store'], dtype=object)"
      ]
     },
     "execution_count": 82,
     "metadata": {},
     "output_type": "execute_result"
    }
   ],
   "source": [
    "sales_order = status[(status['Status']== 'Sales Order Created') | (status['Status']== 'Confirmed by Approvals Team')]\n",
    "sales_order['Status'].unique()\n",
    "\n",
    "orderprinted1 = sales_order\n",
    "orderprinted2 = status[status['Status']== 'Rejected Frame sent to Frame Store']\n",
    "orderprinted=pd.concat([orderprinted1,orderprinted2])\n",
    "orderprinted = orderprinted.drop_duplicates(subset=['DocEntry','Status'], keep='first')\n",
    "orderprinted['Status'].unique()"
   ]
  },
  {
   "cell_type": "code",
   "execution_count": 83,
   "id": "154523ce",
   "metadata": {},
   "outputs": [
    {
     "data": {
      "text/plain": [
       "array(['HQ Item Out of Stock Getting It'], dtype=object)"
      ]
     },
     "execution_count": 83,
     "metadata": {},
     "output_type": "execute_result"
    }
   ],
   "source": [
    "outofstock = status[status['Status']== 'HQ Item Out of Stock Getting It']\n",
    "outofstock['Status'].unique()"
   ]
  },
  {
   "cell_type": "code",
   "execution_count": 84,
   "id": "2c7d35c1",
   "metadata": {},
   "outputs": [
    {
     "data": {
      "text/plain": [
       "array(['HQ Item Out of Stock Getting It'], dtype=object)"
      ]
     },
     "execution_count": 84,
     "metadata": {},
     "output_type": "execute_result"
    }
   ],
   "source": [
    "outofstock1 = outofstock[outofstock['Created User']== 'designer1']\n",
    "outofstock2 = outofstock[outofstock['Created User']== 'designer2']\n",
    "outofstock3 = outofstock[outofstock['Created User']== 'designer3']\n",
    "\n",
    "outofstock=pd.concat([outofstock1,outofstock2,outofstock3])\n",
    "outofstock = outofstock\n",
    "outofstock['Status'].unique()"
   ]
  },
  {
   "cell_type": "code",
   "execution_count": 85,
   "id": "a453706a",
   "metadata": {},
   "outputs": [],
   "source": [
    "outofstock.rename(columns={'Datetime':'Datetimeout'}, inplace=True)"
   ]
  },
  {
   "cell_type": "code",
   "execution_count": 86,
   "id": "f0a59bae",
   "metadata": {},
   "outputs": [
    {
     "data": {
      "text/html": [
       "<div>\n",
       "<style scoped>\n",
       "    .dataframe tbody tr th:only-of-type {\n",
       "        vertical-align: middle;\n",
       "    }\n",
       "\n",
       "    .dataframe tbody tr th {\n",
       "        vertical-align: top;\n",
       "    }\n",
       "\n",
       "    .dataframe thead th {\n",
       "        text-align: right;\n",
       "    }\n",
       "</style>\n",
       "<table border=\"1\" class=\"dataframe\">\n",
       "  <thead>\n",
       "    <tr style=\"text-align: right;\">\n",
       "      <th></th>\n",
       "      <th>Created User</th>\n",
       "      <th>Date</th>\n",
       "      <th>Time</th>\n",
       "      <th>Status</th>\n",
       "      <th>DocEntry</th>\n",
       "      <th>DocNum</th>\n",
       "      <th>OrderCriteria Status</th>\n",
       "      <th>Datetime</th>\n",
       "      <th>Datetimeout</th>\n",
       "    </tr>\n",
       "  </thead>\n",
       "  <tbody>\n",
       "    <tr>\n",
       "      <th>0</th>\n",
       "      <td>approvals1</td>\n",
       "      <td>2023-02-01</td>\n",
       "      <td>14:15:00</td>\n",
       "      <td>Confirmed by Approvals Team</td>\n",
       "      <td>939205</td>\n",
       "      <td>236000215</td>\n",
       "      <td>Contact lens from HQ</td>\n",
       "      <td>2023-02-01 14:15:00</td>\n",
       "      <td>NaT</td>\n",
       "    </tr>\n",
       "    <tr>\n",
       "      <th>1</th>\n",
       "      <td>approvals1</td>\n",
       "      <td>2023-02-01</td>\n",
       "      <td>14:17:00</td>\n",
       "      <td>Confirmed by Approvals Team</td>\n",
       "      <td>942637</td>\n",
       "      <td>234300684</td>\n",
       "      <td>Order with New Frame from Branch and Lens from HQ</td>\n",
       "      <td>2023-02-01 14:17:00</td>\n",
       "      <td>NaT</td>\n",
       "    </tr>\n",
       "    <tr>\n",
       "      <th>2</th>\n",
       "      <td>approvals1</td>\n",
       "      <td>2023-02-01</td>\n",
       "      <td>14:20:00</td>\n",
       "      <td>Confirmed by Approvals Team</td>\n",
       "      <td>943009</td>\n",
       "      <td>235100349</td>\n",
       "      <td>Frame from HQ and Lens from HQ</td>\n",
       "      <td>2023-02-01 14:20:00</td>\n",
       "      <td>NaT</td>\n",
       "    </tr>\n",
       "  </tbody>\n",
       "</table>\n",
       "</div>"
      ],
      "text/plain": [
       "  Created User       Date      Time                       Status  DocEntry  \\\n",
       "0   approvals1 2023-02-01  14:15:00  Confirmed by Approvals Team    939205   \n",
       "1   approvals1 2023-02-01  14:17:00  Confirmed by Approvals Team    942637   \n",
       "2   approvals1 2023-02-01  14:20:00  Confirmed by Approvals Team    943009   \n",
       "\n",
       "      DocNum                               OrderCriteria Status  \\\n",
       "0  236000215                               Contact lens from HQ   \n",
       "1  234300684  Order with New Frame from Branch and Lens from HQ   \n",
       "2  235100349                     Frame from HQ and Lens from HQ   \n",
       "\n",
       "             Datetime Datetimeout  \n",
       "0 2023-02-01 14:15:00         NaT  \n",
       "1 2023-02-01 14:17:00         NaT  \n",
       "2 2023-02-01 14:20:00         NaT  "
      ]
     },
     "execution_count": 86,
     "metadata": {},
     "output_type": "execute_result"
    }
   ],
   "source": [
    "outofstock= pd.merge(orderprinted,outofstock[['DocNum','Datetimeout']], on='DocNum', how='left')\n",
    "outofstock.head(3)"
   ]
  },
  {
   "cell_type": "code",
   "execution_count": 87,
   "id": "b24f4296",
   "metadata": {},
   "outputs": [],
   "source": [
    "outofstock = outofstock.dropna(subset='Datetimeout')"
   ]
  },
  {
   "cell_type": "code",
   "execution_count": 88,
   "id": "d7fe86da",
   "metadata": {},
   "outputs": [
    {
     "name": "stderr",
     "output_type": "stream",
     "text": [
      "C:\\Users\\user\\anaconda3\\lib\\site-packages\\workalendar\\core.py:436: UserWarning: Please take note that, due to arbitrary decisions, this Islamic calendar computation may be wrong.\n",
      "  warnings.warn('Please take note that, due to arbitrary decisions, '\n"
     ]
    }
   ],
   "source": [
    "##Define a working day\n",
    "\n",
    "####Days of the week\n",
    "workday = businesstimedelta.WorkDayRule(\n",
    "    start_time=datetime.time(9),\n",
    "    end_time=datetime.time(18),\n",
    "    working_days=[0,1, 2, 3, 4])\n",
    "\n",
    "cal = Kenya()\n",
    "hl = cal.holidays()\n",
    "vic_holidays = pyholidays.KE() \n",
    "holidays = businesstimedelta.HolidayRule(vic_holidays)\n",
    "businesshrs = businesstimedelta.Rules([workday, holidays], hl)\n",
    "\n",
    "def BusHrs(start, end):\n",
    "    if end>=start:\n",
    "        return businesshrs.difference(start,end).hours+float(businesshrs.difference(start,end).seconds)/float(3600)\n",
    "    else:\n",
    "        \"\"\n",
    "    \n",
    "RejectedSentWk_hrs=outofstock.apply(lambda row: BusHrs(row['Datetime'], row['Datetimeout']), axis=1)\n"
   ]
  },
  {
   "cell_type": "code",
   "execution_count": 89,
   "id": "a423d4b4",
   "metadata": {},
   "outputs": [],
   "source": [
    "# Define a working weekend day(Saturday)\n",
    "\n",
    "Saturday = businesstimedelta.WorkDayRule(start_time=datetime.time(9),end_time=datetime.time(16),working_days=[5])\n",
    "\n",
    "vic_holidays = pyholidays.KE()\n",
    "holidays = businesstimedelta.HolidayRule(vic_holidays)\n",
    "businesshrs = businesstimedelta.Rules([Saturday, holidays])\n",
    "\n",
    "def SatHrs(start, end):\n",
    "    if end>=start:\n",
    "        return businesshrs.difference(start,end).hours+float(businesshrs.difference(start,end).seconds)/float(3600)\n",
    "    else:\n",
    "        \"\"\n",
    "\n",
    "RejectedSentSat_hrs=outofstock.apply(lambda row: BusHrs(row['Datetime'], row['Datetimeout']), axis=1)\n"
   ]
  },
  {
   "cell_type": "code",
   "execution_count": 90,
   "id": "69d86660",
   "metadata": {},
   "outputs": [],
   "source": [
    "outofstock[\"delay\"]=(RejectedSentWk_hrs+RejectedSentSat_hrs)*60\n",
    "outofstock =outofstock.replace(\"\", np.nan)"
   ]
  },
  {
   "cell_type": "code",
   "execution_count": 91,
   "id": "74d028cb",
   "metadata": {},
   "outputs": [
    {
     "data": {
      "text/html": [
       "<div>\n",
       "<style scoped>\n",
       "    .dataframe tbody tr th:only-of-type {\n",
       "        vertical-align: middle;\n",
       "    }\n",
       "\n",
       "    .dataframe tbody tr th {\n",
       "        vertical-align: top;\n",
       "    }\n",
       "\n",
       "    .dataframe thead th {\n",
       "        text-align: right;\n",
       "    }\n",
       "</style>\n",
       "<table border=\"1\" class=\"dataframe\">\n",
       "  <thead>\n",
       "    <tr style=\"text-align: right;\">\n",
       "      <th></th>\n",
       "      <th>Created User</th>\n",
       "      <th>Date</th>\n",
       "      <th>Time</th>\n",
       "      <th>Status</th>\n",
       "      <th>DocEntry</th>\n",
       "      <th>DocNum</th>\n",
       "      <th>OrderCriteria Status</th>\n",
       "      <th>Datetime</th>\n",
       "      <th>Datetimeout</th>\n",
       "      <th>delay</th>\n",
       "      <th>delayed dept</th>\n",
       "    </tr>\n",
       "  </thead>\n",
       "  <tbody>\n",
       "    <tr>\n",
       "      <th>913</th>\n",
       "      <td>approvals1</td>\n",
       "      <td>2023-03-15</td>\n",
       "      <td>13:11:00</td>\n",
       "      <td>Confirmed by Approvals Team</td>\n",
       "      <td>990061</td>\n",
       "      <td>231001439</td>\n",
       "      <td>Frame from HQ and Lens from HQ</td>\n",
       "      <td>2023-03-15 13:11:00</td>\n",
       "      <td>2023-03-15 13:17:00</td>\n",
       "      <td>6.0</td>\n",
       "      <td>HQ Item Out of Stock(Designer)</td>\n",
       "    </tr>\n",
       "    <tr>\n",
       "      <th>914</th>\n",
       "      <td>approvals1</td>\n",
       "      <td>2023-03-15</td>\n",
       "      <td>13:11:00</td>\n",
       "      <td>Confirmed by Approvals Team</td>\n",
       "      <td>990061</td>\n",
       "      <td>231001439</td>\n",
       "      <td>Frame from HQ and Lens from HQ</td>\n",
       "      <td>2023-03-15 13:11:00</td>\n",
       "      <td>2023-03-15 13:17:00</td>\n",
       "      <td>6.0</td>\n",
       "      <td>HQ Item Out of Stock(Designer)</td>\n",
       "    </tr>\n",
       "    <tr>\n",
       "      <th>1739</th>\n",
       "      <td>approvals2</td>\n",
       "      <td>2023-02-06</td>\n",
       "      <td>10:22:00</td>\n",
       "      <td>Confirmed by Approvals Team</td>\n",
       "      <td>942909</td>\n",
       "      <td>233400699</td>\n",
       "      <td>Overseas Lens with HQ Frame</td>\n",
       "      <td>2023-02-06 10:22:00</td>\n",
       "      <td>2023-02-07 16:00:00</td>\n",
       "      <td>878.0</td>\n",
       "      <td>HQ Item Out of Stock(Designer)</td>\n",
       "    </tr>\n",
       "    <tr>\n",
       "      <th>1740</th>\n",
       "      <td>approvals2</td>\n",
       "      <td>2023-02-06</td>\n",
       "      <td>10:22:00</td>\n",
       "      <td>Confirmed by Approvals Team</td>\n",
       "      <td>942909</td>\n",
       "      <td>233400699</td>\n",
       "      <td>Overseas Lens with HQ Frame</td>\n",
       "      <td>2023-02-06 10:22:00</td>\n",
       "      <td>2023-02-07 16:00:00</td>\n",
       "      <td>878.0</td>\n",
       "      <td>HQ Item Out of Stock(Designer)</td>\n",
       "    </tr>\n",
       "    <tr>\n",
       "      <th>2346</th>\n",
       "      <td>approvals2</td>\n",
       "      <td>2023-02-09</td>\n",
       "      <td>12:11:00</td>\n",
       "      <td>Confirmed by Approvals Team</td>\n",
       "      <td>953019</td>\n",
       "      <td>234300880</td>\n",
       "      <td>Frame from HQ and Lens from HQ</td>\n",
       "      <td>2023-02-09 12:11:00</td>\n",
       "      <td>2023-02-09 12:31:00</td>\n",
       "      <td>20.0</td>\n",
       "      <td>HQ Item Out of Stock(Designer)</td>\n",
       "    </tr>\n",
       "  </tbody>\n",
       "</table>\n",
       "</div>"
      ],
      "text/plain": [
       "     Created User       Date      Time                       Status  DocEntry  \\\n",
       "913    approvals1 2023-03-15  13:11:00  Confirmed by Approvals Team    990061   \n",
       "914    approvals1 2023-03-15  13:11:00  Confirmed by Approvals Team    990061   \n",
       "1739   approvals2 2023-02-06  10:22:00  Confirmed by Approvals Team    942909   \n",
       "1740   approvals2 2023-02-06  10:22:00  Confirmed by Approvals Team    942909   \n",
       "2346   approvals2 2023-02-09  12:11:00  Confirmed by Approvals Team    953019   \n",
       "\n",
       "         DocNum            OrderCriteria Status            Datetime  \\\n",
       "913   231001439  Frame from HQ and Lens from HQ 2023-03-15 13:11:00   \n",
       "914   231001439  Frame from HQ and Lens from HQ 2023-03-15 13:11:00   \n",
       "1739  233400699     Overseas Lens with HQ Frame 2023-02-06 10:22:00   \n",
       "1740  233400699     Overseas Lens with HQ Frame 2023-02-06 10:22:00   \n",
       "2346  234300880  Frame from HQ and Lens from HQ 2023-02-09 12:11:00   \n",
       "\n",
       "             Datetimeout  delay                    delayed dept  \n",
       "913  2023-03-15 13:17:00    6.0  HQ Item Out of Stock(Designer)  \n",
       "914  2023-03-15 13:17:00    6.0  HQ Item Out of Stock(Designer)  \n",
       "1739 2023-02-07 16:00:00  878.0  HQ Item Out of Stock(Designer)  \n",
       "1740 2023-02-07 16:00:00  878.0  HQ Item Out of Stock(Designer)  \n",
       "2346 2023-02-09 12:31:00   20.0  HQ Item Out of Stock(Designer)  "
      ]
     },
     "execution_count": 91,
     "metadata": {},
     "output_type": "execute_result"
    }
   ],
   "source": [
    "outofstock['delayed dept']=outofstock['delay'].apply(lambda x: 'HQ Item Out of Stock(Designer)' )\n",
    "des_outofstock=outofstock\n",
    "des_outofstock.head(5)"
   ]
  },
  {
   "cell_type": "markdown",
   "id": "61dd811c",
   "metadata": {},
   "source": [
    "## All Designer"
   ]
  },
  {
   "cell_type": "code",
   "execution_count": 92,
   "id": "11d5431c",
   "metadata": {},
   "outputs": [],
   "source": [
    "alldesigner=pd.concat([DesignerStore_orderprinted_lenstore,designer_orderprinted_control,designerdamage_reissued,des_outofstock])"
   ]
  },
  {
   "cell_type": "code",
   "execution_count": 93,
   "id": "57f49f89",
   "metadata": {},
   "outputs": [
    {
     "data": {
      "text/plain": [
       "array(['Did not delay at Designer', 'Delayed at Designer',\n",
       "       'Designer delayed to reissue Frame',\n",
       "       'HQ Item Out of Stock(Designer)'], dtype=object)"
      ]
     },
     "execution_count": 93,
     "metadata": {},
     "output_type": "execute_result"
    }
   ],
   "source": [
    "alldesigner['delayed dept'].unique()"
   ]
  },
  {
   "cell_type": "markdown",
   "id": "3fe457e4",
   "metadata": {},
   "source": [
    "# Lens store-alllens"
   ]
  },
  {
   "cell_type": "markdown",
   "id": "3e966fa7",
   "metadata": {},
   "source": [
    "## LENSTORE(Branch Frame/Frame sent to lens store to controlroom)-lens_tocontrolroom"
   ]
  },
  {
   "cell_type": "code",
   "execution_count": 94,
   "id": "a566fdd8",
   "metadata": {},
   "outputs": [
    {
     "data": {
      "text/plain": [
       "array(['Frame Sent to Lens Store', 'Branch Frame Sent to Lens Store',\n",
       "       'PL Sent to Lens Store', 'PF Sent to Lens Store',\n",
       "       'PF to Follow Sent to Lens Store'], dtype=object)"
      ]
     },
     "execution_count": 94,
     "metadata": {},
     "output_type": "execute_result"
    }
   ],
   "source": [
    "Senttolens1 = status[status['Status']== 'Frame Sent to Lens Store']\n",
    "Senttolens2 = status[status['Status']== 'Branch Frame Sent to Lens Store']\n",
    "Senttolens3 = status[status['Status']== 'PL Sent to Lens Store']\n",
    "Senttolens4 = status[status['Status']== 'PF Sent to Lens Store']\n",
    "Senttolens5 = status[status['Status']== 'PF to Follow Sent to Lens Store']\n",
    "\n",
    "Senttolens=pd.concat([Senttolens1,Senttolens2,Senttolens3,Senttolens4,Senttolens5])\n",
    "\n",
    "Senttolens['Status'].unique()"
   ]
  },
  {
   "cell_type": "code",
   "execution_count": 95,
   "id": "0429d78a",
   "metadata": {},
   "outputs": [
    {
     "data": {
      "text/plain": [
       "array(['ReIssued Lens for Order', 'Lenses coming from Branch Lab',\n",
       "       'Blanks Sent to Control Room', 'Sent to Control Room'],\n",
       "      dtype=object)"
      ]
     },
     "execution_count": 95,
     "metadata": {},
     "output_type": "execute_result"
    }
   ],
   "source": [
    "Senttocontrol1 = status[status['Status']== 'ReIssued Lens for Order']\n",
    "Senttocontrol2 = status[status['Status']== 'Lenses coming from Branch Lab']\n",
    "Senttocontrol3 = status[status['Status']== 'Blanks Sent to Control Room']\n",
    "Senttocontrol4 = status[status['Status']== 'Sent to Control Room']\n",
    "\n",
    "\n",
    "Senttocontrol=pd.concat([Senttocontrol1,Senttocontrol2,Senttocontrol3,Senttocontrol4])\n",
    "\n",
    "Senttocontrol['Status'].unique()"
   ]
  },
  {
   "cell_type": "code",
   "execution_count": 96,
   "id": "488c7952",
   "metadata": {},
   "outputs": [],
   "source": [
    "Senttocontrol.rename(columns={'Datetime':'Datetimeout','Status':'Status2'}, inplace=True)"
   ]
  },
  {
   "cell_type": "code",
   "execution_count": 97,
   "id": "eb8d606f",
   "metadata": {},
   "outputs": [],
   "source": [
    "Senttocontrol = Senttocontrol.drop_duplicates(subset=['DocEntry','Status2'], keep='first')"
   ]
  },
  {
   "cell_type": "code",
   "execution_count": 98,
   "id": "1e274a5e",
   "metadata": {},
   "outputs": [
    {
     "data": {
      "text/html": [
       "<div>\n",
       "<style scoped>\n",
       "    .dataframe tbody tr th:only-of-type {\n",
       "        vertical-align: middle;\n",
       "    }\n",
       "\n",
       "    .dataframe tbody tr th {\n",
       "        vertical-align: top;\n",
       "    }\n",
       "\n",
       "    .dataframe thead th {\n",
       "        text-align: right;\n",
       "    }\n",
       "</style>\n",
       "<table border=\"1\" class=\"dataframe\">\n",
       "  <thead>\n",
       "    <tr style=\"text-align: right;\">\n",
       "      <th></th>\n",
       "      <th>Created User</th>\n",
       "      <th>Date</th>\n",
       "      <th>Time</th>\n",
       "      <th>Status</th>\n",
       "      <th>DocEntry</th>\n",
       "      <th>DocNum</th>\n",
       "      <th>OrderCriteria Status</th>\n",
       "      <th>Datetime</th>\n",
       "      <th>Datetimeout</th>\n",
       "      <th>Status2</th>\n",
       "    </tr>\n",
       "  </thead>\n",
       "  <tbody>\n",
       "    <tr>\n",
       "      <th>0</th>\n",
       "      <td>designer1</td>\n",
       "      <td>2023-02-01</td>\n",
       "      <td>08:57:00</td>\n",
       "      <td>Frame Sent to Lens Store</td>\n",
       "      <td>941526</td>\n",
       "      <td>23300508</td>\n",
       "      <td>Frame from HQ and Lens from HQ</td>\n",
       "      <td>2023-02-01 08:57:00</td>\n",
       "      <td>2023-02-01 09:11:00</td>\n",
       "      <td>Sent to Control Room</td>\n",
       "    </tr>\n",
       "    <tr>\n",
       "      <th>1</th>\n",
       "      <td>designer1</td>\n",
       "      <td>2023-02-01</td>\n",
       "      <td>09:29:00</td>\n",
       "      <td>Frame Sent to Lens Store</td>\n",
       "      <td>939090</td>\n",
       "      <td>23203486</td>\n",
       "      <td>Frame from HQ and Lens from HQ</td>\n",
       "      <td>2023-02-01 09:29:00</td>\n",
       "      <td>2023-02-01 09:38:00</td>\n",
       "      <td>Sent to Control Room</td>\n",
       "    </tr>\n",
       "    <tr>\n",
       "      <th>2</th>\n",
       "      <td>designer1</td>\n",
       "      <td>2023-02-01</td>\n",
       "      <td>10:51:00</td>\n",
       "      <td>Frame Sent to Lens Store</td>\n",
       "      <td>943533</td>\n",
       "      <td>23800368</td>\n",
       "      <td>Frame from HQ and Lens from HQ</td>\n",
       "      <td>2023-02-01 10:51:00</td>\n",
       "      <td>2023-02-01 10:55:00</td>\n",
       "      <td>Sent to Control Room</td>\n",
       "    </tr>\n",
       "  </tbody>\n",
       "</table>\n",
       "</div>"
      ],
      "text/plain": [
       "  Created User       Date      Time                    Status  DocEntry  \\\n",
       "0    designer1 2023-02-01  08:57:00  Frame Sent to Lens Store    941526   \n",
       "1    designer1 2023-02-01  09:29:00  Frame Sent to Lens Store    939090   \n",
       "2    designer1 2023-02-01  10:51:00  Frame Sent to Lens Store    943533   \n",
       "\n",
       "     DocNum            OrderCriteria Status            Datetime  \\\n",
       "0  23300508  Frame from HQ and Lens from HQ 2023-02-01 08:57:00   \n",
       "1  23203486  Frame from HQ and Lens from HQ 2023-02-01 09:29:00   \n",
       "2  23800368  Frame from HQ and Lens from HQ 2023-02-01 10:51:00   \n",
       "\n",
       "          Datetimeout               Status2  \n",
       "0 2023-02-01 09:11:00  Sent to Control Room  \n",
       "1 2023-02-01 09:38:00  Sent to Control Room  \n",
       "2 2023-02-01 10:55:00  Sent to Control Room  "
      ]
     },
     "execution_count": 98,
     "metadata": {},
     "output_type": "execute_result"
    }
   ],
   "source": [
    "lens_tocontrol= pd.merge(Senttolens,Senttocontrol[['DocNum','Datetimeout','Status2']], on='DocNum', how='left')\n",
    "lens_tocontrol.head(3)"
   ]
  },
  {
   "cell_type": "code",
   "execution_count": 99,
   "id": "bf71fea5",
   "metadata": {},
   "outputs": [],
   "source": [
    "lens_tocontrol=lens_tocontrol.dropna(subset='Datetimeout')"
   ]
  },
  {
   "cell_type": "code",
   "execution_count": 100,
   "id": "1994583c",
   "metadata": {},
   "outputs": [
    {
     "name": "stderr",
     "output_type": "stream",
     "text": [
      "C:\\Users\\user\\anaconda3\\lib\\site-packages\\workalendar\\core.py:436: UserWarning: Please take note that, due to arbitrary decisions, this Islamic calendar computation may be wrong.\n",
      "  warnings.warn('Please take note that, due to arbitrary decisions, '\n"
     ]
    }
   ],
   "source": [
    "##Define a working day\n",
    "\n",
    "####Days of the week\n",
    "workday = businesstimedelta.WorkDayRule(\n",
    "    start_time=datetime.time(9),\n",
    "    end_time=datetime.time(18),\n",
    "    working_days=[0,1, 2, 3, 4])\n",
    "\n",
    "cal = Kenya()\n",
    "hl = cal.holidays()\n",
    "vic_holidays = pyholidays.KE() \n",
    "holidays = businesstimedelta.HolidayRule(vic_holidays)\n",
    "businesshrs = businesstimedelta.Rules([workday, holidays], hl)\n",
    "\n",
    "def BusHrs(start, end):\n",
    "    if end>=start:\n",
    "        return businesshrs.difference(start,end).hours+float(businesshrs.difference(start,end).seconds)/float(3600)\n",
    "    else:\n",
    "        \"\"\n",
    "    \n",
    "RejectedSentWk_hrs=lens_tocontrol.apply(lambda row: BusHrs(row['Datetime'], row['Datetimeout']), axis=1)\n"
   ]
  },
  {
   "cell_type": "code",
   "execution_count": 101,
   "id": "37a029f9",
   "metadata": {},
   "outputs": [],
   "source": [
    "# Define a working weekend day(Saturday)\n",
    "\n",
    "Saturday = businesstimedelta.WorkDayRule(start_time=datetime.time(9),end_time=datetime.time(16),working_days=[5])\n",
    "\n",
    "vic_holidays = pyholidays.KE()\n",
    "holidays = businesstimedelta.HolidayRule(vic_holidays)\n",
    "businesshrs = businesstimedelta.Rules([Saturday, holidays])\n",
    "\n",
    "def SatHrs(start, end):\n",
    "    if end>=start:\n",
    "        return businesshrs.difference(start,end).hours+float(businesshrs.difference(start,end).seconds)/float(3600)\n",
    "    else:\n",
    "        \"\"\n",
    "\n",
    "RejectedSentSat_hrs=lens_tocontrol.apply(lambda row: BusHrs(row['Datetime'], row['Datetimeout']), axis=1)\n"
   ]
  },
  {
   "cell_type": "code",
   "execution_count": 102,
   "id": "b539e91c",
   "metadata": {},
   "outputs": [],
   "source": [
    "lens_tocontrol[\"delay\"]=(RejectedSentWk_hrs+RejectedSentSat_hrs)*60\n",
    "\n",
    "lens_tocontrol =lens_tocontrol.replace(\"\", np.nan)\n"
   ]
  },
  {
   "cell_type": "code",
   "execution_count": 103,
   "id": "2c5f3ad9",
   "metadata": {},
   "outputs": [
    {
     "data": {
      "text/plain": [
       "array(['Delayed at Lens store', 'Did not delay at Lens store',\n",
       "       'Lenses coming from Branch Lab'], dtype=object)"
      ]
     },
     "execution_count": 103,
     "metadata": {},
     "output_type": "execute_result"
    }
   ],
   "source": [
    "lens_tocontrol['delayed dept']=lens_tocontrol['delay'].apply(lambda x: 'Delayed at Lens store' if x>10 else 'Did not delay at Lens store' )\n",
    "lens_tocontrol['delayed dept'] = np.where(lens_tocontrol['Status2'] =='Lenses coming from Branch Lab','Lenses coming from Branch Lab',lens_tocontrol['delayed dept'])\n",
    "\n",
    "lens_tocontrol['delayed dept'].unique()"
   ]
  },
  {
   "cell_type": "code",
   "execution_count": 104,
   "id": "15dd7aa9",
   "metadata": {},
   "outputs": [
    {
     "data": {
      "text/html": [
       "<div>\n",
       "<style scoped>\n",
       "    .dataframe tbody tr th:only-of-type {\n",
       "        vertical-align: middle;\n",
       "    }\n",
       "\n",
       "    .dataframe tbody tr th {\n",
       "        vertical-align: top;\n",
       "    }\n",
       "\n",
       "    .dataframe thead th {\n",
       "        text-align: right;\n",
       "    }\n",
       "</style>\n",
       "<table border=\"1\" class=\"dataframe\">\n",
       "  <thead>\n",
       "    <tr style=\"text-align: right;\">\n",
       "      <th></th>\n",
       "      <th>Created User</th>\n",
       "      <th>Date</th>\n",
       "      <th>Time</th>\n",
       "      <th>Status</th>\n",
       "      <th>DocEntry</th>\n",
       "      <th>DocNum</th>\n",
       "      <th>OrderCriteria Status</th>\n",
       "      <th>Datetime</th>\n",
       "      <th>Datetimeout</th>\n",
       "      <th>Status2</th>\n",
       "      <th>delay</th>\n",
       "      <th>delayed dept</th>\n",
       "    </tr>\n",
       "  </thead>\n",
       "  <tbody>\n",
       "    <tr>\n",
       "      <th>0</th>\n",
       "      <td>designer1</td>\n",
       "      <td>2023-02-01</td>\n",
       "      <td>08:57:00</td>\n",
       "      <td>Frame Sent to Lens Store</td>\n",
       "      <td>941526</td>\n",
       "      <td>23300508</td>\n",
       "      <td>Frame from HQ and Lens from HQ</td>\n",
       "      <td>2023-02-01 08:57:00</td>\n",
       "      <td>2023-02-01 09:11:00</td>\n",
       "      <td>Sent to Control Room</td>\n",
       "      <td>11.0</td>\n",
       "      <td>Delayed at Lens store</td>\n",
       "    </tr>\n",
       "    <tr>\n",
       "      <th>1</th>\n",
       "      <td>designer1</td>\n",
       "      <td>2023-02-01</td>\n",
       "      <td>09:29:00</td>\n",
       "      <td>Frame Sent to Lens Store</td>\n",
       "      <td>939090</td>\n",
       "      <td>23203486</td>\n",
       "      <td>Frame from HQ and Lens from HQ</td>\n",
       "      <td>2023-02-01 09:29:00</td>\n",
       "      <td>2023-02-01 09:38:00</td>\n",
       "      <td>Sent to Control Room</td>\n",
       "      <td>9.0</td>\n",
       "      <td>Did not delay at Lens store</td>\n",
       "    </tr>\n",
       "  </tbody>\n",
       "</table>\n",
       "</div>"
      ],
      "text/plain": [
       "  Created User       Date      Time                    Status  DocEntry  \\\n",
       "0    designer1 2023-02-01  08:57:00  Frame Sent to Lens Store    941526   \n",
       "1    designer1 2023-02-01  09:29:00  Frame Sent to Lens Store    939090   \n",
       "\n",
       "     DocNum            OrderCriteria Status            Datetime  \\\n",
       "0  23300508  Frame from HQ and Lens from HQ 2023-02-01 08:57:00   \n",
       "1  23203486  Frame from HQ and Lens from HQ 2023-02-01 09:29:00   \n",
       "\n",
       "          Datetimeout               Status2  delay  \\\n",
       "0 2023-02-01 09:11:00  Sent to Control Room   11.0   \n",
       "1 2023-02-01 09:38:00  Sent to Control Room    9.0   \n",
       "\n",
       "                  delayed dept  \n",
       "0        Delayed at Lens store  \n",
       "1  Did not delay at Lens store  "
      ]
     },
     "execution_count": 104,
     "metadata": {},
     "output_type": "execute_result"
    }
   ],
   "source": [
    "lens_tocontrolroom=lens_tocontrol\n",
    "lens_tocontrolroom.head(2)"
   ]
  },
  {
   "cell_type": "markdown",
   "id": "851d7c6d",
   "metadata": {},
   "source": [
    "## LENSTORE(PL &PF -Awaiting feedback)-pf_pl_awaiting"
   ]
  },
  {
   "cell_type": "code",
   "execution_count": 105,
   "id": "ed77a8e3",
   "metadata": {},
   "outputs": [
    {
     "data": {
      "text/plain": [
       "array(['PF & PL Sent to Lens Store'], dtype=object)"
      ]
     },
     "execution_count": 105,
     "metadata": {},
     "output_type": "execute_result"
    }
   ],
   "source": [
    "Senttolens = status[status['Status']== 'PF & PL Sent to Lens Store']\n",
    "\n",
    "Senttolens['Status'].unique()"
   ]
  },
  {
   "cell_type": "code",
   "execution_count": 106,
   "id": "886e5ec5",
   "metadata": {},
   "outputs": [
    {
     "data": {
      "text/plain": [
       "array(['Lens Store Awaiting Branch feedback from Client'], dtype=object)"
      ]
     },
     "execution_count": 106,
     "metadata": {},
     "output_type": "execute_result"
    }
   ],
   "source": [
    "Senttocontrol = status[status['Status']== 'Lens Store Awaiting Branch feedback from Client']\n",
    "\n",
    "Senttocontrol['Status'].unique()"
   ]
  },
  {
   "cell_type": "code",
   "execution_count": 107,
   "id": "5e41382b",
   "metadata": {},
   "outputs": [
    {
     "name": "stderr",
     "output_type": "stream",
     "text": [
      "C:\\Users\\user\\AppData\\Local\\Temp\\ipykernel_15940\\2763136328.py:1: SettingWithCopyWarning: \n",
      "A value is trying to be set on a copy of a slice from a DataFrame\n",
      "\n",
      "See the caveats in the documentation: https://pandas.pydata.org/pandas-docs/stable/user_guide/indexing.html#returning-a-view-versus-a-copy\n",
      "  Senttocontrol.rename(columns={'Datetime':'Datetimeout'}, inplace=True)\n"
     ]
    }
   ],
   "source": [
    "Senttocontrol.rename(columns={'Datetime':'Datetimeout'}, inplace=True)"
   ]
  },
  {
   "cell_type": "code",
   "execution_count": 108,
   "id": "6d4bb996",
   "metadata": {},
   "outputs": [],
   "source": [
    "Senttocontrol = Senttocontrol.drop_duplicates(subset=['DocEntry','Status'], keep='first')"
   ]
  },
  {
   "cell_type": "code",
   "execution_count": 109,
   "id": "7b63716d",
   "metadata": {},
   "outputs": [
    {
     "data": {
      "text/html": [
       "<div>\n",
       "<style scoped>\n",
       "    .dataframe tbody tr th:only-of-type {\n",
       "        vertical-align: middle;\n",
       "    }\n",
       "\n",
       "    .dataframe tbody tr th {\n",
       "        vertical-align: top;\n",
       "    }\n",
       "\n",
       "    .dataframe thead th {\n",
       "        text-align: right;\n",
       "    }\n",
       "</style>\n",
       "<table border=\"1\" class=\"dataframe\">\n",
       "  <thead>\n",
       "    <tr style=\"text-align: right;\">\n",
       "      <th></th>\n",
       "      <th>Created User</th>\n",
       "      <th>Date</th>\n",
       "      <th>Time</th>\n",
       "      <th>Status</th>\n",
       "      <th>DocEntry</th>\n",
       "      <th>DocNum</th>\n",
       "      <th>OrderCriteria Status</th>\n",
       "      <th>Datetime</th>\n",
       "      <th>Datetimeout</th>\n",
       "    </tr>\n",
       "  </thead>\n",
       "  <tbody>\n",
       "    <tr>\n",
       "      <th>0</th>\n",
       "      <td>receiving1</td>\n",
       "      <td>2023-02-01</td>\n",
       "      <td>11:56:00</td>\n",
       "      <td>PF &amp; PL Sent to Lens Store</td>\n",
       "      <td>943523</td>\n",
       "      <td>23601560</td>\n",
       "      <td>Spare Part from HQ</td>\n",
       "      <td>2023-02-01 11:56:00</td>\n",
       "      <td>NaT</td>\n",
       "    </tr>\n",
       "    <tr>\n",
       "      <th>1</th>\n",
       "      <td>receiving1</td>\n",
       "      <td>2023-02-01</td>\n",
       "      <td>12:20:00</td>\n",
       "      <td>PF &amp; PL Sent to Lens Store</td>\n",
       "      <td>942992</td>\n",
       "      <td>236800320</td>\n",
       "      <td>Spare Part from HQ</td>\n",
       "      <td>2023-02-01 12:20:00</td>\n",
       "      <td>NaT</td>\n",
       "    </tr>\n",
       "    <tr>\n",
       "      <th>2</th>\n",
       "      <td>receiving1</td>\n",
       "      <td>2023-02-01</td>\n",
       "      <td>12:28:00</td>\n",
       "      <td>PF &amp; PL Sent to Lens Store</td>\n",
       "      <td>943454</td>\n",
       "      <td>235700149</td>\n",
       "      <td>PL and Branch Frame</td>\n",
       "      <td>2023-02-01 12:28:00</td>\n",
       "      <td>NaT</td>\n",
       "    </tr>\n",
       "  </tbody>\n",
       "</table>\n",
       "</div>"
      ],
      "text/plain": [
       "  Created User       Date      Time                      Status  DocEntry  \\\n",
       "0   receiving1 2023-02-01  11:56:00  PF & PL Sent to Lens Store    943523   \n",
       "1   receiving1 2023-02-01  12:20:00  PF & PL Sent to Lens Store    942992   \n",
       "2   receiving1 2023-02-01  12:28:00  PF & PL Sent to Lens Store    943454   \n",
       "\n",
       "      DocNum OrderCriteria Status            Datetime Datetimeout  \n",
       "0   23601560   Spare Part from HQ 2023-02-01 11:56:00         NaT  \n",
       "1  236800320   Spare Part from HQ 2023-02-01 12:20:00         NaT  \n",
       "2  235700149  PL and Branch Frame 2023-02-01 12:28:00         NaT  "
      ]
     },
     "execution_count": 109,
     "metadata": {},
     "output_type": "execute_result"
    }
   ],
   "source": [
    "lens_tocontrol= pd.merge(Senttolens,Senttocontrol[['DocNum','Datetimeout']], on='DocNum', how='left')\n",
    "lens_tocontrol.head(3)"
   ]
  },
  {
   "cell_type": "code",
   "execution_count": 110,
   "id": "b8d124cb",
   "metadata": {},
   "outputs": [],
   "source": [
    "lens_tocontrol=lens_tocontrol.dropna(subset='Datetimeout')"
   ]
  },
  {
   "cell_type": "code",
   "execution_count": 111,
   "id": "f36612a6",
   "metadata": {},
   "outputs": [
    {
     "name": "stderr",
     "output_type": "stream",
     "text": [
      "C:\\Users\\user\\anaconda3\\lib\\site-packages\\workalendar\\core.py:436: UserWarning: Please take note that, due to arbitrary decisions, this Islamic calendar computation may be wrong.\n",
      "  warnings.warn('Please take note that, due to arbitrary decisions, '\n"
     ]
    }
   ],
   "source": [
    "##Define a working day\n",
    "\n",
    "####Days of the week\n",
    "workday = businesstimedelta.WorkDayRule(\n",
    "    start_time=datetime.time(9),\n",
    "    end_time=datetime.time(18),\n",
    "    working_days=[0,1, 2, 3, 4])\n",
    "\n",
    "cal = Kenya()\n",
    "hl = cal.holidays()\n",
    "vic_holidays = pyholidays.KE() \n",
    "holidays = businesstimedelta.HolidayRule(vic_holidays)\n",
    "businesshrs = businesstimedelta.Rules([workday, holidays], hl)\n",
    "\n",
    "def BusHrs(start, end):\n",
    "    if end>=start:\n",
    "        return businesshrs.difference(start,end).hours+float(businesshrs.difference(start,end).seconds)/float(3600)\n",
    "    else:\n",
    "        \"\"\n",
    "    \n",
    "RejectedSentWk_hrs=lens_tocontrol.apply(lambda row: BusHrs(row['Datetime'], row['Datetimeout']), axis=1)\n"
   ]
  },
  {
   "cell_type": "code",
   "execution_count": 112,
   "id": "f183f79d",
   "metadata": {},
   "outputs": [],
   "source": [
    "# Define a working weekend day(Saturday)\n",
    "\n",
    "Saturday = businesstimedelta.WorkDayRule(start_time=datetime.time(9),end_time=datetime.time(16),working_days=[5])\n",
    "\n",
    "vic_holidays = pyholidays.KE()\n",
    "holidays = businesstimedelta.HolidayRule(vic_holidays)\n",
    "businesshrs = businesstimedelta.Rules([Saturday, holidays])\n",
    "\n",
    "def SatHrs(start, end):\n",
    "    if end>=start:\n",
    "        return businesshrs.difference(start,end).hours+float(businesshrs.difference(start,end).seconds)/float(3600)\n",
    "    else:\n",
    "        \"\"\n",
    "\n",
    "RejectedSentSat_hrs=lens_tocontrol.apply(lambda row: BusHrs(row['Datetime'], row['Datetimeout']), axis=1)\n"
   ]
  },
  {
   "cell_type": "code",
   "execution_count": 113,
   "id": "c7881d40",
   "metadata": {},
   "outputs": [],
   "source": [
    "lens_tocontrol[\"delay\"]=(RejectedSentWk_hrs+RejectedSentSat_hrs)*60\n",
    "\n",
    "lens_tocontrol =lens_tocontrol.replace(\"\", np.nan)\n"
   ]
  },
  {
   "cell_type": "code",
   "execution_count": 114,
   "id": "2d08b238",
   "metadata": {},
   "outputs": [
    {
     "data": {
      "text/plain": [
       "array(['Did not delay at Lens store', 'Client delayed to give feedback'],\n",
       "      dtype=object)"
      ]
     },
     "execution_count": 114,
     "metadata": {},
     "output_type": "execute_result"
    }
   ],
   "source": [
    "lens_tocontrol['delayed dept']=lens_tocontrol['delay'].apply(lambda x: 'Client delayed to give feedback' if x>1200 else 'Did not delay at Lens store' )\n",
    "\n",
    "lens_tocontrol['delayed dept'].unique()"
   ]
  },
  {
   "cell_type": "code",
   "execution_count": 115,
   "id": "8f3cbcf5",
   "metadata": {},
   "outputs": [
    {
     "data": {
      "text/html": [
       "<div>\n",
       "<style scoped>\n",
       "    .dataframe tbody tr th:only-of-type {\n",
       "        vertical-align: middle;\n",
       "    }\n",
       "\n",
       "    .dataframe tbody tr th {\n",
       "        vertical-align: top;\n",
       "    }\n",
       "\n",
       "    .dataframe thead th {\n",
       "        text-align: right;\n",
       "    }\n",
       "</style>\n",
       "<table border=\"1\" class=\"dataframe\">\n",
       "  <thead>\n",
       "    <tr style=\"text-align: right;\">\n",
       "      <th></th>\n",
       "      <th>Created User</th>\n",
       "      <th>Date</th>\n",
       "      <th>Time</th>\n",
       "      <th>Status</th>\n",
       "      <th>DocEntry</th>\n",
       "      <th>DocNum</th>\n",
       "      <th>OrderCriteria Status</th>\n",
       "      <th>Datetime</th>\n",
       "      <th>Datetimeout</th>\n",
       "      <th>delay</th>\n",
       "      <th>delayed dept</th>\n",
       "    </tr>\n",
       "  </thead>\n",
       "  <tbody>\n",
       "    <tr>\n",
       "      <th>13</th>\n",
       "      <td>receiving1</td>\n",
       "      <td>2023-02-03</td>\n",
       "      <td>09:39:00</td>\n",
       "      <td>PF &amp; PL Sent to Lens Store</td>\n",
       "      <td>945709</td>\n",
       "      <td>233300301</td>\n",
       "      <td>Spare Part from HQ</td>\n",
       "      <td>2023-02-03 09:39:00</td>\n",
       "      <td>2023-02-03 12:48:00</td>\n",
       "      <td>189.0</td>\n",
       "      <td>Did not delay at Lens store</td>\n",
       "    </tr>\n",
       "    <tr>\n",
       "      <th>22</th>\n",
       "      <td>receiving1</td>\n",
       "      <td>2023-02-06</td>\n",
       "      <td>09:45:00</td>\n",
       "      <td>PF &amp; PL Sent to Lens Store</td>\n",
       "      <td>948176</td>\n",
       "      <td>234800475</td>\n",
       "      <td>Spare Part from HQ</td>\n",
       "      <td>2023-02-06 09:45:00</td>\n",
       "      <td>2023-02-07 12:01:00</td>\n",
       "      <td>676.0</td>\n",
       "      <td>Did not delay at Lens store</td>\n",
       "    </tr>\n",
       "  </tbody>\n",
       "</table>\n",
       "</div>"
      ],
      "text/plain": [
       "   Created User       Date      Time                      Status  DocEntry  \\\n",
       "13   receiving1 2023-02-03  09:39:00  PF & PL Sent to Lens Store    945709   \n",
       "22   receiving1 2023-02-06  09:45:00  PF & PL Sent to Lens Store    948176   \n",
       "\n",
       "       DocNum OrderCriteria Status            Datetime         Datetimeout  \\\n",
       "13  233300301   Spare Part from HQ 2023-02-03 09:39:00 2023-02-03 12:48:00   \n",
       "22  234800475   Spare Part from HQ 2023-02-06 09:45:00 2023-02-07 12:01:00   \n",
       "\n",
       "    delay                 delayed dept  \n",
       "13  189.0  Did not delay at Lens store  \n",
       "22  676.0  Did not delay at Lens store  "
      ]
     },
     "execution_count": 115,
     "metadata": {},
     "output_type": "execute_result"
    }
   ],
   "source": [
    "lens_toawaiting=lens_tocontrol\n",
    "lens_toawaiting.head(2)"
   ]
  },
  {
   "cell_type": "markdown",
   "id": "73ecdb11",
   "metadata": {},
   "source": [
    "## All lensstore"
   ]
  },
  {
   "cell_type": "code",
   "execution_count": 116,
   "id": "fcb9f3c4",
   "metadata": {},
   "outputs": [],
   "source": [
    "alllens=pd.concat([lens_tocontrolroom,lens_toawaiting])"
   ]
  },
  {
   "cell_type": "code",
   "execution_count": 117,
   "id": "6e4cf3a4",
   "metadata": {},
   "outputs": [
    {
     "data": {
      "text/plain": [
       "array(['Frame Sent to Lens Store', 'Branch Frame Sent to Lens Store',\n",
       "       'PL Sent to Lens Store', 'PF Sent to Lens Store',\n",
       "       'PF to Follow Sent to Lens Store', 'PF & PL Sent to Lens Store'],\n",
       "      dtype=object)"
      ]
     },
     "execution_count": 117,
     "metadata": {},
     "output_type": "execute_result"
    }
   ],
   "source": [
    "alllens['Status'].unique()"
   ]
  },
  {
   "cell_type": "code",
   "execution_count": 118,
   "id": "f4e33b05",
   "metadata": {},
   "outputs": [],
   "source": [
    "alllens.to_clipboard()"
   ]
  },
  {
   "cell_type": "markdown",
   "id": "1c5c1ae4",
   "metadata": {},
   "source": [
    "# Control room-allcontrol"
   ]
  },
  {
   "cell_type": "markdown",
   "id": "a8d38cfd",
   "metadata": {},
   "source": [
    "### controlroom to preqc - control_preqc"
   ]
  },
  {
   "cell_type": "code",
   "execution_count": 119,
   "id": "8079afe4",
   "metadata": {},
   "outputs": [
    {
     "data": {
      "text/plain": [
       "array(['Sent to Control Room'], dtype=object)"
      ]
     },
     "execution_count": 119,
     "metadata": {},
     "output_type": "execute_result"
    }
   ],
   "source": [
    "Senttocontrol = status[status['Status']== 'Sent to Control Room']\n",
    "\n",
    "\n",
    "Senttocontrol['Status'].unique()"
   ]
  },
  {
   "cell_type": "code",
   "execution_count": 120,
   "id": "cb9ab364",
   "metadata": {},
   "outputs": [
    {
     "data": {
      "text/plain": [
       "array(['Sent to Pre Quality', 'Sent to Packaging', 'Sent to Surfacing'],\n",
       "      dtype=object)"
      ]
     },
     "execution_count": 120,
     "metadata": {},
     "output_type": "execute_result"
    }
   ],
   "source": [
    "Senttopre1 = status[status['Status']== 'Sent to Pre Quality']\n",
    "Senttopre2 = status[status['Status']== 'Sent to Packaging']\n",
    "Senttopre3 = status[status['Status']== 'Sent to Surfacing']\n",
    "\n",
    "\n",
    "Senttopre=pd.concat([Senttopre1,Senttopre2,Senttopre3])\n",
    "\n",
    "Senttopre['Status'].unique()"
   ]
  },
  {
   "cell_type": "code",
   "execution_count": 121,
   "id": "4f02858e",
   "metadata": {},
   "outputs": [],
   "source": [
    "Senttopre.rename(columns={'Datetime':'Datetimeout'}, inplace=True)"
   ]
  },
  {
   "cell_type": "code",
   "execution_count": 122,
   "id": "74cdbe21",
   "metadata": {},
   "outputs": [],
   "source": [
    "Senttopre = Senttopre.drop_duplicates(subset=['DocEntry'], keep='first')"
   ]
  },
  {
   "cell_type": "code",
   "execution_count": 123,
   "id": "fd3723a3",
   "metadata": {},
   "outputs": [
    {
     "data": {
      "text/html": [
       "<div>\n",
       "<style scoped>\n",
       "    .dataframe tbody tr th:only-of-type {\n",
       "        vertical-align: middle;\n",
       "    }\n",
       "\n",
       "    .dataframe tbody tr th {\n",
       "        vertical-align: top;\n",
       "    }\n",
       "\n",
       "    .dataframe thead th {\n",
       "        text-align: right;\n",
       "    }\n",
       "</style>\n",
       "<table border=\"1\" class=\"dataframe\">\n",
       "  <thead>\n",
       "    <tr style=\"text-align: right;\">\n",
       "      <th></th>\n",
       "      <th>Created User</th>\n",
       "      <th>Date</th>\n",
       "      <th>Time</th>\n",
       "      <th>Status</th>\n",
       "      <th>DocEntry</th>\n",
       "      <th>DocNum</th>\n",
       "      <th>OrderCriteria Status</th>\n",
       "      <th>Datetime</th>\n",
       "      <th>Datetimeout</th>\n",
       "    </tr>\n",
       "  </thead>\n",
       "  <tbody>\n",
       "    <tr>\n",
       "      <th>0</th>\n",
       "      <td>designer1</td>\n",
       "      <td>2023-02-01</td>\n",
       "      <td>17:56:00</td>\n",
       "      <td>Sent to Control Room</td>\n",
       "      <td>940978</td>\n",
       "      <td>235400524</td>\n",
       "      <td>Contact lens from HQ</td>\n",
       "      <td>2023-02-01 17:56:00</td>\n",
       "      <td>2023-02-01 17:57:00</td>\n",
       "    </tr>\n",
       "    <tr>\n",
       "      <th>1</th>\n",
       "      <td>designer1</td>\n",
       "      <td>2023-02-04</td>\n",
       "      <td>14:34:00</td>\n",
       "      <td>Sent to Control Room</td>\n",
       "      <td>948118</td>\n",
       "      <td>231401002</td>\n",
       "      <td>Contact lens from HQ</td>\n",
       "      <td>2023-02-04 14:34:00</td>\n",
       "      <td>2023-02-04 14:45:00</td>\n",
       "    </tr>\n",
       "    <tr>\n",
       "      <th>2</th>\n",
       "      <td>designer1</td>\n",
       "      <td>2023-02-18</td>\n",
       "      <td>11:10:00</td>\n",
       "      <td>Sent to Control Room</td>\n",
       "      <td>963485</td>\n",
       "      <td>23206447</td>\n",
       "      <td>Contact lens from HQ</td>\n",
       "      <td>2023-02-18 11:10:00</td>\n",
       "      <td>2023-02-18 11:16:00</td>\n",
       "    </tr>\n",
       "  </tbody>\n",
       "</table>\n",
       "</div>"
      ],
      "text/plain": [
       "  Created User       Date      Time                Status  DocEntry  \\\n",
       "0    designer1 2023-02-01  17:56:00  Sent to Control Room    940978   \n",
       "1    designer1 2023-02-04  14:34:00  Sent to Control Room    948118   \n",
       "2    designer1 2023-02-18  11:10:00  Sent to Control Room    963485   \n",
       "\n",
       "      DocNum  OrderCriteria Status            Datetime         Datetimeout  \n",
       "0  235400524  Contact lens from HQ 2023-02-01 17:56:00 2023-02-01 17:57:00  \n",
       "1  231401002  Contact lens from HQ 2023-02-04 14:34:00 2023-02-04 14:45:00  \n",
       "2   23206447  Contact lens from HQ 2023-02-18 11:10:00 2023-02-18 11:16:00  "
      ]
     },
     "execution_count": 123,
     "metadata": {},
     "output_type": "execute_result"
    }
   ],
   "source": [
    "cont_pre= pd.merge(Senttocontrol,Senttopre[['DocNum','Datetimeout']], on='DocNum', how='left')\n",
    "cont_pre.head(3)"
   ]
  },
  {
   "cell_type": "code",
   "execution_count": 124,
   "id": "e348f66d",
   "metadata": {},
   "outputs": [],
   "source": [
    "cont_pre=cont_pre.dropna(subset='Datetimeout')"
   ]
  },
  {
   "cell_type": "code",
   "execution_count": 125,
   "id": "0680e84d",
   "metadata": {},
   "outputs": [
    {
     "name": "stderr",
     "output_type": "stream",
     "text": [
      "C:\\Users\\user\\anaconda3\\lib\\site-packages\\workalendar\\core.py:436: UserWarning: Please take note that, due to arbitrary decisions, this Islamic calendar computation may be wrong.\n",
      "  warnings.warn('Please take note that, due to arbitrary decisions, '\n"
     ]
    }
   ],
   "source": [
    "##Define a working day\n",
    "\n",
    "####Days of the week\n",
    "workday = businesstimedelta.WorkDayRule(\n",
    "    start_time=datetime.time(9),\n",
    "    end_time=datetime.time(19),\n",
    "    working_days=[0,1, 2, 3, 4])\n",
    "\n",
    "cal = Kenya()\n",
    "hl = cal.holidays()\n",
    "vic_holidays = pyholidays.KE() \n",
    "holidays = businesstimedelta.HolidayRule(vic_holidays)\n",
    "businesshrs = businesstimedelta.Rules([workday, holidays], hl)\n",
    "\n",
    "\n",
    "def BusHrs(start, end):\n",
    "    if end>=start:\n",
    "        return businesshrs.difference(start,end).hours+float(businesshrs.difference(start,end).seconds)/float(3600)\n",
    "    else:\n",
    "        \"\"\n",
    "\n",
    "RejectedSentWk_hrs=cont_pre.apply(lambda row: BusHrs(row['Datetime'], row['Datetimeout']), axis=1)\n"
   ]
  },
  {
   "cell_type": "code",
   "execution_count": 126,
   "id": "47d13a8a",
   "metadata": {},
   "outputs": [],
   "source": [
    "# Define a working weekend day(Saturday)\n",
    "\n",
    "Saturday = businesstimedelta.WorkDayRule(start_time=datetime.time(9),end_time=datetime.time(16),working_days=[5])\n",
    "\n",
    "vic_holidays = pyholidays.KE()\n",
    "holidays = businesstimedelta.HolidayRule(vic_holidays)\n",
    "businesshrs = businesstimedelta.Rules([Saturday, holidays])\n",
    "\n",
    "def SatHrs(start, end):\n",
    "    if end>=start:\n",
    "        return businesshrs.difference(start,end).hours+float(businesshrs.difference(start,end).seconds)/float(3600)\n",
    "    else:\n",
    "        \"\"\n",
    "\n",
    "RejectedSentSat_hrs=cont_pre.apply(lambda row: BusHrs(row['Datetime'], row['Datetimeout']), axis=1)"
   ]
  },
  {
   "cell_type": "code",
   "execution_count": 127,
   "id": "3adb37d1",
   "metadata": {},
   "outputs": [],
   "source": [
    "cont_pre[\"delay\"]=(RejectedSentWk_hrs+RejectedSentSat_hrs)*60\n",
    "\n",
    "cont_pre =cont_pre.replace(\"\", np.nan)\n"
   ]
  },
  {
   "cell_type": "code",
   "execution_count": 128,
   "id": "3e512255",
   "metadata": {},
   "outputs": [
    {
     "data": {
      "text/plain": [
       "array(['Did not delay at Control room', 'Delayed at Control room'],\n",
       "      dtype=object)"
      ]
     },
     "execution_count": 128,
     "metadata": {},
     "output_type": "execute_result"
    }
   ],
   "source": [
    "cont_pre['delayed dept']=cont_pre['delay'].apply(lambda x: 'Delayed at Control room' if x>10 else 'Did not delay at Control room' )\n",
    "\n",
    "cont_pre['delayed dept'].unique()"
   ]
  },
  {
   "cell_type": "code",
   "execution_count": 129,
   "id": "65521f0e",
   "metadata": {},
   "outputs": [
    {
     "data": {
      "text/html": [
       "<div>\n",
       "<style scoped>\n",
       "    .dataframe tbody tr th:only-of-type {\n",
       "        vertical-align: middle;\n",
       "    }\n",
       "\n",
       "    .dataframe tbody tr th {\n",
       "        vertical-align: top;\n",
       "    }\n",
       "\n",
       "    .dataframe thead th {\n",
       "        text-align: right;\n",
       "    }\n",
       "</style>\n",
       "<table border=\"1\" class=\"dataframe\">\n",
       "  <thead>\n",
       "    <tr style=\"text-align: right;\">\n",
       "      <th></th>\n",
       "      <th>Created User</th>\n",
       "      <th>Date</th>\n",
       "      <th>Time</th>\n",
       "      <th>Status</th>\n",
       "      <th>DocEntry</th>\n",
       "      <th>DocNum</th>\n",
       "      <th>OrderCriteria Status</th>\n",
       "      <th>Datetime</th>\n",
       "      <th>Datetimeout</th>\n",
       "      <th>delay</th>\n",
       "      <th>delayed dept</th>\n",
       "    </tr>\n",
       "  </thead>\n",
       "  <tbody>\n",
       "    <tr>\n",
       "      <th>0</th>\n",
       "      <td>designer1</td>\n",
       "      <td>2023-02-01</td>\n",
       "      <td>17:56:00</td>\n",
       "      <td>Sent to Control Room</td>\n",
       "      <td>940978</td>\n",
       "      <td>235400524</td>\n",
       "      <td>Contact lens from HQ</td>\n",
       "      <td>2023-02-01 17:56:00</td>\n",
       "      <td>2023-02-01 17:57:00</td>\n",
       "      <td>1.0</td>\n",
       "      <td>Did not delay at Control room</td>\n",
       "    </tr>\n",
       "    <tr>\n",
       "      <th>1</th>\n",
       "      <td>designer1</td>\n",
       "      <td>2023-02-04</td>\n",
       "      <td>14:34:00</td>\n",
       "      <td>Sent to Control Room</td>\n",
       "      <td>948118</td>\n",
       "      <td>231401002</td>\n",
       "      <td>Contact lens from HQ</td>\n",
       "      <td>2023-02-04 14:34:00</td>\n",
       "      <td>2023-02-04 14:45:00</td>\n",
       "      <td>11.0</td>\n",
       "      <td>Delayed at Control room</td>\n",
       "    </tr>\n",
       "  </tbody>\n",
       "</table>\n",
       "</div>"
      ],
      "text/plain": [
       "  Created User       Date      Time                Status  DocEntry  \\\n",
       "0    designer1 2023-02-01  17:56:00  Sent to Control Room    940978   \n",
       "1    designer1 2023-02-04  14:34:00  Sent to Control Room    948118   \n",
       "\n",
       "      DocNum  OrderCriteria Status            Datetime         Datetimeout  \\\n",
       "0  235400524  Contact lens from HQ 2023-02-01 17:56:00 2023-02-01 17:57:00   \n",
       "1  231401002  Contact lens from HQ 2023-02-04 14:34:00 2023-02-04 14:45:00   \n",
       "\n",
       "   delay                   delayed dept  \n",
       "0    1.0  Did not delay at Control room  \n",
       "1   11.0        Delayed at Control room  "
      ]
     },
     "execution_count": 129,
     "metadata": {},
     "output_type": "execute_result"
    }
   ],
   "source": [
    "control_preqc=cont_pre\n",
    "control_preqc.head(2)"
   ]
  },
  {
   "cell_type": "markdown",
   "id": "fdb0308e",
   "metadata": {},
   "source": [
    "### All Control"
   ]
  },
  {
   "cell_type": "code",
   "execution_count": 130,
   "id": "24ba5757",
   "metadata": {},
   "outputs": [],
   "source": [
    "allcontrol = control_preqc"
   ]
  },
  {
   "cell_type": "markdown",
   "id": "b6e80b87",
   "metadata": {},
   "source": [
    "# Workshop"
   ]
  },
  {
   "cell_type": "markdown",
   "id": "0a9cf9a4",
   "metadata": {},
   "source": [
    "### Damaged orders - control_damage"
   ]
  },
  {
   "cell_type": "code",
   "execution_count": 131,
   "id": "f0738d22",
   "metadata": {},
   "outputs": [],
   "source": [
    "control_preqc.to_clipboard()"
   ]
  },
  {
   "cell_type": "code",
   "execution_count": 132,
   "id": "dd247dbf",
   "metadata": {},
   "outputs": [
    {
     "data": {
      "text/plain": [
       "array(['Damage Sent to Control Rooom',\n",
       "       'Surfacing Damage/Reject Sent to Control Room',\n",
       "       'Rejected Order Sent To Control Room'], dtype=object)"
      ]
     },
     "execution_count": 132,
     "metadata": {},
     "output_type": "execute_result"
    }
   ],
   "source": [
    "damtocontrol1 = status[status['Status']== 'Damage Sent to Control Rooom']\n",
    "damtocontrol2 = status[status['Status']== 'Surfacing Damage/Reject Sent to Control Room']\n",
    "damtocontrol3 = status[status['Status']== 'Rejected Order Sent To Control Room']\n",
    "\n",
    "\n",
    "damtocontrol=pd.concat([damtocontrol1,damtocontrol2,damtocontrol3])\n",
    "damtocontrol['Status'].unique()"
   ]
  },
  {
   "cell_type": "code",
   "execution_count": 133,
   "id": "5bf6b777",
   "metadata": {},
   "outputs": [],
   "source": [
    "work_store = damtocontrol"
   ]
  },
  {
   "cell_type": "code",
   "execution_count": 134,
   "id": "3b3aa7e6",
   "metadata": {},
   "outputs": [],
   "source": [
    "work_store['delayed dept']='Rejected/Damaged order'\n"
   ]
  },
  {
   "cell_type": "code",
   "execution_count": 135,
   "id": "3a2667cc",
   "metadata": {},
   "outputs": [
    {
     "data": {
      "text/plain": [
       "array(['Rejected/Damaged order'], dtype=object)"
      ]
     },
     "execution_count": 135,
     "metadata": {},
     "output_type": "execute_result"
    }
   ],
   "source": [
    "work_store['delayed dept'].unique()"
   ]
  },
  {
   "cell_type": "markdown",
   "id": "e6741869",
   "metadata": {},
   "source": [
    "## Glazing"
   ]
  },
  {
   "cell_type": "code",
   "execution_count": 136,
   "id": "fe7bacc1",
   "metadata": {},
   "outputs": [
    {
     "data": {
      "text/plain": [
       "array(['ReIssued Lens for Order', 'Rejected Order Sent To Control Room',\n",
       "       'ReIssued Frame for Order'], dtype=object)"
      ]
     },
     "execution_count": 136,
     "metadata": {},
     "output_type": "execute_result"
    }
   ],
   "source": [
    "damtostore1 = status[status['Status']== 'ReIssued Lens for Order']\n",
    "damtostore2 = status[status['Status']== 'Rejected Order Sent To Control Room']\n",
    "damtostore3 = status[status['Status']== 'ReIssued Frame for Order']\n",
    "\n",
    "\n",
    "damtostore=pd.concat([damtostore1,damtostore2,damtostore3])\n",
    "\n",
    "damtostore['Status'].unique()"
   ]
  },
  {
   "cell_type": "code",
   "execution_count": 137,
   "id": "66f319d5",
   "metadata": {},
   "outputs": [
    {
     "data": {
      "text/plain": [
       "array(['Sent to Packaging', 'Rejected Order Sent To Control Room',\n",
       "       'Damage Sent to Control Rooom'], dtype=object)"
      ]
     },
     "execution_count": 137,
     "metadata": {},
     "output_type": "execute_result"
    }
   ],
   "source": [
    "final1 = status[status['Status']== 'Sent to Packaging']\n",
    "final2 = status[status['Status']== 'Rejected Order Sent To Control Room']\n",
    "final3 = status[status['Status']== 'Damage Sent to Control Rooom']\n",
    "\n",
    "\n",
    "final=pd.concat([final1,final2,final3])\n",
    "\n",
    "final['Status'].unique()"
   ]
  },
  {
   "cell_type": "code",
   "execution_count": 138,
   "id": "8aa1d7b3",
   "metadata": {},
   "outputs": [],
   "source": [
    "final.rename(columns={'Datetime':'Datetimeout'}, inplace=True)"
   ]
  },
  {
   "cell_type": "code",
   "execution_count": 139,
   "id": "bdec539f",
   "metadata": {},
   "outputs": [],
   "source": [
    "final = final.drop_duplicates(subset=['DocEntry'], keep='first')\n",
    "damtostore= damtostore.drop_duplicates(subset=['DocEntry'], keep='first')"
   ]
  },
  {
   "cell_type": "code",
   "execution_count": 140,
   "id": "f4c0b430",
   "metadata": {},
   "outputs": [
    {
     "data": {
      "text/html": [
       "<div>\n",
       "<style scoped>\n",
       "    .dataframe tbody tr th:only-of-type {\n",
       "        vertical-align: middle;\n",
       "    }\n",
       "\n",
       "    .dataframe tbody tr th {\n",
       "        vertical-align: top;\n",
       "    }\n",
       "\n",
       "    .dataframe thead th {\n",
       "        text-align: right;\n",
       "    }\n",
       "</style>\n",
       "<table border=\"1\" class=\"dataframe\">\n",
       "  <thead>\n",
       "    <tr style=\"text-align: right;\">\n",
       "      <th></th>\n",
       "      <th>Created User</th>\n",
       "      <th>Date</th>\n",
       "      <th>Time</th>\n",
       "      <th>Status</th>\n",
       "      <th>DocEntry</th>\n",
       "      <th>DocNum</th>\n",
       "      <th>OrderCriteria Status</th>\n",
       "      <th>Datetime</th>\n",
       "      <th>Datetimeout</th>\n",
       "    </tr>\n",
       "  </thead>\n",
       "  <tbody>\n",
       "    <tr>\n",
       "      <th>0</th>\n",
       "      <td>lens1</td>\n",
       "      <td>2023-02-01</td>\n",
       "      <td>10:02:00</td>\n",
       "      <td>ReIssued Lens for Order</td>\n",
       "      <td>942757</td>\n",
       "      <td>23203935</td>\n",
       "      <td>Order with PF from Branch and Lens from HQ</td>\n",
       "      <td>2023-02-01 10:02:00</td>\n",
       "      <td>2023-02-01 10:59:00</td>\n",
       "    </tr>\n",
       "    <tr>\n",
       "      <th>1</th>\n",
       "      <td>lens1</td>\n",
       "      <td>2023-02-01</td>\n",
       "      <td>13:55:00</td>\n",
       "      <td>ReIssued Lens for Order</td>\n",
       "      <td>942948</td>\n",
       "      <td>232800807</td>\n",
       "      <td>Frame from HQ and Lens from HQ</td>\n",
       "      <td>2023-02-01 13:55:00</td>\n",
       "      <td>2023-02-01 14:25:00</td>\n",
       "    </tr>\n",
       "    <tr>\n",
       "      <th>2</th>\n",
       "      <td>lens1</td>\n",
       "      <td>2023-02-01</td>\n",
       "      <td>14:40:00</td>\n",
       "      <td>ReIssued Lens for Order</td>\n",
       "      <td>944036</td>\n",
       "      <td>23601582</td>\n",
       "      <td>Frame from HQ and Lens from HQ</td>\n",
       "      <td>2023-02-01 14:40:00</td>\n",
       "      <td>2023-02-01 15:58:00</td>\n",
       "    </tr>\n",
       "  </tbody>\n",
       "</table>\n",
       "</div>"
      ],
      "text/plain": [
       "  Created User       Date      Time                   Status  DocEntry  \\\n",
       "0        lens1 2023-02-01  10:02:00  ReIssued Lens for Order    942757   \n",
       "1        lens1 2023-02-01  13:55:00  ReIssued Lens for Order    942948   \n",
       "2        lens1 2023-02-01  14:40:00  ReIssued Lens for Order    944036   \n",
       "\n",
       "      DocNum                        OrderCriteria Status            Datetime  \\\n",
       "0   23203935  Order with PF from Branch and Lens from HQ 2023-02-01 10:02:00   \n",
       "1  232800807              Frame from HQ and Lens from HQ 2023-02-01 13:55:00   \n",
       "2   23601582              Frame from HQ and Lens from HQ 2023-02-01 14:40:00   \n",
       "\n",
       "          Datetimeout  \n",
       "0 2023-02-01 10:59:00  \n",
       "1 2023-02-01 14:25:00  \n",
       "2 2023-02-01 15:58:00  "
      ]
     },
     "execution_count": 140,
     "metadata": {},
     "output_type": "execute_result"
    }
   ],
   "source": [
    "pre_final= pd.merge(damtostore,final[['DocNum','Datetimeout']], on='DocNum', how='left')\n",
    "pre_final.head(3)"
   ]
  },
  {
   "cell_type": "code",
   "execution_count": 141,
   "id": "b47fe23a",
   "metadata": {},
   "outputs": [],
   "source": [
    "pre_final=pre_final.dropna(subset='Datetimeout')"
   ]
  },
  {
   "cell_type": "code",
   "execution_count": 142,
   "id": "95a63098",
   "metadata": {},
   "outputs": [
    {
     "name": "stderr",
     "output_type": "stream",
     "text": [
      "C:\\Users\\user\\anaconda3\\lib\\site-packages\\workalendar\\core.py:436: UserWarning: Please take note that, due to arbitrary decisions, this Islamic calendar computation may be wrong.\n",
      "  warnings.warn('Please take note that, due to arbitrary decisions, '\n"
     ]
    }
   ],
   "source": [
    "##Define a working day\n",
    "\n",
    "####Days of the week\n",
    "workday = businesstimedelta.WorkDayRule(\n",
    "    start_time=datetime.time(9),\n",
    "    end_time=datetime.time(19),\n",
    "    working_days=[0,1, 2, 3, 4])\n",
    "\n",
    "cal = Kenya()\n",
    "hl = cal.holidays()\n",
    "vic_holidays = pyholidays.KE() \n",
    "holidays = businesstimedelta.HolidayRule(vic_holidays)\n",
    "businesshrs = businesstimedelta.Rules([workday, holidays], hl)\n",
    "\n",
    "\n",
    "def BusHrs(start, end):\n",
    "    if end>=start:\n",
    "        return businesshrs.difference(start,end).hours+float(businesshrs.difference(start,end).seconds)/float(3600)\n",
    "    else:\n",
    "        \"\"\n",
    "\n",
    "RejectedSentWk_hrs=pre_final.apply(lambda row: BusHrs(row['Datetime'], row['Datetimeout']), axis=1)\n"
   ]
  },
  {
   "cell_type": "code",
   "execution_count": 143,
   "id": "4ef006c7",
   "metadata": {},
   "outputs": [],
   "source": [
    "# Define a working weekend day(Saturday)\n",
    "\n",
    "Saturday = businesstimedelta.WorkDayRule(start_time=datetime.time(9),end_time=datetime.time(16),working_days=[5])\n",
    "\n",
    "vic_holidays = pyholidays.KE()\n",
    "holidays = businesstimedelta.HolidayRule(vic_holidays)\n",
    "businesshrs = businesstimedelta.Rules([Saturday, holidays])\n",
    "\n",
    "def SatHrs(start, end):\n",
    "    if end>=start:\n",
    "        return businesshrs.difference(start,end).hours+float(businesshrs.difference(start,end).seconds)/float(3600)\n",
    "    else:\n",
    "        \"\"\n",
    "\n",
    "RejectedSentSat_hrs=pre_final.apply(lambda row: BusHrs(row['Datetime'], row['Datetimeout']), axis=1)"
   ]
  },
  {
   "cell_type": "code",
   "execution_count": 144,
   "id": "f030e622",
   "metadata": {},
   "outputs": [],
   "source": [
    "pre_final[\"delay\"]=(RejectedSentWk_hrs+RejectedSentSat_hrs)*60\n",
    "\n",
    "pre_final =pre_final.replace(\"\", np.nan)\n"
   ]
  },
  {
   "cell_type": "code",
   "execution_count": 145,
   "id": "80f84b98",
   "metadata": {},
   "outputs": [
    {
     "data": {
      "text/plain": [
       "array(['Did not delay at Workshop', 'Delayed at workshop'], dtype=object)"
      ]
     },
     "execution_count": 145,
     "metadata": {},
     "output_type": "execute_result"
    }
   ],
   "source": [
    "pre_final['delayed dept']=pre_final['delay'].apply(lambda x: 'Delayed at workshop' if x>60 else 'Did not delay at Workshop' )\n",
    "\n",
    "pre_final['delayed dept'].unique()"
   ]
  },
  {
   "cell_type": "code",
   "execution_count": 146,
   "id": "693a3e0e",
   "metadata": {},
   "outputs": [
    {
     "data": {
      "text/html": [
       "<div>\n",
       "<style scoped>\n",
       "    .dataframe tbody tr th:only-of-type {\n",
       "        vertical-align: middle;\n",
       "    }\n",
       "\n",
       "    .dataframe tbody tr th {\n",
       "        vertical-align: top;\n",
       "    }\n",
       "\n",
       "    .dataframe thead th {\n",
       "        text-align: right;\n",
       "    }\n",
       "</style>\n",
       "<table border=\"1\" class=\"dataframe\">\n",
       "  <thead>\n",
       "    <tr style=\"text-align: right;\">\n",
       "      <th></th>\n",
       "      <th>Created User</th>\n",
       "      <th>Date</th>\n",
       "      <th>Time</th>\n",
       "      <th>Status</th>\n",
       "      <th>DocEntry</th>\n",
       "      <th>DocNum</th>\n",
       "      <th>OrderCriteria Status</th>\n",
       "      <th>Datetime</th>\n",
       "      <th>Datetimeout</th>\n",
       "      <th>delay</th>\n",
       "      <th>delayed dept</th>\n",
       "    </tr>\n",
       "  </thead>\n",
       "  <tbody>\n",
       "    <tr>\n",
       "      <th>0</th>\n",
       "      <td>lens1</td>\n",
       "      <td>2023-02-01</td>\n",
       "      <td>10:02:00</td>\n",
       "      <td>ReIssued Lens for Order</td>\n",
       "      <td>942757</td>\n",
       "      <td>23203935</td>\n",
       "      <td>Order with PF from Branch and Lens from HQ</td>\n",
       "      <td>2023-02-01 10:02:00</td>\n",
       "      <td>2023-02-01 10:59:00</td>\n",
       "      <td>57.0</td>\n",
       "      <td>Did not delay at Workshop</td>\n",
       "    </tr>\n",
       "    <tr>\n",
       "      <th>1</th>\n",
       "      <td>lens1</td>\n",
       "      <td>2023-02-01</td>\n",
       "      <td>13:55:00</td>\n",
       "      <td>ReIssued Lens for Order</td>\n",
       "      <td>942948</td>\n",
       "      <td>232800807</td>\n",
       "      <td>Frame from HQ and Lens from HQ</td>\n",
       "      <td>2023-02-01 13:55:00</td>\n",
       "      <td>2023-02-01 14:25:00</td>\n",
       "      <td>30.0</td>\n",
       "      <td>Did not delay at Workshop</td>\n",
       "    </tr>\n",
       "  </tbody>\n",
       "</table>\n",
       "</div>"
      ],
      "text/plain": [
       "  Created User       Date      Time                   Status  DocEntry  \\\n",
       "0        lens1 2023-02-01  10:02:00  ReIssued Lens for Order    942757   \n",
       "1        lens1 2023-02-01  13:55:00  ReIssued Lens for Order    942948   \n",
       "\n",
       "      DocNum                        OrderCriteria Status            Datetime  \\\n",
       "0   23203935  Order with PF from Branch and Lens from HQ 2023-02-01 10:02:00   \n",
       "1  232800807              Frame from HQ and Lens from HQ 2023-02-01 13:55:00   \n",
       "\n",
       "          Datetimeout  delay               delayed dept  \n",
       "0 2023-02-01 10:59:00   57.0  Did not delay at Workshop  \n",
       "1 2023-02-01 14:25:00   30.0  Did not delay at Workshop  "
      ]
     },
     "execution_count": 146,
     "metadata": {},
     "output_type": "execute_result"
    }
   ],
   "source": [
    "pre_final.head(2)"
   ]
  },
  {
   "cell_type": "markdown",
   "id": "8cb24f0b",
   "metadata": {},
   "source": [
    "# Surfacing"
   ]
  },
  {
   "cell_type": "code",
   "execution_count": 147,
   "id": "b744d277",
   "metadata": {},
   "outputs": [
    {
     "data": {
      "text/plain": [
       "array(['Sent to Surfacing'], dtype=object)"
      ]
     },
     "execution_count": 147,
     "metadata": {},
     "output_type": "execute_result"
    }
   ],
   "source": [
    "con_sur = status[status['Status']== 'Sent to Surfacing']\n",
    "\n",
    "con_sur['Status'].unique()"
   ]
  },
  {
   "cell_type": "code",
   "execution_count": 148,
   "id": "c027fbae",
   "metadata": {},
   "outputs": [
    {
     "data": {
      "text/plain": [
       "array(['Sent to Pre Quality'], dtype=object)"
      ]
     },
     "execution_count": 148,
     "metadata": {},
     "output_type": "execute_result"
    }
   ],
   "source": [
    "sur_pre = status[status['Status']== 'Sent to Pre Quality']\n",
    "\n",
    "sur_pre['Status'].unique()"
   ]
  },
  {
   "cell_type": "code",
   "execution_count": 149,
   "id": "c8e3adb8",
   "metadata": {},
   "outputs": [
    {
     "name": "stderr",
     "output_type": "stream",
     "text": [
      "C:\\Users\\user\\AppData\\Local\\Temp\\ipykernel_15940\\348650746.py:1: SettingWithCopyWarning: \n",
      "A value is trying to be set on a copy of a slice from a DataFrame\n",
      "\n",
      "See the caveats in the documentation: https://pandas.pydata.org/pandas-docs/stable/user_guide/indexing.html#returning-a-view-versus-a-copy\n",
      "  sur_pre.rename(columns={'Datetime':'Datetimeout'}, inplace=True)\n"
     ]
    }
   ],
   "source": [
    "sur_pre.rename(columns={'Datetime':'Datetimeout'}, inplace=True)"
   ]
  },
  {
   "cell_type": "code",
   "execution_count": 150,
   "id": "e69ba812",
   "metadata": {},
   "outputs": [],
   "source": [
    "con_sur = con_sur.drop_duplicates(subset=['DocEntry'], keep='first')\n",
    "sur_pre= sur_pre.drop_duplicates(subset=['DocEntry'], keep='first')"
   ]
  },
  {
   "cell_type": "code",
   "execution_count": 151,
   "id": "fe3c002c",
   "metadata": {},
   "outputs": [
    {
     "data": {
      "text/html": [
       "<div>\n",
       "<style scoped>\n",
       "    .dataframe tbody tr th:only-of-type {\n",
       "        vertical-align: middle;\n",
       "    }\n",
       "\n",
       "    .dataframe tbody tr th {\n",
       "        vertical-align: top;\n",
       "    }\n",
       "\n",
       "    .dataframe thead th {\n",
       "        text-align: right;\n",
       "    }\n",
       "</style>\n",
       "<table border=\"1\" class=\"dataframe\">\n",
       "  <thead>\n",
       "    <tr style=\"text-align: right;\">\n",
       "      <th></th>\n",
       "      <th>Created User</th>\n",
       "      <th>Date</th>\n",
       "      <th>Time</th>\n",
       "      <th>Status</th>\n",
       "      <th>DocEntry</th>\n",
       "      <th>DocNum</th>\n",
       "      <th>OrderCriteria Status</th>\n",
       "      <th>Datetime</th>\n",
       "      <th>Datetimeout</th>\n",
       "    </tr>\n",
       "  </thead>\n",
       "  <tbody>\n",
       "    <tr>\n",
       "      <th>0</th>\n",
       "      <td>control1</td>\n",
       "      <td>2023-02-01</td>\n",
       "      <td>12:36:00</td>\n",
       "      <td>Sent to Surfacing</td>\n",
       "      <td>943756</td>\n",
       "      <td>231900593</td>\n",
       "      <td>Surfacing Lens with HQ Frame</td>\n",
       "      <td>2023-02-01 12:36:00</td>\n",
       "      <td>2023-02-01 13:41:00</td>\n",
       "    </tr>\n",
       "    <tr>\n",
       "      <th>1</th>\n",
       "      <td>control1</td>\n",
       "      <td>2023-02-01</td>\n",
       "      <td>15:49:00</td>\n",
       "      <td>Sent to Surfacing</td>\n",
       "      <td>942999</td>\n",
       "      <td>23700290</td>\n",
       "      <td>Surfacing Lens with HQ Frame</td>\n",
       "      <td>2023-02-01 15:49:00</td>\n",
       "      <td>2023-02-01 17:18:00</td>\n",
       "    </tr>\n",
       "    <tr>\n",
       "      <th>2</th>\n",
       "      <td>control1</td>\n",
       "      <td>2023-02-01</td>\n",
       "      <td>17:54:00</td>\n",
       "      <td>Sent to Surfacing</td>\n",
       "      <td>933131</td>\n",
       "      <td>232800585</td>\n",
       "      <td>Surfacing Lens with PF</td>\n",
       "      <td>2023-02-01 17:54:00</td>\n",
       "      <td>2023-02-02 10:46:00</td>\n",
       "    </tr>\n",
       "  </tbody>\n",
       "</table>\n",
       "</div>"
      ],
      "text/plain": [
       "  Created User       Date      Time             Status  DocEntry     DocNum  \\\n",
       "0     control1 2023-02-01  12:36:00  Sent to Surfacing    943756  231900593   \n",
       "1     control1 2023-02-01  15:49:00  Sent to Surfacing    942999   23700290   \n",
       "2     control1 2023-02-01  17:54:00  Sent to Surfacing    933131  232800585   \n",
       "\n",
       "           OrderCriteria Status            Datetime         Datetimeout  \n",
       "0  Surfacing Lens with HQ Frame 2023-02-01 12:36:00 2023-02-01 13:41:00  \n",
       "1  Surfacing Lens with HQ Frame 2023-02-01 15:49:00 2023-02-01 17:18:00  \n",
       "2        Surfacing Lens with PF 2023-02-01 17:54:00 2023-02-02 10:46:00  "
      ]
     },
     "execution_count": 151,
     "metadata": {},
     "output_type": "execute_result"
    }
   ],
   "source": [
    "con_pre= pd.merge(con_sur,sur_pre[['DocNum','Datetimeout']], on='DocNum', how='left')\n",
    "con_pre.head(3)"
   ]
  },
  {
   "cell_type": "code",
   "execution_count": 152,
   "id": "9f2f1c04",
   "metadata": {},
   "outputs": [],
   "source": [
    "con_pre=con_pre.dropna(subset='Datetimeout')"
   ]
  },
  {
   "cell_type": "code",
   "execution_count": 153,
   "id": "1008c7c7",
   "metadata": {},
   "outputs": [
    {
     "name": "stderr",
     "output_type": "stream",
     "text": [
      "C:\\Users\\user\\anaconda3\\lib\\site-packages\\workalendar\\core.py:436: UserWarning: Please take note that, due to arbitrary decisions, this Islamic calendar computation may be wrong.\n",
      "  warnings.warn('Please take note that, due to arbitrary decisions, '\n"
     ]
    }
   ],
   "source": [
    "##Define a working day\n",
    "\n",
    "####Days of the week\n",
    "workday = businesstimedelta.WorkDayRule(\n",
    "    start_time=datetime.time(9),\n",
    "    end_time=datetime.time(19),\n",
    "    working_days=[0,1, 2, 3, 4])\n",
    "\n",
    "cal = Kenya()\n",
    "hl = cal.holidays()\n",
    "vic_holidays = pyholidays.KE() \n",
    "holidays = businesstimedelta.HolidayRule(vic_holidays)\n",
    "businesshrs = businesstimedelta.Rules([workday, holidays], hl)\n",
    "\n",
    "\n",
    "def BusHrs(start, end):\n",
    "    if end>=start:\n",
    "        return businesshrs.difference(start,end).hours+float(businesshrs.difference(start,end).seconds)/float(3600)\n",
    "    else:\n",
    "        \"\"\n",
    "\n",
    "RejectedSentWk_hrs=con_pre.apply(lambda row: BusHrs(row['Datetime'], row['Datetimeout']), axis=1)\n"
   ]
  },
  {
   "cell_type": "code",
   "execution_count": 154,
   "id": "ce8fd4ef",
   "metadata": {},
   "outputs": [],
   "source": [
    "# Define a working weekend day(Saturday)\n",
    "\n",
    "Saturday = businesstimedelta.WorkDayRule(start_time=datetime.time(9),end_time=datetime.time(16),working_days=[5])\n",
    "\n",
    "vic_holidays = pyholidays.KE()\n",
    "holidays = businesstimedelta.HolidayRule(vic_holidays)\n",
    "businesshrs = businesstimedelta.Rules([Saturday, holidays])\n",
    "\n",
    "def SatHrs(start, end):\n",
    "    if end>=start:\n",
    "        return businesshrs.difference(start,end).hours+float(businesshrs.difference(start,end).seconds)/float(3600)\n",
    "    else:\n",
    "        \"\"\n",
    "\n",
    "RejectedSentSat_hrs=con_pre.apply(lambda row: BusHrs(row['Datetime'], row['Datetimeout']), axis=1)"
   ]
  },
  {
   "cell_type": "code",
   "execution_count": 155,
   "id": "9e212847",
   "metadata": {},
   "outputs": [],
   "source": [
    "con_pre[\"delay\"]=(RejectedSentWk_hrs+RejectedSentSat_hrs)*60\n",
    "\n",
    "con_pre =con_pre.replace(\"\", np.nan)\n"
   ]
  },
  {
   "cell_type": "code",
   "execution_count": 156,
   "id": "45be4b80",
   "metadata": {},
   "outputs": [
    {
     "data": {
      "text/plain": [
       "array(['Delayed at Surfacing', 'Did not delay at Surfacing'], dtype=object)"
      ]
     },
     "execution_count": 156,
     "metadata": {},
     "output_type": "execute_result"
    }
   ],
   "source": [
    "con_pre['delayed dept']=con_pre['delay'].apply(lambda x: 'Delayed at Surfacing' if x>40 else 'Did not delay at Surfacing' )\n",
    "\n",
    "con_pre['delayed dept'].unique()"
   ]
  },
  {
   "cell_type": "code",
   "execution_count": 157,
   "id": "5a18c42e",
   "metadata": {},
   "outputs": [
    {
     "data": {
      "text/html": [
       "<div>\n",
       "<style scoped>\n",
       "    .dataframe tbody tr th:only-of-type {\n",
       "        vertical-align: middle;\n",
       "    }\n",
       "\n",
       "    .dataframe tbody tr th {\n",
       "        vertical-align: top;\n",
       "    }\n",
       "\n",
       "    .dataframe thead th {\n",
       "        text-align: right;\n",
       "    }\n",
       "</style>\n",
       "<table border=\"1\" class=\"dataframe\">\n",
       "  <thead>\n",
       "    <tr style=\"text-align: right;\">\n",
       "      <th></th>\n",
       "      <th>Created User</th>\n",
       "      <th>Date</th>\n",
       "      <th>Time</th>\n",
       "      <th>Status</th>\n",
       "      <th>DocEntry</th>\n",
       "      <th>DocNum</th>\n",
       "      <th>OrderCriteria Status</th>\n",
       "      <th>Datetime</th>\n",
       "      <th>Datetimeout</th>\n",
       "      <th>delay</th>\n",
       "      <th>delayed dept</th>\n",
       "    </tr>\n",
       "  </thead>\n",
       "  <tbody>\n",
       "    <tr>\n",
       "      <th>0</th>\n",
       "      <td>control1</td>\n",
       "      <td>2023-02-01</td>\n",
       "      <td>12:36:00</td>\n",
       "      <td>Sent to Surfacing</td>\n",
       "      <td>943756</td>\n",
       "      <td>231900593</td>\n",
       "      <td>Surfacing Lens with HQ Frame</td>\n",
       "      <td>2023-02-01 12:36:00</td>\n",
       "      <td>2023-02-01 13:41:00</td>\n",
       "      <td>65.0</td>\n",
       "      <td>Delayed at Surfacing</td>\n",
       "    </tr>\n",
       "    <tr>\n",
       "      <th>1</th>\n",
       "      <td>control1</td>\n",
       "      <td>2023-02-01</td>\n",
       "      <td>15:49:00</td>\n",
       "      <td>Sent to Surfacing</td>\n",
       "      <td>942999</td>\n",
       "      <td>23700290</td>\n",
       "      <td>Surfacing Lens with HQ Frame</td>\n",
       "      <td>2023-02-01 15:49:00</td>\n",
       "      <td>2023-02-01 17:18:00</td>\n",
       "      <td>89.0</td>\n",
       "      <td>Delayed at Surfacing</td>\n",
       "    </tr>\n",
       "  </tbody>\n",
       "</table>\n",
       "</div>"
      ],
      "text/plain": [
       "  Created User       Date      Time             Status  DocEntry     DocNum  \\\n",
       "0     control1 2023-02-01  12:36:00  Sent to Surfacing    943756  231900593   \n",
       "1     control1 2023-02-01  15:49:00  Sent to Surfacing    942999   23700290   \n",
       "\n",
       "           OrderCriteria Status            Datetime         Datetimeout  \\\n",
       "0  Surfacing Lens with HQ Frame 2023-02-01 12:36:00 2023-02-01 13:41:00   \n",
       "1  Surfacing Lens with HQ Frame 2023-02-01 15:49:00 2023-02-01 17:18:00   \n",
       "\n",
       "   delay          delayed dept  \n",
       "0   65.0  Delayed at Surfacing  \n",
       "1   89.0  Delayed at Surfacing  "
      ]
     },
     "execution_count": 157,
     "metadata": {},
     "output_type": "execute_result"
    }
   ],
   "source": [
    "con_pre.head(2)"
   ]
  },
  {
   "cell_type": "markdown",
   "id": "621632e6",
   "metadata": {},
   "source": [
    "## All workshop - allwork"
   ]
  },
  {
   "cell_type": "code",
   "execution_count": 158,
   "id": "87e45cbc",
   "metadata": {},
   "outputs": [],
   "source": [
    "allwork = pd.concat([con_pre,pre_final,work_store])"
   ]
  },
  {
   "cell_type": "markdown",
   "id": "a3035502",
   "metadata": {},
   "source": [
    "## Packaging - final_branch"
   ]
  },
  {
   "cell_type": "code",
   "execution_count": 159,
   "id": "3f3b354d",
   "metadata": {},
   "outputs": [
    {
     "data": {
      "text/plain": [
       "array(['Sent to Packaging', 'Damaged PF/PL Sent to Packaging',\n",
       "       'Blanks Sent to Packaging'], dtype=object)"
      ]
     },
     "execution_count": 159,
     "metadata": {},
     "output_type": "execute_result"
    }
   ],
   "source": [
    "final_pac1 = status[status['Status']== 'Sent to Packaging']\n",
    "final_pac2 = status[status['Status']== 'Damaged PF/PL Sent to Packaging']\n",
    "final_pac3 = status[status['Status']== 'Blanks Sent to Packaging']\n",
    "\n",
    "final_pac = pd.concat([final_pac1,final_pac2,final_pac3])\n",
    "\n",
    "final_pac['Status'].unique()"
   ]
  },
  {
   "cell_type": "code",
   "execution_count": 160,
   "id": "dcae486d",
   "metadata": {},
   "outputs": [
    {
     "data": {
      "text/plain": [
       "array(['Sent to Branch', 'Branch Glazing Sent to Branch',\n",
       "       'Damaged PF/PL Sent to Branch'], dtype=object)"
      ]
     },
     "execution_count": 160,
     "metadata": {},
     "output_type": "execute_result"
    }
   ],
   "source": [
    "pack_bra1 = status[status['Status']== 'Sent to Branch']\n",
    "pack_bra2 = status[status['Status']== 'Branch Glazing Sent to Branch']\n",
    "pack_bra3 = status[status['Status']== 'Damaged PF/PL Sent to Branch']\n",
    "\n",
    "pack_bra = pd.concat([pack_bra1,pack_bra2,pack_bra3])\n",
    "\n",
    "pack_bra['Status'].unique()"
   ]
  },
  {
   "cell_type": "code",
   "execution_count": 161,
   "id": "d706e992",
   "metadata": {},
   "outputs": [],
   "source": [
    "pack_bra.rename(columns={'Datetime':'Datetimeout'}, inplace=True)"
   ]
  },
  {
   "cell_type": "code",
   "execution_count": 162,
   "id": "9f1237ef",
   "metadata": {},
   "outputs": [],
   "source": [
    "final_pac = final_pac.drop_duplicates(subset=['DocEntry'], keep='first')\n",
    "pack_bra= pack_bra.drop_duplicates(subset=['DocEntry'], keep='first')"
   ]
  },
  {
   "cell_type": "code",
   "execution_count": 163,
   "id": "75667e0b",
   "metadata": {},
   "outputs": [
    {
     "data": {
      "text/html": [
       "<div>\n",
       "<style scoped>\n",
       "    .dataframe tbody tr th:only-of-type {\n",
       "        vertical-align: middle;\n",
       "    }\n",
       "\n",
       "    .dataframe tbody tr th {\n",
       "        vertical-align: top;\n",
       "    }\n",
       "\n",
       "    .dataframe thead th {\n",
       "        text-align: right;\n",
       "    }\n",
       "</style>\n",
       "<table border=\"1\" class=\"dataframe\">\n",
       "  <thead>\n",
       "    <tr style=\"text-align: right;\">\n",
       "      <th></th>\n",
       "      <th>Created User</th>\n",
       "      <th>Date</th>\n",
       "      <th>Time</th>\n",
       "      <th>Status</th>\n",
       "      <th>DocEntry</th>\n",
       "      <th>DocNum</th>\n",
       "      <th>OrderCriteria Status</th>\n",
       "      <th>Datetime</th>\n",
       "      <th>Datetimeout</th>\n",
       "    </tr>\n",
       "  </thead>\n",
       "  <tbody>\n",
       "    <tr>\n",
       "      <th>0</th>\n",
       "      <td>control1</td>\n",
       "      <td>2023-02-01</td>\n",
       "      <td>12:05:00</td>\n",
       "      <td>Sent to Packaging</td>\n",
       "      <td>943666</td>\n",
       "      <td>231500485</td>\n",
       "      <td>Contact lens from HQ</td>\n",
       "      <td>2023-02-01 12:05:00</td>\n",
       "      <td>2023-02-01 13:54:00</td>\n",
       "    </tr>\n",
       "    <tr>\n",
       "      <th>1</th>\n",
       "      <td>control1</td>\n",
       "      <td>2023-02-01</td>\n",
       "      <td>13:49:00</td>\n",
       "      <td>Sent to Packaging</td>\n",
       "      <td>943481</td>\n",
       "      <td>233100350</td>\n",
       "      <td>Contact lens from HQ</td>\n",
       "      <td>2023-02-01 13:49:00</td>\n",
       "      <td>2023-02-01 13:54:00</td>\n",
       "    </tr>\n",
       "    <tr>\n",
       "      <th>2</th>\n",
       "      <td>control1</td>\n",
       "      <td>2023-02-01</td>\n",
       "      <td>13:49:00</td>\n",
       "      <td>Sent to Packaging</td>\n",
       "      <td>943861</td>\n",
       "      <td>231300735</td>\n",
       "      <td>Contact lens from HQ</td>\n",
       "      <td>2023-02-01 13:49:00</td>\n",
       "      <td>2023-02-01 13:54:00</td>\n",
       "    </tr>\n",
       "  </tbody>\n",
       "</table>\n",
       "</div>"
      ],
      "text/plain": [
       "  Created User       Date      Time             Status  DocEntry     DocNum  \\\n",
       "0     control1 2023-02-01  12:05:00  Sent to Packaging    943666  231500485   \n",
       "1     control1 2023-02-01  13:49:00  Sent to Packaging    943481  233100350   \n",
       "2     control1 2023-02-01  13:49:00  Sent to Packaging    943861  231300735   \n",
       "\n",
       "   OrderCriteria Status            Datetime         Datetimeout  \n",
       "0  Contact lens from HQ 2023-02-01 12:05:00 2023-02-01 13:54:00  \n",
       "1  Contact lens from HQ 2023-02-01 13:49:00 2023-02-01 13:54:00  \n",
       "2  Contact lens from HQ 2023-02-01 13:49:00 2023-02-01 13:54:00  "
      ]
     },
     "execution_count": 163,
     "metadata": {},
     "output_type": "execute_result"
    }
   ],
   "source": [
    "final_branch= pd.merge(final_pac,pack_bra[['DocNum','Datetimeout']], on='DocNum', how='left')\n",
    "final_branch.head(3)"
   ]
  },
  {
   "cell_type": "code",
   "execution_count": 164,
   "id": "8057538b",
   "metadata": {},
   "outputs": [],
   "source": [
    "final_branch=final_branch.dropna(subset='Datetimeout')"
   ]
  },
  {
   "cell_type": "code",
   "execution_count": 165,
   "id": "9047ad35",
   "metadata": {},
   "outputs": [
    {
     "name": "stderr",
     "output_type": "stream",
     "text": [
      "C:\\Users\\user\\anaconda3\\lib\\site-packages\\workalendar\\core.py:436: UserWarning: Please take note that, due to arbitrary decisions, this Islamic calendar computation may be wrong.\n",
      "  warnings.warn('Please take note that, due to arbitrary decisions, '\n"
     ]
    }
   ],
   "source": [
    "##Define a working day\n",
    "\n",
    "####Days of the week\n",
    "workday = businesstimedelta.WorkDayRule(\n",
    "    start_time=datetime.time(9),\n",
    "    end_time=datetime.time(19),\n",
    "    working_days=[0,1, 2, 3, 4])\n",
    "\n",
    "cal = Kenya()\n",
    "hl = cal.holidays()\n",
    "vic_holidays = pyholidays.KE() \n",
    "holidays = businesstimedelta.HolidayRule(vic_holidays)\n",
    "businesshrs = businesstimedelta.Rules([workday, holidays], hl)\n",
    "\n",
    "\n",
    "def BusHrs(start, end):\n",
    "    if end>=start:\n",
    "        return businesshrs.difference(start,end).hours+float(businesshrs.difference(start,end).seconds)/float(3600)\n",
    "    else:\n",
    "        \"\"\n",
    "\n",
    "RejectedSentWk_hrs=final_branch.apply(lambda row: BusHrs(row['Datetime'], row['Datetimeout']), axis=1)\n"
   ]
  },
  {
   "cell_type": "code",
   "execution_count": 166,
   "id": "45307e13",
   "metadata": {},
   "outputs": [],
   "source": [
    "# Define a working weekend day(Saturday)\n",
    "\n",
    "Saturday = businesstimedelta.WorkDayRule(start_time=datetime.time(9),end_time=datetime.time(16),working_days=[5])\n",
    "\n",
    "vic_holidays = pyholidays.KE()\n",
    "holidays = businesstimedelta.HolidayRule(vic_holidays)\n",
    "businesshrs = businesstimedelta.Rules([Saturday, holidays])\n",
    "\n",
    "def SatHrs(start, end):\n",
    "    if end>=start:\n",
    "        return businesshrs.difference(start,end).hours+float(businesshrs.difference(start,end).seconds)/float(3600)\n",
    "    else:\n",
    "        \"\"\n",
    "\n",
    "RejectedSentSat_hrs=final_branch.apply(lambda row: BusHrs(row['Datetime'], row['Datetimeout']), axis=1)"
   ]
  },
  {
   "cell_type": "code",
   "execution_count": 167,
   "id": "14e53e2a",
   "metadata": {},
   "outputs": [],
   "source": [
    "final_branch[\"delay\"]=(RejectedSentWk_hrs+RejectedSentSat_hrs)*60\n",
    "\n",
    "final_branch =final_branch.replace(\"\", np.nan)"
   ]
  },
  {
   "cell_type": "code",
   "execution_count": 168,
   "id": "6fe3fe22",
   "metadata": {},
   "outputs": [
    {
     "data": {
      "text/plain": [
       "array(['Delayed at Packaging', 'Did not delay at Packaging'], dtype=object)"
      ]
     },
     "execution_count": 168,
     "metadata": {},
     "output_type": "execute_result"
    }
   ],
   "source": [
    "final_branch['delayed dept']=final_branch['delay'].apply(lambda x: 'Delayed at Packaging' if x>10 else 'Did not delay at Packaging' )\n",
    "\n",
    "final_branch['delayed dept'].unique()"
   ]
  },
  {
   "cell_type": "code",
   "execution_count": 169,
   "id": "0ae4f6db",
   "metadata": {},
   "outputs": [
    {
     "data": {
      "text/html": [
       "<div>\n",
       "<style scoped>\n",
       "    .dataframe tbody tr th:only-of-type {\n",
       "        vertical-align: middle;\n",
       "    }\n",
       "\n",
       "    .dataframe tbody tr th {\n",
       "        vertical-align: top;\n",
       "    }\n",
       "\n",
       "    .dataframe thead th {\n",
       "        text-align: right;\n",
       "    }\n",
       "</style>\n",
       "<table border=\"1\" class=\"dataframe\">\n",
       "  <thead>\n",
       "    <tr style=\"text-align: right;\">\n",
       "      <th></th>\n",
       "      <th>Created User</th>\n",
       "      <th>Date</th>\n",
       "      <th>Time</th>\n",
       "      <th>Status</th>\n",
       "      <th>DocEntry</th>\n",
       "      <th>DocNum</th>\n",
       "      <th>OrderCriteria Status</th>\n",
       "      <th>Datetime</th>\n",
       "      <th>Datetimeout</th>\n",
       "      <th>delay</th>\n",
       "      <th>delayed dept</th>\n",
       "    </tr>\n",
       "  </thead>\n",
       "  <tbody>\n",
       "    <tr>\n",
       "      <th>0</th>\n",
       "      <td>control1</td>\n",
       "      <td>2023-02-01</td>\n",
       "      <td>12:05:00</td>\n",
       "      <td>Sent to Packaging</td>\n",
       "      <td>943666</td>\n",
       "      <td>231500485</td>\n",
       "      <td>Contact lens from HQ</td>\n",
       "      <td>2023-02-01 12:05:00</td>\n",
       "      <td>2023-02-01 13:54:00</td>\n",
       "      <td>109.0</td>\n",
       "      <td>Delayed at Packaging</td>\n",
       "    </tr>\n",
       "    <tr>\n",
       "      <th>1</th>\n",
       "      <td>control1</td>\n",
       "      <td>2023-02-01</td>\n",
       "      <td>13:49:00</td>\n",
       "      <td>Sent to Packaging</td>\n",
       "      <td>943481</td>\n",
       "      <td>233100350</td>\n",
       "      <td>Contact lens from HQ</td>\n",
       "      <td>2023-02-01 13:49:00</td>\n",
       "      <td>2023-02-01 13:54:00</td>\n",
       "      <td>5.0</td>\n",
       "      <td>Did not delay at Packaging</td>\n",
       "    </tr>\n",
       "  </tbody>\n",
       "</table>\n",
       "</div>"
      ],
      "text/plain": [
       "  Created User       Date      Time             Status  DocEntry     DocNum  \\\n",
       "0     control1 2023-02-01  12:05:00  Sent to Packaging    943666  231500485   \n",
       "1     control1 2023-02-01  13:49:00  Sent to Packaging    943481  233100350   \n",
       "\n",
       "   OrderCriteria Status            Datetime         Datetimeout  delay  \\\n",
       "0  Contact lens from HQ 2023-02-01 12:05:00 2023-02-01 13:54:00  109.0   \n",
       "1  Contact lens from HQ 2023-02-01 13:49:00 2023-02-01 13:54:00    5.0   \n",
       "\n",
       "                 delayed dept  \n",
       "0        Delayed at Packaging  \n",
       "1  Did not delay at Packaging  "
      ]
     },
     "execution_count": 169,
     "metadata": {},
     "output_type": "execute_result"
    }
   ],
   "source": [
    "final_branch.head(2)"
   ]
  },
  {
   "cell_type": "markdown",
   "id": "7886a76c",
   "metadata": {},
   "source": [
    "## All packaging"
   ]
  },
  {
   "cell_type": "code",
   "execution_count": 170,
   "id": "503cf461",
   "metadata": {},
   "outputs": [],
   "source": [
    "final_branch = final_branch"
   ]
  },
  {
   "cell_type": "markdown",
   "id": "e4c2d1ca",
   "metadata": {},
   "source": [
    "# Overseas-alloverseas"
   ]
  },
  {
   "cell_type": "code",
   "execution_count": 171,
   "id": "18fb9245",
   "metadata": {},
   "outputs": [
    {
     "data": {
      "text/plain": [
       "array(['Frame Sent to Overseas Desk',\n",
       "       'Branch Frame Sent to Overseas Desk', 'PF Sent to Overseas Desk',\n",
       "       'PF to Follow Sent to Overseas Desk'], dtype=object)"
      ]
     },
     "execution_count": 171,
     "metadata": {},
     "output_type": "execute_result"
    }
   ],
   "source": [
    "Senttoover1 = status[status['Status']== 'Frame Sent to Overseas Desk']\n",
    "Senttoover2 = status[status['Status']== 'Branch Frame Sent to Overseas Desk']\n",
    "Senttoover3 = status[status['Status']== 'PF Sent to Overseas Desk']\n",
    "Senttoover4 = status[status['Status']== 'PF to Follow Sent to Overseas Desk']\n",
    "\n",
    "\n",
    "Senttoover=pd.concat([Senttoover1,Senttoover2,Senttoover3,Senttoover4])\n",
    "\n",
    "Senttoover['Status'].unique()"
   ]
  },
  {
   "cell_type": "code",
   "execution_count": 172,
   "id": "39694fda",
   "metadata": {},
   "outputs": [],
   "source": [
    "Senttoover.to_clipboard()"
   ]
  },
  {
   "cell_type": "code",
   "execution_count": 173,
   "id": "bbc913be",
   "metadata": {},
   "outputs": [
    {
     "data": {
      "text/plain": [
       "array(['Generated GRPO'], dtype=object)"
      ]
     },
     "execution_count": 173,
     "metadata": {},
     "output_type": "execute_result"
    }
   ],
   "source": [
    "oversent = status[status['Status']== 'Generated GRPO']\n",
    "\n",
    "\n",
    "oversent['Status'].unique()"
   ]
  },
  {
   "cell_type": "code",
   "execution_count": 174,
   "id": "a2157460",
   "metadata": {},
   "outputs": [
    {
     "name": "stderr",
     "output_type": "stream",
     "text": [
      "C:\\Users\\user\\AppData\\Local\\Temp\\ipykernel_15940\\2301015548.py:1: SettingWithCopyWarning: \n",
      "A value is trying to be set on a copy of a slice from a DataFrame\n",
      "\n",
      "See the caveats in the documentation: https://pandas.pydata.org/pandas-docs/stable/user_guide/indexing.html#returning-a-view-versus-a-copy\n",
      "  oversent.rename(columns={'Datetime':'Datetimeout'}, inplace=True)\n"
     ]
    }
   ],
   "source": [
    "oversent.rename(columns={'Datetime':'Datetimeout'}, inplace=True)"
   ]
  },
  {
   "cell_type": "code",
   "execution_count": 175,
   "id": "ec8fc3ea",
   "metadata": {},
   "outputs": [],
   "source": [
    "Senttoover = Senttoover.drop_duplicates(subset=['DocEntry','Status'], keep='first')\n",
    "oversent = oversent.drop_duplicates(subset=['DocEntry','Status'], keep='first')"
   ]
  },
  {
   "cell_type": "code",
   "execution_count": 176,
   "id": "b6b5eb5e",
   "metadata": {},
   "outputs": [
    {
     "data": {
      "text/html": [
       "<div>\n",
       "<style scoped>\n",
       "    .dataframe tbody tr th:only-of-type {\n",
       "        vertical-align: middle;\n",
       "    }\n",
       "\n",
       "    .dataframe tbody tr th {\n",
       "        vertical-align: top;\n",
       "    }\n",
       "\n",
       "    .dataframe thead th {\n",
       "        text-align: right;\n",
       "    }\n",
       "</style>\n",
       "<table border=\"1\" class=\"dataframe\">\n",
       "  <thead>\n",
       "    <tr style=\"text-align: right;\">\n",
       "      <th></th>\n",
       "      <th>Created User</th>\n",
       "      <th>Date</th>\n",
       "      <th>Time</th>\n",
       "      <th>Status</th>\n",
       "      <th>DocEntry</th>\n",
       "      <th>DocNum</th>\n",
       "      <th>OrderCriteria Status</th>\n",
       "      <th>Datetime</th>\n",
       "      <th>Datetimeout</th>\n",
       "    </tr>\n",
       "  </thead>\n",
       "  <tbody>\n",
       "    <tr>\n",
       "      <th>0</th>\n",
       "      <td>designer1</td>\n",
       "      <td>2023-02-01</td>\n",
       "      <td>08:57:00</td>\n",
       "      <td>Frame Sent to Overseas Desk</td>\n",
       "      <td>943315</td>\n",
       "      <td>23601553</td>\n",
       "      <td>Overseas Lens with HQ Frame</td>\n",
       "      <td>2023-02-01 08:57:00</td>\n",
       "      <td>2023-02-10 16:59:00</td>\n",
       "    </tr>\n",
       "    <tr>\n",
       "      <th>1</th>\n",
       "      <td>designer1</td>\n",
       "      <td>2023-02-01</td>\n",
       "      <td>09:29:00</td>\n",
       "      <td>Frame Sent to Overseas Desk</td>\n",
       "      <td>942437</td>\n",
       "      <td>23203886</td>\n",
       "      <td>Overseas Lens with HQ Frame</td>\n",
       "      <td>2023-02-01 09:29:00</td>\n",
       "      <td>2023-02-10 15:54:00</td>\n",
       "    </tr>\n",
       "    <tr>\n",
       "      <th>2</th>\n",
       "      <td>designer1</td>\n",
       "      <td>2023-02-01</td>\n",
       "      <td>09:29:00</td>\n",
       "      <td>Frame Sent to Overseas Desk</td>\n",
       "      <td>941250</td>\n",
       "      <td>23102684</td>\n",
       "      <td>Overseas Lens with HQ Frame</td>\n",
       "      <td>2023-02-01 09:29:00</td>\n",
       "      <td>2023-02-10 16:13:00</td>\n",
       "    </tr>\n",
       "  </tbody>\n",
       "</table>\n",
       "</div>"
      ],
      "text/plain": [
       "  Created User       Date      Time                       Status  DocEntry  \\\n",
       "0    designer1 2023-02-01  08:57:00  Frame Sent to Overseas Desk    943315   \n",
       "1    designer1 2023-02-01  09:29:00  Frame Sent to Overseas Desk    942437   \n",
       "2    designer1 2023-02-01  09:29:00  Frame Sent to Overseas Desk    941250   \n",
       "\n",
       "     DocNum         OrderCriteria Status            Datetime  \\\n",
       "0  23601553  Overseas Lens with HQ Frame 2023-02-01 08:57:00   \n",
       "1  23203886  Overseas Lens with HQ Frame 2023-02-01 09:29:00   \n",
       "2  23102684  Overseas Lens with HQ Frame 2023-02-01 09:29:00   \n",
       "\n",
       "          Datetimeout  \n",
       "0 2023-02-10 16:59:00  \n",
       "1 2023-02-10 15:54:00  \n",
       "2 2023-02-10 16:13:00  "
      ]
     },
     "execution_count": 176,
     "metadata": {},
     "output_type": "execute_result"
    }
   ],
   "source": [
    "over_seas= pd.merge(Senttoover,oversent[['DocNum','Datetimeout']], on='DocNum', how='left')\n",
    "over_seas.head(3)"
   ]
  },
  {
   "cell_type": "code",
   "execution_count": 177,
   "id": "a3a1252a",
   "metadata": {},
   "outputs": [],
   "source": [
    "over_seas=over_seas.dropna(subset='Datetimeout')"
   ]
  },
  {
   "cell_type": "code",
   "execution_count": 178,
   "id": "473b50cb",
   "metadata": {},
   "outputs": [
    {
     "name": "stderr",
     "output_type": "stream",
     "text": [
      "C:\\Users\\user\\anaconda3\\lib\\site-packages\\workalendar\\core.py:436: UserWarning: Please take note that, due to arbitrary decisions, this Islamic calendar computation may be wrong.\n",
      "  warnings.warn('Please take note that, due to arbitrary decisions, '\n"
     ]
    }
   ],
   "source": [
    "##Define a working day\n",
    "\n",
    "####Days of the week\n",
    "workday = businesstimedelta.WorkDayRule(\n",
    "    start_time=datetime.time(9),\n",
    "    end_time=datetime.time(18),\n",
    "    working_days=[0,1, 2, 3, 4])\n",
    "\n",
    "cal = Kenya()\n",
    "hl = cal.holidays()\n",
    "vic_holidays = pyholidays.KE() \n",
    "holidays = businesstimedelta.HolidayRule(vic_holidays)\n",
    "businesshrs = businesstimedelta.Rules([workday, holidays], hl)\n",
    "\n",
    "def BusHrs(start, end):\n",
    "    if end>=start:\n",
    "        return businesshrs.difference(start,end).hours+float(businesshrs.difference(start,end).seconds)/float(3600)\n",
    "    else:\n",
    "        \"\"\n",
    "    \n",
    "RejectedSentWk_hrs=over_seas.apply(lambda row: BusHrs(row['Datetime'], row['Datetimeout']), axis=1)\n"
   ]
  },
  {
   "cell_type": "code",
   "execution_count": 179,
   "id": "2ffbee9d",
   "metadata": {},
   "outputs": [],
   "source": [
    "# Define a working weekend day(Saturday)\n",
    "\n",
    "Saturday = businesstimedelta.WorkDayRule(start_time=datetime.time(9),end_time=datetime.time(16),working_days=[5])\n",
    "\n",
    "vic_holidays = pyholidays.KE()\n",
    "holidays = businesstimedelta.HolidayRule(vic_holidays)\n",
    "businesshrs = businesstimedelta.Rules([Saturday, holidays])\n",
    "\n",
    "def SatHrs(start, end):\n",
    "    if end>=start:\n",
    "        return businesshrs.difference(start,end).hours+float(businesshrs.difference(start,end).seconds)/float(3600)\n",
    "    else:\n",
    "        \"\"\n",
    "\n",
    "RejectedSentSat_hrs=over_seas.apply(lambda row: BusHrs(row['Datetime'], row['Datetimeout']), axis=1)\n"
   ]
  },
  {
   "cell_type": "code",
   "execution_count": 180,
   "id": "5ccc3f9b",
   "metadata": {},
   "outputs": [],
   "source": [
    "over_seas[\"delay\"]=(RejectedSentWk_hrs+RejectedSentSat_hrs)*60\n",
    "\n",
    "over_seas =over_seas.replace(\"\", np.nan)\n"
   ]
  },
  {
   "cell_type": "code",
   "execution_count": 181,
   "id": "7cc0dafa",
   "metadata": {},
   "outputs": [
    {
     "data": {
      "text/plain": [
       "array(['Did not delay at Customs', 'Delayed at Customs'], dtype=object)"
      ]
     },
     "execution_count": 181,
     "metadata": {},
     "output_type": "execute_result"
    }
   ],
   "source": [
    "over_seas['delayed dept']=over_seas['delay'].apply(lambda x: 'Delayed at Customs' if x>6480 else 'Did not delay at Customs' )\n",
    "\n",
    "over_seas['delayed dept'].unique()"
   ]
  },
  {
   "cell_type": "markdown",
   "id": "e2691300",
   "metadata": {},
   "source": [
    "## All overseas "
   ]
  },
  {
   "cell_type": "code",
   "execution_count": 182,
   "id": "4cdc2fc9",
   "metadata": {},
   "outputs": [],
   "source": [
    "alloverseas = over_seas"
   ]
  },
  {
   "cell_type": "markdown",
   "id": "5435d4b3",
   "metadata": {},
   "source": [
    "# Branches"
   ]
  },
  {
   "cell_type": "code",
   "execution_count": 232,
   "id": "40a9ba97",
   "metadata": {},
   "outputs": [],
   "source": [
    "data = status"
   ]
  },
  {
   "cell_type": "code",
   "execution_count": 233,
   "id": "d016be90",
   "metadata": {},
   "outputs": [
    {
     "data": {
      "text/plain": [
       "array(['Printed PF Identifier', 'Printed Frame Identifier',\n",
       "       'Printed Lens Identifier', 'Printed Frame and Lens Identifier',\n",
       "       'Printed PF to Follow Identifier'], dtype=object)"
      ]
     },
     "execution_count": 233,
     "metadata": {},
     "output_type": "execute_result"
    }
   ],
   "source": [
    "data1 = data[data['Status']=='Printed PF Identifier']\n",
    "data2 = data[data['Status']=='Printed Frame Identifier']\n",
    "data3 = data[data['Status']=='Printed Lens Identifier']\n",
    "data4 = data[data['Status']=='Printed Frame and Lens Identifier']\n",
    "data5 = data[data['Status']=='Printed PF to Follow Identifier']\n",
    "\n",
    "printed = pd.concat([data1,data2,data3,data4,data5])\n",
    "\n",
    "printed['Status'].unique()"
   ]
  },
  {
   "cell_type": "code",
   "execution_count": 234,
   "id": "e742336a",
   "metadata": {},
   "outputs": [
    {
     "data": {
      "text/html": [
       "<div>\n",
       "<style scoped>\n",
       "    .dataframe tbody tr th:only-of-type {\n",
       "        vertical-align: middle;\n",
       "    }\n",
       "\n",
       "    .dataframe tbody tr th {\n",
       "        vertical-align: top;\n",
       "    }\n",
       "\n",
       "    .dataframe thead th {\n",
       "        text-align: right;\n",
       "    }\n",
       "</style>\n",
       "<table border=\"1\" class=\"dataframe\">\n",
       "  <thead>\n",
       "    <tr style=\"text-align: right;\">\n",
       "      <th></th>\n",
       "      <th>Created User</th>\n",
       "      <th>Date</th>\n",
       "      <th>Time</th>\n",
       "      <th>Status</th>\n",
       "      <th>DocEntry</th>\n",
       "      <th>DocNum</th>\n",
       "      <th>OrderCriteria Status</th>\n",
       "      <th>printed_time</th>\n",
       "    </tr>\n",
       "  </thead>\n",
       "  <tbody>\n",
       "    <tr>\n",
       "      <th>137372</th>\n",
       "      <td>ohoc1</td>\n",
       "      <td>2023-02-01</td>\n",
       "      <td>13:17:00</td>\n",
       "      <td>Printed PF Identifier</td>\n",
       "      <td>943895</td>\n",
       "      <td>23204073</td>\n",
       "      <td>Order with PF from Branch and Lens from HQ</td>\n",
       "      <td>2023-02-01 13:17:00</td>\n",
       "    </tr>\n",
       "    <tr>\n",
       "      <th>137679</th>\n",
       "      <td>ohoc1</td>\n",
       "      <td>2023-02-02</td>\n",
       "      <td>17:12:00</td>\n",
       "      <td>Printed PF Identifier</td>\n",
       "      <td>945696</td>\n",
       "      <td>23204279</td>\n",
       "      <td>Overseas Lens with PF</td>\n",
       "      <td>2023-02-02 17:12:00</td>\n",
       "    </tr>\n",
       "    <tr>\n",
       "      <th>137730</th>\n",
       "      <td>ohoc1</td>\n",
       "      <td>2023-02-03</td>\n",
       "      <td>10:49:00</td>\n",
       "      <td>Printed PF Identifier</td>\n",
       "      <td>946085</td>\n",
       "      <td>23204309</td>\n",
       "      <td>Order with PF from Branch and Lens from HQ</td>\n",
       "      <td>2023-02-03 10:49:00</td>\n",
       "    </tr>\n",
       "    <tr>\n",
       "      <th>138151</th>\n",
       "      <td>ohoc1</td>\n",
       "      <td>2023-02-04</td>\n",
       "      <td>15:03:00</td>\n",
       "      <td>Printed PF Identifier</td>\n",
       "      <td>948244</td>\n",
       "      <td>23204577</td>\n",
       "      <td>Order with PF from Branch and Lens from HQ</td>\n",
       "      <td>2023-02-04 15:03:00</td>\n",
       "    </tr>\n",
       "    <tr>\n",
       "      <th>138152</th>\n",
       "      <td>ohoc1</td>\n",
       "      <td>2023-02-04</td>\n",
       "      <td>15:03:00</td>\n",
       "      <td>Printed PF Identifier</td>\n",
       "      <td>948254</td>\n",
       "      <td>23204579</td>\n",
       "      <td>Order with PF from Branch and Lens from HQ</td>\n",
       "      <td>2023-02-04 15:03:00</td>\n",
       "    </tr>\n",
       "  </tbody>\n",
       "</table>\n",
       "</div>"
      ],
      "text/plain": [
       "       Created User       Date      Time                 Status  DocEntry  \\\n",
       "137372        ohoc1 2023-02-01  13:17:00  Printed PF Identifier    943895   \n",
       "137679        ohoc1 2023-02-02  17:12:00  Printed PF Identifier    945696   \n",
       "137730        ohoc1 2023-02-03  10:49:00  Printed PF Identifier    946085   \n",
       "138151        ohoc1 2023-02-04  15:03:00  Printed PF Identifier    948244   \n",
       "138152        ohoc1 2023-02-04  15:03:00  Printed PF Identifier    948254   \n",
       "\n",
       "          DocNum                        OrderCriteria Status  \\\n",
       "137372  23204073  Order with PF from Branch and Lens from HQ   \n",
       "137679  23204279                       Overseas Lens with PF   \n",
       "137730  23204309  Order with PF from Branch and Lens from HQ   \n",
       "138151  23204577  Order with PF from Branch and Lens from HQ   \n",
       "138152  23204579  Order with PF from Branch and Lens from HQ   \n",
       "\n",
       "              printed_time  \n",
       "137372 2023-02-01 13:17:00  \n",
       "137679 2023-02-02 17:12:00  \n",
       "137730 2023-02-03 10:49:00  \n",
       "138151 2023-02-04 15:03:00  \n",
       "138152 2023-02-04 15:03:00  "
      ]
     },
     "execution_count": 234,
     "metadata": {},
     "output_type": "execute_result"
    }
   ],
   "source": [
    "printed = printed.rename(columns={'Datetime':'printed_time'})\n",
    "printed.head()"
   ]
  },
  {
   "cell_type": "code",
   "execution_count": 235,
   "id": "5d248e0b",
   "metadata": {},
   "outputs": [
    {
     "data": {
      "text/plain": [
       "array(['Sales Order Created', 'Confirmed by Approvals Team'], dtype=object)"
      ]
     },
     "execution_count": 235,
     "metadata": {},
     "output_type": "execute_result"
    }
   ],
   "source": [
    "sales1 = data[data['Status']=='Sales Order Created']\n",
    "sales2 = data[data['Status']=='Confirmed by Approvals Team']\n",
    "\n",
    "sales = pd.concat([sales1,sales2])\n",
    "\n",
    "sales['Status'].unique()"
   ]
  },
  {
   "cell_type": "code",
   "execution_count": 236,
   "id": "bffb74d0",
   "metadata": {},
   "outputs": [
    {
     "data": {
      "text/html": [
       "<div>\n",
       "<style scoped>\n",
       "    .dataframe tbody tr th:only-of-type {\n",
       "        vertical-align: middle;\n",
       "    }\n",
       "\n",
       "    .dataframe tbody tr th {\n",
       "        vertical-align: top;\n",
       "    }\n",
       "\n",
       "    .dataframe thead th {\n",
       "        text-align: right;\n",
       "    }\n",
       "</style>\n",
       "<table border=\"1\" class=\"dataframe\">\n",
       "  <thead>\n",
       "    <tr style=\"text-align: right;\">\n",
       "      <th></th>\n",
       "      <th>Created User</th>\n",
       "      <th>Date</th>\n",
       "      <th>Time</th>\n",
       "      <th>Status</th>\n",
       "      <th>DocEntry</th>\n",
       "      <th>DocNum</th>\n",
       "      <th>OrderCriteria Status</th>\n",
       "      <th>sales_time</th>\n",
       "    </tr>\n",
       "  </thead>\n",
       "  <tbody>\n",
       "    <tr>\n",
       "      <th>16448</th>\n",
       "      <td>bdman</td>\n",
       "      <td>2023-02-01</td>\n",
       "      <td>09:28:00</td>\n",
       "      <td>Sales Order Created</td>\n",
       "      <td>943250</td>\n",
       "      <td>231201440</td>\n",
       "      <td>PL and HQ Frame</td>\n",
       "      <td>2023-02-01 09:28:00</td>\n",
       "    </tr>\n",
       "    <tr>\n",
       "      <th>16451</th>\n",
       "      <td>bdman</td>\n",
       "      <td>2023-02-01</td>\n",
       "      <td>10:04:00</td>\n",
       "      <td>Sales Order Created</td>\n",
       "      <td>940107</td>\n",
       "      <td>23203626</td>\n",
       "      <td>Frame from HQ and Lens from HQ</td>\n",
       "      <td>2023-02-01 10:04:00</td>\n",
       "    </tr>\n",
       "    <tr>\n",
       "      <th>16452</th>\n",
       "      <td>bdman</td>\n",
       "      <td>2023-02-01</td>\n",
       "      <td>11:44:00</td>\n",
       "      <td>Sales Order Created</td>\n",
       "      <td>942058</td>\n",
       "      <td>231201416</td>\n",
       "      <td>Frame from HQ and Lens from HQ</td>\n",
       "      <td>2023-02-01 11:44:00</td>\n",
       "    </tr>\n",
       "    <tr>\n",
       "      <th>16454</th>\n",
       "      <td>bdman</td>\n",
       "      <td>2023-02-01</td>\n",
       "      <td>13:10:00</td>\n",
       "      <td>Sales Order Created</td>\n",
       "      <td>943294</td>\n",
       "      <td>23204004</td>\n",
       "      <td>Overseas Lens with HQ Frame</td>\n",
       "      <td>2023-02-01 13:10:00</td>\n",
       "    </tr>\n",
       "    <tr>\n",
       "      <th>16456</th>\n",
       "      <td>bdman</td>\n",
       "      <td>2023-02-02</td>\n",
       "      <td>08:09:00</td>\n",
       "      <td>Sales Order Created</td>\n",
       "      <td>943763</td>\n",
       "      <td>232600216</td>\n",
       "      <td>OTC</td>\n",
       "      <td>2023-02-02 08:09:00</td>\n",
       "    </tr>\n",
       "  </tbody>\n",
       "</table>\n",
       "</div>"
      ],
      "text/plain": [
       "      Created User       Date      Time               Status  DocEntry  \\\n",
       "16448        bdman 2023-02-01  09:28:00  Sales Order Created    943250   \n",
       "16451        bdman 2023-02-01  10:04:00  Sales Order Created    940107   \n",
       "16452        bdman 2023-02-01  11:44:00  Sales Order Created    942058   \n",
       "16454        bdman 2023-02-01  13:10:00  Sales Order Created    943294   \n",
       "16456        bdman 2023-02-02  08:09:00  Sales Order Created    943763   \n",
       "\n",
       "          DocNum            OrderCriteria Status          sales_time  \n",
       "16448  231201440                 PL and HQ Frame 2023-02-01 09:28:00  \n",
       "16451   23203626  Frame from HQ and Lens from HQ 2023-02-01 10:04:00  \n",
       "16452  231201416  Frame from HQ and Lens from HQ 2023-02-01 11:44:00  \n",
       "16454   23204004     Overseas Lens with HQ Frame 2023-02-01 13:10:00  \n",
       "16456  232600216                             OTC 2023-02-02 08:09:00  "
      ]
     },
     "execution_count": 236,
     "metadata": {},
     "output_type": "execute_result"
    }
   ],
   "source": [
    "sales = sales.rename(columns={'Datetime':'sales_time'})\n",
    "sales.head()"
   ]
  },
  {
   "cell_type": "code",
   "execution_count": 237,
   "id": "3c2040dd",
   "metadata": {},
   "outputs": [
    {
     "data": {
      "text/html": [
       "<div>\n",
       "<style scoped>\n",
       "    .dataframe tbody tr th:only-of-type {\n",
       "        vertical-align: middle;\n",
       "    }\n",
       "\n",
       "    .dataframe tbody tr th {\n",
       "        vertical-align: top;\n",
       "    }\n",
       "\n",
       "    .dataframe thead th {\n",
       "        text-align: right;\n",
       "    }\n",
       "</style>\n",
       "<table border=\"1\" class=\"dataframe\">\n",
       "  <thead>\n",
       "    <tr style=\"text-align: right;\">\n",
       "      <th></th>\n",
       "      <th>Created User</th>\n",
       "      <th>Date</th>\n",
       "      <th>Time</th>\n",
       "      <th>Status</th>\n",
       "      <th>DocEntry</th>\n",
       "      <th>DocNum</th>\n",
       "      <th>OrderCriteria Status</th>\n",
       "      <th>sales_time</th>\n",
       "      <th>printed_time</th>\n",
       "    </tr>\n",
       "  </thead>\n",
       "  <tbody>\n",
       "    <tr>\n",
       "      <th>0</th>\n",
       "      <td>bdman</td>\n",
       "      <td>2023-02-01</td>\n",
       "      <td>09:28:00</td>\n",
       "      <td>Sales Order Created</td>\n",
       "      <td>943250</td>\n",
       "      <td>231201440</td>\n",
       "      <td>PL and HQ Frame</td>\n",
       "      <td>2023-02-01 09:28:00</td>\n",
       "      <td>NaT</td>\n",
       "    </tr>\n",
       "    <tr>\n",
       "      <th>1</th>\n",
       "      <td>bdman</td>\n",
       "      <td>2023-02-01</td>\n",
       "      <td>10:04:00</td>\n",
       "      <td>Sales Order Created</td>\n",
       "      <td>940107</td>\n",
       "      <td>23203626</td>\n",
       "      <td>Frame from HQ and Lens from HQ</td>\n",
       "      <td>2023-02-01 10:04:00</td>\n",
       "      <td>NaT</td>\n",
       "    </tr>\n",
       "    <tr>\n",
       "      <th>2</th>\n",
       "      <td>bdman</td>\n",
       "      <td>2023-02-01</td>\n",
       "      <td>11:44:00</td>\n",
       "      <td>Sales Order Created</td>\n",
       "      <td>942058</td>\n",
       "      <td>231201416</td>\n",
       "      <td>Frame from HQ and Lens from HQ</td>\n",
       "      <td>2023-02-01 11:44:00</td>\n",
       "      <td>NaT</td>\n",
       "    </tr>\n",
       "    <tr>\n",
       "      <th>3</th>\n",
       "      <td>bdman</td>\n",
       "      <td>2023-02-01</td>\n",
       "      <td>13:10:00</td>\n",
       "      <td>Sales Order Created</td>\n",
       "      <td>943294</td>\n",
       "      <td>23204004</td>\n",
       "      <td>Overseas Lens with HQ Frame</td>\n",
       "      <td>2023-02-01 13:10:00</td>\n",
       "      <td>NaT</td>\n",
       "    </tr>\n",
       "    <tr>\n",
       "      <th>4</th>\n",
       "      <td>bdman</td>\n",
       "      <td>2023-02-02</td>\n",
       "      <td>08:09:00</td>\n",
       "      <td>Sales Order Created</td>\n",
       "      <td>943763</td>\n",
       "      <td>232600216</td>\n",
       "      <td>OTC</td>\n",
       "      <td>2023-02-02 08:09:00</td>\n",
       "      <td>NaT</td>\n",
       "    </tr>\n",
       "    <tr>\n",
       "      <th>5</th>\n",
       "      <td>bdman</td>\n",
       "      <td>2023-02-02</td>\n",
       "      <td>08:10:00</td>\n",
       "      <td>Sales Order Created</td>\n",
       "      <td>936391</td>\n",
       "      <td>234600222</td>\n",
       "      <td>Frame from HQ and Lens from HQ</td>\n",
       "      <td>2023-02-02 08:10:00</td>\n",
       "      <td>NaT</td>\n",
       "    </tr>\n",
       "    <tr>\n",
       "      <th>6</th>\n",
       "      <td>bdman</td>\n",
       "      <td>2023-02-02</td>\n",
       "      <td>08:12:00</td>\n",
       "      <td>Sales Order Created</td>\n",
       "      <td>943124</td>\n",
       "      <td>232400265</td>\n",
       "      <td>Frame from HQ and Lens from HQ</td>\n",
       "      <td>2023-02-02 08:12:00</td>\n",
       "      <td>NaT</td>\n",
       "    </tr>\n",
       "    <tr>\n",
       "      <th>7</th>\n",
       "      <td>bdman</td>\n",
       "      <td>2023-02-02</td>\n",
       "      <td>08:12:00</td>\n",
       "      <td>Sales Order Created</td>\n",
       "      <td>943751</td>\n",
       "      <td>236400324</td>\n",
       "      <td>Overseas Lens with HQ Frame</td>\n",
       "      <td>2023-02-02 08:12:00</td>\n",
       "      <td>NaT</td>\n",
       "    </tr>\n",
       "    <tr>\n",
       "      <th>8</th>\n",
       "      <td>bdman</td>\n",
       "      <td>2023-02-02</td>\n",
       "      <td>08:13:00</td>\n",
       "      <td>Sales Order Created</td>\n",
       "      <td>943828</td>\n",
       "      <td>232600218</td>\n",
       "      <td>OTC</td>\n",
       "      <td>2023-02-02 08:13:00</td>\n",
       "      <td>NaT</td>\n",
       "    </tr>\n",
       "    <tr>\n",
       "      <th>9</th>\n",
       "      <td>bdman</td>\n",
       "      <td>2023-02-02</td>\n",
       "      <td>08:14:00</td>\n",
       "      <td>Sales Order Created</td>\n",
       "      <td>944474</td>\n",
       "      <td>231100745</td>\n",
       "      <td>OTC</td>\n",
       "      <td>2023-02-02 08:14:00</td>\n",
       "      <td>NaT</td>\n",
       "    </tr>\n",
       "  </tbody>\n",
       "</table>\n",
       "</div>"
      ],
      "text/plain": [
       "  Created User       Date      Time               Status  DocEntry     DocNum  \\\n",
       "0        bdman 2023-02-01  09:28:00  Sales Order Created    943250  231201440   \n",
       "1        bdman 2023-02-01  10:04:00  Sales Order Created    940107   23203626   \n",
       "2        bdman 2023-02-01  11:44:00  Sales Order Created    942058  231201416   \n",
       "3        bdman 2023-02-01  13:10:00  Sales Order Created    943294   23204004   \n",
       "4        bdman 2023-02-02  08:09:00  Sales Order Created    943763  232600216   \n",
       "5        bdman 2023-02-02  08:10:00  Sales Order Created    936391  234600222   \n",
       "6        bdman 2023-02-02  08:12:00  Sales Order Created    943124  232400265   \n",
       "7        bdman 2023-02-02  08:12:00  Sales Order Created    943751  236400324   \n",
       "8        bdman 2023-02-02  08:13:00  Sales Order Created    943828  232600218   \n",
       "9        bdman 2023-02-02  08:14:00  Sales Order Created    944474  231100745   \n",
       "\n",
       "             OrderCriteria Status          sales_time printed_time  \n",
       "0                 PL and HQ Frame 2023-02-01 09:28:00          NaT  \n",
       "1  Frame from HQ and Lens from HQ 2023-02-01 10:04:00          NaT  \n",
       "2  Frame from HQ and Lens from HQ 2023-02-01 11:44:00          NaT  \n",
       "3     Overseas Lens with HQ Frame 2023-02-01 13:10:00          NaT  \n",
       "4                             OTC 2023-02-02 08:09:00          NaT  \n",
       "5  Frame from HQ and Lens from HQ 2023-02-02 08:10:00          NaT  \n",
       "6  Frame from HQ and Lens from HQ 2023-02-02 08:12:00          NaT  \n",
       "7     Overseas Lens with HQ Frame 2023-02-02 08:12:00          NaT  \n",
       "8                             OTC 2023-02-02 08:13:00          NaT  \n",
       "9                             OTC 2023-02-02 08:14:00          NaT  "
      ]
     },
     "execution_count": 237,
     "metadata": {},
     "output_type": "execute_result"
    }
   ],
   "source": [
    "final = pd.merge(sales,printed[['DocEntry','printed_time']], how='left', on='DocEntry')\n",
    "final.head(10)"
   ]
  },
  {
   "cell_type": "code",
   "execution_count": 238,
   "id": "562cf08e",
   "metadata": {},
   "outputs": [
    {
     "data": {
      "text/html": [
       "<div>\n",
       "<style scoped>\n",
       "    .dataframe tbody tr th:only-of-type {\n",
       "        vertical-align: middle;\n",
       "    }\n",
       "\n",
       "    .dataframe tbody tr th {\n",
       "        vertical-align: top;\n",
       "    }\n",
       "\n",
       "    .dataframe thead th {\n",
       "        text-align: right;\n",
       "    }\n",
       "</style>\n",
       "<table border=\"1\" class=\"dataframe\">\n",
       "  <thead>\n",
       "    <tr style=\"text-align: right;\">\n",
       "      <th></th>\n",
       "      <th>Created User</th>\n",
       "      <th>Date</th>\n",
       "      <th>Time</th>\n",
       "      <th>Status</th>\n",
       "      <th>DocEntry</th>\n",
       "      <th>DocNum</th>\n",
       "      <th>OrderCriteria Status</th>\n",
       "      <th>sales_time</th>\n",
       "      <th>printed_time</th>\n",
       "    </tr>\n",
       "  </thead>\n",
       "  <tbody>\n",
       "    <tr>\n",
       "      <th>13</th>\n",
       "      <td>bdman</td>\n",
       "      <td>2023-02-02</td>\n",
       "      <td>09:11:00</td>\n",
       "      <td>Sales Order Created</td>\n",
       "      <td>944259</td>\n",
       "      <td>23102889</td>\n",
       "      <td>Overseas Lens with PF to Follow</td>\n",
       "      <td>2023-02-02 09:11:00</td>\n",
       "      <td>2023-02-11 09:12:00</td>\n",
       "    </tr>\n",
       "    <tr>\n",
       "      <th>14</th>\n",
       "      <td>bdman</td>\n",
       "      <td>2023-02-02</td>\n",
       "      <td>09:11:00</td>\n",
       "      <td>Sales Order Created</td>\n",
       "      <td>944259</td>\n",
       "      <td>23102889</td>\n",
       "      <td>Overseas Lens with PF to Follow</td>\n",
       "      <td>2023-02-02 09:11:00</td>\n",
       "      <td>2023-02-11 09:12:00</td>\n",
       "    </tr>\n",
       "    <tr>\n",
       "      <th>67</th>\n",
       "      <td>bdman</td>\n",
       "      <td>2023-02-08</td>\n",
       "      <td>09:49:00</td>\n",
       "      <td>Sales Order Created</td>\n",
       "      <td>946622</td>\n",
       "      <td>23103098</td>\n",
       "      <td>Overseas Lens with Branch Frame</td>\n",
       "      <td>2023-02-08 09:49:00</td>\n",
       "      <td>2023-02-08 09:54:00</td>\n",
       "    </tr>\n",
       "    <tr>\n",
       "      <th>68</th>\n",
       "      <td>bdman</td>\n",
       "      <td>2023-02-08</td>\n",
       "      <td>09:49:00</td>\n",
       "      <td>Sales Order Created</td>\n",
       "      <td>946622</td>\n",
       "      <td>23103098</td>\n",
       "      <td>Overseas Lens with Branch Frame</td>\n",
       "      <td>2023-02-08 09:49:00</td>\n",
       "      <td>2023-02-08 09:54:00</td>\n",
       "    </tr>\n",
       "  </tbody>\n",
       "</table>\n",
       "</div>"
      ],
      "text/plain": [
       "   Created User       Date      Time               Status  DocEntry    DocNum  \\\n",
       "13        bdman 2023-02-02  09:11:00  Sales Order Created    944259  23102889   \n",
       "14        bdman 2023-02-02  09:11:00  Sales Order Created    944259  23102889   \n",
       "67        bdman 2023-02-08  09:49:00  Sales Order Created    946622  23103098   \n",
       "68        bdman 2023-02-08  09:49:00  Sales Order Created    946622  23103098   \n",
       "\n",
       "               OrderCriteria Status          sales_time        printed_time  \n",
       "13  Overseas Lens with PF to Follow 2023-02-02 09:11:00 2023-02-11 09:12:00  \n",
       "14  Overseas Lens with PF to Follow 2023-02-02 09:11:00 2023-02-11 09:12:00  \n",
       "67  Overseas Lens with Branch Frame 2023-02-08 09:49:00 2023-02-08 09:54:00  \n",
       "68  Overseas Lens with Branch Frame 2023-02-08 09:49:00 2023-02-08 09:54:00  "
      ]
     },
     "execution_count": 238,
     "metadata": {},
     "output_type": "execute_result"
    }
   ],
   "source": [
    "final = final.dropna(subset='printed_time')\n",
    "final.head(4)"
   ]
  },
  {
   "cell_type": "code",
   "execution_count": 239,
   "id": "b4411b5c",
   "metadata": {},
   "outputs": [
    {
     "name": "stderr",
     "output_type": "stream",
     "text": [
      "C:\\Users\\user\\anaconda3\\lib\\site-packages\\workalendar\\core.py:436: UserWarning: Please take note that, due to arbitrary decisions, this Islamic calendar computation may be wrong.\n",
      "  warnings.warn('Please take note that, due to arbitrary decisions, '\n"
     ]
    }
   ],
   "source": [
    "##Define a working day\n",
    "\n",
    "####Days of the week\n",
    "workday = businesstimedelta.WorkDayRule(\n",
    "    start_time=datetime.time(9),\n",
    "    end_time=datetime.time(18),\n",
    "    working_days=[0,1, 2, 3, 4])\n",
    "\n",
    "cal = Kenya()\n",
    "hl = cal.holidays()\n",
    "vic_holidays = pyholidays.KE() \n",
    "holidays = businesstimedelta.HolidayRule(vic_holidays)\n",
    "businesshrs = businesstimedelta.Rules([workday, holidays], hl)\n",
    "\n",
    "def BusHrs(start, end):\n",
    "    if end>=start:\n",
    "        return businesshrs.difference(start,end).hours+float(businesshrs.difference(start,end).seconds)/float(3600)\n",
    "    else:\n",
    "        \"\"\n",
    "    \n",
    "RejectedSentWk_hrs=final.apply(lambda row: BusHrs(row['sales_time'], row['printed_time']), axis=1)\n"
   ]
  },
  {
   "cell_type": "code",
   "execution_count": 240,
   "id": "8c9d30ac",
   "metadata": {},
   "outputs": [],
   "source": [
    "# Define a working weekend day(Saturday)\n",
    "\n",
    "Saturday = businesstimedelta.WorkDayRule(start_time=datetime.time(9),end_time=datetime.time(16),working_days=[5])\n",
    "\n",
    "vic_holidays = pyholidays.KE()\n",
    "holidays = businesstimedelta.HolidayRule(vic_holidays)\n",
    "businesshrs = businesstimedelta.Rules([Saturday, holidays])\n",
    "\n",
    "def SatHrs(start, end):\n",
    "    if end>=start:\n",
    "        return businesshrs.difference(start,end).hours+float(businesshrs.difference(start,end).seconds)/float(3600)\n",
    "    else:\n",
    "        \"\"\n",
    "\n",
    "RejectedSentSat_hrs=final.apply(lambda row: BusHrs(row['sales_time'], row['printed_time']), axis=1)\n"
   ]
  },
  {
   "cell_type": "code",
   "execution_count": 241,
   "id": "4d2f6097",
   "metadata": {},
   "outputs": [
    {
     "data": {
      "text/html": [
       "<div>\n",
       "<style scoped>\n",
       "    .dataframe tbody tr th:only-of-type {\n",
       "        vertical-align: middle;\n",
       "    }\n",
       "\n",
       "    .dataframe tbody tr th {\n",
       "        vertical-align: top;\n",
       "    }\n",
       "\n",
       "    .dataframe thead th {\n",
       "        text-align: right;\n",
       "    }\n",
       "</style>\n",
       "<table border=\"1\" class=\"dataframe\">\n",
       "  <thead>\n",
       "    <tr style=\"text-align: right;\">\n",
       "      <th></th>\n",
       "      <th>Created User</th>\n",
       "      <th>Date</th>\n",
       "      <th>Time</th>\n",
       "      <th>Status</th>\n",
       "      <th>DocEntry</th>\n",
       "      <th>DocNum</th>\n",
       "      <th>OrderCriteria Status</th>\n",
       "      <th>sales_time</th>\n",
       "      <th>printed_time</th>\n",
       "      <th>Time difference</th>\n",
       "    </tr>\n",
       "  </thead>\n",
       "  <tbody>\n",
       "    <tr>\n",
       "      <th>13</th>\n",
       "      <td>bdman</td>\n",
       "      <td>2023-02-02</td>\n",
       "      <td>09:11:00</td>\n",
       "      <td>Sales Order Created</td>\n",
       "      <td>944259</td>\n",
       "      <td>23102889</td>\n",
       "      <td>Overseas Lens with PF to Follow</td>\n",
       "      <td>2023-02-02 09:11:00</td>\n",
       "      <td>2023-02-11 09:12:00</td>\n",
       "      <td>4201.0</td>\n",
       "    </tr>\n",
       "    <tr>\n",
       "      <th>14</th>\n",
       "      <td>bdman</td>\n",
       "      <td>2023-02-02</td>\n",
       "      <td>09:11:00</td>\n",
       "      <td>Sales Order Created</td>\n",
       "      <td>944259</td>\n",
       "      <td>23102889</td>\n",
       "      <td>Overseas Lens with PF to Follow</td>\n",
       "      <td>2023-02-02 09:11:00</td>\n",
       "      <td>2023-02-11 09:12:00</td>\n",
       "      <td>4201.0</td>\n",
       "    </tr>\n",
       "    <tr>\n",
       "      <th>67</th>\n",
       "      <td>bdman</td>\n",
       "      <td>2023-02-08</td>\n",
       "      <td>09:49:00</td>\n",
       "      <td>Sales Order Created</td>\n",
       "      <td>946622</td>\n",
       "      <td>23103098</td>\n",
       "      <td>Overseas Lens with Branch Frame</td>\n",
       "      <td>2023-02-08 09:49:00</td>\n",
       "      <td>2023-02-08 09:54:00</td>\n",
       "      <td>5.0</td>\n",
       "    </tr>\n",
       "    <tr>\n",
       "      <th>68</th>\n",
       "      <td>bdman</td>\n",
       "      <td>2023-02-08</td>\n",
       "      <td>09:49:00</td>\n",
       "      <td>Sales Order Created</td>\n",
       "      <td>946622</td>\n",
       "      <td>23103098</td>\n",
       "      <td>Overseas Lens with Branch Frame</td>\n",
       "      <td>2023-02-08 09:49:00</td>\n",
       "      <td>2023-02-08 09:54:00</td>\n",
       "      <td>5.0</td>\n",
       "    </tr>\n",
       "    <tr>\n",
       "      <th>111</th>\n",
       "      <td>bdman</td>\n",
       "      <td>2023-02-15</td>\n",
       "      <td>16:29:00</td>\n",
       "      <td>Sales Order Created</td>\n",
       "      <td>960511</td>\n",
       "      <td>23206067</td>\n",
       "      <td>Overseas Lens with Branch Frame</td>\n",
       "      <td>2023-02-15 16:29:00</td>\n",
       "      <td>2023-02-15 16:31:00</td>\n",
       "      <td>2.0</td>\n",
       "    </tr>\n",
       "  </tbody>\n",
       "</table>\n",
       "</div>"
      ],
      "text/plain": [
       "    Created User       Date      Time               Status  DocEntry  \\\n",
       "13         bdman 2023-02-02  09:11:00  Sales Order Created    944259   \n",
       "14         bdman 2023-02-02  09:11:00  Sales Order Created    944259   \n",
       "67         bdman 2023-02-08  09:49:00  Sales Order Created    946622   \n",
       "68         bdman 2023-02-08  09:49:00  Sales Order Created    946622   \n",
       "111        bdman 2023-02-15  16:29:00  Sales Order Created    960511   \n",
       "\n",
       "       DocNum             OrderCriteria Status          sales_time  \\\n",
       "13   23102889  Overseas Lens with PF to Follow 2023-02-02 09:11:00   \n",
       "14   23102889  Overseas Lens with PF to Follow 2023-02-02 09:11:00   \n",
       "67   23103098  Overseas Lens with Branch Frame 2023-02-08 09:49:00   \n",
       "68   23103098  Overseas Lens with Branch Frame 2023-02-08 09:49:00   \n",
       "111  23206067  Overseas Lens with Branch Frame 2023-02-15 16:29:00   \n",
       "\n",
       "           printed_time  Time difference  \n",
       "13  2023-02-11 09:12:00           4201.0  \n",
       "14  2023-02-11 09:12:00           4201.0  \n",
       "67  2023-02-08 09:54:00              5.0  \n",
       "68  2023-02-08 09:54:00              5.0  \n",
       "111 2023-02-15 16:31:00              2.0  "
      ]
     },
     "execution_count": 241,
     "metadata": {},
     "output_type": "execute_result"
    }
   ],
   "source": [
    "final['Time difference'] =(RejectedSentWk_hrs+RejectedSentSat_hrs)*60\n",
    "final.head(5)"
   ]
  },
  {
   "cell_type": "code",
   "execution_count": 242,
   "id": "a4d37270",
   "metadata": {},
   "outputs": [
    {
     "data": {
      "text/html": [
       "<div>\n",
       "<style scoped>\n",
       "    .dataframe tbody tr th:only-of-type {\n",
       "        vertical-align: middle;\n",
       "    }\n",
       "\n",
       "    .dataframe tbody tr th {\n",
       "        vertical-align: top;\n",
       "    }\n",
       "\n",
       "    .dataframe thead th {\n",
       "        text-align: right;\n",
       "    }\n",
       "</style>\n",
       "<table border=\"1\" class=\"dataframe\">\n",
       "  <thead>\n",
       "    <tr style=\"text-align: right;\">\n",
       "      <th></th>\n",
       "      <th>Created User</th>\n",
       "      <th>Date</th>\n",
       "      <th>Time</th>\n",
       "      <th>Status</th>\n",
       "      <th>DocEntry</th>\n",
       "      <th>DocNum</th>\n",
       "      <th>OrderCriteria Status</th>\n",
       "      <th>sales_time</th>\n",
       "      <th>printed_time</th>\n",
       "      <th>Time difference</th>\n",
       "      <th>delayed dept</th>\n",
       "    </tr>\n",
       "  </thead>\n",
       "  <tbody>\n",
       "    <tr>\n",
       "      <th>13</th>\n",
       "      <td>bdman</td>\n",
       "      <td>2023-02-02</td>\n",
       "      <td>09:11:00</td>\n",
       "      <td>Sales Order Created</td>\n",
       "      <td>944259</td>\n",
       "      <td>23102889</td>\n",
       "      <td>Overseas Lens with PF to Follow</td>\n",
       "      <td>2023-02-02 09:11:00</td>\n",
       "      <td>2023-02-11 09:12:00</td>\n",
       "      <td>4201.0</td>\n",
       "      <td>Delayed to print Identifier</td>\n",
       "    </tr>\n",
       "    <tr>\n",
       "      <th>14</th>\n",
       "      <td>bdman</td>\n",
       "      <td>2023-02-02</td>\n",
       "      <td>09:11:00</td>\n",
       "      <td>Sales Order Created</td>\n",
       "      <td>944259</td>\n",
       "      <td>23102889</td>\n",
       "      <td>Overseas Lens with PF to Follow</td>\n",
       "      <td>2023-02-02 09:11:00</td>\n",
       "      <td>2023-02-11 09:12:00</td>\n",
       "      <td>4201.0</td>\n",
       "      <td>Delayed to print Identifier</td>\n",
       "    </tr>\n",
       "    <tr>\n",
       "      <th>67</th>\n",
       "      <td>bdman</td>\n",
       "      <td>2023-02-08</td>\n",
       "      <td>09:49:00</td>\n",
       "      <td>Sales Order Created</td>\n",
       "      <td>946622</td>\n",
       "      <td>23103098</td>\n",
       "      <td>Overseas Lens with Branch Frame</td>\n",
       "      <td>2023-02-08 09:49:00</td>\n",
       "      <td>2023-02-08 09:54:00</td>\n",
       "      <td>5.0</td>\n",
       "      <td>Did not delay to print Identifier</td>\n",
       "    </tr>\n",
       "  </tbody>\n",
       "</table>\n",
       "</div>"
      ],
      "text/plain": [
       "   Created User       Date      Time               Status  DocEntry    DocNum  \\\n",
       "13        bdman 2023-02-02  09:11:00  Sales Order Created    944259  23102889   \n",
       "14        bdman 2023-02-02  09:11:00  Sales Order Created    944259  23102889   \n",
       "67        bdman 2023-02-08  09:49:00  Sales Order Created    946622  23103098   \n",
       "\n",
       "               OrderCriteria Status          sales_time        printed_time  \\\n",
       "13  Overseas Lens with PF to Follow 2023-02-02 09:11:00 2023-02-11 09:12:00   \n",
       "14  Overseas Lens with PF to Follow 2023-02-02 09:11:00 2023-02-11 09:12:00   \n",
       "67  Overseas Lens with Branch Frame 2023-02-08 09:49:00 2023-02-08 09:54:00   \n",
       "\n",
       "    Time difference                       delayed dept  \n",
       "13           4201.0        Delayed to print Identifier  \n",
       "14           4201.0        Delayed to print Identifier  \n",
       "67              5.0  Did not delay to print Identifier  "
      ]
     },
     "execution_count": 242,
     "metadata": {},
     "output_type": "execute_result"
    }
   ],
   "source": [
    "final['delayed dept'] = final['Time difference'].apply(lambda x: 'Delayed to print Identifier' if x > 5 else 'Did not delay to print Identifier')\n",
    "final.head(3)"
   ]
  },
  {
   "cell_type": "code",
   "execution_count": 243,
   "id": "d7d9cf72",
   "metadata": {},
   "outputs": [],
   "source": [
    "final['Status'] = final['Status'].apply(lambda x: 'Cash order' if x=='Sales Order Created' else 'Insurance order')"
   ]
  },
  {
   "cell_type": "code",
   "execution_count": 244,
   "id": "e60112f9",
   "metadata": {},
   "outputs": [
    {
     "data": {
      "text/html": [
       "<div>\n",
       "<style scoped>\n",
       "    .dataframe tbody tr th:only-of-type {\n",
       "        vertical-align: middle;\n",
       "    }\n",
       "\n",
       "    .dataframe tbody tr th {\n",
       "        vertical-align: top;\n",
       "    }\n",
       "\n",
       "    .dataframe thead th {\n",
       "        text-align: right;\n",
       "    }\n",
       "</style>\n",
       "<table border=\"1\" class=\"dataframe\">\n",
       "  <thead>\n",
       "    <tr style=\"text-align: right;\">\n",
       "      <th></th>\n",
       "      <th>Created User</th>\n",
       "      <th>Payment</th>\n",
       "      <th>DocEntry</th>\n",
       "      <th>DocNum</th>\n",
       "      <th>OrderCriteria Status</th>\n",
       "      <th>sales_time</th>\n",
       "      <th>printed_time</th>\n",
       "      <th>Time difference</th>\n",
       "      <th>delayed dept</th>\n",
       "    </tr>\n",
       "  </thead>\n",
       "  <tbody>\n",
       "    <tr>\n",
       "      <th>13</th>\n",
       "      <td>bdman</td>\n",
       "      <td>Cash order</td>\n",
       "      <td>944259</td>\n",
       "      <td>23102889</td>\n",
       "      <td>Overseas Lens with PF to Follow</td>\n",
       "      <td>2023-02-02 09:11:00</td>\n",
       "      <td>2023-02-11 09:12:00</td>\n",
       "      <td>4201.0</td>\n",
       "      <td>Delayed to print Identifier</td>\n",
       "    </tr>\n",
       "    <tr>\n",
       "      <th>14</th>\n",
       "      <td>bdman</td>\n",
       "      <td>Cash order</td>\n",
       "      <td>944259</td>\n",
       "      <td>23102889</td>\n",
       "      <td>Overseas Lens with PF to Follow</td>\n",
       "      <td>2023-02-02 09:11:00</td>\n",
       "      <td>2023-02-11 09:12:00</td>\n",
       "      <td>4201.0</td>\n",
       "      <td>Delayed to print Identifier</td>\n",
       "    </tr>\n",
       "    <tr>\n",
       "      <th>67</th>\n",
       "      <td>bdman</td>\n",
       "      <td>Cash order</td>\n",
       "      <td>946622</td>\n",
       "      <td>23103098</td>\n",
       "      <td>Overseas Lens with Branch Frame</td>\n",
       "      <td>2023-02-08 09:49:00</td>\n",
       "      <td>2023-02-08 09:54:00</td>\n",
       "      <td>5.0</td>\n",
       "      <td>Did not delay to print Identifier</td>\n",
       "    </tr>\n",
       "    <tr>\n",
       "      <th>68</th>\n",
       "      <td>bdman</td>\n",
       "      <td>Cash order</td>\n",
       "      <td>946622</td>\n",
       "      <td>23103098</td>\n",
       "      <td>Overseas Lens with Branch Frame</td>\n",
       "      <td>2023-02-08 09:49:00</td>\n",
       "      <td>2023-02-08 09:54:00</td>\n",
       "      <td>5.0</td>\n",
       "      <td>Did not delay to print Identifier</td>\n",
       "    </tr>\n",
       "    <tr>\n",
       "      <th>111</th>\n",
       "      <td>bdman</td>\n",
       "      <td>Cash order</td>\n",
       "      <td>960511</td>\n",
       "      <td>23206067</td>\n",
       "      <td>Overseas Lens with Branch Frame</td>\n",
       "      <td>2023-02-15 16:29:00</td>\n",
       "      <td>2023-02-15 16:31:00</td>\n",
       "      <td>2.0</td>\n",
       "      <td>Did not delay to print Identifier</td>\n",
       "    </tr>\n",
       "  </tbody>\n",
       "</table>\n",
       "</div>"
      ],
      "text/plain": [
       "    Created User     Payment  DocEntry    DocNum  \\\n",
       "13         bdman  Cash order    944259  23102889   \n",
       "14         bdman  Cash order    944259  23102889   \n",
       "67         bdman  Cash order    946622  23103098   \n",
       "68         bdman  Cash order    946622  23103098   \n",
       "111        bdman  Cash order    960511  23206067   \n",
       "\n",
       "                OrderCriteria Status          sales_time        printed_time  \\\n",
       "13   Overseas Lens with PF to Follow 2023-02-02 09:11:00 2023-02-11 09:12:00   \n",
       "14   Overseas Lens with PF to Follow 2023-02-02 09:11:00 2023-02-11 09:12:00   \n",
       "67   Overseas Lens with Branch Frame 2023-02-08 09:49:00 2023-02-08 09:54:00   \n",
       "68   Overseas Lens with Branch Frame 2023-02-08 09:49:00 2023-02-08 09:54:00   \n",
       "111  Overseas Lens with Branch Frame 2023-02-15 16:29:00 2023-02-15 16:31:00   \n",
       "\n",
       "     Time difference                       delayed dept  \n",
       "13            4201.0        Delayed to print Identifier  \n",
       "14            4201.0        Delayed to print Identifier  \n",
       "67               5.0  Did not delay to print Identifier  \n",
       "68               5.0  Did not delay to print Identifier  \n",
       "111              2.0  Did not delay to print Identifier  "
      ]
     },
     "execution_count": 244,
     "metadata": {},
     "output_type": "execute_result"
    }
   ],
   "source": [
    "final = final.drop(columns={'Date','Time'})\n",
    "final = final.rename(columns={'Status':'Payment'})\n",
    "final.head(5)"
   ]
  },
  {
   "cell_type": "code",
   "execution_count": 282,
   "id": "c4e98ed5",
   "metadata": {},
   "outputs": [],
   "source": [
    "final =final.rename(columns={'printed_time':'Datetime','sales_time':'Datetimeout'})"
   ]
  },
  {
   "cell_type": "code",
   "execution_count": 283,
   "id": "5faa3b2e",
   "metadata": {},
   "outputs": [
    {
     "data": {
      "text/html": [
       "<div>\n",
       "<style scoped>\n",
       "    .dataframe tbody tr th:only-of-type {\n",
       "        vertical-align: middle;\n",
       "    }\n",
       "\n",
       "    .dataframe tbody tr th {\n",
       "        vertical-align: top;\n",
       "    }\n",
       "\n",
       "    .dataframe thead th {\n",
       "        text-align: right;\n",
       "    }\n",
       "</style>\n",
       "<table border=\"1\" class=\"dataframe\">\n",
       "  <thead>\n",
       "    <tr style=\"text-align: right;\">\n",
       "      <th></th>\n",
       "      <th>Created User</th>\n",
       "      <th>DocEntry</th>\n",
       "      <th>Datetime</th>\n",
       "      <th>Datetimeout</th>\n",
       "      <th>Time difference</th>\n",
       "      <th>delayed dept</th>\n",
       "    </tr>\n",
       "  </thead>\n",
       "  <tbody>\n",
       "    <tr>\n",
       "      <th>13</th>\n",
       "      <td>bdman</td>\n",
       "      <td>944259</td>\n",
       "      <td>2023-02-11 09:12:00</td>\n",
       "      <td>2023-02-02 09:11:00</td>\n",
       "      <td>4201.0</td>\n",
       "      <td>Delayed to print Identifier</td>\n",
       "    </tr>\n",
       "    <tr>\n",
       "      <th>14</th>\n",
       "      <td>bdman</td>\n",
       "      <td>944259</td>\n",
       "      <td>2023-02-11 09:12:00</td>\n",
       "      <td>2023-02-02 09:11:00</td>\n",
       "      <td>4201.0</td>\n",
       "      <td>Delayed to print Identifier</td>\n",
       "    </tr>\n",
       "  </tbody>\n",
       "</table>\n",
       "</div>"
      ],
      "text/plain": [
       "   Created User  DocEntry            Datetime         Datetimeout  \\\n",
       "13        bdman    944259 2023-02-11 09:12:00 2023-02-02 09:11:00   \n",
       "14        bdman    944259 2023-02-11 09:12:00 2023-02-02 09:11:00   \n",
       "\n",
       "    Time difference                 delayed dept  \n",
       "13           4201.0  Delayed to print Identifier  \n",
       "14           4201.0  Delayed to print Identifier  "
      ]
     },
     "execution_count": 283,
     "metadata": {},
     "output_type": "execute_result"
    }
   ],
   "source": [
    "final = final[['Created User','DocEntry','Datetime','Datetimeout','Time difference','delayed dept']]\n",
    "final.head(2)"
   ]
  },
  {
   "cell_type": "markdown",
   "id": "d8a9b444",
   "metadata": {},
   "source": [
    "## Printed Identifier - sent to hq"
   ]
  },
  {
   "cell_type": "code",
   "execution_count": 246,
   "id": "9a7ad0c8",
   "metadata": {},
   "outputs": [
    {
     "data": {
      "text/plain": [
       "array(['Printed PF Identifier', 'Printed Frame Identifier',\n",
       "       'Printed Lens Identifier', 'Printed Frame and Lens Identifier',\n",
       "       'Printed PF to Follow Identifier'], dtype=object)"
      ]
     },
     "execution_count": 246,
     "metadata": {},
     "output_type": "execute_result"
    }
   ],
   "source": [
    "data1 = data[data['Status']=='Printed PF Identifier']\n",
    "data2 = data[data['Status']=='Printed Frame Identifier']\n",
    "data3 = data[data['Status']=='Printed Lens Identifier']\n",
    "data4 = data[data['Status']=='Printed Frame and Lens Identifier']\n",
    "data5 = data[data['Status']=='Printed PF to Follow Identifier']\n",
    "\n",
    "printed = pd.concat([data1,data2,data3,data4,data5])\n",
    "\n",
    "printed['Status'].unique()"
   ]
  },
  {
   "cell_type": "code",
   "execution_count": 247,
   "id": "416963f8",
   "metadata": {},
   "outputs": [
    {
     "data": {
      "text/plain": [
       "array(['PF & PL Sent to HQ', 'PF Sent to HQ', 'PL Sent to HQ',\n",
       "       'Branch Frame Sent to HQ', 'PF to Follow Sent to HQ'], dtype=object)"
      ]
     },
     "execution_count": 247,
     "metadata": {},
     "output_type": "execute_result"
    }
   ],
   "source": [
    "data1 = data[data['Status']=='PF & PL Sent to HQ']\n",
    "data2 = data[data['Status']=='PF Sent to HQ']\n",
    "data3 = data[data['Status']=='PL Sent to HQ']\n",
    "data4 = data[data['Status']=='Branch Frame Sent to HQ']\n",
    "data5 = data[data['Status']=='PF to Follow Sent to HQ']\n",
    "\n",
    "senthq = pd.concat([data1,data2,data3,data4,data5])\n",
    "\n",
    "senthq['Status'].unique()"
   ]
  },
  {
   "cell_type": "code",
   "execution_count": 248,
   "id": "01d809d2",
   "metadata": {},
   "outputs": [
    {
     "data": {
      "text/html": [
       "<div>\n",
       "<style scoped>\n",
       "    .dataframe tbody tr th:only-of-type {\n",
       "        vertical-align: middle;\n",
       "    }\n",
       "\n",
       "    .dataframe tbody tr th {\n",
       "        vertical-align: top;\n",
       "    }\n",
       "\n",
       "    .dataframe thead th {\n",
       "        text-align: right;\n",
       "    }\n",
       "</style>\n",
       "<table border=\"1\" class=\"dataframe\">\n",
       "  <thead>\n",
       "    <tr style=\"text-align: right;\">\n",
       "      <th></th>\n",
       "      <th>Created User</th>\n",
       "      <th>Date</th>\n",
       "      <th>Time</th>\n",
       "      <th>Status</th>\n",
       "      <th>DocEntry</th>\n",
       "      <th>DocNum</th>\n",
       "      <th>OrderCriteria Status</th>\n",
       "      <th>Datetime</th>\n",
       "      <th>senthqtime</th>\n",
       "    </tr>\n",
       "  </thead>\n",
       "  <tbody>\n",
       "    <tr>\n",
       "      <th>137377</th>\n",
       "      <td>ohoc1</td>\n",
       "      <td>2023-02-01</td>\n",
       "      <td>13:25:00</td>\n",
       "      <td>PF &amp; PL Sent to HQ</td>\n",
       "      <td>943917</td>\n",
       "      <td>23204075</td>\n",
       "      <td>Spare Part from HQ</td>\n",
       "      <td>2023-02-01 13:25:00</td>\n",
       "      <td>2023-02-01 13:25:00</td>\n",
       "    </tr>\n",
       "    <tr>\n",
       "      <th>138058</th>\n",
       "      <td>ohoc1</td>\n",
       "      <td>2023-02-04</td>\n",
       "      <td>12:45:00</td>\n",
       "      <td>PF &amp; PL Sent to HQ</td>\n",
       "      <td>947790</td>\n",
       "      <td>23204523</td>\n",
       "      <td>Spare Part from HQ</td>\n",
       "      <td>2023-02-04 12:45:00</td>\n",
       "      <td>2023-02-04 12:45:00</td>\n",
       "    </tr>\n",
       "    <tr>\n",
       "      <th>138432</th>\n",
       "      <td>ohoc1</td>\n",
       "      <td>2023-02-06</td>\n",
       "      <td>15:54:00</td>\n",
       "      <td>PF &amp; PL Sent to HQ</td>\n",
       "      <td>949840</td>\n",
       "      <td>23204745</td>\n",
       "      <td>Spare Part from HQ</td>\n",
       "      <td>2023-02-06 15:54:00</td>\n",
       "      <td>2023-02-06 15:54:00</td>\n",
       "    </tr>\n",
       "    <tr>\n",
       "      <th>138482</th>\n",
       "      <td>ohoc1</td>\n",
       "      <td>2023-02-06</td>\n",
       "      <td>17:17:00</td>\n",
       "      <td>PF &amp; PL Sent to HQ</td>\n",
       "      <td>950063</td>\n",
       "      <td>23204776</td>\n",
       "      <td>Spare Part from HQ</td>\n",
       "      <td>2023-02-06 17:17:00</td>\n",
       "      <td>2023-02-06 17:17:00</td>\n",
       "    </tr>\n",
       "  </tbody>\n",
       "</table>\n",
       "</div>"
      ],
      "text/plain": [
       "       Created User       Date      Time              Status  DocEntry  \\\n",
       "137377        ohoc1 2023-02-01  13:25:00  PF & PL Sent to HQ    943917   \n",
       "138058        ohoc1 2023-02-04  12:45:00  PF & PL Sent to HQ    947790   \n",
       "138432        ohoc1 2023-02-06  15:54:00  PF & PL Sent to HQ    949840   \n",
       "138482        ohoc1 2023-02-06  17:17:00  PF & PL Sent to HQ    950063   \n",
       "\n",
       "          DocNum OrderCriteria Status            Datetime          senthqtime  \n",
       "137377  23204075   Spare Part from HQ 2023-02-01 13:25:00 2023-02-01 13:25:00  \n",
       "138058  23204523   Spare Part from HQ 2023-02-04 12:45:00 2023-02-04 12:45:00  \n",
       "138432  23204745   Spare Part from HQ 2023-02-06 15:54:00 2023-02-06 15:54:00  \n",
       "138482  23204776   Spare Part from HQ 2023-02-06 17:17:00 2023-02-06 17:17:00  "
      ]
     },
     "execution_count": 248,
     "metadata": {},
     "output_type": "execute_result"
    }
   ],
   "source": [
    "## printed\n",
    "printed['Date'] = pd.to_datetime(printed['Date'],dayfirst=True)\n",
    "printed['datetime'] = printed['Date'].astype(str) +' '+printed['Time'].astype(str)\n",
    "printed['datetime'] = pd.to_datetime(printed['datetime'], format = '%Y/%m/%d %H:%M:%S')\n",
    "printed = printed.rename(columns={'datetime':'printedtime'})\n",
    "printed.head(4)\n",
    "\n",
    "\n",
    "## Sent to hq\n",
    "senthq['Date'] = pd.to_datetime(senthq['Date'],dayfirst=True)\n",
    "senthq['datetime'] = senthq['Date'].astype(str) +' '+senthq['Time'].astype(str)\n",
    "senthq['datetime'] = pd.to_datetime(senthq['datetime'], format = '%Y/%m/%d %H:%M:%S')\n",
    "senthq = senthq.rename(columns={'datetime':'senthqtime'})\n",
    "senthq.head(4)"
   ]
  },
  {
   "cell_type": "code",
   "execution_count": 249,
   "id": "b091ce89",
   "metadata": {},
   "outputs": [
    {
     "data": {
      "text/html": [
       "<div>\n",
       "<style scoped>\n",
       "    .dataframe tbody tr th:only-of-type {\n",
       "        vertical-align: middle;\n",
       "    }\n",
       "\n",
       "    .dataframe tbody tr th {\n",
       "        vertical-align: top;\n",
       "    }\n",
       "\n",
       "    .dataframe thead th {\n",
       "        text-align: right;\n",
       "    }\n",
       "</style>\n",
       "<table border=\"1\" class=\"dataframe\">\n",
       "  <thead>\n",
       "    <tr style=\"text-align: right;\">\n",
       "      <th></th>\n",
       "      <th>Created User</th>\n",
       "      <th>Date</th>\n",
       "      <th>Time</th>\n",
       "      <th>Status</th>\n",
       "      <th>DocEntry</th>\n",
       "      <th>DocNum</th>\n",
       "      <th>OrderCriteria Status</th>\n",
       "      <th>Datetime</th>\n",
       "      <th>printedtime</th>\n",
       "      <th>senthqtime</th>\n",
       "    </tr>\n",
       "  </thead>\n",
       "  <tbody>\n",
       "    <tr>\n",
       "      <th>0</th>\n",
       "      <td>ohoc1</td>\n",
       "      <td>2023-02-01</td>\n",
       "      <td>13:17:00</td>\n",
       "      <td>Printed PF Identifier</td>\n",
       "      <td>943895</td>\n",
       "      <td>23204073</td>\n",
       "      <td>Order with PF from Branch and Lens from HQ</td>\n",
       "      <td>2023-02-01 13:17:00</td>\n",
       "      <td>2023-02-01 13:17:00</td>\n",
       "      <td>2023-02-01 13:18:00</td>\n",
       "    </tr>\n",
       "    <tr>\n",
       "      <th>1</th>\n",
       "      <td>ohoc1</td>\n",
       "      <td>2023-02-01</td>\n",
       "      <td>13:17:00</td>\n",
       "      <td>Printed PF Identifier</td>\n",
       "      <td>943895</td>\n",
       "      <td>23204073</td>\n",
       "      <td>Order with PF from Branch and Lens from HQ</td>\n",
       "      <td>2023-02-01 13:17:00</td>\n",
       "      <td>2023-02-01 13:17:00</td>\n",
       "      <td>2023-02-01 13:18:00</td>\n",
       "    </tr>\n",
       "    <tr>\n",
       "      <th>2</th>\n",
       "      <td>ohoc1</td>\n",
       "      <td>2023-02-02</td>\n",
       "      <td>17:12:00</td>\n",
       "      <td>Printed PF Identifier</td>\n",
       "      <td>945696</td>\n",
       "      <td>23204279</td>\n",
       "      <td>Overseas Lens with PF</td>\n",
       "      <td>2023-02-02 17:12:00</td>\n",
       "      <td>2023-02-02 17:12:00</td>\n",
       "      <td>2023-02-02 17:12:00</td>\n",
       "    </tr>\n",
       "    <tr>\n",
       "      <th>3</th>\n",
       "      <td>ohoc1</td>\n",
       "      <td>2023-02-02</td>\n",
       "      <td>17:12:00</td>\n",
       "      <td>Printed PF Identifier</td>\n",
       "      <td>945696</td>\n",
       "      <td>23204279</td>\n",
       "      <td>Overseas Lens with PF</td>\n",
       "      <td>2023-02-02 17:12:00</td>\n",
       "      <td>2023-02-02 17:12:00</td>\n",
       "      <td>2023-02-02 17:12:00</td>\n",
       "    </tr>\n",
       "    <tr>\n",
       "      <th>4</th>\n",
       "      <td>ohoc1</td>\n",
       "      <td>2023-02-03</td>\n",
       "      <td>10:49:00</td>\n",
       "      <td>Printed PF Identifier</td>\n",
       "      <td>946085</td>\n",
       "      <td>23204309</td>\n",
       "      <td>Order with PF from Branch and Lens from HQ</td>\n",
       "      <td>2023-02-03 10:49:00</td>\n",
       "      <td>2023-02-03 10:49:00</td>\n",
       "      <td>2023-02-03 10:50:00</td>\n",
       "    </tr>\n",
       "  </tbody>\n",
       "</table>\n",
       "</div>"
      ],
      "text/plain": [
       "  Created User       Date      Time                 Status  DocEntry  \\\n",
       "0        ohoc1 2023-02-01  13:17:00  Printed PF Identifier    943895   \n",
       "1        ohoc1 2023-02-01  13:17:00  Printed PF Identifier    943895   \n",
       "2        ohoc1 2023-02-02  17:12:00  Printed PF Identifier    945696   \n",
       "3        ohoc1 2023-02-02  17:12:00  Printed PF Identifier    945696   \n",
       "4        ohoc1 2023-02-03  10:49:00  Printed PF Identifier    946085   \n",
       "\n",
       "     DocNum                        OrderCriteria Status            Datetime  \\\n",
       "0  23204073  Order with PF from Branch and Lens from HQ 2023-02-01 13:17:00   \n",
       "1  23204073  Order with PF from Branch and Lens from HQ 2023-02-01 13:17:00   \n",
       "2  23204279                       Overseas Lens with PF 2023-02-02 17:12:00   \n",
       "3  23204279                       Overseas Lens with PF 2023-02-02 17:12:00   \n",
       "4  23204309  Order with PF from Branch and Lens from HQ 2023-02-03 10:49:00   \n",
       "\n",
       "          printedtime          senthqtime  \n",
       "0 2023-02-01 13:17:00 2023-02-01 13:18:00  \n",
       "1 2023-02-01 13:17:00 2023-02-01 13:18:00  \n",
       "2 2023-02-02 17:12:00 2023-02-02 17:12:00  \n",
       "3 2023-02-02 17:12:00 2023-02-02 17:12:00  \n",
       "4 2023-02-03 10:49:00 2023-02-03 10:50:00  "
      ]
     },
     "execution_count": 249,
     "metadata": {},
     "output_type": "execute_result"
    }
   ],
   "source": [
    "sent = pd.merge(printed,senthq[['DocEntry','senthqtime']], on='DocEntry', how='left')\n",
    "sent.head(5)"
   ]
  },
  {
   "cell_type": "code",
   "execution_count": 250,
   "id": "482c2ed9",
   "metadata": {},
   "outputs": [
    {
     "data": {
      "text/html": [
       "<div>\n",
       "<style scoped>\n",
       "    .dataframe tbody tr th:only-of-type {\n",
       "        vertical-align: middle;\n",
       "    }\n",
       "\n",
       "    .dataframe tbody tr th {\n",
       "        vertical-align: top;\n",
       "    }\n",
       "\n",
       "    .dataframe thead th {\n",
       "        text-align: right;\n",
       "    }\n",
       "</style>\n",
       "<table border=\"1\" class=\"dataframe\">\n",
       "  <thead>\n",
       "    <tr style=\"text-align: right;\">\n",
       "      <th></th>\n",
       "      <th>Created User</th>\n",
       "      <th>Date</th>\n",
       "      <th>Time</th>\n",
       "      <th>Status</th>\n",
       "      <th>DocEntry</th>\n",
       "      <th>DocNum</th>\n",
       "      <th>OrderCriteria Status</th>\n",
       "      <th>Datetime</th>\n",
       "      <th>printedtime</th>\n",
       "      <th>senthqtime</th>\n",
       "    </tr>\n",
       "  </thead>\n",
       "  <tbody>\n",
       "    <tr>\n",
       "      <th>0</th>\n",
       "      <td>ohoc1</td>\n",
       "      <td>2023-02-01</td>\n",
       "      <td>13:17:00</td>\n",
       "      <td>Printed PF Identifier</td>\n",
       "      <td>943895</td>\n",
       "      <td>23204073</td>\n",
       "      <td>Order with PF from Branch and Lens from HQ</td>\n",
       "      <td>2023-02-01 13:17:00</td>\n",
       "      <td>2023-02-01 13:17:00</td>\n",
       "      <td>2023-02-01 13:18:00</td>\n",
       "    </tr>\n",
       "    <tr>\n",
       "      <th>1</th>\n",
       "      <td>ohoc1</td>\n",
       "      <td>2023-02-01</td>\n",
       "      <td>13:17:00</td>\n",
       "      <td>Printed PF Identifier</td>\n",
       "      <td>943895</td>\n",
       "      <td>23204073</td>\n",
       "      <td>Order with PF from Branch and Lens from HQ</td>\n",
       "      <td>2023-02-01 13:17:00</td>\n",
       "      <td>2023-02-01 13:17:00</td>\n",
       "      <td>2023-02-01 13:18:00</td>\n",
       "    </tr>\n",
       "    <tr>\n",
       "      <th>2</th>\n",
       "      <td>ohoc1</td>\n",
       "      <td>2023-02-02</td>\n",
       "      <td>17:12:00</td>\n",
       "      <td>Printed PF Identifier</td>\n",
       "      <td>945696</td>\n",
       "      <td>23204279</td>\n",
       "      <td>Overseas Lens with PF</td>\n",
       "      <td>2023-02-02 17:12:00</td>\n",
       "      <td>2023-02-02 17:12:00</td>\n",
       "      <td>2023-02-02 17:12:00</td>\n",
       "    </tr>\n",
       "    <tr>\n",
       "      <th>3</th>\n",
       "      <td>ohoc1</td>\n",
       "      <td>2023-02-02</td>\n",
       "      <td>17:12:00</td>\n",
       "      <td>Printed PF Identifier</td>\n",
       "      <td>945696</td>\n",
       "      <td>23204279</td>\n",
       "      <td>Overseas Lens with PF</td>\n",
       "      <td>2023-02-02 17:12:00</td>\n",
       "      <td>2023-02-02 17:12:00</td>\n",
       "      <td>2023-02-02 17:12:00</td>\n",
       "    </tr>\n",
       "    <tr>\n",
       "      <th>4</th>\n",
       "      <td>ohoc1</td>\n",
       "      <td>2023-02-03</td>\n",
       "      <td>10:49:00</td>\n",
       "      <td>Printed PF Identifier</td>\n",
       "      <td>946085</td>\n",
       "      <td>23204309</td>\n",
       "      <td>Order with PF from Branch and Lens from HQ</td>\n",
       "      <td>2023-02-03 10:49:00</td>\n",
       "      <td>2023-02-03 10:49:00</td>\n",
       "      <td>2023-02-03 10:50:00</td>\n",
       "    </tr>\n",
       "  </tbody>\n",
       "</table>\n",
       "</div>"
      ],
      "text/plain": [
       "  Created User       Date      Time                 Status  DocEntry  \\\n",
       "0        ohoc1 2023-02-01  13:17:00  Printed PF Identifier    943895   \n",
       "1        ohoc1 2023-02-01  13:17:00  Printed PF Identifier    943895   \n",
       "2        ohoc1 2023-02-02  17:12:00  Printed PF Identifier    945696   \n",
       "3        ohoc1 2023-02-02  17:12:00  Printed PF Identifier    945696   \n",
       "4        ohoc1 2023-02-03  10:49:00  Printed PF Identifier    946085   \n",
       "\n",
       "     DocNum                        OrderCriteria Status            Datetime  \\\n",
       "0  23204073  Order with PF from Branch and Lens from HQ 2023-02-01 13:17:00   \n",
       "1  23204073  Order with PF from Branch and Lens from HQ 2023-02-01 13:17:00   \n",
       "2  23204279                       Overseas Lens with PF 2023-02-02 17:12:00   \n",
       "3  23204279                       Overseas Lens with PF 2023-02-02 17:12:00   \n",
       "4  23204309  Order with PF from Branch and Lens from HQ 2023-02-03 10:49:00   \n",
       "\n",
       "          printedtime          senthqtime  \n",
       "0 2023-02-01 13:17:00 2023-02-01 13:18:00  \n",
       "1 2023-02-01 13:17:00 2023-02-01 13:18:00  \n",
       "2 2023-02-02 17:12:00 2023-02-02 17:12:00  \n",
       "3 2023-02-02 17:12:00 2023-02-02 17:12:00  \n",
       "4 2023-02-03 10:49:00 2023-02-03 10:50:00  "
      ]
     },
     "execution_count": 250,
     "metadata": {},
     "output_type": "execute_result"
    }
   ],
   "source": [
    "##\n",
    "sent = sent.dropna(subset='senthqtime')\n",
    "sent.head(5)"
   ]
  },
  {
   "cell_type": "code",
   "execution_count": 251,
   "id": "fd16b677",
   "metadata": {},
   "outputs": [
    {
     "name": "stderr",
     "output_type": "stream",
     "text": [
      "C:\\Users\\user\\anaconda3\\lib\\site-packages\\workalendar\\core.py:436: UserWarning: Please take note that, due to arbitrary decisions, this Islamic calendar computation may be wrong.\n",
      "  warnings.warn('Please take note that, due to arbitrary decisions, '\n"
     ]
    }
   ],
   "source": [
    "##Define a working day\n",
    "\n",
    "####Days of the week\n",
    "workday = businesstimedelta.WorkDayRule(\n",
    "    start_time=datetime.time(10),\n",
    "    end_time=datetime.time(18),\n",
    "    working_days=[0,1, 2, 3, 4])\n",
    "\n",
    "cal = Kenya()\n",
    "hl = cal.holidays()\n",
    "vic_holidays = pyholidays.KE() \n",
    "holidays = businesstimedelta.HolidayRule(vic_holidays)\n",
    "businesshrs = businesstimedelta.Rules([workday, holidays], hl)\n",
    "\n",
    "def BusHrs(start, end):\n",
    "    if end>=start:\n",
    "        return businesshrs.difference(start,end).hours+float(businesshrs.difference(start,end).seconds)/float(3600)\n",
    "    else:\n",
    "        \"\"\n",
    "    \n",
    "RejectedSentWk_hrs=sent.apply(lambda row: BusHrs(row['printedtime'], row['senthqtime']), axis=1)\n"
   ]
  },
  {
   "cell_type": "code",
   "execution_count": 252,
   "id": "93a70d1e",
   "metadata": {},
   "outputs": [],
   "source": [
    "# Define a working weekend day(Saturday)\n",
    "\n",
    "Saturday = businesstimedelta.WorkDayRule(start_time=datetime.time(10),end_time=datetime.time(16),working_days=[5])\n",
    "\n",
    "vic_holidays = pyholidays.KE()\n",
    "holidays = businesstimedelta.HolidayRule(vic_holidays)\n",
    "businesshrs = businesstimedelta.Rules([Saturday, holidays])\n",
    "\n",
    "def SatHrs(start, end):\n",
    "    if end>=start:\n",
    "        return businesshrs.difference(start,end).hours+float(businesshrs.difference(start,end).seconds)/float(3600)\n",
    "    else:\n",
    "        \"\"\n",
    "\n",
    "RejectedSentSat_hrs=sent.apply(lambda row: BusHrs(row['printedtime'], row['senthqtime']), axis=1)\n"
   ]
  },
  {
   "cell_type": "code",
   "execution_count": 253,
   "id": "36e32a9b",
   "metadata": {},
   "outputs": [
    {
     "data": {
      "text/html": [
       "<div>\n",
       "<style scoped>\n",
       "    .dataframe tbody tr th:only-of-type {\n",
       "        vertical-align: middle;\n",
       "    }\n",
       "\n",
       "    .dataframe tbody tr th {\n",
       "        vertical-align: top;\n",
       "    }\n",
       "\n",
       "    .dataframe thead th {\n",
       "        text-align: right;\n",
       "    }\n",
       "</style>\n",
       "<table border=\"1\" class=\"dataframe\">\n",
       "  <thead>\n",
       "    <tr style=\"text-align: right;\">\n",
       "      <th></th>\n",
       "      <th>Created User</th>\n",
       "      <th>Date</th>\n",
       "      <th>Time</th>\n",
       "      <th>Status</th>\n",
       "      <th>DocEntry</th>\n",
       "      <th>DocNum</th>\n",
       "      <th>OrderCriteria Status</th>\n",
       "      <th>Datetime</th>\n",
       "      <th>printedtime</th>\n",
       "      <th>senthqtime</th>\n",
       "      <th>Time difference</th>\n",
       "    </tr>\n",
       "  </thead>\n",
       "  <tbody>\n",
       "    <tr>\n",
       "      <th>0</th>\n",
       "      <td>ohoc1</td>\n",
       "      <td>2023-02-01</td>\n",
       "      <td>13:17:00</td>\n",
       "      <td>Printed PF Identifier</td>\n",
       "      <td>943895</td>\n",
       "      <td>23204073</td>\n",
       "      <td>Order with PF from Branch and Lens from HQ</td>\n",
       "      <td>2023-02-01 13:17:00</td>\n",
       "      <td>2023-02-01 13:17:00</td>\n",
       "      <td>2023-02-01 13:18:00</td>\n",
       "      <td>1.0</td>\n",
       "    </tr>\n",
       "    <tr>\n",
       "      <th>1</th>\n",
       "      <td>ohoc1</td>\n",
       "      <td>2023-02-01</td>\n",
       "      <td>13:17:00</td>\n",
       "      <td>Printed PF Identifier</td>\n",
       "      <td>943895</td>\n",
       "      <td>23204073</td>\n",
       "      <td>Order with PF from Branch and Lens from HQ</td>\n",
       "      <td>2023-02-01 13:17:00</td>\n",
       "      <td>2023-02-01 13:17:00</td>\n",
       "      <td>2023-02-01 13:18:00</td>\n",
       "      <td>1.0</td>\n",
       "    </tr>\n",
       "    <tr>\n",
       "      <th>2</th>\n",
       "      <td>ohoc1</td>\n",
       "      <td>2023-02-02</td>\n",
       "      <td>17:12:00</td>\n",
       "      <td>Printed PF Identifier</td>\n",
       "      <td>945696</td>\n",
       "      <td>23204279</td>\n",
       "      <td>Overseas Lens with PF</td>\n",
       "      <td>2023-02-02 17:12:00</td>\n",
       "      <td>2023-02-02 17:12:00</td>\n",
       "      <td>2023-02-02 17:12:00</td>\n",
       "      <td>0.0</td>\n",
       "    </tr>\n",
       "    <tr>\n",
       "      <th>3</th>\n",
       "      <td>ohoc1</td>\n",
       "      <td>2023-02-02</td>\n",
       "      <td>17:12:00</td>\n",
       "      <td>Printed PF Identifier</td>\n",
       "      <td>945696</td>\n",
       "      <td>23204279</td>\n",
       "      <td>Overseas Lens with PF</td>\n",
       "      <td>2023-02-02 17:12:00</td>\n",
       "      <td>2023-02-02 17:12:00</td>\n",
       "      <td>2023-02-02 17:12:00</td>\n",
       "      <td>0.0</td>\n",
       "    </tr>\n",
       "    <tr>\n",
       "      <th>4</th>\n",
       "      <td>ohoc1</td>\n",
       "      <td>2023-02-03</td>\n",
       "      <td>10:49:00</td>\n",
       "      <td>Printed PF Identifier</td>\n",
       "      <td>946085</td>\n",
       "      <td>23204309</td>\n",
       "      <td>Order with PF from Branch and Lens from HQ</td>\n",
       "      <td>2023-02-03 10:49:00</td>\n",
       "      <td>2023-02-03 10:49:00</td>\n",
       "      <td>2023-02-03 10:50:00</td>\n",
       "      <td>1.0</td>\n",
       "    </tr>\n",
       "  </tbody>\n",
       "</table>\n",
       "</div>"
      ],
      "text/plain": [
       "  Created User       Date      Time                 Status  DocEntry  \\\n",
       "0        ohoc1 2023-02-01  13:17:00  Printed PF Identifier    943895   \n",
       "1        ohoc1 2023-02-01  13:17:00  Printed PF Identifier    943895   \n",
       "2        ohoc1 2023-02-02  17:12:00  Printed PF Identifier    945696   \n",
       "3        ohoc1 2023-02-02  17:12:00  Printed PF Identifier    945696   \n",
       "4        ohoc1 2023-02-03  10:49:00  Printed PF Identifier    946085   \n",
       "\n",
       "     DocNum                        OrderCriteria Status            Datetime  \\\n",
       "0  23204073  Order with PF from Branch and Lens from HQ 2023-02-01 13:17:00   \n",
       "1  23204073  Order with PF from Branch and Lens from HQ 2023-02-01 13:17:00   \n",
       "2  23204279                       Overseas Lens with PF 2023-02-02 17:12:00   \n",
       "3  23204279                       Overseas Lens with PF 2023-02-02 17:12:00   \n",
       "4  23204309  Order with PF from Branch and Lens from HQ 2023-02-03 10:49:00   \n",
       "\n",
       "          printedtime          senthqtime  Time difference  \n",
       "0 2023-02-01 13:17:00 2023-02-01 13:18:00              1.0  \n",
       "1 2023-02-01 13:17:00 2023-02-01 13:18:00              1.0  \n",
       "2 2023-02-02 17:12:00 2023-02-02 17:12:00              0.0  \n",
       "3 2023-02-02 17:12:00 2023-02-02 17:12:00              0.0  \n",
       "4 2023-02-03 10:49:00 2023-02-03 10:50:00              1.0  "
      ]
     },
     "execution_count": 253,
     "metadata": {},
     "output_type": "execute_result"
    }
   ],
   "source": [
    "sent['Time difference'] =(RejectedSentWk_hrs+RejectedSentSat_hrs)*60\n",
    "sent.head(5)"
   ]
  },
  {
   "cell_type": "code",
   "execution_count": 284,
   "id": "33efffe8",
   "metadata": {},
   "outputs": [],
   "source": [
    "sent =sent.rename(columns={'printedtime':'Datetime','senthqtime':'Datetimeout'})"
   ]
  },
  {
   "cell_type": "code",
   "execution_count": 288,
   "id": "278448da",
   "metadata": {},
   "outputs": [
    {
     "data": {
      "text/html": [
       "<div>\n",
       "<style scoped>\n",
       "    .dataframe tbody tr th:only-of-type {\n",
       "        vertical-align: middle;\n",
       "    }\n",
       "\n",
       "    .dataframe tbody tr th {\n",
       "        vertical-align: top;\n",
       "    }\n",
       "\n",
       "    .dataframe thead th {\n",
       "        text-align: right;\n",
       "    }\n",
       "</style>\n",
       "<table border=\"1\" class=\"dataframe\">\n",
       "  <thead>\n",
       "    <tr style=\"text-align: right;\">\n",
       "      <th></th>\n",
       "      <th>Created User</th>\n",
       "      <th>DocEntry</th>\n",
       "      <th>Datetime</th>\n",
       "      <th>Datetimeout</th>\n",
       "      <th>Time difference</th>\n",
       "      <th>delayed dept</th>\n",
       "    </tr>\n",
       "  </thead>\n",
       "  <tbody>\n",
       "    <tr>\n",
       "      <th>0</th>\n",
       "      <td>ohoc1</td>\n",
       "      <td>943895</td>\n",
       "      <td>2023-02-01 13:17:00</td>\n",
       "      <td>2023-02-01 13:18:00</td>\n",
       "      <td>1.0</td>\n",
       "      <td>Not delay to send to hq</td>\n",
       "    </tr>\n",
       "    <tr>\n",
       "      <th>1</th>\n",
       "      <td>ohoc1</td>\n",
       "      <td>943895</td>\n",
       "      <td>2023-02-01 13:17:00</td>\n",
       "      <td>2023-02-01 13:18:00</td>\n",
       "      <td>1.0</td>\n",
       "      <td>Not delay to send to hq</td>\n",
       "    </tr>\n",
       "    <tr>\n",
       "      <th>2</th>\n",
       "      <td>ohoc1</td>\n",
       "      <td>945696</td>\n",
       "      <td>2023-02-02 17:12:00</td>\n",
       "      <td>2023-02-02 17:12:00</td>\n",
       "      <td>0.0</td>\n",
       "      <td>Not delay to send to hq</td>\n",
       "    </tr>\n",
       "    <tr>\n",
       "      <th>3</th>\n",
       "      <td>ohoc1</td>\n",
       "      <td>945696</td>\n",
       "      <td>2023-02-02 17:12:00</td>\n",
       "      <td>2023-02-02 17:12:00</td>\n",
       "      <td>0.0</td>\n",
       "      <td>Not delay to send to hq</td>\n",
       "    </tr>\n",
       "    <tr>\n",
       "      <th>4</th>\n",
       "      <td>ohoc1</td>\n",
       "      <td>946085</td>\n",
       "      <td>2023-02-03 10:49:00</td>\n",
       "      <td>2023-02-03 10:50:00</td>\n",
       "      <td>1.0</td>\n",
       "      <td>Not delay to send to hq</td>\n",
       "    </tr>\n",
       "  </tbody>\n",
       "</table>\n",
       "</div>"
      ],
      "text/plain": [
       "  Created User  DocEntry            Datetime         Datetimeout  \\\n",
       "0        ohoc1    943895 2023-02-01 13:17:00 2023-02-01 13:18:00   \n",
       "1        ohoc1    943895 2023-02-01 13:17:00 2023-02-01 13:18:00   \n",
       "2        ohoc1    945696 2023-02-02 17:12:00 2023-02-02 17:12:00   \n",
       "3        ohoc1    945696 2023-02-02 17:12:00 2023-02-02 17:12:00   \n",
       "4        ohoc1    946085 2023-02-03 10:49:00 2023-02-03 10:50:00   \n",
       "\n",
       "   Time difference             delayed dept  \n",
       "0              1.0  Not delay to send to hq  \n",
       "1              1.0  Not delay to send to hq  \n",
       "2              0.0  Not delay to send to hq  \n",
       "3              0.0  Not delay to send to hq  \n",
       "4              1.0  Not delay to send to hq  "
      ]
     },
     "execution_count": 288,
     "metadata": {},
     "output_type": "execute_result"
    }
   ],
   "source": [
    "sent = sent[['Created User','DocEntry','Datetime','Datetimeout','Time difference','delayed dept']]\n",
    "sent.head(5)"
   ]
  },
  {
   "cell_type": "code",
   "execution_count": 289,
   "id": "280bdf39",
   "metadata": {},
   "outputs": [
    {
     "data": {
      "text/html": [
       "<div>\n",
       "<style scoped>\n",
       "    .dataframe tbody tr th:only-of-type {\n",
       "        vertical-align: middle;\n",
       "    }\n",
       "\n",
       "    .dataframe tbody tr th {\n",
       "        vertical-align: top;\n",
       "    }\n",
       "\n",
       "    .dataframe thead th {\n",
       "        text-align: right;\n",
       "    }\n",
       "</style>\n",
       "<table border=\"1\" class=\"dataframe\">\n",
       "  <thead>\n",
       "    <tr style=\"text-align: right;\">\n",
       "      <th></th>\n",
       "      <th>Created User</th>\n",
       "      <th>DocEntry</th>\n",
       "      <th>Datetime</th>\n",
       "      <th>Datetimeout</th>\n",
       "      <th>Time difference</th>\n",
       "      <th>delayed dept</th>\n",
       "    </tr>\n",
       "  </thead>\n",
       "  <tbody>\n",
       "    <tr>\n",
       "      <th>0</th>\n",
       "      <td>ohoc1</td>\n",
       "      <td>943895</td>\n",
       "      <td>2023-02-01 13:17:00</td>\n",
       "      <td>2023-02-01 13:18:00</td>\n",
       "      <td>1.0</td>\n",
       "      <td>Not delay to send to hq</td>\n",
       "    </tr>\n",
       "    <tr>\n",
       "      <th>1</th>\n",
       "      <td>ohoc1</td>\n",
       "      <td>943895</td>\n",
       "      <td>2023-02-01 13:17:00</td>\n",
       "      <td>2023-02-01 13:18:00</td>\n",
       "      <td>1.0</td>\n",
       "      <td>Not delay to send to hq</td>\n",
       "    </tr>\n",
       "    <tr>\n",
       "      <th>2</th>\n",
       "      <td>ohoc1</td>\n",
       "      <td>945696</td>\n",
       "      <td>2023-02-02 17:12:00</td>\n",
       "      <td>2023-02-02 17:12:00</td>\n",
       "      <td>0.0</td>\n",
       "      <td>Not delay to send to hq</td>\n",
       "    </tr>\n",
       "    <tr>\n",
       "      <th>3</th>\n",
       "      <td>ohoc1</td>\n",
       "      <td>945696</td>\n",
       "      <td>2023-02-02 17:12:00</td>\n",
       "      <td>2023-02-02 17:12:00</td>\n",
       "      <td>0.0</td>\n",
       "      <td>Not delay to send to hq</td>\n",
       "    </tr>\n",
       "    <tr>\n",
       "      <th>4</th>\n",
       "      <td>ohoc1</td>\n",
       "      <td>946085</td>\n",
       "      <td>2023-02-03 10:49:00</td>\n",
       "      <td>2023-02-03 10:50:00</td>\n",
       "      <td>1.0</td>\n",
       "      <td>Not delay to send to hq</td>\n",
       "    </tr>\n",
       "  </tbody>\n",
       "</table>\n",
       "</div>"
      ],
      "text/plain": [
       "  Created User  DocEntry            Datetime         Datetimeout  \\\n",
       "0        ohoc1    943895 2023-02-01 13:17:00 2023-02-01 13:18:00   \n",
       "1        ohoc1    943895 2023-02-01 13:17:00 2023-02-01 13:18:00   \n",
       "2        ohoc1    945696 2023-02-02 17:12:00 2023-02-02 17:12:00   \n",
       "3        ohoc1    945696 2023-02-02 17:12:00 2023-02-02 17:12:00   \n",
       "4        ohoc1    946085 2023-02-03 10:49:00 2023-02-03 10:50:00   \n",
       "\n",
       "   Time difference             delayed dept  \n",
       "0              1.0  Not delay to send to hq  \n",
       "1              1.0  Not delay to send to hq  \n",
       "2              0.0  Not delay to send to hq  \n",
       "3              0.0  Not delay to send to hq  \n",
       "4              1.0  Not delay to send to hq  "
      ]
     },
     "execution_count": 289,
     "metadata": {},
     "output_type": "execute_result"
    }
   ],
   "source": [
    "sent['delayed dept'] = sent['Time difference'].apply(lambda x: 'Delayed to send to hq' if x>5 else 'Not delay to send to hq')\n",
    "sent.head(5)"
   ]
  },
  {
   "cell_type": "markdown",
   "id": "0d66b822",
   "metadata": {},
   "source": [
    "## Customer payment"
   ]
  },
  {
   "cell_type": "markdown",
   "id": "82a3c0a2",
   "metadata": {},
   "source": [
    "### Insurance"
   ]
  },
  {
   "cell_type": "code",
   "execution_count": 256,
   "id": "edd45a57",
   "metadata": {},
   "outputs": [
    {
     "data": {
      "text/plain": [
       "array([], dtype=object)"
      ]
     },
     "execution_count": 256,
     "metadata": {},
     "output_type": "execute_result"
    }
   ],
   "source": [
    "draft = status[status['Status']== 'Customer Coming to do SMART']\n",
    "\n",
    "draft['Status'].unique()"
   ]
  },
  {
   "cell_type": "code",
   "execution_count": 257,
   "id": "b52b40db",
   "metadata": {},
   "outputs": [
    {
     "data": {
      "text/plain": [
       "array(['Confirmed by Approvals Team'], dtype=object)"
      ]
     },
     "execution_count": 257,
     "metadata": {},
     "output_type": "execute_result"
    }
   ],
   "source": [
    "confirmed = status[status['Status']== 'Confirmed by Approvals Team']\n",
    "\n",
    "confirmed['Status'].unique()"
   ]
  },
  {
   "cell_type": "code",
   "execution_count": 258,
   "id": "1b4da9b9",
   "metadata": {},
   "outputs": [
    {
     "name": "stderr",
     "output_type": "stream",
     "text": [
      "C:\\Users\\user\\AppData\\Local\\Temp\\ipykernel_15940\\405843896.py:1: SettingWithCopyWarning: \n",
      "A value is trying to be set on a copy of a slice from a DataFrame\n",
      "\n",
      "See the caveats in the documentation: https://pandas.pydata.org/pandas-docs/stable/user_guide/indexing.html#returning-a-view-versus-a-copy\n",
      "  confirmed.rename(columns={'Datetime':'Datetimeout'}, inplace=True)\n"
     ]
    }
   ],
   "source": [
    "confirmed.rename(columns={'Datetime':'Datetimeout'}, inplace=True)"
   ]
  },
  {
   "cell_type": "code",
   "execution_count": 259,
   "id": "7f0850c7",
   "metadata": {},
   "outputs": [],
   "source": [
    "draft = draft.drop_duplicates(subset=['DocEntry','Status'], keep='first')\n",
    "confirmed = confirmed.drop_duplicates(subset=['DocEntry','Status'], keep='first')"
   ]
  },
  {
   "cell_type": "code",
   "execution_count": 260,
   "id": "008e60f1",
   "metadata": {},
   "outputs": [
    {
     "data": {
      "text/html": [
       "<div>\n",
       "<style scoped>\n",
       "    .dataframe tbody tr th:only-of-type {\n",
       "        vertical-align: middle;\n",
       "    }\n",
       "\n",
       "    .dataframe tbody tr th {\n",
       "        vertical-align: top;\n",
       "    }\n",
       "\n",
       "    .dataframe thead th {\n",
       "        text-align: right;\n",
       "    }\n",
       "</style>\n",
       "<table border=\"1\" class=\"dataframe\">\n",
       "  <thead>\n",
       "    <tr style=\"text-align: right;\">\n",
       "      <th></th>\n",
       "      <th>Created User</th>\n",
       "      <th>Date</th>\n",
       "      <th>Time</th>\n",
       "      <th>Status</th>\n",
       "      <th>DocEntry</th>\n",
       "      <th>OrderCriteria Status</th>\n",
       "      <th>Datetime</th>\n",
       "      <th>DocNum</th>\n",
       "      <th>Datetimeout</th>\n",
       "    </tr>\n",
       "  </thead>\n",
       "  <tbody>\n",
       "  </tbody>\n",
       "</table>\n",
       "</div>"
      ],
      "text/plain": [
       "Empty DataFrame\n",
       "Columns: [Created User, Date, Time, Status, DocEntry, OrderCriteria Status, Datetime, DocNum, Datetimeout]\n",
       "Index: []"
      ]
     },
     "execution_count": 260,
     "metadata": {},
     "output_type": "execute_result"
    }
   ],
   "source": [
    "draft_confirmed= pd.merge(draft,confirmed[['DocNum','Datetimeout']], on='DocNum', how='left')\n",
    "draft_confirmed.head(3)"
   ]
  },
  {
   "cell_type": "code",
   "execution_count": 261,
   "id": "1f73e35a",
   "metadata": {},
   "outputs": [
    {
     "data": {
      "text/plain": [
       "(0, 9)"
      ]
     },
     "execution_count": 261,
     "metadata": {},
     "output_type": "execute_result"
    }
   ],
   "source": [
    "draft_confirmed.shape"
   ]
  },
  {
   "cell_type": "code",
   "execution_count": 262,
   "id": "4f55973f",
   "metadata": {},
   "outputs": [],
   "source": [
    "draft_confirmed = draft_confirmed.drop_duplicates(subset='DocEntry')"
   ]
  },
  {
   "cell_type": "code",
   "execution_count": 263,
   "id": "53391a98",
   "metadata": {},
   "outputs": [],
   "source": [
    "draft_confirmed=draft_confirmed.dropna(subset='Datetimeout')"
   ]
  },
  {
   "cell_type": "code",
   "execution_count": 264,
   "id": "79dc998e",
   "metadata": {},
   "outputs": [
    {
     "name": "stderr",
     "output_type": "stream",
     "text": [
      "C:\\Users\\user\\anaconda3\\lib\\site-packages\\workalendar\\core.py:436: UserWarning: Please take note that, due to arbitrary decisions, this Islamic calendar computation may be wrong.\n",
      "  warnings.warn('Please take note that, due to arbitrary decisions, '\n"
     ]
    }
   ],
   "source": [
    "##Define a working day\n",
    "\n",
    "####Days of the week\n",
    "workday = businesstimedelta.WorkDayRule(\n",
    "    start_time=datetime.time(9),\n",
    "    end_time=datetime.time(18),\n",
    "    working_days=[0,1, 2, 3, 4])\n",
    "\n",
    "cal = Kenya()\n",
    "hl = cal.holidays()\n",
    "vic_holidays = pyholidays.KE() \n",
    "holidays = businesstimedelta.HolidayRule(vic_holidays)\n",
    "businesshrs = businesstimedelta.Rules([workday, holidays], hl)\n",
    "\n",
    "def BusHrs(start, end):\n",
    "    if end>=start:\n",
    "        return businesshrs.difference(start,end).hours+float(businesshrs.difference(start,end).seconds)/float(3600)\n",
    "    else:\n",
    "        \"\"\n",
    "    \n",
    "RejectedSentWk_hrs=draft_confirmed.apply(lambda row: BusHrs(row['Datetime'], row['Datetimeout']), axis=1)\n"
   ]
  },
  {
   "cell_type": "code",
   "execution_count": 265,
   "id": "484b880a",
   "metadata": {},
   "outputs": [],
   "source": [
    "# Define a working weekend day(Saturday)\n",
    "\n",
    "Saturday = businesstimedelta.WorkDayRule(start_time=datetime.time(9),end_time=datetime.time(16),working_days=[5])\n",
    "\n",
    "vic_holidays = pyholidays.KE()\n",
    "holidays = businesstimedelta.HolidayRule(vic_holidays)\n",
    "businesshrs = businesstimedelta.Rules([Saturday, holidays])\n",
    "\n",
    "def SatHrs(start, end):\n",
    "    if end>=start:\n",
    "        return businesshrs.difference(start,end).hours+float(businesshrs.difference(start,end).seconds)/float(3600)\n",
    "    else:\n",
    "        \"\"\n",
    "\n",
    "RejectedSentSat_hrs=draft_confirmed.apply(lambda row: BusHrs(row['Datetime'], row['Datetimeout']), axis=1)\n"
   ]
  },
  {
   "cell_type": "code",
   "execution_count": 266,
   "id": "b78531fc",
   "metadata": {},
   "outputs": [],
   "source": [
    "draft_confirmed[\"delay\"]=(RejectedSentWk_hrs+RejectedSentSat_hrs)*60\n",
    "\n",
    "draft_confirmed =draft_confirmed.replace(\"\", np.nan)"
   ]
  },
  {
   "cell_type": "code",
   "execution_count": 267,
   "id": "cef251b1",
   "metadata": {},
   "outputs": [
    {
     "data": {
      "text/plain": [
       "array([], dtype=float64)"
      ]
     },
     "execution_count": 267,
     "metadata": {},
     "output_type": "execute_result"
    }
   ],
   "source": [
    "draft_confirmed['delayed dept']=draft_confirmed['delay'].apply(lambda x: 'Delayed at Insurance' if x>10 else 'Did not delay at Insurance' )\n",
    "\n",
    "draft_confirmed['delayed dept'].unique()"
   ]
  },
  {
   "cell_type": "markdown",
   "id": "df50e31a",
   "metadata": {},
   "source": [
    "### Cah orders"
   ]
  },
  {
   "cell_type": "code",
   "execution_count": 268,
   "id": "2ee3c908",
   "metadata": {},
   "outputs": [
    {
     "data": {
      "text/plain": [
       "array(['Draft Order Created'], dtype=object)"
      ]
     },
     "execution_count": 268,
     "metadata": {},
     "output_type": "execute_result"
    }
   ],
   "source": [
    "draft = status[status['Status']== 'Draft Order Created']\n",
    "\n",
    "draft['Status'].unique()"
   ]
  },
  {
   "cell_type": "code",
   "execution_count": 269,
   "id": "79f5e12e",
   "metadata": {},
   "outputs": [
    {
     "data": {
      "text/plain": [
       "array(['Sales Order Created'], dtype=object)"
      ]
     },
     "execution_count": 269,
     "metadata": {},
     "output_type": "execute_result"
    }
   ],
   "source": [
    "sales_created = status[status['Status']== 'Sales Order Created']\n",
    "\n",
    "sales_created['Status'].unique()"
   ]
  },
  {
   "cell_type": "code",
   "execution_count": 270,
   "id": "c53d6a07",
   "metadata": {},
   "outputs": [
    {
     "name": "stderr",
     "output_type": "stream",
     "text": [
      "C:\\Users\\user\\AppData\\Local\\Temp\\ipykernel_15940\\2825327139.py:1: SettingWithCopyWarning: \n",
      "A value is trying to be set on a copy of a slice from a DataFrame\n",
      "\n",
      "See the caveats in the documentation: https://pandas.pydata.org/pandas-docs/stable/user_guide/indexing.html#returning-a-view-versus-a-copy\n",
      "  sales_created.rename(columns={'Datetime':'Datetimeout'}, inplace=True)\n"
     ]
    }
   ],
   "source": [
    "sales_created.rename(columns={'Datetime':'Datetimeout'}, inplace=True)"
   ]
  },
  {
   "cell_type": "code",
   "execution_count": 271,
   "id": "e43a7c86",
   "metadata": {},
   "outputs": [],
   "source": [
    "draft = draft.drop_duplicates(subset=['DocEntry','Status'], keep='first')\n",
    "sales_created = sales_created.drop_duplicates(subset=['DocEntry','Status'], keep='first')"
   ]
  },
  {
   "cell_type": "code",
   "execution_count": 272,
   "id": "09ad0af6",
   "metadata": {},
   "outputs": [
    {
     "data": {
      "text/html": [
       "<div>\n",
       "<style scoped>\n",
       "    .dataframe tbody tr th:only-of-type {\n",
       "        vertical-align: middle;\n",
       "    }\n",
       "\n",
       "    .dataframe tbody tr th {\n",
       "        vertical-align: top;\n",
       "    }\n",
       "\n",
       "    .dataframe thead th {\n",
       "        text-align: right;\n",
       "    }\n",
       "</style>\n",
       "<table border=\"1\" class=\"dataframe\">\n",
       "  <thead>\n",
       "    <tr style=\"text-align: right;\">\n",
       "      <th></th>\n",
       "      <th>Created User</th>\n",
       "      <th>Date</th>\n",
       "      <th>Time</th>\n",
       "      <th>Status</th>\n",
       "      <th>DocEntry</th>\n",
       "      <th>DocNum</th>\n",
       "      <th>OrderCriteria Status</th>\n",
       "      <th>Datetime</th>\n",
       "      <th>Datetimeout</th>\n",
       "    </tr>\n",
       "  </thead>\n",
       "  <tbody>\n",
       "    <tr>\n",
       "      <th>0</th>\n",
       "      <td>bdman</td>\n",
       "      <td>2023-02-03</td>\n",
       "      <td>17:30:00</td>\n",
       "      <td>Draft Order Created</td>\n",
       "      <td>947124</td>\n",
       "      <td>231201536</td>\n",
       "      <td>NaN</td>\n",
       "      <td>2023-02-03 17:30:00</td>\n",
       "      <td>NaT</td>\n",
       "    </tr>\n",
       "    <tr>\n",
       "      <th>1</th>\n",
       "      <td>csman</td>\n",
       "      <td>2023-03-06</td>\n",
       "      <td>13:21:00</td>\n",
       "      <td>Draft Order Created</td>\n",
       "      <td>981137</td>\n",
       "      <td>23603264</td>\n",
       "      <td>NaN</td>\n",
       "      <td>2023-03-06 13:21:00</td>\n",
       "      <td>NaT</td>\n",
       "    </tr>\n",
       "  </tbody>\n",
       "</table>\n",
       "</div>"
      ],
      "text/plain": [
       "  Created User       Date      Time               Status  DocEntry     DocNum  \\\n",
       "0        bdman 2023-02-03  17:30:00  Draft Order Created    947124  231201536   \n",
       "1        csman 2023-03-06  13:21:00  Draft Order Created    981137   23603264   \n",
       "\n",
       "  OrderCriteria Status            Datetime Datetimeout  \n",
       "0                  NaN 2023-02-03 17:30:00         NaT  \n",
       "1                  NaN 2023-03-06 13:21:00         NaT  "
      ]
     },
     "execution_count": 272,
     "metadata": {},
     "output_type": "execute_result"
    }
   ],
   "source": [
    "draft_sales= pd.merge(draft,sales_created[['DocNum','Datetimeout']], on='DocNum', how='left')\n",
    "draft_sales.head(2)"
   ]
  },
  {
   "cell_type": "code",
   "execution_count": 273,
   "id": "1cc56bfb",
   "metadata": {},
   "outputs": [],
   "source": [
    "draft_sales=draft_sales.dropna(subset='Datetimeout')"
   ]
  },
  {
   "cell_type": "code",
   "execution_count": 274,
   "id": "e9bfb3a4",
   "metadata": {},
   "outputs": [
    {
     "name": "stderr",
     "output_type": "stream",
     "text": [
      "C:\\Users\\user\\anaconda3\\lib\\site-packages\\workalendar\\core.py:436: UserWarning: Please take note that, due to arbitrary decisions, this Islamic calendar computation may be wrong.\n",
      "  warnings.warn('Please take note that, due to arbitrary decisions, '\n"
     ]
    }
   ],
   "source": [
    "##Define a working day\n",
    "\n",
    "####Days of the week\n",
    "workday = businesstimedelta.WorkDayRule(\n",
    "    start_time=datetime.time(9),\n",
    "    end_time=datetime.time(18),\n",
    "    working_days=[0,1, 2, 3, 4])\n",
    "\n",
    "cal = Kenya()\n",
    "hl = cal.holidays()\n",
    "vic_holidays = pyholidays.KE() \n",
    "holidays = businesstimedelta.HolidayRule(vic_holidays)\n",
    "businesshrs = businesstimedelta.Rules([workday, holidays], hl)\n",
    "\n",
    "def BusHrs(start, end):\n",
    "    if end>=start:\n",
    "        return businesshrs.difference(start,end).hours+float(businesshrs.difference(start,end).seconds)/float(3600)\n",
    "    else:\n",
    "        \"\"\n",
    "    \n",
    "RejectedSentWk_hrs=draft_sales.apply(lambda row: BusHrs(row['Datetime'], row['Datetimeout']), axis=1)\n"
   ]
  },
  {
   "cell_type": "code",
   "execution_count": 275,
   "id": "996fcf20",
   "metadata": {},
   "outputs": [],
   "source": [
    "# Define a working weekend day(Saturday)\n",
    "\n",
    "Saturday = businesstimedelta.WorkDayRule(start_time=datetime.time(9),end_time=datetime.time(16),working_days=[5])\n",
    "\n",
    "vic_holidays = pyholidays.KE()\n",
    "holidays = businesstimedelta.HolidayRule(vic_holidays)\n",
    "businesshrs = businesstimedelta.Rules([Saturday, holidays])\n",
    "\n",
    "def SatHrs(start, end):\n",
    "    if end>=start:\n",
    "        return businesshrs.difference(start,end).hours+float(businesshrs.difference(start,end).seconds)/float(3600)\n",
    "    else:\n",
    "        \"\"\n",
    "\n",
    "RejectedSentSat_hrs=draft_sales.apply(lambda row: BusHrs(row['Datetime'], row['Datetimeout']), axis=1)\n"
   ]
  },
  {
   "cell_type": "code",
   "execution_count": 276,
   "id": "3c85fb16",
   "metadata": {},
   "outputs": [],
   "source": [
    "draft_sales[\"delay\"]=(RejectedSentWk_hrs+RejectedSentSat_hrs)*60\n",
    "\n",
    "draft_sales =final_branch.replace(\"\", np.nan)"
   ]
  },
  {
   "cell_type": "code",
   "execution_count": 277,
   "id": "2bd481b9",
   "metadata": {},
   "outputs": [
    {
     "data": {
      "text/plain": [
       "array(['Customer delayed to make payment', 'Did not delay at Branch'],\n",
       "      dtype=object)"
      ]
     },
     "execution_count": 277,
     "metadata": {},
     "output_type": "execute_result"
    }
   ],
   "source": [
    "draft_sales['delayed dept']=draft_sales['delay'].apply(lambda x: 'Customer delayed to make payment' if x>10 else 'Did not delay at Branch' )\n",
    "\n",
    "draft_sales['delayed dept'].unique()"
   ]
  },
  {
   "cell_type": "markdown",
   "id": "2d24487d",
   "metadata": {},
   "source": [
    "## All branch"
   ]
  },
  {
   "cell_type": "code",
   "execution_count": 293,
   "id": "30aabe3b",
   "metadata": {},
   "outputs": [
    {
     "data": {
      "text/html": [
       "<div>\n",
       "<style scoped>\n",
       "    .dataframe tbody tr th:only-of-type {\n",
       "        vertical-align: middle;\n",
       "    }\n",
       "\n",
       "    .dataframe tbody tr th {\n",
       "        vertical-align: top;\n",
       "    }\n",
       "\n",
       "    .dataframe thead th {\n",
       "        text-align: right;\n",
       "    }\n",
       "</style>\n",
       "<table border=\"1\" class=\"dataframe\">\n",
       "  <thead>\n",
       "    <tr style=\"text-align: right;\">\n",
       "      <th></th>\n",
       "      <th>Created User</th>\n",
       "      <th>Date</th>\n",
       "      <th>Time</th>\n",
       "      <th>Status</th>\n",
       "      <th>DocEntry</th>\n",
       "      <th>OrderCriteria Status</th>\n",
       "      <th>Datetime</th>\n",
       "      <th>DocNum</th>\n",
       "      <th>Datetimeout</th>\n",
       "      <th>Time difference</th>\n",
       "      <th>delayed dept</th>\n",
       "    </tr>\n",
       "  </thead>\n",
       "  <tbody>\n",
       "    <tr>\n",
       "      <th>0</th>\n",
       "      <td>control1</td>\n",
       "      <td>2023-02-01</td>\n",
       "      <td>12:05:00</td>\n",
       "      <td>Sent to Packaging</td>\n",
       "      <td>943666</td>\n",
       "      <td>Contact lens from HQ</td>\n",
       "      <td>2023-02-01 12:05:00</td>\n",
       "      <td>231500485</td>\n",
       "      <td>2023-02-01 13:54:00</td>\n",
       "      <td>109.0</td>\n",
       "      <td>Customer delayed to make payment</td>\n",
       "    </tr>\n",
       "    <tr>\n",
       "      <th>1</th>\n",
       "      <td>control1</td>\n",
       "      <td>2023-02-01</td>\n",
       "      <td>13:49:00</td>\n",
       "      <td>Sent to Packaging</td>\n",
       "      <td>943481</td>\n",
       "      <td>Contact lens from HQ</td>\n",
       "      <td>2023-02-01 13:49:00</td>\n",
       "      <td>233100350</td>\n",
       "      <td>2023-02-01 13:54:00</td>\n",
       "      <td>5.0</td>\n",
       "      <td>Did not delay at Branch</td>\n",
       "    </tr>\n",
       "  </tbody>\n",
       "</table>\n",
       "</div>"
      ],
      "text/plain": [
       "  Created User       Date      Time             Status  DocEntry  \\\n",
       "0     control1 2023-02-01  12:05:00  Sent to Packaging    943666   \n",
       "1     control1 2023-02-01  13:49:00  Sent to Packaging    943481   \n",
       "\n",
       "   OrderCriteria Status            Datetime     DocNum         Datetimeout  \\\n",
       "0  Contact lens from HQ 2023-02-01 12:05:00  231500485 2023-02-01 13:54:00   \n",
       "1  Contact lens from HQ 2023-02-01 13:49:00  233100350 2023-02-01 13:54:00   \n",
       "\n",
       "   Time difference                      delayed dept  \n",
       "0            109.0  Customer delayed to make payment  \n",
       "1              5.0           Did not delay at Branch  "
      ]
     },
     "execution_count": 293,
     "metadata": {},
     "output_type": "execute_result"
    }
   ],
   "source": [
    "allbranch1 = pd.concat([draft_confirmed,draft_sales])\n",
    "allbranch1 = allbranch1.rename(columns={'delay':'Time difference',})\n",
    "allbranch1.head(2)"
   ]
  },
  {
   "cell_type": "code",
   "execution_count": 294,
   "id": "8cabee83",
   "metadata": {},
   "outputs": [
    {
     "data": {
      "text/html": [
       "<div>\n",
       "<style scoped>\n",
       "    .dataframe tbody tr th:only-of-type {\n",
       "        vertical-align: middle;\n",
       "    }\n",
       "\n",
       "    .dataframe tbody tr th {\n",
       "        vertical-align: top;\n",
       "    }\n",
       "\n",
       "    .dataframe thead th {\n",
       "        text-align: right;\n",
       "    }\n",
       "</style>\n",
       "<table border=\"1\" class=\"dataframe\">\n",
       "  <thead>\n",
       "    <tr style=\"text-align: right;\">\n",
       "      <th></th>\n",
       "      <th>Created User</th>\n",
       "      <th>DocEntry</th>\n",
       "      <th>Datetime</th>\n",
       "      <th>Datetimeout</th>\n",
       "      <th>Time difference</th>\n",
       "      <th>delayed dept</th>\n",
       "    </tr>\n",
       "  </thead>\n",
       "  <tbody>\n",
       "    <tr>\n",
       "      <th>0</th>\n",
       "      <td>ohoc1</td>\n",
       "      <td>943895</td>\n",
       "      <td>2023-02-01 13:17:00</td>\n",
       "      <td>2023-02-01 13:18:00</td>\n",
       "      <td>1.0</td>\n",
       "      <td>Not delay to send to hq</td>\n",
       "    </tr>\n",
       "    <tr>\n",
       "      <th>1</th>\n",
       "      <td>ohoc1</td>\n",
       "      <td>943895</td>\n",
       "      <td>2023-02-01 13:17:00</td>\n",
       "      <td>2023-02-01 13:18:00</td>\n",
       "      <td>1.0</td>\n",
       "      <td>Not delay to send to hq</td>\n",
       "    </tr>\n",
       "    <tr>\n",
       "      <th>2</th>\n",
       "      <td>ohoc1</td>\n",
       "      <td>945696</td>\n",
       "      <td>2023-02-02 17:12:00</td>\n",
       "      <td>2023-02-02 17:12:00</td>\n",
       "      <td>0.0</td>\n",
       "      <td>Not delay to send to hq</td>\n",
       "    </tr>\n",
       "  </tbody>\n",
       "</table>\n",
       "</div>"
      ],
      "text/plain": [
       "  Created User  DocEntry            Datetime         Datetimeout  \\\n",
       "0        ohoc1    943895 2023-02-01 13:17:00 2023-02-01 13:18:00   \n",
       "1        ohoc1    943895 2023-02-01 13:17:00 2023-02-01 13:18:00   \n",
       "2        ohoc1    945696 2023-02-02 17:12:00 2023-02-02 17:12:00   \n",
       "\n",
       "   Time difference             delayed dept  \n",
       "0              1.0  Not delay to send to hq  \n",
       "1              1.0  Not delay to send to hq  \n",
       "2              0.0  Not delay to send to hq  "
      ]
     },
     "execution_count": 294,
     "metadata": {},
     "output_type": "execute_result"
    }
   ],
   "source": [
    "allbranch = pd.concat([sent,final,allbranch1])\n",
    "allbranch = allbranch[['Created User','DocEntry','Datetime','Datetimeout','Time difference','delayed dept']]\n",
    "allbranch.head(3)"
   ]
  },
  {
   "cell_type": "code",
   "execution_count": 295,
   "id": "01957a0b",
   "metadata": {},
   "outputs": [],
   "source": [
    "import xlsxwriter\n",
    "\n",
    "with pd.ExcelWriter(r\"C:\\Users\\user\\Documents\\Alex\\STB Report\\note book\\Mitigation\\RESULTS.xlsx\", engine='xlsxwriter') as writer:    \n",
    "    allbranch.to_excel(writer, sheet_name='Branch delays', index=False)\n",
    "    allmain.to_excel(writer, sheet_name='Mainstore', index = False)\n",
    "    alldesigner.to_excel(writer, sheet_name='Designer Store', index = False)\n",
    "    alllens.to_excel(writer, sheet_name='Lens store', index = False)\n",
    "    allcontrol.to_excel(writer, sheet_name='Control room', index = False)\n",
    "    allwork.to_excel(writer, sheet_name='Workshop', index = False)\n",
    "    final_branch.to_excel(writer, sheet_name='Packaging', index = False)\n",
    "    alloverseas.to_excel(writer, sheet_name='Overseas', index = False)    \n",
    "    \n",
    "    "
   ]
  },
  {
   "cell_type": "code",
   "execution_count": null,
   "id": "5b4b78d3",
   "metadata": {},
   "outputs": [],
   "source": []
  }
 ],
 "metadata": {
  "kernelspec": {
   "display_name": "Python 3 (ipykernel)",
   "language": "python",
   "name": "python3"
  },
  "language_info": {
   "codemirror_mode": {
    "name": "ipython",
    "version": 3
   },
   "file_extension": ".py",
   "mimetype": "text/x-python",
   "name": "python",
   "nbconvert_exporter": "python",
   "pygments_lexer": "ipython3",
   "version": "3.9.7"
  }
 },
 "nbformat": 4,
 "nbformat_minor": 5
}
